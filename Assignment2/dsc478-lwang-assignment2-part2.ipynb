{
 "cells": [
  {
   "cell_type": "markdown",
   "metadata": {},
   "source": [
    "#  DSC478 - Programming Machine Learning Applications\n",
    "## Assignment 2 - Lavinia Wang"
   ]
  },
  {
   "cell_type": "markdown",
   "metadata": {},
   "source": [
    "### Question 2. Classification using scikit-learn"
   ]
  },
  {
   "cell_type": "markdown",
   "metadata": {},
   "source": [
    "Dataset: <a href='http://facweb.cs.depaul.edu/mobasher/classes/CSC478/Data/bank_data.csv'>bank_data.csv</a>"
   ]
  },
  {
   "cell_type": "code",
   "execution_count": 1,
   "metadata": {},
   "outputs": [
    {
     "name": "stderr",
     "output_type": "stream",
     "text": [
      "/opt/anaconda3/lib/python3.6/site-packages/sklearn/cross_validation.py:41: DeprecationWarning: This module was deprecated in version 0.18 in favor of the model_selection module into which all the refactored classes and functions are moved. Also note that the interface of the new CV iterators are different from that of this module. This module will be removed in 0.20.\n",
      "  \"This module will be removed in 0.20.\", DeprecationWarning)\n"
     ]
    }
   ],
   "source": [
    "# Import modules\n",
    "import numpy as np\n",
    "import pandas as pd\n",
    "import matplotlib.pyplot as plt\n",
    "%matplotlib inline\n",
    "import os \n",
    "\n",
    "from sklearn.preprocessing import MinMaxScaler\n",
    "from sklearn.cross_validation import train_test_split\n",
    "from sklearn import neighbors, tree, naive_bayes\n",
    "from sklearn.metrics import classification_report\n",
    "from sklearn.metrics import confusion_matrix"
   ]
  },
  {
   "cell_type": "code",
   "execution_count": 2,
   "metadata": {},
   "outputs": [],
   "source": [
    "# Change working directory\n",
    "os.chdir('/resources/CSC478/Assignment2')"
   ]
  },
  {
   "cell_type": "markdown",
   "metadata": {},
   "source": [
    "#### a. Load and preprocess the data using Numpy or Pandas and the preprocessing functions from scikitlearn. Specifically, you need to separate the target attribute (\"pep\") from the portion of the data to be used for training and testing. You will need to convert the selected dataset into the Standard Spreadsheet format (scikit-learn functions generally assume that all attributes are in numeric form). Finally, you need to split the transformed data into training and test sets (using 80%-20% randomized split)."
   ]
  },
  {
   "cell_type": "code",
   "execution_count": 3,
   "metadata": {},
   "outputs": [
    {
     "data": {
      "text/html": [
       "<div>\n",
       "<style scoped>\n",
       "    .dataframe tbody tr th:only-of-type {\n",
       "        vertical-align: middle;\n",
       "    }\n",
       "\n",
       "    .dataframe tbody tr th {\n",
       "        vertical-align: top;\n",
       "    }\n",
       "\n",
       "    .dataframe thead th {\n",
       "        text-align: right;\n",
       "    }\n",
       "</style>\n",
       "<table border=\"1\" class=\"dataframe\">\n",
       "  <thead>\n",
       "    <tr style=\"text-align: right;\">\n",
       "      <th></th>\n",
       "      <th>id</th>\n",
       "      <th>age</th>\n",
       "      <th>income</th>\n",
       "      <th>children</th>\n",
       "      <th>gender</th>\n",
       "      <th>region</th>\n",
       "      <th>married</th>\n",
       "      <th>car</th>\n",
       "      <th>savings_acct</th>\n",
       "      <th>current_acct</th>\n",
       "      <th>mortgage</th>\n",
       "      <th>pep</th>\n",
       "    </tr>\n",
       "  </thead>\n",
       "  <tbody>\n",
       "    <tr>\n",
       "      <th>0</th>\n",
       "      <td>ID12101</td>\n",
       "      <td>48</td>\n",
       "      <td>17546.0</td>\n",
       "      <td>1</td>\n",
       "      <td>FEMALE</td>\n",
       "      <td>INNER_CITY</td>\n",
       "      <td>NO</td>\n",
       "      <td>NO</td>\n",
       "      <td>NO</td>\n",
       "      <td>NO</td>\n",
       "      <td>NO</td>\n",
       "      <td>YES</td>\n",
       "    </tr>\n",
       "    <tr>\n",
       "      <th>1</th>\n",
       "      <td>ID12102</td>\n",
       "      <td>40</td>\n",
       "      <td>30085.1</td>\n",
       "      <td>3</td>\n",
       "      <td>MALE</td>\n",
       "      <td>TOWN</td>\n",
       "      <td>YES</td>\n",
       "      <td>YES</td>\n",
       "      <td>NO</td>\n",
       "      <td>YES</td>\n",
       "      <td>YES</td>\n",
       "      <td>NO</td>\n",
       "    </tr>\n",
       "    <tr>\n",
       "      <th>2</th>\n",
       "      <td>ID12103</td>\n",
       "      <td>51</td>\n",
       "      <td>16575.4</td>\n",
       "      <td>0</td>\n",
       "      <td>FEMALE</td>\n",
       "      <td>INNER_CITY</td>\n",
       "      <td>YES</td>\n",
       "      <td>YES</td>\n",
       "      <td>YES</td>\n",
       "      <td>YES</td>\n",
       "      <td>NO</td>\n",
       "      <td>NO</td>\n",
       "    </tr>\n",
       "    <tr>\n",
       "      <th>3</th>\n",
       "      <td>ID12104</td>\n",
       "      <td>23</td>\n",
       "      <td>20375.4</td>\n",
       "      <td>3</td>\n",
       "      <td>FEMALE</td>\n",
       "      <td>TOWN</td>\n",
       "      <td>YES</td>\n",
       "      <td>NO</td>\n",
       "      <td>NO</td>\n",
       "      <td>YES</td>\n",
       "      <td>NO</td>\n",
       "      <td>NO</td>\n",
       "    </tr>\n",
       "    <tr>\n",
       "      <th>4</th>\n",
       "      <td>ID12105</td>\n",
       "      <td>57</td>\n",
       "      <td>50576.3</td>\n",
       "      <td>0</td>\n",
       "      <td>FEMALE</td>\n",
       "      <td>RURAL</td>\n",
       "      <td>YES</td>\n",
       "      <td>NO</td>\n",
       "      <td>YES</td>\n",
       "      <td>NO</td>\n",
       "      <td>NO</td>\n",
       "      <td>NO</td>\n",
       "    </tr>\n",
       "  </tbody>\n",
       "</table>\n",
       "</div>"
      ],
      "text/plain": [
       "        id  age   income  children  gender      region married  car  \\\n",
       "0  ID12101   48  17546.0         1  FEMALE  INNER_CITY      NO   NO   \n",
       "1  ID12102   40  30085.1         3    MALE        TOWN     YES  YES   \n",
       "2  ID12103   51  16575.4         0  FEMALE  INNER_CITY     YES  YES   \n",
       "3  ID12104   23  20375.4         3  FEMALE        TOWN     YES   NO   \n",
       "4  ID12105   57  50576.3         0  FEMALE       RURAL     YES   NO   \n",
       "\n",
       "  savings_acct current_acct mortgage  pep  \n",
       "0           NO           NO       NO  YES  \n",
       "1           NO          YES      YES   NO  \n",
       "2          YES          YES       NO   NO  \n",
       "3           NO          YES       NO   NO  \n",
       "4          YES           NO       NO   NO  "
      ]
     },
     "execution_count": 3,
     "metadata": {},
     "output_type": "execute_result"
    }
   ],
   "source": [
    "## Load text file via read_csv\n",
    "bank_df = pd.read_csv(\"bank_data.csv\")\n",
    "## Get top 5 instances\n",
    "bank_df.head(5)"
   ]
  },
  {
   "cell_type": "code",
   "execution_count": 4,
   "metadata": {},
   "outputs": [
    {
     "data": {
      "text/plain": [
       "(600, 12)"
      ]
     },
     "execution_count": 4,
     "metadata": {},
     "output_type": "execute_result"
    }
   ],
   "source": [
    "bank_df.shape"
   ]
  },
  {
   "cell_type": "markdown",
   "metadata": {},
   "source": [
    "Separate the target attribute \"pep\" and the attributes used for model training."
   ]
  },
  {
   "cell_type": "code",
   "execution_count": 5,
   "metadata": {},
   "outputs": [
    {
     "data": {
      "text/html": [
       "<div>\n",
       "<style scoped>\n",
       "    .dataframe tbody tr th:only-of-type {\n",
       "        vertical-align: middle;\n",
       "    }\n",
       "\n",
       "    .dataframe tbody tr th {\n",
       "        vertical-align: top;\n",
       "    }\n",
       "\n",
       "    .dataframe thead th {\n",
       "        text-align: right;\n",
       "    }\n",
       "</style>\n",
       "<table border=\"1\" class=\"dataframe\">\n",
       "  <thead>\n",
       "    <tr style=\"text-align: right;\">\n",
       "      <th></th>\n",
       "      <th>age</th>\n",
       "      <th>income</th>\n",
       "      <th>children</th>\n",
       "      <th>gender</th>\n",
       "      <th>region</th>\n",
       "      <th>married</th>\n",
       "      <th>car</th>\n",
       "      <th>savings_acct</th>\n",
       "      <th>current_acct</th>\n",
       "      <th>mortgage</th>\n",
       "    </tr>\n",
       "  </thead>\n",
       "  <tbody>\n",
       "    <tr>\n",
       "      <th>0</th>\n",
       "      <td>48</td>\n",
       "      <td>17546.0</td>\n",
       "      <td>1</td>\n",
       "      <td>FEMALE</td>\n",
       "      <td>INNER_CITY</td>\n",
       "      <td>NO</td>\n",
       "      <td>NO</td>\n",
       "      <td>NO</td>\n",
       "      <td>NO</td>\n",
       "      <td>NO</td>\n",
       "    </tr>\n",
       "    <tr>\n",
       "      <th>1</th>\n",
       "      <td>40</td>\n",
       "      <td>30085.1</td>\n",
       "      <td>3</td>\n",
       "      <td>MALE</td>\n",
       "      <td>TOWN</td>\n",
       "      <td>YES</td>\n",
       "      <td>YES</td>\n",
       "      <td>NO</td>\n",
       "      <td>YES</td>\n",
       "      <td>YES</td>\n",
       "    </tr>\n",
       "    <tr>\n",
       "      <th>2</th>\n",
       "      <td>51</td>\n",
       "      <td>16575.4</td>\n",
       "      <td>0</td>\n",
       "      <td>FEMALE</td>\n",
       "      <td>INNER_CITY</td>\n",
       "      <td>YES</td>\n",
       "      <td>YES</td>\n",
       "      <td>YES</td>\n",
       "      <td>YES</td>\n",
       "      <td>NO</td>\n",
       "    </tr>\n",
       "    <tr>\n",
       "      <th>3</th>\n",
       "      <td>23</td>\n",
       "      <td>20375.4</td>\n",
       "      <td>3</td>\n",
       "      <td>FEMALE</td>\n",
       "      <td>TOWN</td>\n",
       "      <td>YES</td>\n",
       "      <td>NO</td>\n",
       "      <td>NO</td>\n",
       "      <td>YES</td>\n",
       "      <td>NO</td>\n",
       "    </tr>\n",
       "    <tr>\n",
       "      <th>4</th>\n",
       "      <td>57</td>\n",
       "      <td>50576.3</td>\n",
       "      <td>0</td>\n",
       "      <td>FEMALE</td>\n",
       "      <td>RURAL</td>\n",
       "      <td>YES</td>\n",
       "      <td>NO</td>\n",
       "      <td>YES</td>\n",
       "      <td>NO</td>\n",
       "      <td>NO</td>\n",
       "    </tr>\n",
       "  </tbody>\n",
       "</table>\n",
       "</div>"
      ],
      "text/plain": [
       "   age   income  children  gender      region married  car savings_acct  \\\n",
       "0   48  17546.0         1  FEMALE  INNER_CITY      NO   NO           NO   \n",
       "1   40  30085.1         3    MALE        TOWN     YES  YES           NO   \n",
       "2   51  16575.4         0  FEMALE  INNER_CITY     YES  YES          YES   \n",
       "3   23  20375.4         3  FEMALE        TOWN     YES   NO           NO   \n",
       "4   57  50576.3         0  FEMALE       RURAL     YES   NO          YES   \n",
       "\n",
       "  current_acct mortgage  \n",
       "0           NO       NO  \n",
       "1          YES      YES  \n",
       "2          YES       NO  \n",
       "3          YES       NO  \n",
       "4           NO       NO  "
      ]
     },
     "execution_count": 5,
     "metadata": {},
     "output_type": "execute_result"
    }
   ],
   "source": [
    "# Remove pep from data frame, and userID\n",
    "modelDT = bank_df.iloc[:,1:11]\n",
    "modelDT.head()"
   ]
  },
  {
   "cell_type": "code",
   "execution_count": 6,
   "metadata": {},
   "outputs": [
    {
     "data": {
      "text/html": [
       "<div>\n",
       "<style scoped>\n",
       "    .dataframe tbody tr th:only-of-type {\n",
       "        vertical-align: middle;\n",
       "    }\n",
       "\n",
       "    .dataframe tbody tr th {\n",
       "        vertical-align: top;\n",
       "    }\n",
       "\n",
       "    .dataframe thead th {\n",
       "        text-align: right;\n",
       "    }\n",
       "</style>\n",
       "<table border=\"1\" class=\"dataframe\">\n",
       "  <thead>\n",
       "    <tr style=\"text-align: right;\">\n",
       "      <th></th>\n",
       "      <th>pep</th>\n",
       "    </tr>\n",
       "  </thead>\n",
       "  <tbody>\n",
       "    <tr>\n",
       "      <th>0</th>\n",
       "      <td>YES</td>\n",
       "    </tr>\n",
       "    <tr>\n",
       "      <th>1</th>\n",
       "      <td>NO</td>\n",
       "    </tr>\n",
       "    <tr>\n",
       "      <th>2</th>\n",
       "      <td>NO</td>\n",
       "    </tr>\n",
       "    <tr>\n",
       "      <th>3</th>\n",
       "      <td>NO</td>\n",
       "    </tr>\n",
       "    <tr>\n",
       "      <th>4</th>\n",
       "      <td>NO</td>\n",
       "    </tr>\n",
       "  </tbody>\n",
       "</table>\n",
       "</div>"
      ],
      "text/plain": [
       "   pep\n",
       "0  YES\n",
       "1   NO\n",
       "2   NO\n",
       "3   NO\n",
       "4   NO"
      ]
     },
     "execution_count": 6,
     "metadata": {},
     "output_type": "execute_result"
    }
   ],
   "source": [
    "# Extract target varaible \n",
    "pep = bank_df.iloc[:,11:12]\n",
    "pep.head()"
   ]
  },
  {
   "cell_type": "markdown",
   "metadata": {},
   "source": [
    "Next, we use Pandas \"get_dummies\" function to create dummy variables to convert the selected dataset into the Standard Spreadsheet format."
   ]
  },
  {
   "cell_type": "code",
   "execution_count": 7,
   "metadata": {},
   "outputs": [
    {
     "data": {
      "text/html": [
       "<div>\n",
       "<style scoped>\n",
       "    .dataframe tbody tr th:only-of-type {\n",
       "        vertical-align: middle;\n",
       "    }\n",
       "\n",
       "    .dataframe tbody tr th {\n",
       "        vertical-align: top;\n",
       "    }\n",
       "\n",
       "    .dataframe thead th {\n",
       "        text-align: right;\n",
       "    }\n",
       "</style>\n",
       "<table border=\"1\" class=\"dataframe\">\n",
       "  <thead>\n",
       "    <tr style=\"text-align: right;\">\n",
       "      <th></th>\n",
       "      <th>age</th>\n",
       "      <th>income</th>\n",
       "      <th>children</th>\n",
       "      <th>married</th>\n",
       "      <th>car</th>\n",
       "      <th>savings_acct</th>\n",
       "      <th>current_acct</th>\n",
       "      <th>mortgage</th>\n",
       "      <th>gender_FEMALE</th>\n",
       "      <th>gender_MALE</th>\n",
       "      <th>region_INNER_CITY</th>\n",
       "      <th>region_RURAL</th>\n",
       "      <th>region_SUBURBAN</th>\n",
       "      <th>region_TOWN</th>\n",
       "    </tr>\n",
       "  </thead>\n",
       "  <tbody>\n",
       "    <tr>\n",
       "      <th>0</th>\n",
       "      <td>48</td>\n",
       "      <td>17546.0</td>\n",
       "      <td>1</td>\n",
       "      <td>0.0</td>\n",
       "      <td>0.0</td>\n",
       "      <td>0.0</td>\n",
       "      <td>0.0</td>\n",
       "      <td>0.0</td>\n",
       "      <td>1</td>\n",
       "      <td>0</td>\n",
       "      <td>1</td>\n",
       "      <td>0</td>\n",
       "      <td>0</td>\n",
       "      <td>0</td>\n",
       "    </tr>\n",
       "    <tr>\n",
       "      <th>1</th>\n",
       "      <td>40</td>\n",
       "      <td>30085.1</td>\n",
       "      <td>3</td>\n",
       "      <td>1.0</td>\n",
       "      <td>1.0</td>\n",
       "      <td>0.0</td>\n",
       "      <td>1.0</td>\n",
       "      <td>1.0</td>\n",
       "      <td>0</td>\n",
       "      <td>1</td>\n",
       "      <td>0</td>\n",
       "      <td>0</td>\n",
       "      <td>0</td>\n",
       "      <td>1</td>\n",
       "    </tr>\n",
       "    <tr>\n",
       "      <th>2</th>\n",
       "      <td>51</td>\n",
       "      <td>16575.4</td>\n",
       "      <td>0</td>\n",
       "      <td>1.0</td>\n",
       "      <td>1.0</td>\n",
       "      <td>1.0</td>\n",
       "      <td>1.0</td>\n",
       "      <td>0.0</td>\n",
       "      <td>1</td>\n",
       "      <td>0</td>\n",
       "      <td>1</td>\n",
       "      <td>0</td>\n",
       "      <td>0</td>\n",
       "      <td>0</td>\n",
       "    </tr>\n",
       "    <tr>\n",
       "      <th>3</th>\n",
       "      <td>23</td>\n",
       "      <td>20375.4</td>\n",
       "      <td>3</td>\n",
       "      <td>1.0</td>\n",
       "      <td>0.0</td>\n",
       "      <td>0.0</td>\n",
       "      <td>1.0</td>\n",
       "      <td>0.0</td>\n",
       "      <td>1</td>\n",
       "      <td>0</td>\n",
       "      <td>0</td>\n",
       "      <td>0</td>\n",
       "      <td>0</td>\n",
       "      <td>1</td>\n",
       "    </tr>\n",
       "    <tr>\n",
       "      <th>4</th>\n",
       "      <td>57</td>\n",
       "      <td>50576.3</td>\n",
       "      <td>0</td>\n",
       "      <td>1.0</td>\n",
       "      <td>0.0</td>\n",
       "      <td>1.0</td>\n",
       "      <td>0.0</td>\n",
       "      <td>0.0</td>\n",
       "      <td>1</td>\n",
       "      <td>0</td>\n",
       "      <td>0</td>\n",
       "      <td>1</td>\n",
       "      <td>0</td>\n",
       "      <td>0</td>\n",
       "    </tr>\n",
       "  </tbody>\n",
       "</table>\n",
       "</div>"
      ],
      "text/plain": [
       "   age   income  children  married  car  savings_acct  current_acct  mortgage  \\\n",
       "0   48  17546.0         1      0.0  0.0           0.0           0.0       0.0   \n",
       "1   40  30085.1         3      1.0  1.0           0.0           1.0       1.0   \n",
       "2   51  16575.4         0      1.0  1.0           1.0           1.0       0.0   \n",
       "3   23  20375.4         3      1.0  0.0           0.0           1.0       0.0   \n",
       "4   57  50576.3         0      1.0  0.0           1.0           0.0       0.0   \n",
       "\n",
       "   gender_FEMALE  gender_MALE  region_INNER_CITY  region_RURAL  \\\n",
       "0              1            0                  1             0   \n",
       "1              0            1                  0             0   \n",
       "2              1            0                  1             0   \n",
       "3              1            0                  0             0   \n",
       "4              1            0                  0             1   \n",
       "\n",
       "   region_SUBURBAN  region_TOWN  \n",
       "0                0            0  \n",
       "1                0            1  \n",
       "2                0            0  \n",
       "3                0            1  \n",
       "4                0            0  "
      ]
     },
     "execution_count": 7,
     "metadata": {},
     "output_type": "execute_result"
    }
   ],
   "source": [
    "# Make binary varaibles in spreadsheet format\n",
    "modelDT.replace(to_replace = ['YES', 'NO'], value = [1.0, 0.0], inplace = True)\n",
    "\n",
    "# make dummy variables for other columns\n",
    "modelDT_numeric= pd.get_dummies(modelDT)\n",
    "modelDT_numeric.head()\n",
    "#modelDT_numeric.shape"
   ]
  },
  {
   "cell_type": "markdown",
   "metadata": {},
   "source": [
    "Perform min-max normalization to rescale numeric attributes."
   ]
  },
  {
   "cell_type": "code",
   "execution_count": 8,
   "metadata": {},
   "outputs": [
    {
     "data": {
      "text/html": [
       "<div>\n",
       "<style scoped>\n",
       "    .dataframe tbody tr th:only-of-type {\n",
       "        vertical-align: middle;\n",
       "    }\n",
       "\n",
       "    .dataframe tbody tr th {\n",
       "        vertical-align: top;\n",
       "    }\n",
       "\n",
       "    .dataframe thead th {\n",
       "        text-align: right;\n",
       "    }\n",
       "</style>\n",
       "<table border=\"1\" class=\"dataframe\">\n",
       "  <thead>\n",
       "    <tr style=\"text-align: right;\">\n",
       "      <th></th>\n",
       "      <th>age</th>\n",
       "      <th>income</th>\n",
       "      <th>children</th>\n",
       "      <th>married</th>\n",
       "      <th>car</th>\n",
       "      <th>savings_acct</th>\n",
       "      <th>current_acct</th>\n",
       "      <th>mortgage</th>\n",
       "      <th>gender_FEMALE</th>\n",
       "      <th>gender_MALE</th>\n",
       "      <th>region_INNER_CITY</th>\n",
       "      <th>region_RURAL</th>\n",
       "      <th>region_SUBURBAN</th>\n",
       "      <th>region_TOWN</th>\n",
       "    </tr>\n",
       "  </thead>\n",
       "  <tbody>\n",
       "    <tr>\n",
       "      <th>0</th>\n",
       "      <td>0.612245</td>\n",
       "      <td>0.215634</td>\n",
       "      <td>0.333333</td>\n",
       "      <td>0.0</td>\n",
       "      <td>0.0</td>\n",
       "      <td>0.0</td>\n",
       "      <td>0.0</td>\n",
       "      <td>0.0</td>\n",
       "      <td>1</td>\n",
       "      <td>0</td>\n",
       "      <td>1</td>\n",
       "      <td>0</td>\n",
       "      <td>0</td>\n",
       "      <td>0</td>\n",
       "    </tr>\n",
       "    <tr>\n",
       "      <th>1</th>\n",
       "      <td>0.448980</td>\n",
       "      <td>0.431395</td>\n",
       "      <td>1.000000</td>\n",
       "      <td>1.0</td>\n",
       "      <td>1.0</td>\n",
       "      <td>0.0</td>\n",
       "      <td>1.0</td>\n",
       "      <td>1.0</td>\n",
       "      <td>0</td>\n",
       "      <td>1</td>\n",
       "      <td>0</td>\n",
       "      <td>0</td>\n",
       "      <td>0</td>\n",
       "      <td>1</td>\n",
       "    </tr>\n",
       "    <tr>\n",
       "      <th>2</th>\n",
       "      <td>0.673469</td>\n",
       "      <td>0.198933</td>\n",
       "      <td>0.000000</td>\n",
       "      <td>1.0</td>\n",
       "      <td>1.0</td>\n",
       "      <td>1.0</td>\n",
       "      <td>1.0</td>\n",
       "      <td>0.0</td>\n",
       "      <td>1</td>\n",
       "      <td>0</td>\n",
       "      <td>1</td>\n",
       "      <td>0</td>\n",
       "      <td>0</td>\n",
       "      <td>0</td>\n",
       "    </tr>\n",
       "    <tr>\n",
       "      <th>3</th>\n",
       "      <td>0.102041</td>\n",
       "      <td>0.264320</td>\n",
       "      <td>1.000000</td>\n",
       "      <td>1.0</td>\n",
       "      <td>0.0</td>\n",
       "      <td>0.0</td>\n",
       "      <td>1.0</td>\n",
       "      <td>0.0</td>\n",
       "      <td>1</td>\n",
       "      <td>0</td>\n",
       "      <td>0</td>\n",
       "      <td>0</td>\n",
       "      <td>0</td>\n",
       "      <td>1</td>\n",
       "    </tr>\n",
       "    <tr>\n",
       "      <th>4</th>\n",
       "      <td>0.795918</td>\n",
       "      <td>0.783987</td>\n",
       "      <td>0.000000</td>\n",
       "      <td>1.0</td>\n",
       "      <td>0.0</td>\n",
       "      <td>1.0</td>\n",
       "      <td>0.0</td>\n",
       "      <td>0.0</td>\n",
       "      <td>1</td>\n",
       "      <td>0</td>\n",
       "      <td>0</td>\n",
       "      <td>1</td>\n",
       "      <td>0</td>\n",
       "      <td>0</td>\n",
       "    </tr>\n",
       "  </tbody>\n",
       "</table>\n",
       "</div>"
      ],
      "text/plain": [
       "        age    income  children  married  car  savings_acct  current_acct  \\\n",
       "0  0.612245  0.215634  0.333333      0.0  0.0           0.0           0.0   \n",
       "1  0.448980  0.431395  1.000000      1.0  1.0           0.0           1.0   \n",
       "2  0.673469  0.198933  0.000000      1.0  1.0           1.0           1.0   \n",
       "3  0.102041  0.264320  1.000000      1.0  0.0           0.0           1.0   \n",
       "4  0.795918  0.783987  0.000000      1.0  0.0           1.0           0.0   \n",
       "\n",
       "   mortgage  gender_FEMALE  gender_MALE  region_INNER_CITY  region_RURAL  \\\n",
       "0       0.0              1            0                  1             0   \n",
       "1       1.0              0            1                  0             0   \n",
       "2       0.0              1            0                  1             0   \n",
       "3       0.0              1            0                  0             0   \n",
       "4       0.0              1            0                  0             1   \n",
       "\n",
       "   region_SUBURBAN  region_TOWN  \n",
       "0                0            0  \n",
       "1                0            1  \n",
       "2                0            0  \n",
       "3                0            1  \n",
       "4                0            0  "
      ]
     },
     "execution_count": 8,
     "metadata": {},
     "output_type": "execute_result"
    }
   ],
   "source": [
    "# Normalize the numeric data\n",
    "Scaler = MinMaxScaler()\n",
    "modelDT_numeric[['age', 'income', 'children']] = Scaler.fit_transform(modelDT_numeric[['age', 'income', 'children']])\n",
    "modelDT_numeric.head()"
   ]
  },
  {
   "cell_type": "markdown",
   "metadata": {},
   "source": [
    "Divide the data into randomized training(80%) and test(20%) partitions (note that the same split should also be perfromed on the target attribute). The easiest way to do this is to use the \"train_test_split\" module of \"sklearn.cross_validation\"."
   ]
  },
  {
   "cell_type": "code",
   "execution_count": 9,
   "metadata": {},
   "outputs": [
    {
     "name": "stdout",
     "output_type": "stream",
     "text": [
      "(480, 14) (120, 14) (480, 1) (120, 1)\n"
     ]
    }
   ],
   "source": [
    "# Create 80-20 split \n",
    "X_train, X_test, y_train, y_test = train_test_split(modelDT_numeric, pep, test_size=0.2, random_state = 33)\n",
    "print(X_train.shape, X_test.shape, y_train.shape, y_test.shape)"
   ]
  },
  {
   "cell_type": "markdown",
   "metadata": {},
   "source": [
    "Note: <b>DataConversionWarning: A column-vector y was passed when a 1d array was expected. Please change the shape of y to (n_samples, ), for example using ravel().</b>"
   ]
  },
  {
   "cell_type": "code",
   "execution_count": 10,
   "metadata": {},
   "outputs": [
    {
     "name": "stdout",
     "output_type": "stream",
     "text": [
      "(480,) (120,)\n"
     ]
    }
   ],
   "source": [
    "y_train = np.ravel(y_train)\n",
    "y_test = np.ravel(y_test)\n",
    "print(y_train.shape, y_test.shape)"
   ]
  },
  {
   "cell_type": "markdown",
   "metadata": {},
   "source": [
    "#### b. Run scikit-learn's KNN classifier on the test set. Note: in the case of KNN, you should first normalize the data so that all attributes are in the same scale (normalize so that the values are between 0 and 1). Generate the confusion matrix (visualize it using Matplotlib), as well as the classification report. Also, compute the average accuracy score. Experiment with different values of K and the weight parameter (i.e., with or without distance weighting) for KNN to see if you can improve accuracy (you do not need to provide the details of all of your experimentation, but provide a short discussion on what parameters worked best as well as your final results)."
   ]
  },
  {
   "cell_type": "code",
   "execution_count": 11,
   "metadata": {},
   "outputs": [
    {
     "data": {
      "text/plain": [
       "KNeighborsClassifier(algorithm='auto', leaf_size=30, metric='minkowski',\n",
       "           metric_params=None, n_jobs=1, n_neighbors=5, p=2,\n",
       "           weights='distance')"
      ]
     },
     "execution_count": 11,
     "metadata": {},
     "output_type": "execute_result"
    }
   ],
   "source": [
    "n_neighbors = 5\n",
    "knnclf = neighbors.KNeighborsClassifier(n_neighbors, weights='distance')\n",
    "knnclf.fit(X_train, y_train)"
   ]
  },
  {
   "cell_type": "markdown",
   "metadata": {},
   "source": [
    "Next, we call the predict function on the test intances to produce the predicted classes."
   ]
  },
  {
   "cell_type": "code",
   "execution_count": 12,
   "metadata": {},
   "outputs": [
    {
     "name": "stdout",
     "output_type": "stream",
     "text": [
      "['NO' 'YES' 'NO' 'NO' 'NO' 'YES' 'YES' 'NO' 'NO' 'YES' 'NO' 'NO' 'YES'\n",
      " 'NO' 'YES' 'NO' 'YES' 'YES' 'YES' 'NO' 'NO' 'YES' 'NO' 'NO' 'YES' 'NO'\n",
      " 'YES' 'YES' 'YES' 'YES' 'NO' 'YES' 'NO' 'YES' 'NO' 'YES' 'NO' 'YES' 'YES'\n",
      " 'NO' 'NO' 'NO' 'YES' 'NO' 'YES' 'NO' 'YES' 'YES' 'NO' 'YES' 'NO' 'YES'\n",
      " 'NO' 'NO' 'YES' 'YES' 'YES' 'YES' 'NO' 'NO' 'YES' 'NO' 'YES' 'YES' 'NO'\n",
      " 'NO' 'NO' 'NO' 'NO' 'YES' 'NO' 'NO' 'YES' 'NO' 'NO' 'NO' 'YES' 'YES'\n",
      " 'YES' 'NO' 'YES' 'YES' 'NO' 'YES' 'NO' 'NO' 'YES' 'NO' 'NO' 'YES' 'NO'\n",
      " 'NO' 'NO' 'NO' 'NO' 'NO' 'NO' 'NO' 'NO' 'NO' 'NO' 'NO' 'NO' 'YES' 'NO'\n",
      " 'NO' 'YES' 'NO' 'YES' 'NO' 'YES' 'NO' 'NO' 'NO' 'NO' 'YES' 'NO' 'NO' 'NO'\n",
      " 'NO']\n"
     ]
    }
   ],
   "source": [
    "knnpreds_test = knnclf.predict(X_test)\n",
    "print(knnpreds_test)"
   ]
  },
  {
   "cell_type": "code",
   "execution_count": 13,
   "metadata": {},
   "outputs": [
    {
     "name": "stdout",
     "output_type": "stream",
     "text": [
      "[[46 20]\n",
      " [26 28]]\n"
     ]
    }
   ],
   "source": [
    "#create a confusion matrix\n",
    "knncm = confusion_matrix(y_test, knnpreds_test)\n",
    "print( knncm)"
   ]
  },
  {
   "cell_type": "code",
   "execution_count": 14,
   "metadata": {},
   "outputs": [
    {
     "data": {
      "image/png": "[encoded data removed]",
      "text/plain": [
       "<Figure size 288x288 with 1 Axes>"
      ]
     },
     "metadata": {},
     "output_type": "display_data"
    }
   ],
   "source": [
    "# Use matplotlib to visualize the confusion matrix\n",
    "plt.matshow(knncm, cmap = plt.cm.Blues)\n",
    "plt.title(\"KNN Confusion Matrix\\n\")\n",
    "plt.xticks([0,1], ['No', 'Yes'])\n",
    "plt.yticks([0,1], ['No', 'Yes'])\n",
    "plt.ylabel('True label')\n",
    "plt.xlabel('Predicted label')\n",
    "for y in range(knncm.shape[0]):\n",
    "    for x in range(knncm.shape[1]):\n",
    "        plt.text(x, y, '{}'.format(knncm[y,x]),\n",
    "                horizontalalignment = 'center',\n",
    "                verticalalignment = 'center',)\n",
    "plt.show()"
   ]
  },
  {
   "cell_type": "code",
   "execution_count": 15,
   "metadata": {},
   "outputs": [
    {
     "name": "stdout",
     "output_type": "stream",
     "text": [
      "             precision    recall  f1-score   support\n",
      "\n",
      "         NO       0.64      0.70      0.67        66\n",
      "        YES       0.58      0.52      0.55        54\n",
      "\n",
      "avg / total       0.61      0.62      0.61       120\n",
      "\n"
     ]
    }
   ],
   "source": [
    "# Generate a classification report\n",
    "print(classification_report(y_test, knnpreds_test))"
   ]
  },
  {
   "cell_type": "markdown",
   "metadata": {},
   "source": [
    "We can also compute the average accuracy score across the test instances."
   ]
  },
  {
   "cell_type": "code",
   "execution_count": 16,
   "metadata": {},
   "outputs": [
    {
     "name": "stdout",
     "output_type": "stream",
     "text": [
      "Accuracy is 0.6166666666666667\n"
     ]
    }
   ],
   "source": [
    "acc = []\n",
    "acc0 = knnclf.score(X_test, y_test)\n",
    "print(\"Accuracy is {}\".format(acc0))\n",
    "acc.append(acc0)"
   ]
  },
  {
   "cell_type": "markdown",
   "metadata": {},
   "source": [
    "<b>Tweak KNN model, and evaluate model performance.</b> <br> Begin with # of k."
   ]
  },
  {
   "cell_type": "code",
   "execution_count": 17,
   "metadata": {},
   "outputs": [
    {
     "name": "stdout",
     "output_type": "stream",
     "text": [
      "             precision    recall  f1-score   support\n",
      "\n",
      "         NO       0.64      0.65      0.65        66\n",
      "        YES       0.57      0.56      0.56        54\n",
      "\n",
      "avg / total       0.61      0.61      0.61       120\n",
      "\n",
      "Accuracy is 0.6083333333333333\n"
     ]
    }
   ],
   "source": [
    "# case 1\n",
    "n_neighbors1 = 3\n",
    "knnclf1 = neighbors.KNeighborsClassifier(n_neighbors1, weights='distance')\n",
    "knnclf1.fit(X_train, y_train)\n",
    "knnpreds_test1 = knnclf1.predict(X_test)\n",
    "print(classification_report(y_test, knnpreds_test1))\n",
    "acc1 = knnclf1.score(X_test, y_test)\n",
    "print(\"Accuracy is {}\".format(acc1))\n",
    "acc.append(acc1)"
   ]
  },
  {
   "cell_type": "code",
   "execution_count": 18,
   "metadata": {},
   "outputs": [
    {
     "name": "stdout",
     "output_type": "stream",
     "text": [
      "             precision    recall  f1-score   support\n",
      "\n",
      "         NO       0.64      0.70      0.67        66\n",
      "        YES       0.58      0.52      0.55        54\n",
      "\n",
      "avg / total       0.61      0.62      0.61       120\n",
      "\n",
      "Accuracy is 0.6333333333333333\n"
     ]
    }
   ],
   "source": [
    "# case 2\n",
    "n_neighbors2 = 7\n",
    "knnclf2 = neighbors.KNeighborsClassifier(n_neighbors2, weights='distance')\n",
    "knnclf2.fit(X_train, y_train)\n",
    "knnpreds_test2 = knnclf.predict(X_test)\n",
    "print(classification_report(y_test, knnpreds_test2))\n",
    "acc2 = knnclf2.score(X_test, y_test)\n",
    "print(\"Accuracy is {}\".format(acc2))\n",
    "acc.append(acc2)"
   ]
  },
  {
   "cell_type": "code",
   "execution_count": 19,
   "metadata": {},
   "outputs": [
    {
     "name": "stdout",
     "output_type": "stream",
     "text": [
      "             precision    recall  f1-score   support\n",
      "\n",
      "         NO       0.67      0.68      0.68        66\n",
      "        YES       0.60      0.59      0.60        54\n",
      "\n",
      "avg / total       0.64      0.64      0.64       120\n",
      "\n",
      "Accuracy is 0.6416666666666667\n"
     ]
    }
   ],
   "source": [
    "# case 3\n",
    "n_neighbors3 = 9\n",
    "knnclf3 = neighbors.KNeighborsClassifier(n_neighbors3, weights='distance')\n",
    "knnclf3.fit(X_train, y_train)\n",
    "knnpreds_test3 = knnclf3.predict(X_test)\n",
    "print(classification_report(y_test, knnpreds_test3))\n",
    "acc3 = knnclf3.score(X_test, y_test)\n",
    "print(\"Accuracy is {}\".format(acc3))\n",
    "acc.append(acc3)"
   ]
  },
  {
   "cell_type": "code",
   "execution_count": 20,
   "metadata": {},
   "outputs": [
    {
     "name": "stdout",
     "output_type": "stream",
     "text": [
      "             precision    recall  f1-score   support\n",
      "\n",
      "         NO       0.63      0.67      0.65        66\n",
      "        YES       0.56      0.52      0.54        54\n",
      "\n",
      "avg / total       0.60      0.60      0.60       120\n",
      "\n",
      "Accuracy is 0.6\n"
     ]
    }
   ],
   "source": [
    "# case 4\n",
    "n_neighbors4 = 5\n",
    "knnclf4 = neighbors.KNeighborsClassifier(n_neighbors4, weights='uniform')\n",
    "knnclf4.fit(X_train, y_train)\n",
    "knnpreds_test4 = knnclf4.predict(X_test)\n",
    "print(classification_report(y_test, knnpreds_test4))\n",
    "acc4 = knnclf4.score(X_test, y_test)\n",
    "print(\"Accuracy is {}\".format(acc4))\n",
    "acc.append(acc4)"
   ]
  },
  {
   "cell_type": "code",
   "execution_count": 21,
   "metadata": {},
   "outputs": [
    {
     "name": "stdout",
     "output_type": "stream",
     "text": [
      "             precision    recall  f1-score   support\n",
      "\n",
      "         NO       0.66      0.65      0.66        66\n",
      "        YES       0.58      0.59      0.59        54\n",
      "\n",
      "avg / total       0.63      0.62      0.63       120\n",
      "\n",
      "Accuracy is 0.625\n"
     ]
    }
   ],
   "source": [
    "# case 5\n",
    "n_neighbors5 = 3\n",
    "knnclf5 = neighbors.KNeighborsClassifier(n_neighbors5, weights='uniform')\n",
    "knnclf5.fit(X_train, y_train)\n",
    "knnpreds_test5 = knnclf5.predict(X_test)\n",
    "print(classification_report(y_test, knnpreds_test5))\n",
    "acc5 = knnclf5.score(X_test, y_test)\n",
    "print(\"Accuracy is {}\".format(acc5))\n",
    "acc.append(acc5)"
   ]
  },
  {
   "cell_type": "code",
   "execution_count": 22,
   "metadata": {},
   "outputs": [
    {
     "name": "stdout",
     "output_type": "stream",
     "text": [
      "             precision    recall  f1-score   support\n",
      "\n",
      "         NO       0.64      0.65      0.65        66\n",
      "        YES       0.57      0.56      0.56        54\n",
      "\n",
      "avg / total       0.61      0.61      0.61       120\n",
      "\n",
      "Accuracy is 0.6083333333333333\n"
     ]
    }
   ],
   "source": [
    "# case 6\n",
    "n_neighbors6 = 7\n",
    "knnclf6 = neighbors.KNeighborsClassifier(n_neighbors6, weights='uniform')\n",
    "knnclf6.fit(X_train, y_train)\n",
    "knnpreds_test6 = knnclf6.predict(X_test)\n",
    "print(classification_report(y_test, knnpreds_test6))\n",
    "acc6 = knnclf6.score(X_test, y_test)\n",
    "print(\"Accuracy is {}\".format(acc6))\n",
    "acc.append(acc6)"
   ]
  },
  {
   "cell_type": "code",
   "execution_count": 23,
   "metadata": {},
   "outputs": [
    {
     "name": "stdout",
     "output_type": "stream",
     "text": [
      "             precision    recall  f1-score   support\n",
      "\n",
      "         NO       0.66      0.74      0.70        66\n",
      "        YES       0.63      0.54      0.58        54\n",
      "\n",
      "avg / total       0.65      0.65      0.65       120\n",
      "\n",
      "Accuracy is 0.65\n"
     ]
    }
   ],
   "source": [
    "# case 7\n",
    "n_neighbors7 = 9\n",
    "knnclf7 = neighbors.KNeighborsClassifier(n_neighbors7, weights='uniform')\n",
    "knnclf7.fit(X_train, y_train)\n",
    "knnpreds_test7 = knnclf7.predict(X_test)\n",
    "print(classification_report(y_test, knnpreds_test7))\n",
    "acc7 = knnclf7.score(X_test, y_test)\n",
    "print(\"Accuracy is {}\".format(acc7))\n",
    "acc.append(acc7)"
   ]
  },
  {
   "cell_type": "code",
   "execution_count": 24,
   "metadata": {},
   "outputs": [
    {
     "name": "stdout",
     "output_type": "stream",
     "text": [
      "             precision    recall  f1-score   support\n",
      "\n",
      "         NO       0.64      0.70      0.67        66\n",
      "        YES       0.58      0.52      0.55        54\n",
      "\n",
      "avg / total       0.61      0.62      0.61       120\n",
      "\n",
      "Accuracy is 0.6166666666666667\n"
     ]
    }
   ],
   "source": [
    "# case 8\n",
    "n_neighbors8 = 5\n",
    "knnclf8 = neighbors.KNeighborsClassifier(n_neighbors8, weights='distance', metric = 'euclidean')\n",
    "knnclf8.fit(X_train, y_train)\n",
    "knnpreds_test8 = knnclf8.predict(X_test)\n",
    "print(classification_report(y_test, knnpreds_test8))\n",
    "acc8 = knnclf8.score(X_test, y_test)\n",
    "print(\"Accuracy is {}\".format(acc8))\n",
    "acc.append(acc8)"
   ]
  },
  {
   "cell_type": "code",
   "execution_count": 25,
   "metadata": {},
   "outputs": [
    {
     "name": "stdout",
     "output_type": "stream",
     "text": [
      "             precision    recall  f1-score   support\n",
      "\n",
      "         NO       0.64      0.65      0.65        66\n",
      "        YES       0.57      0.56      0.56        54\n",
      "\n",
      "avg / total       0.61      0.61      0.61       120\n",
      "\n",
      "Accuracy is 0.6083333333333333\n"
     ]
    }
   ],
   "source": [
    "# case 9\n",
    "n_neighbors9 = 3\n",
    "knnclf9 = neighbors.KNeighborsClassifier(n_neighbors9, weights='distance', metric = 'euclidean')\n",
    "knnclf9.fit(X_train, y_train)\n",
    "knnpreds_test9 = knnclf9.predict(X_test)\n",
    "print(classification_report(y_test, knnpreds_test9))\n",
    "acc9 = knnclf9.score(X_test, y_test)\n",
    "print(\"Accuracy is {}\".format(acc9))\n",
    "acc.append(acc9)"
   ]
  },
  {
   "cell_type": "code",
   "execution_count": 26,
   "metadata": {},
   "outputs": [
    {
     "name": "stdout",
     "output_type": "stream",
     "text": [
      "             precision    recall  f1-score   support\n",
      "\n",
      "         NO       0.65      0.71      0.68        66\n",
      "        YES       0.60      0.54      0.57        54\n",
      "\n",
      "avg / total       0.63      0.63      0.63       120\n",
      "\n",
      "Accuracy is 0.6333333333333333\n"
     ]
    }
   ],
   "source": [
    "# case 10\n",
    "n_neighbors10 = 7\n",
    "knnclf10 = neighbors.KNeighborsClassifier(n_neighbors10, weights='distance', metric = 'euclidean')\n",
    "knnclf10.fit(X_train, y_train)\n",
    "knnpreds_test10 = knnclf10.predict(X_test)\n",
    "print(classification_report(y_test, knnpreds_test10))\n",
    "acc10 = knnclf10.score(X_test, y_test)\n",
    "print(\"Accuracy is {}\".format(acc10))\n",
    "acc.append(acc10)"
   ]
  },
  {
   "cell_type": "code",
   "execution_count": 27,
   "metadata": {},
   "outputs": [
    {
     "name": "stdout",
     "output_type": "stream",
     "text": [
      "             precision    recall  f1-score   support\n",
      "\n",
      "         NO       0.67      0.68      0.68        66\n",
      "        YES       0.60      0.59      0.60        54\n",
      "\n",
      "avg / total       0.64      0.64      0.64       120\n",
      "\n",
      "Accuracy is 0.6416666666666667\n"
     ]
    }
   ],
   "source": [
    "# case 11\n",
    "n_neighbors11 = 9\n",
    "knnclf11 = neighbors.KNeighborsClassifier(n_neighbors11, weights='distance', metric = 'euclidean')\n",
    "knnclf11.fit(X_train, y_train)\n",
    "knnpreds_test11 = knnclf11.predict(X_test)\n",
    "print(classification_report(y_test, knnpreds_test11))\n",
    "acc11 = knnclf11.score(X_test, y_test)\n",
    "print(\"Accuracy is {}\".format(acc11))\n",
    "acc.append(acc11)"
   ]
  },
  {
   "cell_type": "code",
   "execution_count": 28,
   "metadata": {},
   "outputs": [
    {
     "name": "stdout",
     "output_type": "stream",
     "text": [
      "             precision    recall  f1-score   support\n",
      "\n",
      "         NO       0.66      0.70      0.68        66\n",
      "        YES       0.60      0.56      0.58        54\n",
      "\n",
      "avg / total       0.63      0.63      0.63       120\n",
      "\n",
      "Accuracy is 0.6333333333333333\n"
     ]
    }
   ],
   "source": [
    "# case 12\n",
    "n_neighbors12 = 5\n",
    "knnclf12 = neighbors.KNeighborsClassifier(n_neighbors12, weights='distance', metric = 'manhattan')\n",
    "knnclf12.fit(X_train, y_train)\n",
    "knnpreds_test12 = knnclf12.predict(X_test)\n",
    "print(classification_report(y_test, knnpreds_test12))\n",
    "acc12 = knnclf12.score(X_test, y_test)\n",
    "print(\"Accuracy is {}\".format(acc12))\n",
    "acc.append(acc12)"
   ]
  },
  {
   "cell_type": "code",
   "execution_count": 29,
   "metadata": {},
   "outputs": [
    {
     "name": "stdout",
     "output_type": "stream",
     "text": [
      "             precision    recall  f1-score   support\n",
      "\n",
      "         NO       0.66      0.70      0.68        66\n",
      "        YES       0.60      0.56      0.58        54\n",
      "\n",
      "avg / total       0.63      0.63      0.63       120\n",
      "\n",
      "Accuracy is 0.6333333333333333\n"
     ]
    }
   ],
   "source": [
    "# case 13\n",
    "n_neighbors13 = 3\n",
    "knnclf13 = neighbors.KNeighborsClassifier(n_neighbors13, weights='distance', metric = 'manhattan')\n",
    "knnclf13.fit(X_train, y_train)\n",
    "knnpreds_test13 = knnclf13.predict(X_test)\n",
    "print(classification_report(y_test, knnpreds_test13))\n",
    "acc13 = knnclf13.score(X_test, y_test)\n",
    "print(\"Accuracy is {}\".format(acc13))\n",
    "acc.append(acc13)"
   ]
  },
  {
   "cell_type": "code",
   "execution_count": 30,
   "metadata": {},
   "outputs": [
    {
     "name": "stdout",
     "output_type": "stream",
     "text": [
      "             precision    recall  f1-score   support\n",
      "\n",
      "         NO       0.64      0.67      0.65        66\n",
      "        YES       0.57      0.54      0.55        54\n",
      "\n",
      "avg / total       0.61      0.61      0.61       120\n",
      "\n",
      "Accuracy is 0.6083333333333333\n"
     ]
    }
   ],
   "source": [
    "# case 14\n",
    "n_neighbors14 = 7\n",
    "knnclf14 = neighbors.KNeighborsClassifier(n_neighbors14, weights='distance', metric = 'manhattan')\n",
    "knnclf14.fit(X_train, y_train)\n",
    "knnpreds_test14 = knnclf14.predict(X_test)\n",
    "print(classification_report(y_test, knnpreds_test14))\n",
    "acc14 = knnclf14.score(X_test, y_test)\n",
    "print(\"Accuracy is {}\".format(acc14))\n",
    "acc.append(acc14)"
   ]
  },
  {
   "cell_type": "code",
   "execution_count": 31,
   "metadata": {},
   "outputs": [
    {
     "name": "stdout",
     "output_type": "stream",
     "text": [
      "             precision    recall  f1-score   support\n",
      "\n",
      "         NO       0.68      0.68      0.68        66\n",
      "        YES       0.61      0.61      0.61        54\n",
      "\n",
      "avg / total       0.65      0.65      0.65       120\n",
      "\n",
      "Accuracy is 0.65\n"
     ]
    }
   ],
   "source": [
    "# case 15\n",
    "n_neighbors15 = 9\n",
    "knnclf15 = neighbors.KNeighborsClassifier(n_neighbors15, weights='distance', metric = 'manhattan')\n",
    "knnclf15.fit(X_train, y_train)\n",
    "knnpreds_test15 = knnclf15.predict(X_test)\n",
    "print(classification_report(y_test, knnpreds_test15))\n",
    "acc15 = knnclf15.score(X_test, y_test)\n",
    "print(\"Accuracy is {}\".format(acc15))\n",
    "acc.append(acc15)"
   ]
  },
  {
   "cell_type": "code",
   "execution_count": 32,
   "metadata": {},
   "outputs": [
    {
     "data": {
      "image/png": "[encoded data removed]",
      "text/plain": [
       "<Figure size 432x288 with 1 Axes>"
      ]
     },
     "metadata": {},
     "output_type": "display_data"
    }
   ],
   "source": [
    "caseNum = [i for i in range (0,16)]\n",
    "plt.plot(caseNum, acc)\n",
    "plt.xlabel(\"Number of Cases\")\n",
    "plt.ylabel(\"Accuracy\")\n",
    "plt.title(\"Accuracy Comparison For k-Nearest Neighbours\")\n",
    "plt.show()"
   ]
  },
  {
   "cell_type": "markdown",
   "metadata": {},
   "source": [
    "<b>Findings:</b><br>\n",
    "Increasing k:\n",
    "<br>\n",
    "* Accuracy peaks at around 65% (around k=9)<br>\n",
    "\n",
    "Changing weights:\n",
    "<br>\n",
    "* Using uniform weighting is not doing better than distance weighting except k=9<br>\n",
    "\n",
    "Distance measure:\n",
    "<br>\n",
    "* Manhattan seems to have better accuracy than Euclidean    "
   ]
  },
  {
   "cell_type": "markdown",
   "metadata": {},
   "source": [
    "#### c. Repeat the classification using scikit-learn's decision tree classifier (using the default parameters) and the Naive Bayes (Gaussian) classifier. As above, generate the confusion matrix, classification report, and average accuracy scores for each classifier. For each model, compare the average accuracry scores on the test and the training data sets. What does the comparison tell you in terms of bias-variance tradeoff?"
   ]
  },
  {
   "cell_type": "markdown",
   "metadata": {},
   "source": [
    "<b> Decison Tree "
   ]
  },
  {
   "cell_type": "code",
   "execution_count": 57,
   "metadata": {},
   "outputs": [
    {
     "name": "stdout",
     "output_type": "stream",
     "text": [
      "['NO' 'YES' 'NO' 'YES' 'YES' 'YES' 'YES' 'NO' 'YES' 'NO' 'NO' 'YES' 'NO'\n",
      " 'NO' 'NO' 'NO' 'NO' 'NO' 'YES' 'NO' 'YES' 'YES' 'NO' 'NO' 'YES' 'NO'\n",
      " 'YES' 'YES' 'NO' 'YES' 'NO' 'NO' 'NO' 'YES' 'NO' 'YES' 'NO' 'YES' 'NO'\n",
      " 'YES' 'YES' 'NO' 'NO' 'NO' 'YES' 'NO' 'NO' 'YES' 'NO' 'YES' 'YES' 'YES'\n",
      " 'YES' 'YES' 'NO' 'YES' 'YES' 'YES' 'NO' 'NO' 'YES' 'NO' 'YES' 'YES' 'YES'\n",
      " 'NO' 'NO' 'NO' 'YES' 'YES' 'YES' 'NO' 'NO' 'YES' 'NO' 'NO' 'NO' 'NO'\n",
      " 'YES' 'NO' 'NO' 'YES' 'YES' 'NO' 'NO' 'YES' 'NO' 'NO' 'YES' 'YES' 'NO'\n",
      " 'NO' 'NO' 'NO' 'YES' 'NO' 'NO' 'NO' 'NO' 'NO' 'NO' 'NO' 'YES' 'YES' 'NO'\n",
      " 'YES' 'YES' 'NO' 'YES' 'NO' 'YES' 'NO' 'NO' 'YES' 'NO' 'NO' 'NO' 'NO'\n",
      " 'NO' 'NO']\n"
     ]
    }
   ],
   "source": [
    "# Decision tree classifier (default paramters)\n",
    "treeclf = tree.DecisionTreeClassifier(random_state = 9)\n",
    "treeclf = treeclf.fit(X_train, y_train)\n",
    "treepreds_test = treeclf.predict(X_test)\n",
    "print(treepreds_test)"
   ]
  },
  {
   "cell_type": "code",
   "execution_count": 58,
   "metadata": {},
   "outputs": [
    {
     "name": "stdout",
     "output_type": "stream",
     "text": [
      "Accuracy of train data is 1.0\n"
     ]
    }
   ],
   "source": [
    "# Compare teh accuracy on the train set\n",
    "acc_train = treeclf.score(X_train, y_train)\n",
    "print(\"Accuracy of train data is {:.2}\".format(acc_train))"
   ]
  },
  {
   "cell_type": "code",
   "execution_count": 59,
   "metadata": {},
   "outputs": [
    {
     "name": "stdout",
     "output_type": "stream",
     "text": [
      "Accuracy of test data is 0.82\n"
     ]
    }
   ],
   "source": [
    "acc_test = treeclf.score(X_test, y_test)\n",
    "print(\"Accuracy of test data is {:.2}\".format(acc_test))"
   ]
  },
  {
   "cell_type": "code",
   "execution_count": 60,
   "metadata": {},
   "outputs": [
    {
     "name": "stdout",
     "output_type": "stream",
     "text": [
      "[[57  9]\n",
      " [12 42]]\n"
     ]
    }
   ],
   "source": [
    "# Generate confusion matrix\n",
    "treecm = confusion_matrix(y_test, treepreds_test)\n",
    "print(treecm)"
   ]
  },
  {
   "cell_type": "code",
   "execution_count": 61,
   "metadata": {},
   "outputs": [
    {
     "name": "stdout",
     "output_type": "stream",
     "text": [
      "             precision    recall  f1-score   support\n",
      "\n",
      "         NO       0.83      0.86      0.84        66\n",
      "        YES       0.82      0.78      0.80        54\n",
      "\n",
      "avg / total       0.82      0.82      0.82       120\n",
      "\n"
     ]
    }
   ],
   "source": [
    "# Create classification report\n",
    "print(classification_report(y_test, treepreds_test))"
   ]
  },
  {
   "cell_type": "code",
   "execution_count": 62,
   "metadata": {},
   "outputs": [
    {
     "data": {
      "image/png": "[encoded data removed]",
      "text/plain": [
       "<Figure size 288x288 with 1 Axes>"
      ]
     },
     "metadata": {},
     "output_type": "display_data"
    }
   ],
   "source": [
    "# Use matplotlib to visualize the confusion matrix\n",
    "plt.matshow(treecm, cmap = plt.cm.Blues)\n",
    "plt.title(\"Decision Tree Confusion Matrix\\n\")\n",
    "plt.xticks([0,1], ['No', 'Yes'])\n",
    "plt.yticks([0,1], ['No', 'Yes'])\n",
    "plt.ylabel('True label')\n",
    "plt.xlabel('Predicted label')\n",
    "for y in range(treecm.shape[0]):\n",
    "    for x in range(treecm.shape[1]):\n",
    "        plt.text(x, y, '{}'.format(treecm[y,x]),\n",
    "                horizontalalignment = 'center',\n",
    "                verticalalignment = 'center',)\n",
    "plt.show()"
   ]
  },
  {
   "cell_type": "code",
   "execution_count": 63,
   "metadata": {},
   "outputs": [
    {
     "name": "stdout",
     "output_type": "stream",
     "text": [
      "Accuracy of train data is 0.91\n",
      "Accuracy of test data is 0.85\n",
      "[[62  4]\n",
      " [14 40]]\n",
      "             precision    recall  f1-score   support\n",
      "\n",
      "         NO       0.82      0.94      0.87        66\n",
      "        YES       0.91      0.74      0.82        54\n",
      "\n",
      "avg / total       0.86      0.85      0.85       120\n",
      "\n"
     ]
    }
   ],
   "source": [
    "# Decision tree with modified parameters\n",
    "treeclf = tree.DecisionTreeClassifier(min_samples_leaf = 10, random_state = 9)\n",
    "treeclf = treeclf.fit(X_train, y_train)\n",
    "treepreds_test = treeclf.predict(X_test)\n",
    "\n",
    "# Compare teh accuracy on the train set and test set\n",
    "acc_train = treeclf.score(X_train, y_train)\n",
    "print(\"Accuracy of train data is {:.2}\".format(acc_train))\n",
    "acc_test = treeclf.score(X_test, y_test)\n",
    "print(\"Accuracy of test data is {:.2}\".format(acc_test))\n",
    "\n",
    "# Generate confusion matrix\n",
    "treecm = confusion_matrix(y_test, treepreds_test)\n",
    "print(treecm)\n",
    "\n",
    "# Create classification report\n",
    "print(classification_report(y_test, treepreds_test))"
   ]
  },
  {
   "cell_type": "code",
   "execution_count": 64,
   "metadata": {},
   "outputs": [
    {
     "name": "stdout",
     "output_type": "stream",
     "text": [
      "Accuracy of train data is 0.79\n",
      "Accuracy of test data is 0.7\n",
      "[[46 20]\n",
      " [16 38]]\n",
      "             precision    recall  f1-score   support\n",
      "\n",
      "         NO       0.74      0.70      0.72        66\n",
      "        YES       0.66      0.70      0.68        54\n",
      "\n",
      "avg / total       0.70      0.70      0.70       120\n",
      "\n"
     ]
    }
   ],
   "source": [
    "# Decision tree with modified parameters\n",
    "treeclf = tree.DecisionTreeClassifier(min_samples_leaf = 50, random_state = 9)\n",
    "treeclf = treeclf.fit(X_train, y_train)\n",
    "treepreds_test = treeclf.predict(X_test)\n",
    "\n",
    "# Compare teh accuracy on the train set and test set\n",
    "acc_train = treeclf.score(X_train, y_train)\n",
    "print(\"Accuracy of train data is {:.2}\".format(acc_train))\n",
    "acc_test = treeclf.score(X_test, y_test)\n",
    "print(\"Accuracy of test data is {:.2}\".format(acc_test))\n",
    "\n",
    "# Generate confusion matrix\n",
    "treecm = confusion_matrix(y_test, treepreds_test)\n",
    "print(treecm)\n",
    "\n",
    "# Create classification report\n",
    "print(classification_report(y_test, treepreds_test))"
   ]
  },
  {
   "cell_type": "markdown",
   "metadata": {},
   "source": [
    "* If we keep the default parameters, that is minimum samples per leaf value to be 1 (very complex tree), we can see that we are getting 100% accuracy on training data but accuracy on testing data comes out to be 80% which shows that we are <b>overfitting</b> the data in our model and it performs very well on training set but its performance goes down on testing data and training and testing accuracies are not within acceptable ranges (more than 10% difference). <br>\n",
    "\n",
    "* So here we can see that the accuracy we get using decision tree when we change one of its parameters, is 85% on testing data and 91% on training data, so testing and training accuracy are within acceptable ranges (less than 10% difference) and there is no bias-variance trade off or in other words underfitting or overfitting.<br>\n",
    "\n",
    "* If we keep the minimum samples per leaf value to be high and equal to 50 (comparatively simple tree), we can see that the accuracy on both testing and training comes down to around 70% and 79%, which is probably we are <b>underfitting</b> the data and keeping the models too simple, which is resulting into high bias, which can cause an algorithm to miss the relevant relations between features and target outputs (in other words underfitting)."
   ]
  },
  {
   "cell_type": "markdown",
   "metadata": {},
   "source": [
    "<b> Naive Bayes"
   ]
  },
  {
   "cell_type": "code",
   "execution_count": 51,
   "metadata": {},
   "outputs": [
    {
     "name": "stdout",
     "output_type": "stream",
     "text": [
      "['NO' 'YES' 'NO' 'YES' 'YES' 'NO' 'NO' 'NO' 'NO' 'YES' 'NO' 'YES' 'NO'\n",
      " 'NO' 'NO' 'NO' 'YES' 'NO' 'YES' 'NO' 'YES' 'YES' 'NO' 'NO' 'NO' 'NO'\n",
      " 'YES' 'YES' 'NO' 'YES' 'YES' 'NO' 'NO' 'NO' 'NO' 'YES' 'YES' 'NO' 'NO'\n",
      " 'NO' 'NO' 'NO' 'NO' 'NO' 'YES' 'NO' 'YES' 'NO' 'NO' 'YES' 'YES' 'YES'\n",
      " 'NO' 'NO' 'YES' 'YES' 'YES' 'NO' 'NO' 'NO' 'YES' 'NO' 'YES' 'NO' 'NO'\n",
      " 'NO' 'YES' 'NO' 'NO' 'YES' 'YES' 'NO' 'NO' 'NO' 'NO' 'NO' 'NO' 'YES'\n",
      " 'YES' 'NO' 'NO' 'YES' 'NO' 'NO' 'YES' 'NO' 'NO' 'NO' 'YES' 'NO' 'NO'\n",
      " 'YES' 'NO' 'NO' 'YES' 'NO' 'YES' 'YES' 'NO' 'NO' 'YES' 'YES' 'YES' 'YES'\n",
      " 'NO' 'NO' 'YES' 'YES' 'YES' 'NO' 'NO' 'NO' 'NO' 'YES' 'NO' 'YES' 'NO'\n",
      " 'NO' 'YES' 'NO']\n"
     ]
    }
   ],
   "source": [
    "# Repeat thhe process with the naive Bayes (Gaussian) classifier.\n",
    "nbclf = naive_bayes.GaussianNB()\n",
    "nbclf = nbclf.fit(X_train, y_train)\n",
    "nbpreds_test = nbclf.predict(X_test)\n",
    "print(nbpreds_test)"
   ]
  },
  {
   "cell_type": "code",
   "execution_count": 52,
   "metadata": {},
   "outputs": [
    {
     "name": "stdout",
     "output_type": "stream",
     "text": [
      "Accuracy of train data is 0.65\n"
     ]
    }
   ],
   "source": [
    "# Compare teh accuracy on the train set\n",
    "acc_train = nbclf.score(X_train, y_train)\n",
    "print(\"Accuracy of train data is {:.2}\".format(acc_train))"
   ]
  },
  {
   "cell_type": "code",
   "execution_count": 53,
   "metadata": {},
   "outputs": [
    {
     "name": "stdout",
     "output_type": "stream",
     "text": [
      "Accuracy of test data is 0.61\n"
     ]
    }
   ],
   "source": [
    "acc_test = nbclf.score(X_test, y_test)\n",
    "print(\"Accuracy of test data is {:.2}\".format(acc_test))"
   ]
  },
  {
   "cell_type": "code",
   "execution_count": 55,
   "metadata": {},
   "outputs": [
    {
     "name": "stdout",
     "output_type": "stream",
     "text": [
      "[[62  4]\n",
      " [14 40]]\n"
     ]
    }
   ],
   "source": [
    "# Generate confusion matrix\n",
    "NBcm = confusion_matrix(y_test, nbpreds_test)\n",
    "print(treecm)"
   ]
  },
  {
   "cell_type": "code",
   "execution_count": 54,
   "metadata": {},
   "outputs": [
    {
     "name": "stdout",
     "output_type": "stream",
     "text": [
      "             precision    recall  f1-score   support\n",
      "\n",
      "         NO       0.63      0.70      0.66        66\n",
      "        YES       0.57      0.50      0.53        54\n",
      "\n",
      "avg / total       0.61      0.61      0.60       120\n",
      "\n"
     ]
    }
   ],
   "source": [
    "# Create classification report\n",
    "print(classification_report(y_test, nbpreds_test))"
   ]
  },
  {
   "cell_type": "code",
   "execution_count": 56,
   "metadata": {},
   "outputs": [
    {
     "data": {
      "image/png": "[encoded data removed]",
      "text/plain": [
       "<Figure size 288x288 with 1 Axes>"
      ]
     },
     "metadata": {},
     "output_type": "display_data"
    }
   ],
   "source": [
    "# Use matplotlib to visualize the confusion matrix\n",
    "plt.matshow(NBcm, cmap = plt.cm.Blues)\n",
    "plt.title(\"Naive Bayes Confusion Matrix\\n\")\n",
    "plt.xticks([0,1], ['No', 'Yes'])\n",
    "plt.yticks([0,1], ['No', 'Yes'])\n",
    "plt.ylabel('True label')\n",
    "plt.xlabel('Predicted label')\n",
    "for y in range(NBcm.shape[0]):\n",
    "    for x in range(NBcm.shape[1]):\n",
    "        plt.text(x, y, '{}'.format(NBcm[y,x]),\n",
    "                horizontalalignment = 'center',\n",
    "                verticalalignment = 'center',)\n",
    "plt.show()"
   ]
  },
  {
   "cell_type": "markdown",
   "metadata": {},
   "source": [
    "The accuracy we get using naive bayes, is 61% on testing data and 65% on training data, so testing and training accuracy are within acceptable ranges (less than 10% difference) and there is no bias-variance trade off or in other words underfitting or overfitting."
   ]
  },
  {
   "cell_type": "markdown",
   "metadata": {},
   "source": [
    "#### d. Discuss your observations based on the above experiments."
   ]
  },
  {
   "cell_type": "markdown",
   "metadata": {},
   "source": [
    "<b>Decision Tree works best on this given dataset in the task of classifying the records into whether they will buy PEP or not. The accuracy for decision tree with modified parameters comes out to be 85% on training data where as the peak accuracy achieved using k-Nearest Neighbour classifier is around 65% depending on the k selected and Naive Bayes classifies with 61% accuracy on testing data."
   ]
  },
  {
   "cell_type": "code",
   "execution_count": null,
   "metadata": {},
   "outputs": [],
   "source": []
  }
 ],
 "metadata": {
  "kernelspec": {
   "display_name": "Python 3",
   "language": "python",
   "name": "python3"
  },
  "language_info": {
   "codemirror_mode": {
    "name": "ipython",
    "version": 3
   },
   "file_extension": ".py",
   "mimetype": "text/x-python",
   "name": "python",
   "nbconvert_exporter": "python",
   "pygments_lexer": "ipython3",
   "version": "3.6.5"
  }
 },
 "nbformat": 4,
 "nbformat_minor": 2
}
