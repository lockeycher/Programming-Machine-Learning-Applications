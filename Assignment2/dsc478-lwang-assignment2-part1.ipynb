{
 "cells": [
  {
   "cell_type": "markdown",
   "metadata": {},
   "source": [
    "#  DSC478 - Programming Machine Learning Applications\n",
    "## Assignment 2 - Lavinia Wang"
   ]
  },
  {
   "cell_type": "markdown",
   "metadata": {},
   "source": [
    "### Question 1.K-Nearest-Neighbor (KNN) classification on Newsgroups"
   ]
  },
  {
   "cell_type": "markdown",
   "metadata": {},
   "source": [
    "Dataset: <a href='http://facweb.cs.depaul.edu/mobasher/classes/CSC478/Data/newsgroups.zip'>newsgroups.zip</a> Dataset description <a href='http://qwone.com/~jason/20Newsgroups/'>here</a>"
   ]
  },
  {
   "cell_type": "markdown",
   "metadata": {},
   "source": [
    "For this problem you will use a subset of the 20 Newsgroup data set (1000 docs and a vocabulary of terms). Each document belongs to one of two classes: Hockey (label 1) and Microsoft Windows (label 0).\n",
    "Data has already been split into training and testing sets (80% / 20%), and preprocessed to handle stopwords and perform stemming.\n",
    "Class labels are provided in separate files. There is a row for each term in the vocabulary and a column for each document, values are raw term frequencies.\n",
    "For these questions, <b>scikit-learn won't be used</b>"
   ]
  },
  {
   "cell_type": "code",
   "execution_count": 1,
   "metadata": {},
   "outputs": [],
   "source": [
    "# Import Modules\n",
    "import numpy as np\n",
    "import pandas as pd\n",
    "from os import chdir\n",
    "import matplotlib.pyplot as plt\n",
    "%matplotlib inline"
   ]
  },
  {
   "cell_type": "code",
   "execution_count": 2,
   "metadata": {},
   "outputs": [],
   "source": [
    "# Change working directory\n",
    "chdir('/resources/CSC478/Assignment2')"
   ]
  },
  {
   "cell_type": "code",
   "execution_count": 3,
   "metadata": {},
   "outputs": [],
   "source": [
    "# Load text file\n",
    "train = pd.read_table('trainMatrixModified.txt', header = None)\n",
    "train_label = np.loadtxt('trainClasses.txt', usecols = 1, dtype = int)\n",
    "test = pd.read_table('testMatrixModified.txt', header = None)\n",
    "test_label = np.loadtxt('testClasses.txt', usecols = 1, dtype = int)"
   ]
  },
  {
   "cell_type": "code",
   "execution_count": 4,
   "metadata": {},
   "outputs": [
    {
     "name": "stdout",
     "output_type": "stream",
     "text": [
      "(5500, 800)\n",
      "(800,)\n",
      "(5500, 200)\n",
      "(200,)\n"
     ]
    }
   ],
   "source": [
    "# Check shape\n",
    "print(train.shape)\n",
    "print(train_label.shape)\n",
    "print(test.shape)\n",
    "print(test_label.shape)"
   ]
  },
  {
   "cell_type": "code",
   "execution_count": 5,
   "metadata": {},
   "outputs": [
    {
     "name": "stdout",
     "output_type": "stream",
     "text": [
      "(800, 5500)\n",
      "(200, 5500)\n"
     ]
    }
   ],
   "source": [
    "# Transpose\n",
    "train_table = train.T\n",
    "print(train_table.shape)\n",
    "test_table = test.T\n",
    "print(test_table.shape)"
   ]
  },
  {
   "cell_type": "code",
   "execution_count": 6,
   "metadata": {},
   "outputs": [
    {
     "name": "stdout",
     "output_type": "stream",
     "text": [
      "Number of terms: 5500 and number of documents: 800\n"
     ]
    }
   ],
   "source": [
    "# Number of terms and docs\n",
    "numTerms = train_table.shape[1]\n",
    "NDocs = train_table.shape[0]\n",
    "print(\"Number of terms: {} and number of documents: {}\".format(numTerms, NDocs))"
   ]
  },
  {
   "cell_type": "code",
   "execution_count": 7,
   "metadata": {},
   "outputs": [
    {
     "name": "stdout",
     "output_type": "stream",
     "text": [
      "0    196.0\n",
      "1     79.0\n",
      "2     51.0\n",
      "3     39.0\n",
      "4     33.0\n",
      "5    245.0\n",
      "6    119.0\n",
      "7     55.0\n",
      "8     62.0\n",
      "9    219.0\n",
      "dtype: float64\n"
     ]
    }
   ],
   "source": [
    "# Sum term count across documents\n",
    "termFreqs = train_table.sum(axis = 1)\n",
    "print (termFreqs[:10])"
   ]
  },
  {
   "cell_type": "code",
   "execution_count": 8,
   "metadata": {},
   "outputs": [
    {
     "data": {
      "text/plain": [
       "array(['david', 'rex', 'wood', 'subject', 'call', 'librari', 'creat',\n",
       "       'widget', 'multipl', 'time'], dtype='<U79')"
      ]
     },
     "execution_count": 8,
     "metadata": {},
     "output_type": "execute_result"
    }
   ],
   "source": [
    "# Bring in the vocabulary of terms\n",
    "terms = np.loadtxt(\"modifiedterms.txt\", dtype = str)\n",
    "terms[0:10]"
   ]
  },
  {
   "cell_type": "code",
   "execution_count": 9,
   "metadata": {},
   "outputs": [],
   "source": [
    "# Create term-freqency dictionary\n",
    "dictTF = {}\n",
    "for i in range(len(termFreqs)):\n",
    "    dictTF[terms[i]] = termFreqs[i]\n",
    "#print (sorted(dictTF.items()))\n",
    "sortedTF = sorted(dictTF.values(), reverse=True)"
   ]
  },
  {
   "cell_type": "code",
   "execution_count": 10,
   "metadata": {},
   "outputs": [
    {
     "data": {
      "image/png": "[encoded data removed]",
      "text/plain": [
       "<Figure size 432x288 with 1 Axes>"
      ]
     },
     "metadata": {},
     "output_type": "display_data"
    }
   ],
   "source": [
    "# Plot term frequencies\n",
    "plt.plot(sortedTF)\n",
    "plt.show()"
   ]
  },
  {
   "cell_type": "code",
   "execution_count": 11,
   "metadata": {},
   "outputs": [
    {
     "name": "stdout",
     "output_type": "stream",
     "text": [
      "(800, 5500)\n",
      "(200, 5500)\n"
     ]
    }
   ],
   "source": [
    "# Convert frame to array\n",
    "trainDF = np.array(train_table)\n",
    "testDF = np.array(test_table)\n",
    "print(trainDF.shape)\n",
    "print(testDF.shape)"
   ]
  },
  {
   "cell_type": "markdown",
   "metadata": {},
   "source": [
    "#### a. Create your own KNN classifier function. Your classifier should allow as input the training data matrix, the training labels, the instance to be classified, the value of K, and should return the predicted class for the instance and the top K neighbors. Your classifier should work with Euclidean distance as well as Cosine Similarity. You may create two separate classifiers, or add this capability as a parameter for the classifier function."
   ]
  },
  {
   "cell_type": "code",
   "execution_count": 12,
   "metadata": {},
   "outputs": [],
   "source": [
    "# Calculates distances between observations via euclidean metric.\n",
    "def euclidean_distance(x, D):\n",
    "    return np.sqrt(((D - x)**2).sum(axis=1))\n",
    "\n",
    "# Calculates distances between observations via cosine similarity.\n",
    "def cosine_similarity(x, D):\n",
    "    D = np.array(D)  # make sure the data frame is consistent   \n",
    "    D_norm = np.array([np.linalg.norm(D[i]) for i in range(len(D))])\n",
    "    x_norm = np.linalg.norm(x)\n",
    "    sims = np.dot(D,x)/(D_norm * x_norm)   \n",
    "    return 1 - sims\n",
    "\n",
    "# Define a function for kNN search\n",
    "def knn_classify(x, D, L, K, measure):\n",
    "    \"\"\" find K nearest neighbours of data point x among D \"\"\"\n",
    "    if measure == 0:\n",
    "        # euclidean distances from the other points\n",
    "        dists = euclidean_distance(x, D)\n",
    "    elif measure == 1:\n",
    "        dists = cosine_similarity(x, D)\n",
    "    idx = np.argsort(dists) # sorting\n",
    "    # return the indexes of K nearest neighbors\n",
    "    neigh_labels = L[idx[:K]]\n",
    "    class0 = 0\n",
    "    class1 = 0\n",
    "    for index in neigh_labels:\n",
    "        if L[index] == 0:\n",
    "            class0 = class0 + 1\n",
    "        else:\n",
    "            class1 = class1 + 1\n",
    "        if class0 > class1:\n",
    "            predicted_class = 0\n",
    "        else:\n",
    "            predicted_class = 1\n",
    "    #print(\"The \" + str(K) + \" Nearest Neighbours are:\" + str(idx[:K]))\n",
    "    #print(\"The predicted class is: \" + str(predicted_class))\n",
    "    return idx[:K], predicted_class"
   ]
  },
  {
   "cell_type": "code",
   "execution_count": 13,
   "metadata": {},
   "outputs": [
    {
     "name": "stdout",
     "output_type": "stream",
     "text": [
      "The Nearest Neighbours are:[685 628 667]\n",
      "The predicted class is: 1\n"
     ]
    }
   ],
   "source": [
    "neigh_idx, predicted_class = knn_classify(testDF[0], trainDF, train_label, 3, 1)\n",
    "print(\"The Nearest Neighbours are:\" + str(neigh_idx))\n",
    "print(\"The predicted class is: \" + str(predicted_class))"
   ]
  },
  {
   "cell_type": "markdown",
   "metadata": {},
   "source": [
    "#### b. Create a function to compute the classification accuracy over the test data set (ratio of correct predictions to the number of test instances). This function will call the classifier function in part a on all the test instances and in each case compares the actual test class label to the predicted class label."
   ]
  },
  {
   "cell_type": "code",
   "execution_count": 14,
   "metadata": {},
   "outputs": [],
   "source": [
    "def accuracy(x, D, train_L, test_L, K, measure):\n",
    "    count = 0\n",
    "    correct = 0\n",
    "    for i in range(x.shape[0]):\n",
    "        neigh_idx, predicted_class = knn_classify(x[i,:], D, train_L, K, measure)\n",
    "        #If the two classes match, add 1 to the correct count\n",
    "        if (predicted_class == test_L[i]):\n",
    "            correct += 1\n",
    "        count += 1\n",
    "    acc = (correct/count)*100\n",
    "    #print(\"Accuracy is: \" + str(accuracy) + \"%\")\n",
    "    return acc"
   ]
  },
  {
   "cell_type": "code",
   "execution_count": 15,
   "metadata": {},
   "outputs": [
    {
     "name": "stdout",
     "output_type": "stream",
     "text": [
      "Accuracy is: 81.0%\n"
     ]
    }
   ],
   "source": [
    "testAcc = accuracy(testDF, trainDF, train_label, test_label, 3, 0)\n",
    "print(\"Accuracy is: \" + str(testAcc) + \"%\")"
   ]
  },
  {
   "cell_type": "markdown",
   "metadata": {},
   "source": [
    "#### c. Run your accuracy function on a range of values for K in order to compare accuracy values for different numbers of neighbors. Do this both using Euclidean Distance as well as Cosine similarity measure. [For example, you can try evaluating your classifiers on a range of values of K from 1 through 20 and present the results as a table or a graph]."
   ]
  },
  {
   "cell_type": "code",
   "execution_count": 16,
   "metadata": {},
   "outputs": [
    {
     "name": "stdout",
     "output_type": "stream",
     "text": [
      "Results:\n",
      " K  Euclid  Cosine\n",
      " 1   78.00    98.50\n",
      " 2   67.50    98.00\n",
      " 3   81.00    97.00\n",
      " 4   77.00    98.00\n",
      " 5   81.50    97.00\n",
      " 6   83.50    97.50\n",
      " 7   76.50    98.00\n",
      " 8   80.00    97.50\n",
      " 9   75.00    97.50\n",
      "10   86.00    98.50\n",
      "11   79.50    98.00\n",
      "12   85.00    98.00\n",
      "13   77.50    98.00\n",
      "14   82.00    98.50\n",
      "15   78.50    98.50\n",
      "16   80.00    98.50\n",
      "17   76.00    97.50\n",
      "18   78.50    97.50\n",
      "19   74.00    97.50\n",
      "20   76.50    97.50\n"
     ]
    }
   ],
   "source": [
    "result = np.zeros((20,3), dtype = float)\n",
    "for i in range(0, 20):\n",
    "    accEuc = accuracy(testDF, trainDF, train_label, test_label, i+1, 0)\n",
    "    accCos = accuracy(testDF, trainDF, train_label, test_label, i+1, 1)\n",
    "    result[i] = [i+1, accEuc, accCos]\n",
    "print(\"Results:\")\n",
    "print(\" K  Euclid  Cosine\")\n",
    "for row in result:\n",
    "    print(\"%2.0f   %.2f    %.2f\" % (row[0], row[1], row[2]) )    "
   ]
  },
  {
   "cell_type": "code",
   "execution_count": 17,
   "metadata": {},
   "outputs": [],
   "source": [
    "numK = [result[i][0] for i in range (len(result))]\n",
    "Euc = [result[i][1] for i in range (len(result))]\n",
    "Cos = [result[i][2] for i in range (len(result))]"
   ]
  },
  {
   "cell_type": "code",
   "execution_count": 18,
   "metadata": {},
   "outputs": [
    {
     "data": {
      "image/png": "[encoded data removed]",
      "text/plain": [
       "<Figure size 432x288 with 1 Axes>"
      ]
     },
     "metadata": {},
     "output_type": "display_data"
    }
   ],
   "source": [
    "plt.plot(numK, Euc, label = \"Euclidean\")\n",
    "plt.plot(numK, Cos, label = \"Cosine\")\n",
    "plt.xlabel(\"Number of Neighbours\")\n",
    "plt.ylabel(\"Accuracy\")\n",
    "plt.title(\"Accuracy Comparison For k-Nearest Neighbours\")\n",
    "plt.legend(loc=\"best\")\n",
    "plt.show()"
   ]
  },
  {
   "cell_type": "markdown",
   "metadata": {},
   "source": [
    "#### d. Using Python, modify the training and test data sets so that term weights are converted to TFxIDF weights (instead of raw term frequencies). Then, rerun your evaluation on the range of K values (as above) and compare the results to the results without using TFxIDF weights."
   ]
  },
  {
   "cell_type": "code",
   "execution_count": 19,
   "metadata": {},
   "outputs": [],
   "source": [
    "# Re-read in the training data file and labels\n",
    "train1 = np.loadtxt(\"trainMatrixModified.txt\")\n",
    "train1Df = train1.T\n",
    "labels = np.genfromtxt(\"trainClasses.txt\", delimiter='\\t', usecols = (1), dtype = int)\n",
    "test1 = np.loadtxt(\"testMatrixModified.txt\")\n",
    "test1Df = test1.T\n",
    "test_labels = np.genfromtxt(\"testClasses.txt\", delimiter='\\t', usecols = (1), dtype = int)"
   ]
  },
  {
   "cell_type": "code",
   "execution_count": 20,
   "metadata": {},
   "outputs": [
    {
     "name": "stdout",
     "output_type": "stream",
     "text": [
      "[[1000. 1000. 1000. ... 1000. 1000. 1000.]\n",
      " [1000. 1000. 1000. ... 1000. 1000. 1000.]\n",
      " [1000. 1000. 1000. ... 1000. 1000. 1000.]\n",
      " ...\n",
      " [1000. 1000. 1000. ... 1000. 1000. 1000.]\n",
      " [1000. 1000. 1000. ... 1000. 1000. 1000.]\n",
      " [1000. 1000. 1000. ... 1000. 1000. 1000.]]\n"
     ]
    }
   ],
   "source": [
    "# Concatenate the df\n",
    "concatData = np.concatenate((train1, test1), axis=1)\n",
    "\n",
    "# Find document frequencies \n",
    "DF = np.array([(concatData !=0).sum(1)]).T\n",
    "NDocs = len(concatData [0,:])\n",
    "\n",
    "# Create a matrix with all entries =NDocs\n",
    "NMatrix = np.ones(np.shape(concatData ), dtype=float)*NDocs\n",
    "print(NMatrix)"
   ]
  },
  {
   "cell_type": "code",
   "execution_count": 21,
   "metadata": {},
   "outputs": [],
   "source": [
    "# Convert each entry into IDF values\n",
    "IDF = np.log2(np.divide(NMatrix, DF))\n",
    "\n",
    "# Compute the TF x iDF values for each document term\n",
    "TD_tfidf = concatData  * IDF\n",
    "\n",
    "# Transpose the data\n",
    "DT_tfidf = TD_tfidf.T\n",
    "trainNum = 0.8 * len(DT_tfidf)\n",
    "trainDT_tfidf = DT_tfidf[:int(trainNum),:]\n",
    "testDT_tfidf = DT_tfidf[int(trainNum):,:]"
   ]
  },
  {
   "cell_type": "code",
   "execution_count": 22,
   "metadata": {},
   "outputs": [
    {
     "name": "stdout",
     "output_type": "stream",
     "text": [
      "Results:\n",
      " K  Euclid  Cosine\n",
      " 1   72.00    95.00\n",
      " 2   60.50    94.50\n",
      " 3   74.00    97.50\n",
      " 4   62.00    96.00\n",
      " 5   80.50    97.00\n",
      " 6   83.50    97.00\n",
      " 7   73.00    98.50\n",
      " 8   74.00    98.50\n",
      " 9   69.00    99.00\n",
      "10   74.50    97.50\n",
      "11   68.00    99.00\n",
      "12   71.00    99.00\n",
      "13   65.00    99.00\n",
      "14   68.00    99.00\n",
      "15   60.50    99.00\n",
      "16   64.00    99.00\n",
      "17   59.00    99.50\n",
      "18   67.50    99.50\n",
      "19   63.00    99.50\n",
      "20   66.50    99.50\n"
     ]
    }
   ],
   "source": [
    "# Repeat the results printing like before\n",
    "result2 = np.zeros((20,3), dtype = float)\n",
    "for i in range(0, 20):\n",
    "    accEuc = accuracy(testDT_tfidf, trainDT_tfidf, labels, test_labels, i+1, 0)\n",
    "    accCos = accuracy(testDT_tfidf, trainDT_tfidf, labels, test_labels, i+1, 1)\n",
    "    result2[i] = [i+1, accEuc, accCos]\n",
    "print(\"Results:\")\n",
    "print(\" K  Euclid  Cosine\")\n",
    "for row in result2:\n",
    "    print(\"%2.0f   %.2f    %.2f\" % (row[0], row[1], row[2]) )    "
   ]
  },
  {
   "cell_type": "code",
   "execution_count": 23,
   "metadata": {},
   "outputs": [
    {
     "data": {
      "image/png": "[encoded data removed]",
      "text/plain": [
       "<Figure size 432x288 with 1 Axes>"
      ]
     },
     "metadata": {},
     "output_type": "display_data"
    }
   ],
   "source": [
    "numK2 = [result2[i][0] for i in range (len(result2))]\n",
    "Euc2 = [result2[i][1] for i in range (len(result2))]\n",
    "Cos2 = [result2[i][2] for i in range (len(result2))]\n",
    "plt.plot(numK2, Euc2, label = \"Euclidean\")\n",
    "plt.plot(numK2, Cos2, label = \"Cosine\")\n",
    "plt.xlabel(\"Number of Neighbours\")\n",
    "plt.ylabel(\"Accuracy\")\n",
    "plt.title(\"Accuracy Comparison For k-Nearest Neighbours using TFxIDF weights\")\n",
    "plt.legend(loc=\"best\")\n",
    "plt.show()"
   ]
  },
  {
   "cell_type": "markdown",
   "metadata": {},
   "source": [
    "<b>KNN classifier using cosine similarity gives a better accuracy compared to Euclidean distance. The result from original dataset gives a better accuracy compared to TFxIDF. The result from TFxIDF shows a linear relationship between number of K and accuracy. "
   ]
  },
  {
   "cell_type": "code",
   "execution_count": null,
   "metadata": {},
   "outputs": [],
   "source": []
  }
 ],
 "metadata": {
  "kernelspec": {
   "display_name": "Python 3",
   "language": "python",
   "name": "python3"
  },
  "language_info": {
   "codemirror_mode": {
    "name": "ipython",
    "version": 3
   },
   "file_extension": ".py",
   "mimetype": "text/x-python",
   "name": "python",
   "nbconvert_exporter": "python",
   "pygments_lexer": "ipython3",
   "version": "3.6.5"
  }
 },
 "nbformat": 4,
 "nbformat_minor": 2
}
