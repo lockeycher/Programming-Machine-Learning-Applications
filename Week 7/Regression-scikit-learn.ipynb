








<!DOCTYPE html>
<html lang="en">

<head>
  <meta charset="utf-8">
  <title>Jupyter Notebook Viewer</title>
  <meta name="viewport" content="width=device-width, initial-scale=1.0">
  <meta name="description" content="">
  <meta name="author" content="">
  
  <meta name="robots" content="noindex,nofollow">
  

  <!--NEW RELIC Start Perf Measurement-->
  
  <!--NREND-->

  <!-- Le styles -->
  <link href="/static/build/styles.css?v=f2b0b1b8f36a035146061040aa080202" rel="stylesheet">

  <!-- Le HTML5 shim, for IE6-8 support of HTML5 elements -->
  <!--[if lt IE 9]>
    <script src="http://html5shim.googlecode.com/svn/trunk/html5.js"></script>
  <![endif]-->

  <!-- Le fav and touch icons -->
  <link rel="shortcut icon" href="/static/ico/ipynb_icon_16x16.png">
  <link rel="apple-touch-icon-precomposed" sizes="144x144"
        href="/static/ico/apple-touch-icon-144-precomposed.png?v=5a3c9ede93e2a8b8ea9e3f8f3da1a905">
  <link rel="apple-touch-icon-precomposed" sizes="114x114"
        href="/static/ico/apple-touch-icon-114-precomposed.png?v=45d86fc8f24dc00638035e1dd7a6d898">
  <link rel="apple-touch-icon-precomposed" sizes="72x72"
        href="/static/ico/apple-touch-icon-72-precomposed.png?v=540b5eb0f3cfd25f1439d1c9bd30e15f">
  <link rel="apple-touch-icon-precomposed"
        href="/static/ico/apple-touch-icon-57-precomposed.png?v=225f0590e187e1458625654f10a28f56">
  
  

  

  
  <meta name="twitter:card" content="summary">
  <meta name="twitter:title" content="Notebook on nbviewer">
  <meta name="twitter:description" content="Check out this Jupyter notebook!">

  
  <meta name="twitter:domain" content="nbviewer.jupyter.org">
  <meta name="twitter:image:src" content="http://ipython.org/ipython-doc/dev/_images/ipynb_icon_128x128.png">

  
    <link href="/static/build/notebook.css?v=81e0139371f853f9af20339dc0bcfaa6" rel="stylesheet">
  

  

  
    <script src="https://cdnjs.cloudflare.com/ajax/libs/mathjax/2.7.1/MathJax.js?config=TeX-AMS_HTML" type="text/javascript">
    </script>
    <script type="text/javascript">
      init_mathjax = function() {
        if (window.MathJax) {
          // MathJax loaded
          MathJax.Hub.Config({
            TeX: {
              equationNumbers: {
                autoNumber: "AMS",
                useLabelIds: true
              }
            },
            tex2jax: {
              inlineMath: [ ['$','$'], ["\\(","\\)"] ],
              displayMath: [ ['$$','$$'], ["\\[","\\]"] ],
              processEscapes: true,
              processEnvironments: true
            },
            displayAlign: 'center',
            "HTML-CSS": {
              styles: {'.MathJax_Display': {"margin": 0}},
              linebreaks: { automatic: true }
            }
          });
          MathJax.Hub.Queue(["Typeset", MathJax.Hub]);
        }
      }
      init_mathjax();
    </script>
  

  
    <script>
      (function() {
        function addWidgetsRenderer() {
          var mimeElement = document.querySelector('script[type="application/vnd.jupyter.widget-view+json"]');
          var scriptElement = document.createElement('script');
          var widgetRendererSrc = 'https://unpkg.com/@jupyter-widgets/html-manager@*/dist/embed-amd.js';
          var widgetState;

          try {
            widgetState = mimeElement && JSON.parse(mimeElement.innerHTML);

            if (widgetState && (widgetState.version_major < 2 || !widgetState.version_major)) {
              widgetRendererSrc = 'https://unpkg.com/jupyter-js-widgets@*/dist/embed.js';
            }
          } catch(e) {}

          scriptElement.src = widgetRendererSrc;
          document.body.appendChild(scriptElement);
        }

        document.addEventListener('DOMContentLoaded', addWidgetsRenderer);
      }());
    </script>
  

</head>

<body class="nbviewer">

  <!-- These are loaded at the top of the body so they are available to
       notebook cells when they are loaded below. -->
  <script src="/static/components/jquery/dist/jquery.min.js?v=a09e13ee94d51c524b7e2a728c7d4039"></script>
  <script src="/static/components/requirejs/require.js?v=6da8be361b9ee26c5e721e76c6d4afce"></script>
  <script src="/static/components/moment/min/moment.min.js?v=89f87298ad94aa1e6b92f42eb66da043"></script>
<!-- Navbar
================================================== -->
  <nav id="menubar" class="navbar navbar-default navbar-fixed-top" data-spy="affix">
    <div class="container">
      <div class="navbar-header">
        <button type="button" class="navbar-toggle collapsed" data-toggle="collapse" data-target=".navbar-collapse">
          <span class="sr-only">Toggle navigation</span>
          <i class="fa fa-bars"></i>
        </button>
        <a class="navbar-brand" href="/">
          <img src="/static/img/nav_logo.svg?v=479cefe8d932fb14a67b93911b97d70f" width="159"/>
        </a>
      </div>

      <div class="collapse navbar-collapse">
        <ul class="nav navbar-nav navbar-right">
          <li>
            <a class="active" href="http://jupyter.org">JUPYTER</a>
          </li>
          <li>
    <a href="/faq" title="FAQ" >
      
        <span>FAQ</span>
      
    </a>
  </li>

          
  
    
  
    
      
        <li>
    <a href="/format/script/url/bmobasher.com/Class/CSC478/Regression-scikit-learn.ipynb" title="View as Code" >
      <span class="fa fa-code fa-2x menu-icon"></span>
      <span class="menu-text">View as Code</span>
    </a>
  </li>
      
    
  

  
    <li>
    <a href="#" title="Python 2 Kernel" >
      <span class="fa fa-server fa-2x menu-icon"></span>
      <span class="menu-text">Python 2 Kernel</span>
    </a>
  </li>
  

  

  

  <li>
    <a href="http://bmobasher.com/Class/CSC478/Regression-scikit-learn.ipynb" title="Download Notebook" download>
      <span class="fa fa-download fa-2x menu-icon"></span>
      <span class="menu-text">Download Notebook</span>
    </a>
  </li>

        </ul>
      </div><!-- /.navbar-collapse -->
      
      
    </div>
  </nav>

  <div class="container container-main">
    
  
  <div id="notebook">
    <div id="notebook-container">
      
<div class="cell border-box-sizing text_cell rendered"><div class="prompt input_prompt">
</div>
<div class="inner_cell">
<div class="text_cell_render border-box-sizing rendered_html">
<h4 id="Example-of-Regression-Analysis-Using-the-Boston-Housing-Data-Set.">Example of Regression Analysis Using the Boston Housing Data Set.<a class="anchor-link" href="#Example-of-Regression-Analysis-Using-the-Boston-Housing-Data-Set.">&#182;</a></h4>
</div>
</div>
</div>
<div class="cell border-box-sizing code_cell rendered">
<div class="input">
<div class="prompt input_prompt">In&nbsp;[1]:</div>
<div class="inner_cell">
    <div class="input_area">
<div class=" highlight hl-ipython2"><pre><span></span><span class="kn">from</span> <span class="nn">sklearn.cross_validation</span> <span class="kn">import</span> <span class="n">KFold</span>
<span class="kn">from</span> <span class="nn">sklearn.linear_model</span> <span class="kn">import</span> <span class="n">LinearRegression</span><span class="p">,</span> <span class="n">Lasso</span><span class="p">,</span> <span class="n">Ridge</span><span class="p">,</span> <span class="n">ElasticNet</span><span class="p">,</span> <span class="n">SGDRegressor</span>
<span class="kn">import</span> <span class="nn">numpy</span> <span class="kn">as</span> <span class="nn">np</span>
<span class="kn">import</span> <span class="nn">pylab</span> <span class="kn">as</span> <span class="nn">pl</span>
</pre></div>

</div>
</div>
</div>

</div>
<div class="cell border-box-sizing code_cell rendered">
<div class="input">
<div class="prompt input_prompt">In&nbsp;[2]:</div>
<div class="inner_cell">
    <div class="input_area">
<div class=" highlight hl-ipython2"><pre><span></span><span class="kn">from</span> <span class="nn">sklearn.datasets</span> <span class="kn">import</span> <span class="n">load_boston</span>
<span class="n">boston</span> <span class="o">=</span> <span class="n">load_boston</span><span class="p">()</span>
</pre></div>

</div>
</div>
</div>

</div>
<div class="cell border-box-sizing code_cell rendered">
<div class="input">
<div class="prompt input_prompt">In&nbsp;[3]:</div>
<div class="inner_cell">
    <div class="input_area">
<div class=" highlight hl-ipython2"><pre><span></span><span class="k">print</span> <span class="n">boston</span><span class="o">.</span><span class="n">DESCR</span>
</pre></div>

</div>
</div>
</div>

<div class="output_wrapper">
<div class="output">


<div class="output_area">

<div class="prompt"></div>


<div class="output_subarea output_stream output_stdout output_text">
<pre>Boston House Prices dataset

Notes
------
Data Set Characteristics:  

    :Number of Instances: 506 

    :Number of Attributes: 13 numeric/categorical predictive
    
    :Median Value (attribute 14) is usually the target

    :Attribute Information (in order):
        - CRIM     per capita crime rate by town
        - ZN       proportion of residential land zoned for lots over 25,000 sq.ft.
        - INDUS    proportion of non-retail business acres per town
        - CHAS     Charles River dummy variable (= 1 if tract bounds river; 0 otherwise)
        - NOX      nitric oxides concentration (parts per 10 million)
        - RM       average number of rooms per dwelling
        - AGE      proportion of owner-occupied units built prior to 1940
        - DIS      weighted distances to five Boston employment centres
        - RAD      index of accessibility to radial highways
        - TAX      full-value property-tax rate per $10,000
        - PTRATIO  pupil-teacher ratio by town
        - B        1000(Bk - 0.63)^2 where Bk is the proportion of blacks by town
        - LSTAT    % lower status of the population
        - MEDV     Median value of owner-occupied homes in $1000&#39;s

    :Missing Attribute Values: None

    :Creator: Harrison, D. and Rubinfeld, D.L.

This is a copy of UCI ML housing dataset.
http://archive.ics.uci.edu/ml/datasets/Housing


This dataset was taken from the StatLib library which is maintained at Carnegie Mellon University.

The Boston house-price data of Harrison, D. and Rubinfeld, D.L. &#39;Hedonic
prices and the demand for clean air&#39;, J. Environ. Economics &amp; Management,
vol.5, 81-102, 1978.   Used in Belsley, Kuh &amp; Welsch, &#39;Regression diagnostics
...&#39;, Wiley, 1980.   N.B. Various transformations are used in the table on
pages 244-261 of the latter.

The Boston house-price data has been used in many machine learning papers that address regression
problems.   
     
**References**

   - Belsley, Kuh &amp; Welsch, &#39;Regression diagnostics: Identifying Influential Data and Sources of Collinearity&#39;, Wiley, 1980. 244-261.
   - Quinlan,R. (1993). Combining Instance-Based and Model-Based Learning. In Proceedings on the Tenth International Conference of Machine Learning, 236-243, University of Massachusetts, Amherst. Morgan Kaufmann.
   - many more! (see http://archive.ics.uci.edu/ml/datasets/Housing)

</pre>
</div>
</div>

</div>
</div>

</div>
<div class="cell border-box-sizing code_cell rendered">
<div class="input">
<div class="prompt input_prompt">In&nbsp;[4]:</div>
<div class="inner_cell">
    <div class="input_area">
<div class=" highlight hl-ipython2"><pre><span></span><span class="k">print</span> <span class="n">boston</span><span class="o">.</span><span class="n">feature_names</span>
</pre></div>

</div>
</div>
</div>

<div class="output_wrapper">
<div class="output">


<div class="output_area">

<div class="prompt"></div>


<div class="output_subarea output_stream output_stdout output_text">
<pre>[&#39;CRIM&#39; &#39;ZN&#39; &#39;INDUS&#39; &#39;CHAS&#39; &#39;NOX&#39; &#39;RM&#39; &#39;AGE&#39; &#39;DIS&#39; &#39;RAD&#39; &#39;TAX&#39; &#39;PTRATIO&#39;
 &#39;B&#39; &#39;LSTAT&#39;]
</pre>
</div>
</div>

</div>
</div>

</div>
<div class="cell border-box-sizing code_cell rendered">
<div class="input">
<div class="prompt input_prompt">In&nbsp;[5]:</div>
<div class="inner_cell">
    <div class="input_area">
<div class=" highlight hl-ipython2"><pre><span></span><span class="k">print</span> <span class="n">boston</span><span class="o">.</span><span class="n">data</span><span class="o">.</span><span class="n">shape</span>
<span class="k">print</span> <span class="n">boston</span><span class="o">.</span><span class="n">target</span><span class="o">.</span><span class="n">shape</span>
</pre></div>

</div>
</div>
</div>

<div class="output_wrapper">
<div class="output">


<div class="output_area">

<div class="prompt"></div>


<div class="output_subarea output_stream output_stdout output_text">
<pre>(506L, 13L)
(506L,)
</pre>
</div>
</div>

</div>
</div>

</div>
<div class="cell border-box-sizing code_cell rendered">
<div class="input">
<div class="prompt input_prompt">In&nbsp;[6]:</div>
<div class="inner_cell">
    <div class="input_area">
<div class=" highlight hl-ipython2"><pre><span></span><span class="n">np</span><span class="o">.</span><span class="n">set_printoptions</span><span class="p">(</span><span class="n">precision</span><span class="o">=</span><span class="mi">2</span><span class="p">,</span> <span class="n">linewidth</span><span class="o">=</span><span class="mi">120</span><span class="p">,</span> <span class="n">suppress</span><span class="o">=</span><span class="bp">True</span><span class="p">,</span> <span class="n">edgeitems</span><span class="o">=</span><span class="mi">7</span><span class="p">)</span>
</pre></div>

</div>
</div>
</div>

</div>
<div class="cell border-box-sizing code_cell rendered">
<div class="input">
<div class="prompt input_prompt">In&nbsp;[7]:</div>
<div class="inner_cell">
    <div class="input_area">
<div class=" highlight hl-ipython2"><pre><span></span><span class="k">print</span> <span class="n">boston</span><span class="o">.</span><span class="n">data</span>
</pre></div>

</div>
</div>
</div>

<div class="output_wrapper">
<div class="output">


<div class="output_area">

<div class="prompt"></div>


<div class="output_subarea output_stream output_stdout output_text">
<pre>[[   0.01   18.      2.31    0.      0.54    6.58   65.2     4.09    1.    296.     15.3   396.9     4.98]
 [   0.03    0.      7.07    0.      0.47    6.42   78.9     4.97    2.    242.     17.8   396.9     9.14]
 [   0.03    0.      7.07    0.      0.47    7.18   61.1     4.97    2.    242.     17.8   392.83    4.03]
 [   0.03    0.      2.18    0.      0.46    7.     45.8     6.06    3.    222.     18.7   394.63    2.94]
 [   0.07    0.      2.18    0.      0.46    7.15   54.2     6.06    3.    222.     18.7   396.9     5.33]
 [   0.03    0.      2.18    0.      0.46    6.43   58.7     6.06    3.    222.     18.7   394.12    5.21]
 [   0.09   12.5     7.87    0.      0.52    6.01   66.6     5.56    5.    311.     15.2   395.6    12.43]
 ..., 
 [   0.18    0.      9.69    0.      0.58    5.57   73.5     2.4     6.    391.     19.2   395.77   15.1 ]
 [   0.22    0.      9.69    0.      0.58    6.03   79.7     2.5     6.    391.     19.2   396.9    14.33]
 [   0.06    0.     11.93    0.      0.57    6.59   69.1     2.48    1.    273.     21.    391.99    9.67]
 [   0.05    0.     11.93    0.      0.57    6.12   76.7     2.29    1.    273.     21.    396.9     9.08]
 [   0.06    0.     11.93    0.      0.57    6.98   91.      2.17    1.    273.     21.    396.9     5.64]
 [   0.11    0.     11.93    0.      0.57    6.79   89.3     2.39    1.    273.     21.    393.45    6.48]
 [   0.05    0.     11.93    0.      0.57    6.03   80.8     2.5     1.    273.     21.    396.9     7.88]]
</pre>
</div>
</div>

</div>
</div>

</div>
<div class="cell border-box-sizing code_cell rendered">
<div class="input">
<div class="prompt input_prompt">In&nbsp;[8]:</div>
<div class="inner_cell">
    <div class="input_area">
<div class=" highlight hl-ipython2"><pre><span></span><span class="c1"># In order to do multiple regression we need to add a column of 1s for x0</span>
<span class="n">x</span> <span class="o">=</span> <span class="n">np</span><span class="o">.</span><span class="n">array</span><span class="p">([</span><span class="n">np</span><span class="o">.</span><span class="n">concatenate</span><span class="p">((</span><span class="n">v</span><span class="p">,[</span><span class="mi">1</span><span class="p">]))</span> <span class="k">for</span> <span class="n">v</span> <span class="ow">in</span> <span class="n">boston</span><span class="o">.</span><span class="n">data</span><span class="p">])</span>
<span class="n">y</span> <span class="o">=</span> <span class="n">boston</span><span class="o">.</span><span class="n">target</span>
</pre></div>

</div>
</div>
</div>

</div>
<div class="cell border-box-sizing code_cell rendered">
<div class="input">
<div class="prompt input_prompt">In&nbsp;[9]:</div>
<div class="inner_cell">
    <div class="input_area">
<div class=" highlight hl-ipython2"><pre><span></span><span class="c1"># First 10 elements of the data</span>
<span class="k">print</span> <span class="n">x</span><span class="p">[:</span><span class="mi">10</span><span class="p">]</span>
</pre></div>

</div>
</div>
</div>

<div class="output_wrapper">
<div class="output">


<div class="output_area">

<div class="prompt"></div>


<div class="output_subarea output_stream output_stdout output_text">
<pre>[[   0.01   18.      2.31    0.      0.54    6.58   65.2     4.09    1.    296.     15.3   396.9     4.98    1.  ]
 [   0.03    0.      7.07    0.      0.47    6.42   78.9     4.97    2.    242.     17.8   396.9     9.14    1.  ]
 [   0.03    0.      7.07    0.      0.47    7.18   61.1     4.97    2.    242.     17.8   392.83    4.03    1.  ]
 [   0.03    0.      2.18    0.      0.46    7.     45.8     6.06    3.    222.     18.7   394.63    2.94    1.  ]
 [   0.07    0.      2.18    0.      0.46    7.15   54.2     6.06    3.    222.     18.7   396.9     5.33    1.  ]
 [   0.03    0.      2.18    0.      0.46    6.43   58.7     6.06    3.    222.     18.7   394.12    5.21    1.  ]
 [   0.09   12.5     7.87    0.      0.52    6.01   66.6     5.56    5.    311.     15.2   395.6    12.43    1.  ]
 [   0.14   12.5     7.87    0.      0.52    6.17   96.1     5.95    5.    311.     15.2   396.9    19.15    1.  ]
 [   0.21   12.5     7.87    0.      0.52    5.63  100.      6.08    5.    311.     15.2   386.63   29.93    1.  ]
 [   0.17   12.5     7.87    0.      0.52    6.     85.9     6.59    5.    311.     15.2   386.71   17.1     1.  ]]
</pre>
</div>
</div>

</div>
</div>

</div>
<div class="cell border-box-sizing code_cell rendered">
<div class="input">
<div class="prompt input_prompt">In&nbsp;[10]:</div>
<div class="inner_cell">
    <div class="input_area">
<div class=" highlight hl-ipython2"><pre><span></span><span class="c1"># First 10 elements of the response variable</span>
<span class="k">print</span> <span class="n">y</span><span class="p">[:</span><span class="mi">10</span><span class="p">]</span>
</pre></div>

</div>
</div>
</div>

<div class="output_wrapper">
<div class="output">


<div class="output_area">

<div class="prompt"></div>


<div class="output_subarea output_stream output_stdout output_text">
<pre>[ 24.   21.6  34.7  33.4  36.2  28.7  22.9  27.1  16.5  18.9]
</pre>
</div>
</div>

</div>
</div>

</div>
<div class="cell border-box-sizing code_cell rendered">
<div class="input">
<div class="prompt input_prompt">In&nbsp;[11]:</div>
<div class="inner_cell">
    <div class="input_area">
<div class=" highlight hl-ipython2"><pre><span></span><span class="c1"># Create linear regression object</span>
<span class="n">linreg</span> <span class="o">=</span> <span class="n">LinearRegression</span><span class="p">()</span>

<span class="c1"># Train the model using the training sets</span>
<span class="n">linreg</span><span class="o">.</span><span class="n">fit</span><span class="p">(</span><span class="n">x</span><span class="p">,</span><span class="n">y</span><span class="p">)</span>
</pre></div>

</div>
</div>
</div>

<div class="output_wrapper">
<div class="output">


<div class="output_area">

<div class="prompt output_prompt">Out[11]:</div>




<div class="output_text output_subarea output_execute_result">
<pre>LinearRegression(copy_X=True, fit_intercept=True, n_jobs=1, normalize=False)</pre>
</div>

</div>

</div>
</div>

</div>
<div class="cell border-box-sizing code_cell rendered">
<div class="input">
<div class="prompt input_prompt">In&nbsp;[12]:</div>
<div class="inner_cell">
    <div class="input_area">
<div class=" highlight hl-ipython2"><pre><span></span><span class="c1"># Let&#39;s see predictions for the first 10 instances</span>
<span class="k">print</span> <span class="n">linreg</span><span class="o">.</span><span class="n">predict</span><span class="p">(</span><span class="n">x</span><span class="p">[:</span><span class="mi">10</span><span class="p">])</span>
</pre></div>

</div>
</div>
</div>

<div class="output_wrapper">
<div class="output">


<div class="output_area">

<div class="prompt"></div>


<div class="output_subarea output_stream output_stdout output_text">
<pre>[ 30.01  25.03  30.57  28.61  27.94  25.26  23.    19.53  11.52  18.92]
</pre>
</div>
</div>

</div>
</div>

</div>
<div class="cell border-box-sizing code_cell rendered">
<div class="input">
<div class="prompt input_prompt">In&nbsp;[13]:</div>
<div class="inner_cell">
    <div class="input_area">
<div class=" highlight hl-ipython2"><pre><span></span><span class="c1"># Compute RMSE on training data</span>
<span class="n">p</span> <span class="o">=</span> <span class="n">linreg</span><span class="o">.</span><span class="n">predict</span><span class="p">(</span><span class="n">x</span><span class="p">)</span>

<span class="c1"># Now we can constuct a vector of errors</span>
<span class="n">err</span> <span class="o">=</span> <span class="nb">abs</span><span class="p">(</span><span class="n">p</span><span class="o">-</span><span class="n">y</span><span class="p">)</span>

<span class="c1"># Let&#39;s see the error on the first 10 predictions</span>
<span class="k">print</span> <span class="n">err</span><span class="p">[:</span><span class="mi">10</span><span class="p">]</span>
</pre></div>

</div>
</div>
</div>

<div class="output_wrapper">
<div class="output">


<div class="output_area">

<div class="prompt"></div>


<div class="output_subarea output_stream output_stdout output_text">
<pre>[ 6.01  3.43  4.13  4.79  8.26  3.44  0.1   7.57  4.98  0.02]
</pre>
</div>
</div>

</div>
</div>

</div>
<div class="cell border-box-sizing code_cell rendered">
<div class="input">
<div class="prompt input_prompt">In&nbsp;[14]:</div>
<div class="inner_cell">
    <div class="input_area">
<div class=" highlight hl-ipython2"><pre><span></span><span class="c1"># Dot product of error vector with itself gives us the sum of squared errors</span>
<span class="n">total_error</span> <span class="o">=</span> <span class="n">np</span><span class="o">.</span><span class="n">dot</span><span class="p">(</span><span class="n">err</span><span class="p">,</span><span class="n">err</span><span class="p">)</span>

<span class="c1"># Compute RMSE</span>
<span class="n">rmse_train</span> <span class="o">=</span> <span class="n">np</span><span class="o">.</span><span class="n">sqrt</span><span class="p">(</span><span class="n">total_error</span><span class="o">/</span><span class="nb">len</span><span class="p">(</span><span class="n">p</span><span class="p">))</span>
<span class="k">print</span> <span class="n">rmse_train</span>
</pre></div>

</div>
</div>
</div>

<div class="output_wrapper">
<div class="output">


<div class="output_area">

<div class="prompt"></div>


<div class="output_subarea output_stream output_stdout output_text">
<pre>4.67950630064
</pre>
</div>
</div>

</div>
</div>

</div>
<div class="cell border-box-sizing code_cell rendered">
<div class="input">
<div class="prompt input_prompt">In&nbsp;[15]:</div>
<div class="inner_cell">
    <div class="input_area">
<div class=" highlight hl-ipython2"><pre><span></span><span class="c1"># We can view the regression coefficients</span>
<span class="k">print</span> <span class="s1">&#39;Regression Coefficients: </span><span class="se">\n</span><span class="s1">&#39;</span><span class="p">,</span> <span class="n">linreg</span><span class="o">.</span><span class="n">coef_</span>
</pre></div>

</div>
</div>
</div>

<div class="output_wrapper">
<div class="output">


<div class="output_area">

<div class="prompt"></div>


<div class="output_subarea output_stream output_stdout output_text">
<pre>Regression Coefficients: 
[ -0.11   0.05   0.02   2.69 -17.8    3.8    0.    -1.48   0.31  -0.01  -0.95   0.01  -0.53   0.  ]
</pre>
</div>
</div>

</div>
</div>

</div>
<div class="cell border-box-sizing code_cell rendered">
<div class="input">
<div class="prompt input_prompt">In&nbsp;[18]:</div>
<div class="inner_cell">
    <div class="input_area">
<div class=" highlight hl-ipython2"><pre><span></span><span class="o">%</span><span class="k">matplotlib</span> inline
<span class="k">def</span> <span class="nf">plot_coefficients</span><span class="p">(</span><span class="n">model</span><span class="p">,</span> <span class="n">n_features</span><span class="p">,</span> <span class="n">feature_names</span><span class="p">):</span>
    <span class="n">pl</span><span class="o">.</span><span class="n">barh</span><span class="p">(</span><span class="nb">range</span><span class="p">(</span><span class="n">n_features</span><span class="p">),</span> <span class="n">model</span><span class="o">.</span><span class="n">coef_</span><span class="p">[:</span><span class="o">-</span><span class="mi">1</span><span class="p">],</span> <span class="n">align</span><span class="o">=</span><span class="s1">&#39;center&#39;</span><span class="p">)</span>
    <span class="n">pl</span><span class="o">.</span><span class="n">yticks</span><span class="p">(</span><span class="n">np</span><span class="o">.</span><span class="n">arange</span><span class="p">(</span><span class="n">n_features</span><span class="p">),</span> <span class="n">feature_names</span><span class="p">)</span>
    <span class="n">pl</span><span class="o">.</span><span class="n">xlabel</span><span class="p">(</span><span class="s2">&quot;Coefficient Value&quot;</span><span class="p">)</span>
    <span class="n">pl</span><span class="o">.</span><span class="n">ylabel</span><span class="p">(</span><span class="s2">&quot;Feature&quot;</span><span class="p">)</span>
    <span class="n">pl</span><span class="o">.</span><span class="n">ylim</span><span class="p">(</span><span class="o">-</span><span class="mi">1</span><span class="p">,</span> <span class="n">n_features</span><span class="p">)</span>

<span class="n">plot_coefficients</span><span class="p">(</span><span class="n">linreg</span><span class="p">,</span> <span class="nb">len</span><span class="p">(</span><span class="n">boston</span><span class="o">.</span><span class="n">feature_names</span><span class="p">),</span> <span class="n">boston</span><span class="o">.</span><span class="n">feature_names</span><span class="p">)</span>
</pre></div>

</div>
</div>
</div>

<div class="output_wrapper">
<div class="output">


<div class="output_area">

<div class="prompt"></div>




<div class="output_png output_subarea ">
<img src="data:image/png;base64,iVBORw0KGgoAAAANSUhEUgAAAZ0AAAEKCAYAAADJvIhZAAAABHNCSVQICAgIfAhkiAAAAAlwSFlz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"
>
</div>

</div>

</div>
</div>

</div>
<div class="cell border-box-sizing code_cell rendered">
<div class="input">
<div class="prompt input_prompt">In&nbsp;[19]:</div>
<div class="inner_cell">
    <div class="input_area">
<div class=" highlight hl-ipython2"><pre><span></span><span class="k">print</span> <span class="n">linreg</span><span class="o">.</span><span class="n">intercept_</span>
</pre></div>

</div>
</div>
</div>

<div class="output_wrapper">
<div class="output">


<div class="output_area">

<div class="prompt"></div>


<div class="output_subarea output_stream output_stdout output_text">
<pre>36.4911032804
</pre>
</div>
</div>

</div>
</div>

</div>
<div class="cell border-box-sizing code_cell rendered">
<div class="input">
<div class="prompt input_prompt">In&nbsp;[20]:</div>
<div class="inner_cell">
    <div class="input_area">
<div class=" highlight hl-ipython2"><pre><span></span><span class="c1"># Plot outputs</span>
<span class="o">%</span><span class="k">matplotlib</span> inline
<span class="n">pl</span><span class="o">.</span><span class="n">plot</span><span class="p">(</span><span class="n">p</span><span class="p">,</span> <span class="n">y</span><span class="p">,</span><span class="s1">&#39;ro&#39;</span><span class="p">)</span>
<span class="n">pl</span><span class="o">.</span><span class="n">plot</span><span class="p">([</span><span class="mi">0</span><span class="p">,</span><span class="mi">50</span><span class="p">],[</span><span class="mi">0</span><span class="p">,</span><span class="mi">50</span><span class="p">],</span> <span class="s1">&#39;g-&#39;</span><span class="p">)</span>
<span class="n">pl</span><span class="o">.</span><span class="n">xlabel</span><span class="p">(</span><span class="s1">&#39;predicted&#39;</span><span class="p">)</span>
<span class="n">pl</span><span class="o">.</span><span class="n">ylabel</span><span class="p">(</span><span class="s1">&#39;real&#39;</span><span class="p">)</span>
<span class="n">pl</span><span class="o">.</span><span class="n">show</span><span class="p">()</span>
</pre></div>

</div>
</div>
</div>

<div class="output_wrapper">
<div class="output">


<div class="output_area">

<div class="prompt"></div>




<div class="output_png output_subarea ">
<img src="data:image/png;base64,iVBORw0KGgoAAAANSUhEUgAAAYMAAAEPCAYAAACgFqixAAAABHNCSVQICAgIfAhkiAAAAAlwSFlz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=
"
>
</div>

</div>

</div>
</div>

</div>
<div class="cell border-box-sizing code_cell rendered">
<div class="input">
<div class="prompt input_prompt">In&nbsp;[21]:</div>
<div class="inner_cell">
    <div class="input_area">
<div class=" highlight hl-ipython2"><pre><span></span><span class="c1"># Now let&#39;s compute RMSE using 10-fold x-validation</span>
<span class="n">n</span> <span class="o">=</span> <span class="mi">10</span>
<span class="n">kf</span> <span class="o">=</span> <span class="n">KFold</span><span class="p">(</span><span class="nb">len</span><span class="p">(</span><span class="n">x</span><span class="p">),</span> <span class="n">n_folds</span><span class="o">=</span><span class="n">n</span><span class="p">)</span>
<span class="n">xval_err</span> <span class="o">=</span> <span class="mi">0</span>
<span class="k">for</span> <span class="n">train</span><span class="p">,</span><span class="n">test</span> <span class="ow">in</span> <span class="n">kf</span><span class="p">:</span>
    <span class="n">linreg</span><span class="o">.</span><span class="n">fit</span><span class="p">(</span><span class="n">x</span><span class="p">[</span><span class="n">train</span><span class="p">],</span><span class="n">y</span><span class="p">[</span><span class="n">train</span><span class="p">])</span>
    <span class="n">p</span> <span class="o">=</span> <span class="n">linreg</span><span class="o">.</span><span class="n">predict</span><span class="p">(</span><span class="n">x</span><span class="p">[</span><span class="n">test</span><span class="p">])</span>
    <span class="n">e</span> <span class="o">=</span> <span class="n">p</span><span class="o">-</span><span class="n">y</span><span class="p">[</span><span class="n">test</span><span class="p">]</span>
    <span class="n">xval_err</span> <span class="o">+=</span> <span class="n">np</span><span class="o">.</span><span class="n">sqrt</span><span class="p">(</span><span class="n">np</span><span class="o">.</span><span class="n">dot</span><span class="p">(</span><span class="n">e</span><span class="p">,</span><span class="n">e</span><span class="p">)</span><span class="o">/</span><span class="nb">len</span><span class="p">(</span><span class="n">x</span><span class="p">[</span><span class="n">test</span><span class="p">]))</span>
       
<span class="n">rmse_10cv</span> <span class="o">=</span> <span class="n">xval_err</span><span class="o">/</span><span class="n">n</span>
</pre></div>

</div>
</div>
</div>

</div>
<div class="cell border-box-sizing code_cell rendered">
<div class="input">
<div class="prompt input_prompt">In&nbsp;[22]:</div>
<div class="inner_cell">
    <div class="input_area">
<div class=" highlight hl-ipython2"><pre><span></span><span class="n">method_name</span> <span class="o">=</span> <span class="s1">&#39;Simple Linear Regression&#39;</span>
<span class="k">print</span><span class="p">(</span><span class="s1">&#39;Method: </span><span class="si">%s</span><span class="s1">&#39;</span> <span class="o">%</span><span class="k">method_name</span>)
<span class="k">print</span><span class="p">(</span><span class="s1">&#39;RMSE on training: </span><span class="si">%.4f</span><span class="s1">&#39;</span> <span class="o">%</span><span class="k">rmse_train</span>)
<span class="k">print</span><span class="p">(</span><span class="s1">&#39;RMSE on 10-fold CV: </span><span class="si">%.4f</span><span class="s1">&#39;</span> <span class="o">%</span><span class="k">rmse_10cv</span>)
</pre></div>

</div>
</div>
</div>

<div class="output_wrapper">
<div class="output">


<div class="output_area">

<div class="prompt"></div>


<div class="output_subarea output_stream output_stdout output_text">
<pre>Method: Simple Linear Regression
RMSE on training: 4.6795
RMSE on 10-fold CV: 5.1856
</pre>
</div>
</div>

</div>
</div>

</div>
<div class="cell border-box-sizing text_cell rendered"><div class="prompt input_prompt">
</div>
<div class="inner_cell">
<div class="text_cell_render border-box-sizing rendered_html">
<h4 id="Let's-try-Ridge-Regression:">Let's try Ridge Regression:<a class="anchor-link" href="#Let's-try-Ridge-Regression:">&#182;</a></h4>
</div>
</div>
</div>
<div class="cell border-box-sizing code_cell rendered">
<div class="input">
<div class="prompt input_prompt">In&nbsp;[23]:</div>
<div class="inner_cell">
    <div class="input_area">
<div class=" highlight hl-ipython2"><pre><span></span><span class="c1"># Create linear regression object with a ridge coefficient 0.5</span>
<span class="n">ridge</span> <span class="o">=</span> <span class="n">Ridge</span><span class="p">(</span><span class="n">fit_intercept</span><span class="o">=</span><span class="bp">True</span><span class="p">,</span> <span class="n">alpha</span><span class="o">=</span><span class="mf">0.5</span><span class="p">)</span>

<span class="c1"># Train the model using the training set</span>
<span class="n">ridge</span><span class="o">.</span><span class="n">fit</span><span class="p">(</span><span class="n">x</span><span class="p">,</span><span class="n">y</span><span class="p">)</span>
</pre></div>

</div>
</div>
</div>

<div class="output_wrapper">
<div class="output">


<div class="output_area">

<div class="prompt output_prompt">Out[23]:</div>




<div class="output_text output_subarea output_execute_result">
<pre>Ridge(alpha=0.5, copy_X=True, fit_intercept=True, max_iter=None,
   normalize=False, random_state=None, solver=&#39;auto&#39;, tol=0.001)</pre>
</div>

</div>

</div>
</div>

</div>
<div class="cell border-box-sizing code_cell rendered">
<div class="input">
<div class="prompt input_prompt">In&nbsp;[24]:</div>
<div class="inner_cell">
    <div class="input_area">
<div class=" highlight hl-ipython2"><pre><span></span><span class="c1"># Compute RMSE on training data</span>
<span class="n">p</span> <span class="o">=</span> <span class="n">ridge</span><span class="o">.</span><span class="n">predict</span><span class="p">(</span><span class="n">x</span><span class="p">)</span>
<span class="n">err</span> <span class="o">=</span> <span class="n">p</span><span class="o">-</span><span class="n">y</span>
<span class="n">total_error</span> <span class="o">=</span> <span class="n">np</span><span class="o">.</span><span class="n">dot</span><span class="p">(</span><span class="n">err</span><span class="p">,</span><span class="n">err</span><span class="p">)</span>
<span class="n">rmse_train</span> <span class="o">=</span> <span class="n">np</span><span class="o">.</span><span class="n">sqrt</span><span class="p">(</span><span class="n">total_error</span><span class="o">/</span><span class="nb">len</span><span class="p">(</span><span class="n">p</span><span class="p">))</span>

<span class="c1"># Compute RMSE using 10-fold x-validation</span>

<span class="n">n</span> <span class="o">=</span> <span class="mi">10</span>
<span class="n">kf</span> <span class="o">=</span> <span class="n">KFold</span><span class="p">(</span><span class="nb">len</span><span class="p">(</span><span class="n">x</span><span class="p">),</span> <span class="n">n_folds</span><span class="o">=</span><span class="n">n</span><span class="p">)</span>
<span class="n">xval_err</span> <span class="o">=</span> <span class="mi">0</span>
<span class="k">for</span> <span class="n">train</span><span class="p">,</span><span class="n">test</span> <span class="ow">in</span> <span class="n">kf</span><span class="p">:</span>
    <span class="n">ridge</span><span class="o">.</span><span class="n">fit</span><span class="p">(</span><span class="n">x</span><span class="p">[</span><span class="n">train</span><span class="p">],</span><span class="n">y</span><span class="p">[</span><span class="n">train</span><span class="p">])</span>
    <span class="n">p</span> <span class="o">=</span> <span class="n">linreg</span><span class="o">.</span><span class="n">predict</span><span class="p">(</span><span class="n">x</span><span class="p">[</span><span class="n">test</span><span class="p">])</span>
    <span class="n">e</span> <span class="o">=</span> <span class="n">p</span><span class="o">-</span><span class="n">y</span><span class="p">[</span><span class="n">test</span><span class="p">]</span>
    <span class="n">xval_err</span> <span class="o">+=</span> <span class="n">np</span><span class="o">.</span><span class="n">sqrt</span><span class="p">(</span><span class="n">np</span><span class="o">.</span><span class="n">dot</span><span class="p">(</span><span class="n">e</span><span class="p">,</span><span class="n">e</span><span class="p">)</span><span class="o">/</span><span class="nb">len</span><span class="p">(</span><span class="n">x</span><span class="p">[</span><span class="n">test</span><span class="p">]))</span>
<span class="n">rmse_10cv</span> <span class="o">=</span> <span class="n">xval_err</span><span class="o">/</span><span class="n">n</span>

<span class="n">method_name</span> <span class="o">=</span> <span class="s1">&#39;Ridge Regression&#39;</span>
<span class="k">print</span><span class="p">(</span><span class="s1">&#39;Method: </span><span class="si">%s</span><span class="s1">&#39;</span> <span class="o">%</span><span class="k">method_name</span>)
<span class="k">print</span><span class="p">(</span><span class="s1">&#39;RMSE on training: </span><span class="si">%.4f</span><span class="s1">&#39;</span> <span class="o">%</span><span class="k">rmse_train</span>)
<span class="k">print</span><span class="p">(</span><span class="s1">&#39;RMSE on 10-fold CV: </span><span class="si">%.4f</span><span class="s1">&#39;</span> <span class="o">%</span><span class="k">rmse_10cv</span>)
</pre></div>

</div>
</div>
</div>

<div class="output_wrapper">
<div class="output">


<div class="output_area">

<div class="prompt"></div>


<div class="output_subarea output_stream output_stdout output_text">
<pre>Method: Ridge Regression
RMSE on training: 4.6857
RMSE on 10-fold CV: 4.3434
</pre>
</div>
</div>

</div>
</div>

</div>
<div class="cell border-box-sizing text_cell rendered"><div class="prompt input_prompt">
</div>
<div class="inner_cell">
<div class="text_cell_render border-box-sizing rendered_html">
<h4 id="We-can-try-different-values-of-alpha-and-observe-the-impact-on-x-validation-RMSE">We can try different values of alpha and observe the impact on x-validation RMSE<a class="anchor-link" href="#We-can-try-different-values-of-alpha-and-observe-the-impact-on-x-validation-RMSE">&#182;</a></h4>
</div>
</div>
</div>
<div class="cell border-box-sizing code_cell rendered">
<div class="input">
<div class="prompt input_prompt">In&nbsp;[25]:</div>
<div class="inner_cell">
    <div class="input_area">
<div class=" highlight hl-ipython2"><pre><span></span><span class="k">print</span><span class="p">(</span><span class="s1">&#39;Ridge Regression&#39;</span><span class="p">)</span>
<span class="k">print</span><span class="p">(</span><span class="s1">&#39;alpha</span><span class="se">\t</span><span class="s1"> RMSE_train</span><span class="se">\t</span><span class="s1"> RMSE_10cv</span><span class="se">\n</span><span class="s1">&#39;</span><span class="p">)</span>
<span class="n">alpha</span> <span class="o">=</span> <span class="n">np</span><span class="o">.</span><span class="n">linspace</span><span class="p">(</span><span class="o">.</span><span class="mo">01</span><span class="p">,</span><span class="mi">20</span><span class="p">,</span><span class="mi">50</span><span class="p">)</span>
<span class="n">t_rmse</span> <span class="o">=</span> <span class="n">np</span><span class="o">.</span><span class="n">array</span><span class="p">([])</span>
<span class="n">cv_rmse</span> <span class="o">=</span> <span class="n">np</span><span class="o">.</span><span class="n">array</span><span class="p">([])</span>

<span class="k">for</span> <span class="n">a</span> <span class="ow">in</span> <span class="n">alpha</span><span class="p">:</span>
    <span class="n">ridge</span> <span class="o">=</span> <span class="n">Ridge</span><span class="p">(</span><span class="n">alpha</span><span class="o">=</span><span class="n">a</span><span class="p">)</span>
    
    <span class="c1"># computing the RMSE on training data</span>
    <span class="n">ridge</span><span class="o">.</span><span class="n">fit</span><span class="p">(</span><span class="n">x</span><span class="p">,</span><span class="n">y</span><span class="p">)</span>
    <span class="n">p</span> <span class="o">=</span> <span class="n">ridge</span><span class="o">.</span><span class="n">predict</span><span class="p">(</span><span class="n">x</span><span class="p">)</span>
    <span class="n">err</span> <span class="o">=</span> <span class="n">p</span><span class="o">-</span><span class="n">y</span>
    <span class="n">total_error</span> <span class="o">=</span> <span class="n">np</span><span class="o">.</span><span class="n">dot</span><span class="p">(</span><span class="n">err</span><span class="p">,</span><span class="n">err</span><span class="p">)</span>
    <span class="n">rmse_train</span> <span class="o">=</span> <span class="n">np</span><span class="o">.</span><span class="n">sqrt</span><span class="p">(</span><span class="n">total_error</span><span class="o">/</span><span class="nb">len</span><span class="p">(</span><span class="n">p</span><span class="p">))</span>

    <span class="c1"># computing RMSE using 10-fold cross validation</span>
    <span class="n">kf</span> <span class="o">=</span> <span class="n">KFold</span><span class="p">(</span><span class="nb">len</span><span class="p">(</span><span class="n">x</span><span class="p">),</span> <span class="n">n_folds</span><span class="o">=</span><span class="mi">10</span><span class="p">)</span>
    <span class="n">xval_err</span> <span class="o">=</span> <span class="mi">0</span>
    <span class="k">for</span> <span class="n">train</span><span class="p">,</span> <span class="n">test</span> <span class="ow">in</span> <span class="n">kf</span><span class="p">:</span>
        <span class="n">ridge</span><span class="o">.</span><span class="n">fit</span><span class="p">(</span><span class="n">x</span><span class="p">[</span><span class="n">train</span><span class="p">],</span> <span class="n">y</span><span class="p">[</span><span class="n">train</span><span class="p">])</span>
        <span class="n">p</span> <span class="o">=</span> <span class="n">ridge</span><span class="o">.</span><span class="n">predict</span><span class="p">(</span><span class="n">x</span><span class="p">[</span><span class="n">test</span><span class="p">])</span>
        <span class="n">err</span> <span class="o">=</span> <span class="n">p</span> <span class="o">-</span> <span class="n">y</span><span class="p">[</span><span class="n">test</span><span class="p">]</span>
        <span class="n">xval_err</span> <span class="o">+=</span> <span class="n">np</span><span class="o">.</span><span class="n">sqrt</span><span class="p">(</span><span class="n">np</span><span class="o">.</span><span class="n">dot</span><span class="p">(</span><span class="n">err</span><span class="p">,</span><span class="n">err</span><span class="p">)</span><span class="o">/</span><span class="nb">len</span><span class="p">(</span><span class="n">x</span><span class="p">[</span><span class="n">test</span><span class="p">]))</span>
    <span class="n">rmse_10cv</span> <span class="o">=</span> <span class="n">xval_err</span><span class="o">/</span><span class="n">n</span>
    
    <span class="n">t_rmse</span> <span class="o">=</span> <span class="n">np</span><span class="o">.</span><span class="n">append</span><span class="p">(</span><span class="n">t_rmse</span><span class="p">,</span> <span class="p">[</span><span class="n">rmse_train</span><span class="p">])</span>
    <span class="n">cv_rmse</span> <span class="o">=</span> <span class="n">np</span><span class="o">.</span><span class="n">append</span><span class="p">(</span><span class="n">cv_rmse</span><span class="p">,</span> <span class="p">[</span><span class="n">rmse_10cv</span><span class="p">])</span>
    <span class="k">print</span><span class="p">(</span><span class="s1">&#39;{:.3f}</span><span class="se">\t</span><span class="s1"> {:.4f}</span><span class="se">\t\t</span><span class="s1"> {:.4f}&#39;</span><span class="o">.</span><span class="n">format</span><span class="p">(</span><span class="n">a</span><span class="p">,</span><span class="n">rmse_train</span><span class="p">,</span><span class="n">rmse_10cv</span><span class="p">))</span>
</pre></div>

</div>
</div>
</div>

<div class="output_wrapper">
<div class="output">


<div class="output_area">

<div class="prompt"></div>


<div class="output_subarea output_stream output_stdout output_text">
<pre>Ridge Regression
alpha	 RMSE_train	 RMSE_10cv

0.010	 4.6795		 5.1835
0.418	 4.6842		 5.1291
0.826	 4.6921		 5.1056
1.234	 4.7000		 5.0938
1.642	 4.7070		 5.0871
2.050	 4.7133		 5.0829
2.458	 4.7187		 5.0800
2.866	 4.7234		 5.0778
3.274	 4.7276		 5.0761
3.682	 4.7313		 5.0747
4.090	 4.7346		 5.0734
4.498	 4.7375		 5.0722
4.906	 4.7402		 5.0710
5.313	 4.7426		 5.0700
5.721	 4.7448		 5.0689
6.129	 4.7469		 5.0679
6.537	 4.7488		 5.0669
6.945	 4.7505		 5.0659
7.353	 4.7522		 5.0650
7.761	 4.7537		 5.0640
8.169	 4.7552		 5.0631
8.577	 4.7565		 5.0622
8.985	 4.7578		 5.0613
9.393	 4.7591		 5.0604
9.801	 4.7603		 5.0595
10.209	 4.7614		 5.0587
10.617	 4.7625		 5.0578
11.025	 4.7635		 5.0570
11.433	 4.7646		 5.0562
11.841	 4.7655		 5.0554
12.249	 4.7665		 5.0546
12.657	 4.7674		 5.0538
13.065	 4.7683		 5.0531
13.473	 4.7692		 5.0523
13.881	 4.7700		 5.0516
14.289	 4.7708		 5.0509
14.697	 4.7717		 5.0502
15.104	 4.7724		 5.0495
15.512	 4.7732		 5.0488
15.920	 4.7740		 5.0482
16.328	 4.7747		 5.0475
16.736	 4.7755		 5.0469
17.144	 4.7762		 5.0462
17.552	 4.7769		 5.0456
17.960	 4.7776		 5.0450
18.368	 4.7783		 5.0444
18.776	 4.7790		 5.0439
19.184	 4.7797		 5.0433
19.592	 4.7804		 5.0427
20.000	 4.7811		 5.0422
</pre>
</div>
</div>

</div>
</div>

</div>
<div class="cell border-box-sizing code_cell rendered">
<div class="input">
<div class="prompt input_prompt">In&nbsp;[26]:</div>
<div class="inner_cell">
    <div class="input_area">
<div class=" highlight hl-ipython2"><pre><span></span><span class="n">pl</span><span class="o">.</span><span class="n">plot</span><span class="p">(</span><span class="n">alpha</span><span class="p">,</span> <span class="n">t_rmse</span><span class="p">,</span> <span class="n">label</span><span class="o">=</span><span class="s1">&#39;RMSE-Train&#39;</span><span class="p">)</span>
<span class="n">pl</span><span class="o">.</span><span class="n">plot</span><span class="p">(</span><span class="n">alpha</span><span class="p">,</span> <span class="n">cv_rmse</span><span class="p">,</span> <span class="n">label</span><span class="o">=</span><span class="s1">&#39;RMSE_XVal&#39;</span><span class="p">)</span>
<span class="n">pl</span><span class="o">.</span><span class="n">legend</span><span class="p">(</span> <span class="p">(</span><span class="s1">&#39;RMSE-Train&#39;</span><span class="p">,</span> <span class="s1">&#39;RMSE_XVal&#39;</span><span class="p">)</span> <span class="p">)</span>
<span class="n">pl</span><span class="o">.</span><span class="n">ylabel</span><span class="p">(</span><span class="s1">&#39;RMSE&#39;</span><span class="p">)</span>
<span class="n">pl</span><span class="o">.</span><span class="n">xlabel</span><span class="p">(</span><span class="s1">&#39;Alpha&#39;</span><span class="p">)</span>
<span class="n">pl</span><span class="o">.</span><span class="n">show</span><span class="p">()</span>
</pre></div>

</div>
</div>
</div>

<div class="output_wrapper">
<div class="output">


<div class="output_area">

<div class="prompt"></div>




<div class="output_png output_subarea ">
<img src="data:image/png;base64,iVBORw0KGgoAAAANSUhEUgAAAYYAAAEPCAYAAABGP2P1AAAABHNCSVQICAgIfAhkiAAAAAlwSFlz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"
>
</div>

</div>

</div>
</div>

</div>
<div class="cell border-box-sizing text_cell rendered"><div class="prompt input_prompt">
</div>
<div class="inner_cell">
<div class="text_cell_render border-box-sizing rendered_html">
<h4 id="To-make-comparisons-across-methods-easier,-let's-parametrize-the-regression-methods:">To make comparisons across methods easier, let's parametrize the regression methods:<a class="anchor-link" href="#To-make-comparisons-across-methods-easier,-let's-parametrize-the-regression-methods:">&#182;</a></h4>
</div>
</div>
</div>
<div class="cell border-box-sizing code_cell rendered">
<div class="input">
<div class="prompt input_prompt">In&nbsp;[27]:</div>
<div class="inner_cell">
    <div class="input_area">
<div class=" highlight hl-ipython2"><pre><span></span><span class="n">a</span> <span class="o">=</span> <span class="mf">0.3</span>
<span class="k">for</span> <span class="n">name</span><span class="p">,</span><span class="n">met</span> <span class="ow">in</span> <span class="p">[</span>
        <span class="p">(</span><span class="s1">&#39;linear regression&#39;</span><span class="p">,</span> <span class="n">LinearRegression</span><span class="p">()),</span>
        <span class="p">(</span><span class="s1">&#39;lasso&#39;</span><span class="p">,</span> <span class="n">Lasso</span><span class="p">(</span><span class="n">fit_intercept</span><span class="o">=</span><span class="bp">True</span><span class="p">,</span> <span class="n">alpha</span><span class="o">=</span><span class="n">a</span><span class="p">)),</span>
        <span class="p">(</span><span class="s1">&#39;ridge&#39;</span><span class="p">,</span> <span class="n">Ridge</span><span class="p">(</span><span class="n">fit_intercept</span><span class="o">=</span><span class="bp">True</span><span class="p">,</span> <span class="n">alpha</span><span class="o">=</span><span class="n">a</span><span class="p">)),</span>
        <span class="p">(</span><span class="s1">&#39;elastic-net&#39;</span><span class="p">,</span> <span class="n">ElasticNet</span><span class="p">(</span><span class="n">fit_intercept</span><span class="o">=</span><span class="bp">True</span><span class="p">,</span> <span class="n">alpha</span><span class="o">=</span><span class="n">a</span><span class="p">))</span>
        <span class="p">]:</span>
    <span class="n">met</span><span class="o">.</span><span class="n">fit</span><span class="p">(</span><span class="n">x</span><span class="p">,</span><span class="n">y</span><span class="p">)</span>
    <span class="n">p</span> <span class="o">=</span> <span class="n">met</span><span class="o">.</span><span class="n">predict</span><span class="p">(</span><span class="n">x</span><span class="p">)</span>
    <span class="n">e</span> <span class="o">=</span> <span class="n">p</span><span class="o">-</span><span class="n">y</span>
    <span class="n">total_error</span> <span class="o">=</span> <span class="n">np</span><span class="o">.</span><span class="n">dot</span><span class="p">(</span><span class="n">e</span><span class="p">,</span><span class="n">e</span><span class="p">)</span>
    <span class="n">rmse_train</span> <span class="o">=</span> <span class="n">np</span><span class="o">.</span><span class="n">sqrt</span><span class="p">(</span><span class="n">total_error</span><span class="o">/</span><span class="nb">len</span><span class="p">(</span><span class="n">p</span><span class="p">))</span>

    <span class="n">kf</span> <span class="o">=</span> <span class="n">KFold</span><span class="p">(</span><span class="nb">len</span><span class="p">(</span><span class="n">x</span><span class="p">),</span> <span class="n">n_folds</span><span class="o">=</span><span class="mi">10</span><span class="p">)</span>
    <span class="n">err</span> <span class="o">=</span> <span class="mi">0</span>
    <span class="k">for</span> <span class="n">train</span><span class="p">,</span><span class="n">test</span> <span class="ow">in</span> <span class="n">kf</span><span class="p">:</span>
        <span class="n">met</span><span class="o">.</span><span class="n">fit</span><span class="p">(</span><span class="n">x</span><span class="p">[</span><span class="n">train</span><span class="p">],</span><span class="n">y</span><span class="p">[</span><span class="n">train</span><span class="p">])</span>
        <span class="n">p</span> <span class="o">=</span> <span class="n">met</span><span class="o">.</span><span class="n">predict</span><span class="p">(</span><span class="n">x</span><span class="p">[</span><span class="n">test</span><span class="p">])</span>
        <span class="n">e</span> <span class="o">=</span> <span class="n">p</span><span class="o">-</span><span class="n">y</span><span class="p">[</span><span class="n">test</span><span class="p">]</span>
        <span class="n">err</span> <span class="o">+=</span> <span class="n">np</span><span class="o">.</span><span class="n">dot</span><span class="p">(</span><span class="n">e</span><span class="p">,</span><span class="n">e</span><span class="p">)</span>
    <span class="n">rmse_10cv</span> <span class="o">=</span> <span class="n">np</span><span class="o">.</span><span class="n">sqrt</span><span class="p">(</span><span class="n">err</span><span class="o">/</span><span class="nb">len</span><span class="p">(</span><span class="n">x</span><span class="p">))</span>
    
    <span class="k">print</span><span class="p">(</span><span class="s1">&#39;Method: </span><span class="si">%s</span><span class="s1">&#39;</span> <span class="o">%</span><span class="k">name</span>)
    <span class="k">print</span><span class="p">(</span><span class="s1">&#39;RMSE on training: </span><span class="si">%.4f</span><span class="s1">&#39;</span> <span class="o">%</span><span class="k">rmse_train</span>)
    <span class="k">print</span><span class="p">(</span><span class="s1">&#39;RMSE on 10-fold CV: </span><span class="si">%.4f</span><span class="s1">&#39;</span> <span class="o">%</span><span class="k">rmse_10cv</span>)
    <span class="k">print</span> <span class="s2">&quot;</span><span class="se">\n</span><span class="s2">&quot;</span>
</pre></div>

</div>
</div>
</div>

<div class="output_wrapper">
<div class="output">


<div class="output_area">

<div class="prompt"></div>


<div class="output_subarea output_stream output_stdout output_text">
<pre>Method: linear regression
RMSE on training: 4.6795
RMSE on 10-fold CV: 5.8819


Method: lasso
RMSE on training: 4.8570
RMSE on 10-fold CV: 5.7675


Method: ridge
RMSE on training: 4.6822
RMSE on 10-fold CV: 5.8535


Method: elastic-net
RMSE on training: 4.9072
RMSE on 10-fold CV: 5.4936


</pre>
</div>
</div>

</div>
</div>

</div>
<div class="cell border-box-sizing text_cell rendered"><div class="prompt input_prompt">
</div>
<div class="inner_cell">
<div class="text_cell_render border-box-sizing rendered_html">
<h4 id="Now-let's-try-to-do-regression-via-Stochastic-Gradient-Descent.">Now let's try to do regression via Stochastic Gradient Descent.<a class="anchor-link" href="#Now-let's-try-to-do-regression-via-Stochastic-Gradient-Descent.">&#182;</a></h4>
</div>
</div>
</div>
<div class="cell border-box-sizing code_cell rendered">
<div class="input">
<div class="prompt input_prompt">In&nbsp;[28]:</div>
<div class="inner_cell">
    <div class="input_area">
<div class=" highlight hl-ipython2"><pre><span></span><span class="c1"># SGD is very senstitive to varying-sized feature values. So, first we need to do feature scaling.</span>

<span class="kn">from</span> <span class="nn">sklearn.preprocessing</span> <span class="kn">import</span> <span class="n">StandardScaler</span>

<span class="n">scaler</span> <span class="o">=</span> <span class="n">StandardScaler</span><span class="p">()</span>
<span class="n">scaler</span><span class="o">.</span><span class="n">fit</span><span class="p">(</span><span class="n">x</span><span class="p">)</span>
<span class="n">x_s</span> <span class="o">=</span> <span class="n">scaler</span><span class="o">.</span><span class="n">transform</span><span class="p">(</span><span class="n">x</span><span class="p">)</span>

<span class="n">sgdreg</span> <span class="o">=</span> <span class="n">SGDRegressor</span><span class="p">(</span><span class="n">penalty</span><span class="o">=</span><span class="s1">&#39;l2&#39;</span><span class="p">,</span> <span class="n">alpha</span><span class="o">=</span><span class="mf">0.1</span><span class="p">,</span> <span class="n">n_iter</span><span class="o">=</span><span class="mi">300</span><span class="p">)</span>

<span class="c1"># Compute RMSE on training data</span>
<span class="n">sgdreg</span><span class="o">.</span><span class="n">fit</span><span class="p">(</span><span class="n">x_s</span><span class="p">,</span><span class="n">y</span><span class="p">)</span>
<span class="n">p</span> <span class="o">=</span> <span class="n">sgdreg</span><span class="o">.</span><span class="n">predict</span><span class="p">(</span><span class="n">x_s</span><span class="p">)</span>
<span class="n">err</span> <span class="o">=</span> <span class="n">p</span><span class="o">-</span><span class="n">y</span>
<span class="n">total_error</span> <span class="o">=</span> <span class="n">np</span><span class="o">.</span><span class="n">dot</span><span class="p">(</span><span class="n">err</span><span class="p">,</span><span class="n">err</span><span class="p">)</span>
<span class="n">rmse_train</span> <span class="o">=</span> <span class="n">np</span><span class="o">.</span><span class="n">sqrt</span><span class="p">(</span><span class="n">total_error</span><span class="o">/</span><span class="nb">len</span><span class="p">(</span><span class="n">p</span><span class="p">))</span>

<span class="c1"># Compute RMSE using 10-fold x-validation</span>
<span class="n">kf</span> <span class="o">=</span> <span class="n">KFold</span><span class="p">(</span><span class="nb">len</span><span class="p">(</span><span class="n">x</span><span class="p">),</span> <span class="n">n_folds</span><span class="o">=</span><span class="mi">10</span><span class="p">)</span>
<span class="n">xval_err</span> <span class="o">=</span> <span class="mi">0</span>
<span class="k">for</span> <span class="n">train</span><span class="p">,</span><span class="n">test</span> <span class="ow">in</span> <span class="n">kf</span><span class="p">:</span>
    <span class="n">scaler</span> <span class="o">=</span> <span class="n">StandardScaler</span><span class="p">()</span>
    <span class="n">scaler</span><span class="o">.</span><span class="n">fit</span><span class="p">(</span><span class="n">x</span><span class="p">[</span><span class="n">train</span><span class="p">])</span>  <span class="c1"># Don&#39;t cheat - fit only on training data</span>
    <span class="n">xtrain_s</span> <span class="o">=</span> <span class="n">scaler</span><span class="o">.</span><span class="n">transform</span><span class="p">(</span><span class="n">x</span><span class="p">[</span><span class="n">train</span><span class="p">])</span>
    <span class="n">xtest_s</span> <span class="o">=</span> <span class="n">scaler</span><span class="o">.</span><span class="n">transform</span><span class="p">(</span><span class="n">x</span><span class="p">[</span><span class="n">test</span><span class="p">])</span>  <span class="c1"># apply same transformation to test data</span>
    <span class="n">sgdreg</span><span class="o">.</span><span class="n">fit</span><span class="p">(</span><span class="n">xtrain_s</span><span class="p">,</span><span class="n">y</span><span class="p">[</span><span class="n">train</span><span class="p">])</span>
    <span class="n">p</span> <span class="o">=</span> <span class="n">sgdreg</span><span class="o">.</span><span class="n">predict</span><span class="p">(</span><span class="n">xtest_s</span><span class="p">)</span>
    <span class="n">e</span> <span class="o">=</span> <span class="n">p</span><span class="o">-</span><span class="n">y</span><span class="p">[</span><span class="n">test</span><span class="p">]</span>
    <span class="n">xval_err</span> <span class="o">+=</span> <span class="n">np</span><span class="o">.</span><span class="n">dot</span><span class="p">(</span><span class="n">e</span><span class="p">,</span><span class="n">e</span><span class="p">)</span>
<span class="n">rmse_10cv</span> <span class="o">=</span> <span class="n">np</span><span class="o">.</span><span class="n">sqrt</span><span class="p">(</span><span class="n">xval_err</span><span class="o">/</span><span class="nb">len</span><span class="p">(</span><span class="n">x</span><span class="p">))</span>

<span class="n">method_name</span> <span class="o">=</span> <span class="s1">&#39;Stochastic Gradient Descent Regression&#39;</span>
<span class="k">print</span><span class="p">(</span><span class="s1">&#39;Method: </span><span class="si">%s</span><span class="s1">&#39;</span> <span class="o">%</span><span class="k">method_name</span>)
<span class="k">print</span><span class="p">(</span><span class="s1">&#39;RMSE on training: </span><span class="si">%.4f</span><span class="s1">&#39;</span> <span class="o">%</span><span class="k">rmse_train</span>)
<span class="k">print</span><span class="p">(</span><span class="s1">&#39;RMSE on 10-fold CV: </span><span class="si">%.4f</span><span class="s1">&#39;</span> <span class="o">%</span><span class="k">rmse_10cv</span>)
</pre></div>

</div>
</div>
</div>

<div class="output_wrapper">
<div class="output">


<div class="output_area">

<div class="prompt"></div>


<div class="output_subarea output_stream output_stdout output_text">
<pre>Method: Stochastic Gradient Descent Regression
RMSE on training: 4.7638
RMSE on 10-fold CV: 5.6160
</pre>
</div>
</div>

</div>
</div>

</div>
<div class="cell border-box-sizing text_cell rendered"><div class="prompt input_prompt">
</div>
<div class="inner_cell">
<div class="text_cell_render border-box-sizing rendered_html">
<h4 id="Using-the-regression-implementation-from-Machine-Learning-in-Action,-Chapter-8:">Using the regression implementation from Machine Learning in Action, Chapter 8:<a class="anchor-link" href="#Using-the-regression-implementation-from-Machine-Learning-in-Action,-Chapter-8:">&#182;</a></h4>
</div>
</div>
</div>
<div class="cell border-box-sizing code_cell rendered">
<div class="input">
<div class="prompt input_prompt">In&nbsp;[29]:</div>
<div class="inner_cell">
    <div class="input_area">
<div class=" highlight hl-ipython2"><pre><span></span><span class="k">def</span> <span class="nf">standRegres</span><span class="p">(</span><span class="n">xArr</span><span class="p">,</span><span class="n">yArr</span><span class="p">):</span>
    <span class="n">xMat</span> <span class="o">=</span> <span class="n">np</span><span class="o">.</span><span class="n">mat</span><span class="p">(</span><span class="n">xArr</span><span class="p">);</span> <span class="n">yMat</span> <span class="o">=</span> <span class="n">np</span><span class="o">.</span><span class="n">mat</span><span class="p">(</span><span class="n">yArr</span><span class="p">)</span><span class="o">.</span><span class="n">T</span>
    <span class="n">xTx</span> <span class="o">=</span> <span class="n">xMat</span><span class="o">.</span><span class="n">T</span><span class="o">*</span><span class="n">xMat</span>
    <span class="k">if</span> <span class="n">np</span><span class="o">.</span><span class="n">linalg</span><span class="o">.</span><span class="n">det</span><span class="p">(</span><span class="n">xTx</span><span class="p">)</span> <span class="o">==</span> <span class="mf">0.0</span><span class="p">:</span>
        <span class="k">print</span> <span class="s2">&quot;This matrix is singular, cannot do inverse&quot;</span>
        <span class="k">return</span>
    <span class="n">ws</span> <span class="o">=</span> <span class="n">xTx</span><span class="o">.</span><span class="n">I</span> <span class="o">*</span> <span class="p">(</span><span class="n">xMat</span><span class="o">.</span><span class="n">T</span><span class="o">*</span><span class="n">yMat</span><span class="p">)</span>
    <span class="k">return</span> <span class="n">ws</span>
</pre></div>

</div>
</div>
</div>

</div>
<div class="cell border-box-sizing code_cell rendered">
<div class="input">
<div class="prompt input_prompt">In&nbsp;[30]:</div>
<div class="inner_cell">
    <div class="input_area">
<div class=" highlight hl-ipython2"><pre><span></span><span class="n">w</span> <span class="o">=</span> <span class="n">standRegres</span><span class="p">(</span><span class="n">x</span><span class="p">,</span><span class="n">y</span><span class="p">)</span>
</pre></div>

</div>
</div>
</div>

</div>
<div class="cell border-box-sizing code_cell rendered">
<div class="input">
<div class="prompt input_prompt">In&nbsp;[31]:</div>
<div class="inner_cell">
    <div class="input_area">
<div class=" highlight hl-ipython2"><pre><span></span><span class="k">print</span> <span class="n">w</span>
</pre></div>

</div>
</div>
</div>

<div class="output_wrapper">
<div class="output">


<div class="output_area">

<div class="prompt"></div>


<div class="output_subarea output_stream output_stdout output_text">
<pre>[[ -0.11]
 [  0.05]
 [  0.02]
 [  2.69]
 [-17.8 ]
 [  3.8 ]
 [  0.  ]
 [ -1.48]
 [  0.31]
 [ -0.01]
 [ -0.95]
 [  0.01]
 [ -0.53]
 [ 36.49]]
</pre>
</div>
</div>

</div>
</div>

</div>
<div class="cell border-box-sizing code_cell rendered">
<div class="input">
<div class="prompt input_prompt">In&nbsp;[32]:</div>
<div class="inner_cell">
    <div class="input_area">
<div class=" highlight hl-ipython2"><pre><span></span><span class="k">def</span> <span class="nf">ridgeRegres</span><span class="p">(</span><span class="n">xArr</span><span class="p">,</span><span class="n">yArr</span><span class="p">,</span><span class="n">lam</span><span class="o">=</span><span class="mf">0.2</span><span class="p">):</span>
    <span class="n">xMat</span> <span class="o">=</span> <span class="n">np</span><span class="o">.</span><span class="n">mat</span><span class="p">(</span><span class="n">xArr</span><span class="p">);</span> <span class="n">yMat</span> <span class="o">=</span> <span class="n">np</span><span class="o">.</span><span class="n">mat</span><span class="p">(</span><span class="n">yArr</span><span class="p">)</span><span class="o">.</span><span class="n">T</span>
    <span class="n">xTx</span> <span class="o">=</span> <span class="n">xMat</span><span class="o">.</span><span class="n">T</span><span class="o">*</span><span class="n">xMat</span>
    <span class="n">denom</span> <span class="o">=</span> <span class="n">xTx</span> <span class="o">+</span> <span class="n">np</span><span class="o">.</span><span class="n">eye</span><span class="p">(</span><span class="n">np</span><span class="o">.</span><span class="n">shape</span><span class="p">(</span><span class="n">xMat</span><span class="p">)[</span><span class="mi">1</span><span class="p">])</span><span class="o">*</span><span class="n">lam</span>
    <span class="k">if</span> <span class="n">np</span><span class="o">.</span><span class="n">linalg</span><span class="o">.</span><span class="n">det</span><span class="p">(</span><span class="n">denom</span><span class="p">)</span> <span class="o">==</span> <span class="mf">0.0</span><span class="p">:</span>
        <span class="k">print</span> <span class="s2">&quot;This matrix is singular, cannot do inverse&quot;</span>
        <span class="k">return</span>
    <span class="n">ws</span> <span class="o">=</span> <span class="n">denom</span><span class="o">.</span><span class="n">I</span> <span class="o">*</span> <span class="p">(</span><span class="n">xMat</span><span class="o">.</span><span class="n">T</span><span class="o">*</span><span class="n">yMat</span><span class="p">)</span>
    <span class="k">return</span> <span class="n">ws</span>
</pre></div>

</div>
</div>
</div>

</div>
<div class="cell border-box-sizing code_cell rendered">
<div class="input">
<div class="prompt input_prompt">In&nbsp;[33]:</div>
<div class="inner_cell">
    <div class="input_area">
<div class=" highlight hl-ipython2"><pre><span></span><span class="n">w_ridge</span> <span class="o">=</span> <span class="n">ridgeRegres</span><span class="p">(</span><span class="n">x</span><span class="p">,</span><span class="n">y</span><span class="p">,</span><span class="mf">0.5</span><span class="p">)</span>
<span class="k">print</span> <span class="n">w_ridge</span>
</pre></div>

</div>
</div>
</div>

<div class="output_wrapper">
<div class="output">


<div class="output_area">

<div class="prompt"></div>


<div class="output_subarea output_stream output_stdout output_text">
<pre>[[ -0.1 ]
 [  0.05]
 [ -0.  ]
 [  2.68]
 [ -9.55]
 [  4.55]
 [ -0.  ]
 [ -1.26]
 [  0.25]
 [ -0.01]
 [ -0.73]
 [  0.01]
 [ -0.49]
 [ 21.78]]
</pre>
</div>
</div>

</div>
</div>

</div>
<div class="cell border-box-sizing text_cell rendered"><div class="prompt input_prompt">
</div>
<div class="inner_cell">
<div class="text_cell_render border-box-sizing rendered_html">
<h4 id="Now-that-we-have-the-regression-coefficients,-we-can-compute-the-predictions:">Now that we have the regression coefficients, we can compute the predictions:<a class="anchor-link" href="#Now-that-we-have-the-regression-coefficients,-we-can-compute-the-predictions:">&#182;</a></h4>
</div>
</div>
</div>
<div class="cell border-box-sizing code_cell rendered">
<div class="input">
<div class="prompt input_prompt">In&nbsp;[34]:</div>
<div class="inner_cell">
    <div class="input_area">
<div class=" highlight hl-ipython2"><pre><span></span><span class="n">xMat</span><span class="o">=</span><span class="n">np</span><span class="o">.</span><span class="n">mat</span><span class="p">(</span><span class="n">x</span><span class="p">)</span>
<span class="n">yMat</span><span class="o">=</span><span class="n">np</span><span class="o">.</span><span class="n">mat</span><span class="p">(</span><span class="n">y</span><span class="p">)</span>
<span class="n">yHat</span> <span class="o">=</span> <span class="n">xMat</span><span class="o">*</span><span class="n">w_ridge</span>
</pre></div>

</div>
</div>
</div>

</div>
<div class="cell border-box-sizing code_cell rendered">
<div class="input">
<div class="prompt input_prompt">In&nbsp;[35]:</div>
<div class="inner_cell">
    <div class="input_area">
<div class=" highlight hl-ipython2"><pre><span></span><span class="n">yHat</span><span class="o">.</span><span class="n">shape</span>
</pre></div>

</div>
</div>
</div>

<div class="output_wrapper">
<div class="output">


<div class="output_area">

<div class="prompt output_prompt">Out[35]:</div>




<div class="output_text output_subarea output_execute_result">
<pre>(506L, 1L)</pre>
</div>

</div>

</div>
</div>

</div>
<div class="cell border-box-sizing code_cell rendered">
<div class="input">
<div class="prompt input_prompt">In&nbsp;[36]:</div>
<div class="inner_cell">
    <div class="input_area">
<div class=" highlight hl-ipython2"><pre><span></span><span class="k">print</span> <span class="n">yHat</span><span class="p">[</span><span class="mi">0</span><span class="p">:</span><span class="mi">10</span><span class="p">]</span>
</pre></div>

</div>
</div>
</div>

<div class="output_wrapper">
<div class="output">


<div class="output_area">

<div class="prompt"></div>


<div class="output_subarea output_stream output_stdout output_text">
<pre>[[ 29.81]
 [ 24.75]
 [ 30.78]
 [ 29.12]
 [ 28.61]
 [ 25.35]
 [ 22.48]
 [ 19.28]
 [ 11.21]
 [ 18.65]]
</pre>
</div>
</div>

</div>
</div>

</div>
<div class="cell border-box-sizing code_cell rendered">
<div class="input">
<div class="prompt input_prompt">In&nbsp;[37]:</div>
<div class="inner_cell">
    <div class="input_area">
<div class=" highlight hl-ipython2"><pre><span></span><span class="k">print</span> <span class="n">yMat</span><span class="o">.</span><span class="n">T</span><span class="p">[</span><span class="mi">0</span><span class="p">:</span><span class="mi">10</span><span class="p">]</span>
</pre></div>

</div>
</div>
</div>

<div class="output_wrapper">
<div class="output">


<div class="output_area">

<div class="prompt"></div>


<div class="output_subarea output_stream output_stdout output_text">
<pre>[[ 24. ]
 [ 21.6]
 [ 34.7]
 [ 33.4]
 [ 36.2]
 [ 28.7]
 [ 22.9]
 [ 27.1]
 [ 16.5]
 [ 18.9]]
</pre>
</div>
</div>

</div>
</div>

</div>
<div class="cell border-box-sizing text_cell rendered"><div class="prompt input_prompt">
</div>
<div class="inner_cell">
<div class="text_cell_render border-box-sizing rendered_html">
<h4 id="Model-evaluation-and-cross-validation-can-be-performed-as-before.">Model evaluation and cross validation can be performed as before.<a class="anchor-link" href="#Model-evaluation-and-cross-validation-can-be-performed-as-before.">&#182;</a></h4>
</div>
</div>
</div>
<div class="cell border-box-sizing code_cell rendered">
<div class="input">
<div class="prompt input_prompt">In&nbsp;[38]:</div>
<div class="inner_cell">
    <div class="input_area">
<div class=" highlight hl-ipython2"><pre><span></span><span class="n">yHat</span><span class="o">.</span><span class="n">A</span><span class="o">.</span><span class="n">ravel</span><span class="p">()</span>
</pre></div>

</div>
</div>
</div>

<div class="output_wrapper">
<div class="output">


<div class="output_area">

<div class="prompt output_prompt">Out[38]:</div>




<div class="output_text output_subarea output_execute_result">
<pre>array([ 29.81,  24.75,  30.78,  29.12,  28.61,  25.35,  22.48,  19.28,  11.21,  18.65,  19.03,  21.15,  20.51,  20.15,
        19.84,  19.8 ,  21.17,  17.52,  16.22,  18.68,  12.82,  18.15,  16.6 ,  14.34,  16.27,  13.61,  15.97,  15.28,
        20.45,  21.86,  11.99,  18.54,   9.43,  14.57,  14.1 ,  23.35,  21.87,  22.83,  22.8 ,  31.37,  34.5 ,  28.21,
        24.95,  24.47,  22.57,  21.38,  19.91,  17.7 ,   8.69,  16.69,  20.87,  23.44,  27.52,  23.63,  16.1 ,  32.02,
        25.3 ,  32.9 ,  22.18,  21.13,  17.87,  18.44,  24.3 ,  23.48,  24.42,  29.71,  24.62,  20.81,  16.99,  20.45,
        24.99,  21.23,  24.06,  23.72,  25.05,  23.41,  22.21,  22.65,  20.85,  21.65,  28.49,  26.86,  25.86,  24.72,
        24.63,  27.58,  21.78,  25.22,  30.6 ,  30.94,  26.74,  26.97,  28.33,  28.37,  26.23,  28.09,  24.01,  36.23,
        35.56,  32.35,  25.09,  26.15,  19.35,  20.46,  21.48,  18.39,  17.15,  20.78,  22.89,  19.99,  21.01,  26.49,
        20.21,  20.34,  24.68,  19.8 ,  23.06,  23.15,  19.72,  20.24,  21.62,  22.16,  20.26,  16.16,  20.16,  22.12,
        14.24,  15.6 ,  19.85,  14.53,  20.94,  20.25,  20.88,  16.35,  13.56,  18.22,  16.49,  20.26,  14.45,  17.22,
        14.54,   4.39,  15.54,  13.16,   9.4 ,  13.09,  16.15,   9.24,  10.54,  15.7 ,  21.92,  18.74,  20.29,  17.88,
        23.4 ,  20.74,  13.58,  32.49,  27.61,  26.72,  31.4 ,  36.4 ,  40.43,  42.23,  23.67,  24.01,  37.2 ,  21.7 ,
        25.3 ,  25.74,  21.3 ,  23.06,  21.69,  28.26,  25.4 ,  30.25,  24.94,  28.36,  30.98,  32.73,  35.04,  27.03,
        33.61,  30.32,  21.65,  24.25,  36.41,  32.51,  31.48,  34.05,  30.59,  29.92,  32.84,  31.8 ,  31.  ,  40.83,
        35.66,  32.11,  34.28,  30.6 ,  31.24,  28.41,  37.25,  41.87,  43.13,  22.35,  23.59,  17.47,  23.23,  16.22,
        21.91,  16.36,  22.25,  25.11,  10.92,  24.23,  25.84,  27.95,  24.1 ,  29.05,  32.76,  23.18,  31.82,  29.16,
        38.77,  40.54,  37.81,  32.09,  35.83,  30.75,  23.64,  33.25,  38.71,  37.76,  31.29,  24.53,  29.77,  32.81,
        27.97,  27.98,  27.17,  23.01,  23.71,  27.07,  16.  ,  13.35,  20.25,  19.94,  21.61,  24.73,  24.6 ,  25.3 ,
        25.93,  31.94,  23.9 ,  21.61,  37.41,  44.16,  36.35,  34.51,  34.8 ,  37.27,  41.72,  34.51,  35.68,  27.12,
        31.22,  41.11,  39.03,  25.15,  21.9 ,  27.03,  28.25,  36.16,  35.68,  33.42,  35.7 ,  34.68,  29.87,  34.3 ,
        38.43,  33.64,  39.99,  44.55,  31.75,  26.89,  20.52,  26.45,  26.64,  26.65,  33.49,  34.68,  31.78,  24.86,
        23.32,  27.87,  26.6 ,  18.54,  28.4 ,  31.77,  30.39,  28.3 ,  28.24,  32.41,  33.48,  30.41,  35.59,  32.37,
        28.63,  23.24,  17.54,  26.55,  22.9 ,  25.35,  25.61,  20.22,  17.65,  18.32,  24.41,  21.47,  25.07,  25.  ,
        22.84,  19.16,  25.37,  25.18,  24.07,  19.7 ,  20.66,  24.03,  21.34,  19.63,  23.03,  23.  ,  22.44,  21.27,
        20.52,  19.7 ,  22.58,  21.6 ,  21.69,  30.66,  22.49,  28.01,  29.2 ,  16.92,  15.07,  25.87,  27.99,  23.62,
        21.56,  21.56,  17.59,  26.34,  15.63,  18.02,  20.7 ,  23.88,  23.22,  20.2 ,  23.65,  19.89,  18.39,  20.8 ,
        39.57,  12.47,  14.91,   8.22,  22.11,  32.26,  34.45,  24.36,  25.44,   5.78,   0.01,  26.18,  18.37,  20.91,
        16.41,  17.16,  15.71,  19.04,  13.52,  13.16,   2.6 ,   8.23,   5.81,   5.74,   6.28,  14.13,  17.3 ,  17.77,
         9.76,  20.55,  18.11,  20.85,  19.86,  16.41,   6.96,  11.35,  12.48,  18.38,  18.81,  12.92,   7.72,   8.73,
         6.72,  19.24,  12.9 ,  19.5 ,  13.63,  16.2 ,  -0.09,  10.41,  -4.93,   9.67,  13.59,   6.36,   6.01,  15.21,
        20.12,  18.36,  17.62,  12.28,  12.99,   9.44,  14.98,  13.77,  14.13,  12.99,  17.2 ,  18.14,  20.55,  17.22,
        15.95,  14.13,  14.82,   9.07,   5.37,  13.62,  13.48,  18.33,  19.51,  19.1 ,  11.96,  13.46,  18.45,  18.99,
        18.18,  17.87,  16.75,  20.31,  19.3 ,  23.99,  15.6 ,  16.05,  12.48,  12.67,  17.79,  19.14,  19.82,  20.93,
        20.57,  23.21,  20.68,  17.89,  13.71,  16.42,  16.64,  18.08,  19.87,  22.2 ,  22.3 ,  25.95,  15.38,  15.66,
        20.63,  10.87,  19.01,  21.58,  22.86,  26.68,  28.37,  20.35,  19.18,  22.24,  19.44,  20.88,  11.87,   8.24,
         3.59,  14.13,  16.3 ,  20.59,  20.86,  17.23,  14.03,  19.23,  21.47,  18.32,  20.64,  24.45,  22.85,  28.52,
        26.97,  22.74])</pre>
</div>

</div>

</div>
</div>

</div>
<div class="cell border-box-sizing code_cell rendered">
<div class="input">
<div class="prompt input_prompt">In&nbsp;[39]:</div>
<div class="inner_cell">
    <div class="input_area">
<div class=" highlight hl-ipython2"><pre><span></span><span class="n">yHat</span><span class="o">.</span><span class="n">A</span><span class="o">.</span><span class="n">shape</span>
</pre></div>

</div>
</div>
</div>

<div class="output_wrapper">
<div class="output">


<div class="output_area">

<div class="prompt output_prompt">Out[39]:</div>




<div class="output_text output_subarea output_execute_result">
<pre>(506L, 1L)</pre>
</div>

</div>

</div>
</div>

</div>
 


    </div>
  </div>

  </div>


  
    <footer class="footer hidden-print">
      <div class="container">
        <div class="col-md-4">
          <p>
            This website does not host notebooks, it only renders notebooks
            available on other websites.
          </p>
        </div>

        <div class="col-md-4">
          <p>
            Delivered by <a href="http://www.fastly.com/">Fastly</a>,
            Rendered by <a href="https://developer.rackspace.com/?nbviewer=awesome">Rackspace</a>
          </p>
          <p>
            nbviewer GitHub <a href="https://github.com/jupyter/nbviewer">repository</a>.
          </p>
        </div>

        <div class="col-md-4">
          
  
            
              <p>
                nbviewer version:
                <a href="https://github.com/jupyter/nbviewer/commit/aa567da928dd022ce6a75b6c131a5ef3ff5c211a">
                  aa567da
                </a>
              </p>
            
          
  
  <p>
    nbconvert version: <a href="https://github.com/jupyter/nbconvert/releases/tag/5.3.1">
      5.3.1
    </a>
  </p>
  

          
  
  
  <p>
    Rendered
    <span class='date' data-date='Tue, 23 Oct 2018 19:52:31 UTC' title='Tue, 23 Oct 2018 19:52:31 UTC'>(Tue, 23 Oct 2018 19:52:31 UTC)</span>
  </p>
  

        </div>
      </div>
    </footer>
  

  <script src="/static/components/bootstrap/js/bootstrap.min.js?v=5869c96cc8f19086aee625d670d741f9"></script>
  <script src="/static/components/headroom.js/dist/headroom.min.js?v=b0a311ea668f8e768ea375f4a7abb81c"></script>
  <script src="/static/components/headroom.js/dist/jQuery.headroom.min.js?v=f3a1bae118315d0c234afc74dc6aab71"></script>

  
  
  <script>
    $(function(){ $("#menubar").headroom({
      tolerance: 5,
      offset: 205,
      classes: {
        initial: "animated",
        pinned: "slideInDown",
        unpinned: "slideOutUp"
      }
    })});
  </script>


  
  <script>
    (function(i,s,o,g,r,a,m){i['GoogleAnalyticsObject']=r;i[r]=i[r]||function(){
      (i[r].q=i[r].q||[]).push(arguments)},i[r].l=1*new Date();a=s.createElement(o),
      m=s.getElementsByTagName(o)[0];a.async=1;a.src=g;m.parentNode.insertBefore(a,m)
    })(window,document,'script','https://www.google-analytics.com/analytics.js','ga');
    ga('create', 'UA-52617120-5', 'auto',
       {'storage': 'none'});
    ga('set', 'anonymizeIp', true);
    ga('send', 'pageview');
  </script>
  
  <script>
    require({
        paths: {
          moment: "/static/components/moment/min/moment.min.js?v=89f87298ad94aa1e6b92f42eb66da043"
        }
      }, ["moment"], function(moment){
      var date = $("footer .date"),
        m = moment(new Date(date.data('date'))),
        update = function(){ date.text(m.fromNow()); };
      setInterval(update, 61*1000);
      update();
      var w = $(window).scroll(function(event){
        $("body").toggleClass("scrolled", w.scrollTop() > 0);
      });
    });
  </script>

  <!--NEW RELIC Stop Perf Measurement-->
  
  <!--NEW RELIC End-->
</body>
</html>