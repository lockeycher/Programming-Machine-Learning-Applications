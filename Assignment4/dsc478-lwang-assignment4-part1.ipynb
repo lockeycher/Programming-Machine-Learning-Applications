{
 "cells": [
  {
   "cell_type": "markdown",
   "metadata": {},
   "source": [
    "#  DSC478 - Programming Machine Learning Applications\n",
    "## Assignment 4 - Lavinia Wang"
   ]
  },
  {
   "cell_type": "markdown",
   "metadata": {},
   "source": [
    "### Problem 1. PCA for Reduced Dimensionality in Clustering"
   ]
  },
  {
   "cell_type": "markdown",
   "metadata": {},
   "source": [
    "Use an image segmentation data set for clustering. Experiment with using PCA as an approach to reduce dimensionality and noise in the data. Compare the results of clustering the data with and without PCA using the provided image class assignments as the ground truth. The data set is divided into three files. The file \"segmentation_data.txt\" contains data about images with each line corresponding to one image. Each image is represented by 19 features (these are the columns in the data and correspond to the feature names in the file \"segmentation_names.txt\". The file \"segmentation_classes.txt\" contains the class labels (the type of image) and a numeric class label for each of the corresponding images in the data file. After clustering the image data, you will use the class labels to measure completeness and homogeneity of the generated clusters. The data set used in this problem is based on the Image Segmentation data set at the UCI Machine Learning Repository."
   ]
  },
  {
   "cell_type": "markdown",
   "metadata": {},
   "source": [
    "Dataset: <a href='http://facweb.cs.depaul.edu/mobasher/classes/CSC478/Data/segmentation_data.zip'>segmentation_data.zip</a> Dataset description <a href='http://archive.ics.uci.edu/ml/datasets/Image+Segmentation'>here</a>"
   ]
  },
  {
   "cell_type": "code",
   "execution_count": 17,
   "metadata": {},
   "outputs": [],
   "source": [
    "# Import modules\n",
    "import numpy as np\n",
    "import pandas as pd\n",
    "import matplotlib.pyplot as plt\n",
    "%matplotlib inline\n",
    "import os \n",
    "\n",
    "from sklearn import preprocessing\n",
    "from sklearn.cluster import KMeans\n",
    "from sklearn.metrics import completeness_score, homogeneity_score\n",
    "from sklearn import decomposition"
   ]
  },
  {
   "cell_type": "code",
   "execution_count": 2,
   "metadata": {},
   "outputs": [],
   "source": [
    "# Change working directory\n",
    "os.chdir('/resources/CSC478/Assignment4')"
   ]
  },
  {
   "cell_type": "markdown",
   "metadata": {},
   "source": [
    "#### a. Load in the image data matrix (with rows as images and columns as features). Also load in the numeric class labels from the segmentation class file. Using your favorite method (e.g., sklearn's min-max scaler), perform min-max normalization on the data matrix so that each feature is scaled to [0,1] range."
   ]
  },
  {
   "cell_type": "code",
   "execution_count": 3,
   "metadata": {},
   "outputs": [],
   "source": [
    "# Load in column names\n",
    "col_df = pd.read_table(\"segmentation_names.txt\", header = None)\n",
    "#col_df"
   ]
  },
  {
   "cell_type": "code",
   "execution_count": 4,
   "metadata": {},
   "outputs": [
    {
     "data": {
      "text/plain": [
       "['REGION-CENTROID-COL',\n",
       " 'REGION-CENTROID-ROW',\n",
       " 'REGION-PIXEL-COUNT',\n",
       " 'SHORT-LINE-DENSITY-5',\n",
       " 'SHORT-LINE-DENSITY-2',\n",
       " 'VEDGE-MEAN',\n",
       " 'VEDGE-SD',\n",
       " 'HEDGE-MEAN',\n",
       " 'HEDGE-SD',\n",
       " 'INTENSITY-MEAN',\n",
       " 'RAWRED-MEAN',\n",
       " 'RAWBLUE-MEAN',\n",
       " 'RAWGREEN-MEAN',\n",
       " 'EXRED-MEAN',\n",
       " 'EXBLUE-MEAN',\n",
       " 'EXGREEN-MEAN',\n",
       " 'VALUE-MEAN',\n",
       " 'SATURATION-MEAN',\n",
       " 'HUE-MEAN']"
      ]
     },
     "execution_count": 4,
     "metadata": {},
     "output_type": "execute_result"
    }
   ],
   "source": [
    "# Convert to list to be passed as an argument to 'names' in pd.read_table\n",
    "col_name = col_df[0].tolist()\n",
    "col_name"
   ]
  },
  {
   "cell_type": "code",
   "execution_count": 5,
   "metadata": {},
   "outputs": [
    {
     "data": {
      "text/html": [
       "<div>\n",
       "<style scoped>\n",
       "    .dataframe tbody tr th:only-of-type {\n",
       "        vertical-align: middle;\n",
       "    }\n",
       "\n",
       "    .dataframe tbody tr th {\n",
       "        vertical-align: top;\n",
       "    }\n",
       "\n",
       "    .dataframe thead th {\n",
       "        text-align: right;\n",
       "    }\n",
       "</style>\n",
       "<table border=\"1\" class=\"dataframe\">\n",
       "  <thead>\n",
       "    <tr style=\"text-align: right;\">\n",
       "      <th></th>\n",
       "      <th>REGION-CENTROID-COL</th>\n",
       "      <th>REGION-CENTROID-ROW</th>\n",
       "      <th>REGION-PIXEL-COUNT</th>\n",
       "      <th>SHORT-LINE-DENSITY-5</th>\n",
       "      <th>SHORT-LINE-DENSITY-2</th>\n",
       "      <th>VEDGE-MEAN</th>\n",
       "      <th>VEDGE-SD</th>\n",
       "      <th>HEDGE-MEAN</th>\n",
       "      <th>HEDGE-SD</th>\n",
       "      <th>INTENSITY-MEAN</th>\n",
       "      <th>RAWRED-MEAN</th>\n",
       "      <th>RAWBLUE-MEAN</th>\n",
       "      <th>RAWGREEN-MEAN</th>\n",
       "      <th>EXRED-MEAN</th>\n",
       "      <th>EXBLUE-MEAN</th>\n",
       "      <th>EXGREEN-MEAN</th>\n",
       "      <th>VALUE-MEAN</th>\n",
       "      <th>SATURATION-MEAN</th>\n",
       "      <th>HUE-MEAN</th>\n",
       "    </tr>\n",
       "  </thead>\n",
       "  <tbody>\n",
       "    <tr>\n",
       "      <th>0</th>\n",
       "      <td>110.0</td>\n",
       "      <td>189.0</td>\n",
       "      <td>9</td>\n",
       "      <td>0.000000</td>\n",
       "      <td>0.0</td>\n",
       "      <td>1.000000</td>\n",
       "      <td>0.666667</td>\n",
       "      <td>1.222222</td>\n",
       "      <td>1.186342</td>\n",
       "      <td>12.925926</td>\n",
       "      <td>10.888889</td>\n",
       "      <td>9.222222</td>\n",
       "      <td>18.666668</td>\n",
       "      <td>-6.111111</td>\n",
       "      <td>-11.111111</td>\n",
       "      <td>17.222221</td>\n",
       "      <td>18.666668</td>\n",
       "      <td>0.508139</td>\n",
       "      <td>1.910864</td>\n",
       "    </tr>\n",
       "    <tr>\n",
       "      <th>1</th>\n",
       "      <td>86.0</td>\n",
       "      <td>187.0</td>\n",
       "      <td>9</td>\n",
       "      <td>0.000000</td>\n",
       "      <td>0.0</td>\n",
       "      <td>1.111111</td>\n",
       "      <td>0.720082</td>\n",
       "      <td>1.444444</td>\n",
       "      <td>0.750309</td>\n",
       "      <td>13.740741</td>\n",
       "      <td>11.666667</td>\n",
       "      <td>10.333334</td>\n",
       "      <td>19.222221</td>\n",
       "      <td>-6.222222</td>\n",
       "      <td>-10.222222</td>\n",
       "      <td>16.444445</td>\n",
       "      <td>19.222221</td>\n",
       "      <td>0.463329</td>\n",
       "      <td>1.941465</td>\n",
       "    </tr>\n",
       "    <tr>\n",
       "      <th>2</th>\n",
       "      <td>225.0</td>\n",
       "      <td>244.0</td>\n",
       "      <td>9</td>\n",
       "      <td>0.000000</td>\n",
       "      <td>0.0</td>\n",
       "      <td>3.388889</td>\n",
       "      <td>2.195113</td>\n",
       "      <td>3.000000</td>\n",
       "      <td>1.520234</td>\n",
       "      <td>12.259259</td>\n",
       "      <td>10.333334</td>\n",
       "      <td>9.333334</td>\n",
       "      <td>17.111110</td>\n",
       "      <td>-5.777778</td>\n",
       "      <td>-8.777778</td>\n",
       "      <td>14.555555</td>\n",
       "      <td>17.111110</td>\n",
       "      <td>0.480149</td>\n",
       "      <td>1.987902</td>\n",
       "    </tr>\n",
       "    <tr>\n",
       "      <th>3</th>\n",
       "      <td>47.0</td>\n",
       "      <td>232.0</td>\n",
       "      <td>9</td>\n",
       "      <td>0.000000</td>\n",
       "      <td>0.0</td>\n",
       "      <td>1.277778</td>\n",
       "      <td>1.254621</td>\n",
       "      <td>1.000000</td>\n",
       "      <td>0.894427</td>\n",
       "      <td>12.703704</td>\n",
       "      <td>11.000000</td>\n",
       "      <td>9.000000</td>\n",
       "      <td>18.111110</td>\n",
       "      <td>-5.111111</td>\n",
       "      <td>-11.111111</td>\n",
       "      <td>16.222221</td>\n",
       "      <td>18.111110</td>\n",
       "      <td>0.500966</td>\n",
       "      <td>1.875362</td>\n",
       "    </tr>\n",
       "    <tr>\n",
       "      <th>4</th>\n",
       "      <td>97.0</td>\n",
       "      <td>186.0</td>\n",
       "      <td>9</td>\n",
       "      <td>0.000000</td>\n",
       "      <td>0.0</td>\n",
       "      <td>1.166667</td>\n",
       "      <td>0.691215</td>\n",
       "      <td>1.166667</td>\n",
       "      <td>1.005540</td>\n",
       "      <td>15.592592</td>\n",
       "      <td>13.888889</td>\n",
       "      <td>11.777778</td>\n",
       "      <td>21.111110</td>\n",
       "      <td>-5.111111</td>\n",
       "      <td>-11.444445</td>\n",
       "      <td>16.555555</td>\n",
       "      <td>21.111110</td>\n",
       "      <td>0.442661</td>\n",
       "      <td>1.863654</td>\n",
       "    </tr>\n",
       "    <tr>\n",
       "      <th>5</th>\n",
       "      <td>157.0</td>\n",
       "      <td>221.0</td>\n",
       "      <td>9</td>\n",
       "      <td>0.000000</td>\n",
       "      <td>0.0</td>\n",
       "      <td>1.055556</td>\n",
       "      <td>0.646930</td>\n",
       "      <td>1.222222</td>\n",
       "      <td>0.620633</td>\n",
       "      <td>12.111111</td>\n",
       "      <td>10.222222</td>\n",
       "      <td>8.111112</td>\n",
       "      <td>18.000000</td>\n",
       "      <td>-5.666666</td>\n",
       "      <td>-12.000000</td>\n",
       "      <td>17.666666</td>\n",
       "      <td>18.000000</td>\n",
       "      <td>0.549180</td>\n",
       "      <td>1.877146</td>\n",
       "    </tr>\n",
       "    <tr>\n",
       "      <th>6</th>\n",
       "      <td>62.0</td>\n",
       "      <td>224.0</td>\n",
       "      <td>9</td>\n",
       "      <td>0.000000</td>\n",
       "      <td>0.0</td>\n",
       "      <td>0.944445</td>\n",
       "      <td>1.083547</td>\n",
       "      <td>2.333333</td>\n",
       "      <td>1.632993</td>\n",
       "      <td>14.629630</td>\n",
       "      <td>13.222222</td>\n",
       "      <td>11.444445</td>\n",
       "      <td>19.222221</td>\n",
       "      <td>-4.222222</td>\n",
       "      <td>-9.555555</td>\n",
       "      <td>13.777778</td>\n",
       "      <td>19.222221</td>\n",
       "      <td>0.408965</td>\n",
       "      <td>1.860191</td>\n",
       "    </tr>\n",
       "    <tr>\n",
       "      <th>7</th>\n",
       "      <td>27.0</td>\n",
       "      <td>248.0</td>\n",
       "      <td>9</td>\n",
       "      <td>0.111111</td>\n",
       "      <td>0.0</td>\n",
       "      <td>1.611111</td>\n",
       "      <td>0.646930</td>\n",
       "      <td>3.166667</td>\n",
       "      <td>1.722401</td>\n",
       "      <td>15.296296</td>\n",
       "      <td>14.777778</td>\n",
       "      <td>12.888889</td>\n",
       "      <td>18.222221</td>\n",
       "      <td>-1.555556</td>\n",
       "      <td>-7.222222</td>\n",
       "      <td>8.777778</td>\n",
       "      <td>18.222221</td>\n",
       "      <td>0.312227</td>\n",
       "      <td>1.783512</td>\n",
       "    </tr>\n",
       "    <tr>\n",
       "      <th>8</th>\n",
       "      <td>44.0</td>\n",
       "      <td>233.0</td>\n",
       "      <td>9</td>\n",
       "      <td>0.000000</td>\n",
       "      <td>0.0</td>\n",
       "      <td>2.222222</td>\n",
       "      <td>2.146487</td>\n",
       "      <td>2.111111</td>\n",
       "      <td>1.327766</td>\n",
       "      <td>14.481482</td>\n",
       "      <td>12.555555</td>\n",
       "      <td>11.333333</td>\n",
       "      <td>19.555555</td>\n",
       "      <td>-5.777778</td>\n",
       "      <td>-9.444445</td>\n",
       "      <td>15.222222</td>\n",
       "      <td>19.555555</td>\n",
       "      <td>0.422174</td>\n",
       "      <td>1.950405</td>\n",
       "    </tr>\n",
       "    <tr>\n",
       "      <th>9</th>\n",
       "      <td>17.0</td>\n",
       "      <td>229.0</td>\n",
       "      <td>9</td>\n",
       "      <td>0.000000</td>\n",
       "      <td>0.0</td>\n",
       "      <td>2.111111</td>\n",
       "      <td>1.985130</td>\n",
       "      <td>2.444445</td>\n",
       "      <td>1.614747</td>\n",
       "      <td>13.703704</td>\n",
       "      <td>11.222222</td>\n",
       "      <td>11.111111</td>\n",
       "      <td>18.777779</td>\n",
       "      <td>-7.444445</td>\n",
       "      <td>-7.777778</td>\n",
       "      <td>15.222222</td>\n",
       "      <td>18.777779</td>\n",
       "      <td>0.439852</td>\n",
       "      <td>2.099904</td>\n",
       "    </tr>\n",
       "  </tbody>\n",
       "</table>\n",
       "</div>"
      ],
      "text/plain": [
       "   REGION-CENTROID-COL  REGION-CENTROID-ROW  REGION-PIXEL-COUNT  \\\n",
       "0                110.0                189.0                   9   \n",
       "1                 86.0                187.0                   9   \n",
       "2                225.0                244.0                   9   \n",
       "3                 47.0                232.0                   9   \n",
       "4                 97.0                186.0                   9   \n",
       "5                157.0                221.0                   9   \n",
       "6                 62.0                224.0                   9   \n",
       "7                 27.0                248.0                   9   \n",
       "8                 44.0                233.0                   9   \n",
       "9                 17.0                229.0                   9   \n",
       "\n",
       "   SHORT-LINE-DENSITY-5  SHORT-LINE-DENSITY-2  VEDGE-MEAN  VEDGE-SD  \\\n",
       "0              0.000000                   0.0    1.000000  0.666667   \n",
       "1              0.000000                   0.0    1.111111  0.720082   \n",
       "2              0.000000                   0.0    3.388889  2.195113   \n",
       "3              0.000000                   0.0    1.277778  1.254621   \n",
       "4              0.000000                   0.0    1.166667  0.691215   \n",
       "5              0.000000                   0.0    1.055556  0.646930   \n",
       "6              0.000000                   0.0    0.944445  1.083547   \n",
       "7              0.111111                   0.0    1.611111  0.646930   \n",
       "8              0.000000                   0.0    2.222222  2.146487   \n",
       "9              0.000000                   0.0    2.111111  1.985130   \n",
       "\n",
       "   HEDGE-MEAN  HEDGE-SD  INTENSITY-MEAN  RAWRED-MEAN  RAWBLUE-MEAN  \\\n",
       "0    1.222222  1.186342       12.925926    10.888889      9.222222   \n",
       "1    1.444444  0.750309       13.740741    11.666667     10.333334   \n",
       "2    3.000000  1.520234       12.259259    10.333334      9.333334   \n",
       "3    1.000000  0.894427       12.703704    11.000000      9.000000   \n",
       "4    1.166667  1.005540       15.592592    13.888889     11.777778   \n",
       "5    1.222222  0.620633       12.111111    10.222222      8.111112   \n",
       "6    2.333333  1.632993       14.629630    13.222222     11.444445   \n",
       "7    3.166667  1.722401       15.296296    14.777778     12.888889   \n",
       "8    2.111111  1.327766       14.481482    12.555555     11.333333   \n",
       "9    2.444445  1.614747       13.703704    11.222222     11.111111   \n",
       "\n",
       "   RAWGREEN-MEAN  EXRED-MEAN  EXBLUE-MEAN  EXGREEN-MEAN  VALUE-MEAN  \\\n",
       "0      18.666668   -6.111111   -11.111111     17.222221   18.666668   \n",
       "1      19.222221   -6.222222   -10.222222     16.444445   19.222221   \n",
       "2      17.111110   -5.777778    -8.777778     14.555555   17.111110   \n",
       "3      18.111110   -5.111111   -11.111111     16.222221   18.111110   \n",
       "4      21.111110   -5.111111   -11.444445     16.555555   21.111110   \n",
       "5      18.000000   -5.666666   -12.000000     17.666666   18.000000   \n",
       "6      19.222221   -4.222222    -9.555555     13.777778   19.222221   \n",
       "7      18.222221   -1.555556    -7.222222      8.777778   18.222221   \n",
       "8      19.555555   -5.777778    -9.444445     15.222222   19.555555   \n",
       "9      18.777779   -7.444445    -7.777778     15.222222   18.777779   \n",
       "\n",
       "   SATURATION-MEAN  HUE-MEAN  \n",
       "0         0.508139  1.910864  \n",
       "1         0.463329  1.941465  \n",
       "2         0.480149  1.987902  \n",
       "3         0.500966  1.875362  \n",
       "4         0.442661  1.863654  \n",
       "5         0.549180  1.877146  \n",
       "6         0.408965  1.860191  \n",
       "7         0.312227  1.783512  \n",
       "8         0.422174  1.950405  \n",
       "9         0.439852  2.099904  "
      ]
     },
     "execution_count": 5,
     "metadata": {},
     "output_type": "execute_result"
    }
   ],
   "source": [
    "# Load in the image data matrix\n",
    "img_df = pd.read_table(\"segmentation_data.txt\", sep = \",\", header = None, names = col_name)\n",
    "img_df.head(10)"
   ]
  },
  {
   "cell_type": "code",
   "execution_count": 6,
   "metadata": {},
   "outputs": [
    {
     "data": {
      "text/plain": [
       "(2100, 19)"
      ]
     },
     "execution_count": 6,
     "metadata": {},
     "output_type": "execute_result"
    }
   ],
   "source": [
    "img_df.shape"
   ]
  },
  {
   "cell_type": "code",
   "execution_count": 7,
   "metadata": {},
   "outputs": [
    {
     "data": {
      "text/html": [
       "<div>\n",
       "<style scoped>\n",
       "    .dataframe tbody tr th:only-of-type {\n",
       "        vertical-align: middle;\n",
       "    }\n",
       "\n",
       "    .dataframe tbody tr th {\n",
       "        vertical-align: top;\n",
       "    }\n",
       "\n",
       "    .dataframe thead th {\n",
       "        text-align: right;\n",
       "    }\n",
       "</style>\n",
       "<table border=\"1\" class=\"dataframe\">\n",
       "  <thead>\n",
       "    <tr style=\"text-align: right;\">\n",
       "      <th></th>\n",
       "      <th>Class Description</th>\n",
       "      <th>Class Code</th>\n",
       "    </tr>\n",
       "  </thead>\n",
       "  <tbody>\n",
       "    <tr>\n",
       "      <th>0</th>\n",
       "      <td>GRASS</td>\n",
       "      <td>0</td>\n",
       "    </tr>\n",
       "    <tr>\n",
       "      <th>1</th>\n",
       "      <td>GRASS</td>\n",
       "      <td>0</td>\n",
       "    </tr>\n",
       "    <tr>\n",
       "      <th>2</th>\n",
       "      <td>GRASS</td>\n",
       "      <td>0</td>\n",
       "    </tr>\n",
       "    <tr>\n",
       "      <th>3</th>\n",
       "      <td>GRASS</td>\n",
       "      <td>0</td>\n",
       "    </tr>\n",
       "    <tr>\n",
       "      <th>4</th>\n",
       "      <td>GRASS</td>\n",
       "      <td>0</td>\n",
       "    </tr>\n",
       "  </tbody>\n",
       "</table>\n",
       "</div>"
      ],
      "text/plain": [
       "  Class Description  Class Code\n",
       "0             GRASS           0\n",
       "1             GRASS           0\n",
       "2             GRASS           0\n",
       "3             GRASS           0\n",
       "4             GRASS           0"
      ]
     },
     "execution_count": 7,
     "metadata": {},
     "output_type": "execute_result"
    }
   ],
   "source": [
    "# Load in classs data - naming columns as Class Description and Class Code\n",
    "\n",
    "labels = pd.read_table('segmentation_classes.txt',sep='\\t', header=None, names=['Class Description', 'Class Code'])\n",
    "labels.head()"
   ]
  },
  {
   "cell_type": "code",
   "execution_count": 8,
   "metadata": {},
   "outputs": [
    {
     "data": {
      "text/plain": [
       "(2100, 2)"
      ]
     },
     "execution_count": 8,
     "metadata": {},
     "output_type": "execute_result"
    }
   ],
   "source": [
    "labels.shape"
   ]
  },
  {
   "cell_type": "code",
   "execution_count": 9,
   "metadata": {},
   "outputs": [
    {
     "data": {
      "text/plain": [
       "array([[0.43, 0.74, 0.  , 0.  , 0.  , 0.03, 0.  , 0.03, 0.  , 0.09, 0.08,\n",
       "        0.06, 0.13, 0.73, 0.01, 0.87, 0.12, 0.51, 0.83],\n",
       "       [0.34, 0.73, 0.  , 0.  , 0.  , 0.04, 0.  , 0.03, 0.  , 0.1 , 0.09,\n",
       "        0.07, 0.13, 0.73, 0.02, 0.86, 0.13, 0.46, 0.84],\n",
       "       [0.89, 0.97, 0.  , 0.  , 0.  , 0.12, 0.  , 0.07, 0.  , 0.09, 0.08,\n",
       "        0.06, 0.12, 0.74, 0.04, 0.83, 0.11, 0.48, 0.84],\n",
       "       [0.18, 0.92, 0.  , 0.  , 0.  , 0.04, 0.  , 0.02, 0.  , 0.09, 0.08,\n",
       "        0.06, 0.13, 0.75, 0.01, 0.86, 0.12, 0.5 , 0.83],\n",
       "       [0.38, 0.73, 0.  , 0.  , 0.  , 0.04, 0.  , 0.03, 0.  , 0.11, 0.1 ,\n",
       "        0.08, 0.15, 0.75, 0.01, 0.86, 0.14, 0.44, 0.82]])"
      ]
     },
     "execution_count": 9,
     "metadata": {},
     "output_type": "execute_result"
    }
   ],
   "source": [
    "# Perform min max normalization\n",
    "min_max_scaler = preprocessing.MinMaxScaler()\n",
    "img_norm = min_max_scaler.fit_transform(img_df)\n",
    "\n",
    "np.set_printoptions(precision=2, suppress=True)\n",
    "img_norm[0:5]"
   ]
  },
  {
   "cell_type": "code",
   "execution_count": 10,
   "metadata": {},
   "outputs": [
    {
     "data": {
      "text/plain": [
       "(2100, 19)"
      ]
     },
     "execution_count": 10,
     "metadata": {},
     "output_type": "execute_result"
    }
   ],
   "source": [
    "img_norm.shape"
   ]
  },
  {
   "cell_type": "markdown",
   "metadata": {},
   "source": [
    "#### b. Next, Perform Kmeans clustering (for this problem, use the Kmeans implementation in scikit-learn) on the image data (since there are a total 7 pre-assigned image classes, you should use K = 7 in your clustering). Use Euclidean distance as your distance measure for the clustering. Print the cluster centroids (use some formatting so that they are visually understandable). Compare your 7 clusters to the 7 pre-assigned classes by computing the Completeness and Homogeneity values of the generated clusters."
   ]
  },
  {
   "cell_type": "code",
   "execution_count": 11,
   "metadata": {},
   "outputs": [],
   "source": [
    "# KMeans from sklearn\n",
    "kmeans = KMeans(n_clusters = 7)"
   ]
  },
  {
   "cell_type": "code",
   "execution_count": 12,
   "metadata": {},
   "outputs": [
    {
     "data": {
      "text/plain": [
       "KMeans(algorithm='auto', copy_x=True, init='k-means++', max_iter=300,\n",
       "    n_clusters=7, n_init=10, n_jobs=1, precompute_distances='auto',\n",
       "    random_state=None, tol=0.0001, verbose=0)"
      ]
     },
     "execution_count": 12,
     "metadata": {},
     "output_type": "execute_result"
    }
   ],
   "source": [
    "# Fitting the data\n",
    "kmeans.fit(img_norm)"
   ]
  },
  {
   "cell_type": "code",
   "execution_count": 13,
   "metadata": {},
   "outputs": [
    {
     "data": {
      "text/plain": [
       "array([1, 1, 1, ..., 2, 2, 5], dtype=int32)"
      ]
     },
     "execution_count": 13,
     "metadata": {},
     "output_type": "execute_result"
    }
   ],
   "source": [
    "kmeans.labels_"
   ]
  },
  {
   "cell_type": "code",
   "execution_count": 14,
   "metadata": {},
   "outputs": [
    {
     "data": {
      "text/plain": [
       "array([[0.3 , 0.53, 0.  , 0.05, 0.05, 0.1 , 0.01, 0.08, 0.01, 0.4 , 0.37,\n",
       "        0.47, 0.35, 0.5 , 0.57, 0.21, 0.47, 0.3 , 0.16],\n",
       "       [0.51, 0.81, 0.  , 0.08, 0.01, 0.05, 0.  , 0.05, 0.  , 0.11, 0.09,\n",
       "        0.09, 0.14, 0.68, 0.08, 0.82, 0.13, 0.41, 0.89],\n",
       "       [0.77, 0.43, 0.  , 0.01, 0.02, 0.04, 0.  , 0.02, 0.  , 0.04, 0.03,\n",
       "        0.06, 0.03, 0.78, 0.22, 0.49, 0.06, 0.54, 0.24],\n",
       "       [0.54, 0.15, 0.  , 0.03, 0.  , 0.03, 0.  , 0.03, 0.  , 0.82, 0.78,\n",
       "        0.89, 0.79, 0.27, 0.67, 0.29, 0.89, 0.21, 0.13],\n",
       "       [0.25, 0.46, 0.  , 0.03, 0.01, 0.04, 0.  , 0.03, 0.  , 0.03, 0.02,\n",
       "        0.04, 0.02, 0.77, 0.22, 0.51, 0.04, 0.8 , 0.18],\n",
       "       [0.26, 0.39, 0.  , 0.07, 0.02, 0.08, 0.  , 0.06, 0.  , 0.15, 0.14,\n",
       "        0.19, 0.12, 0.72, 0.34, 0.36, 0.19, 0.41, 0.2 ],\n",
       "       [0.75, 0.53, 0.  , 0.04, 0.04, 0.11, 0.02, 0.11, 0.02, 0.3 , 0.28,\n",
       "        0.35, 0.27, 0.59, 0.45, 0.31, 0.35, 0.3 , 0.16]])"
      ]
     },
     "execution_count": 14,
     "metadata": {},
     "output_type": "execute_result"
    }
   ],
   "source": [
    "kmeans.cluster_centers_"
   ]
  },
  {
   "cell_type": "code",
   "execution_count": 15,
   "metadata": {},
   "outputs": [
    {
     "data": {
      "text/html": [
       "<div>\n",
       "<style scoped>\n",
       "    .dataframe tbody tr th:only-of-type {\n",
       "        vertical-align: middle;\n",
       "    }\n",
       "\n",
       "    .dataframe tbody tr th {\n",
       "        vertical-align: top;\n",
       "    }\n",
       "\n",
       "    .dataframe thead th {\n",
       "        text-align: right;\n",
       "    }\n",
       "</style>\n",
       "<table border=\"1\" class=\"dataframe\">\n",
       "  <thead>\n",
       "    <tr style=\"text-align: right;\">\n",
       "      <th></th>\n",
       "      <th>Cluster 1</th>\n",
       "      <th>Cluster 2</th>\n",
       "      <th>Cluster 3</th>\n",
       "      <th>Cluster 4</th>\n",
       "      <th>Cluster 5</th>\n",
       "      <th>Cluster 6</th>\n",
       "      <th>Cluster 7</th>\n",
       "    </tr>\n",
       "  </thead>\n",
       "  <tbody>\n",
       "    <tr>\n",
       "      <th>REGION-CENTROID-COL</th>\n",
       "      <td>0.302506</td>\n",
       "      <td>0.513994</td>\n",
       "      <td>0.768928</td>\n",
       "      <td>0.535099</td>\n",
       "      <td>0.253603</td>\n",
       "      <td>0.256103</td>\n",
       "      <td>0.751340</td>\n",
       "    </tr>\n",
       "    <tr>\n",
       "      <th>REGION-CENTROID-ROW</th>\n",
       "      <td>0.530862</td>\n",
       "      <td>0.808937</td>\n",
       "      <td>0.425538</td>\n",
       "      <td>0.150167</td>\n",
       "      <td>0.459865</td>\n",
       "      <td>0.393468</td>\n",
       "      <td>0.534126</td>\n",
       "    </tr>\n",
       "    <tr>\n",
       "      <th>REGION-PIXEL-COUNT</th>\n",
       "      <td>0.000000</td>\n",
       "      <td>0.000000</td>\n",
       "      <td>0.000000</td>\n",
       "      <td>0.000000</td>\n",
       "      <td>0.000000</td>\n",
       "      <td>0.000000</td>\n",
       "      <td>0.000000</td>\n",
       "    </tr>\n",
       "    <tr>\n",
       "      <th>SHORT-LINE-DENSITY-5</th>\n",
       "      <td>0.052260</td>\n",
       "      <td>0.077441</td>\n",
       "      <td>0.013978</td>\n",
       "      <td>0.027778</td>\n",
       "      <td>0.026346</td>\n",
       "      <td>0.074510</td>\n",
       "      <td>0.039877</td>\n",
       "    </tr>\n",
       "    <tr>\n",
       "      <th>SHORT-LINE-DENSITY-2</th>\n",
       "      <td>0.046610</td>\n",
       "      <td>0.005051</td>\n",
       "      <td>0.022581</td>\n",
       "      <td>0.001667</td>\n",
       "      <td>0.013746</td>\n",
       "      <td>0.019118</td>\n",
       "      <td>0.038344</td>\n",
       "    </tr>\n",
       "    <tr>\n",
       "      <th>VEDGE-MEAN</th>\n",
       "      <td>0.100817</td>\n",
       "      <td>0.054474</td>\n",
       "      <td>0.039642</td>\n",
       "      <td>0.030228</td>\n",
       "      <td>0.037337</td>\n",
       "      <td>0.077343</td>\n",
       "      <td>0.114692</td>\n",
       "    </tr>\n",
       "    <tr>\n",
       "      <th>VEDGE-SD</th>\n",
       "      <td>0.009420</td>\n",
       "      <td>0.001407</td>\n",
       "      <td>0.002975</td>\n",
       "      <td>0.000543</td>\n",
       "      <td>0.002370</td>\n",
       "      <td>0.004100</td>\n",
       "      <td>0.019257</td>\n",
       "    </tr>\n",
       "    <tr>\n",
       "      <th>HEDGE-MEAN</th>\n",
       "      <td>0.083972</td>\n",
       "      <td>0.046335</td>\n",
       "      <td>0.023078</td>\n",
       "      <td>0.026766</td>\n",
       "      <td>0.027901</td>\n",
       "      <td>0.060574</td>\n",
       "      <td>0.109008</td>\n",
       "    </tr>\n",
       "    <tr>\n",
       "      <th>HEDGE-SD</th>\n",
       "      <td>0.011043</td>\n",
       "      <td>0.001401</td>\n",
       "      <td>0.002089</td>\n",
       "      <td>0.000587</td>\n",
       "      <td>0.002022</td>\n",
       "      <td>0.004967</td>\n",
       "      <td>0.017945</td>\n",
       "    </tr>\n",
       "    <tr>\n",
       "      <th>INTENSITY-MEAN</th>\n",
       "      <td>0.400608</td>\n",
       "      <td>0.108790</td>\n",
       "      <td>0.040778</td>\n",
       "      <td>0.823246</td>\n",
       "      <td>0.025942</td>\n",
       "      <td>0.148187</td>\n",
       "      <td>0.300518</td>\n",
       "    </tr>\n",
       "    <tr>\n",
       "      <th>RAWRED-MEAN</th>\n",
       "      <td>0.370347</td>\n",
       "      <td>0.091403</td>\n",
       "      <td>0.034755</td>\n",
       "      <td>0.779716</td>\n",
       "      <td>0.017775</td>\n",
       "      <td>0.138085</td>\n",
       "      <td>0.279477</td>\n",
       "    </tr>\n",
       "    <tr>\n",
       "      <th>RAWBLUE-MEAN</th>\n",
       "      <td>0.472461</td>\n",
       "      <td>0.092414</td>\n",
       "      <td>0.057870</td>\n",
       "      <td>0.894170</td>\n",
       "      <td>0.042280</td>\n",
       "      <td>0.185160</td>\n",
       "      <td>0.352257</td>\n",
       "    </tr>\n",
       "    <tr>\n",
       "      <th>RAWGREEN-MEAN</th>\n",
       "      <td>0.353036</td>\n",
       "      <td>0.142676</td>\n",
       "      <td>0.028416</td>\n",
       "      <td>0.788761</td>\n",
       "      <td>0.016464</td>\n",
       "      <td>0.118539</td>\n",
       "      <td>0.265523</td>\n",
       "    </tr>\n",
       "    <tr>\n",
       "      <th>EXRED-MEAN</th>\n",
       "      <td>0.497146</td>\n",
       "      <td>0.679161</td>\n",
       "      <td>0.779345</td>\n",
       "      <td>0.270665</td>\n",
       "      <td>0.769272</td>\n",
       "      <td>0.716906</td>\n",
       "      <td>0.592757</td>\n",
       "    </tr>\n",
       "    <tr>\n",
       "      <th>EXBLUE-MEAN</th>\n",
       "      <td>0.570882</td>\n",
       "      <td>0.079002</td>\n",
       "      <td>0.223328</td>\n",
       "      <td>0.666373</td>\n",
       "      <td>0.216204</td>\n",
       "      <td>0.344014</td>\n",
       "      <td>0.450812</td>\n",
       "    </tr>\n",
       "    <tr>\n",
       "      <th>EXGREEN-MEAN</th>\n",
       "      <td>0.213054</td>\n",
       "      <td>0.821287</td>\n",
       "      <td>0.486607</td>\n",
       "      <td>0.289386</td>\n",
       "      <td>0.508343</td>\n",
       "      <td>0.355458</td>\n",
       "      <td>0.309473</td>\n",
       "    </tr>\n",
       "    <tr>\n",
       "      <th>VALUE-MEAN</th>\n",
       "      <td>0.472461</td>\n",
       "      <td>0.134901</td>\n",
       "      <td>0.058844</td>\n",
       "      <td>0.894170</td>\n",
       "      <td>0.043251</td>\n",
       "      <td>0.185413</td>\n",
       "      <td>0.352341</td>\n",
       "    </tr>\n",
       "    <tr>\n",
       "      <th>SATURATION-MEAN</th>\n",
       "      <td>0.302263</td>\n",
       "      <td>0.414491</td>\n",
       "      <td>0.538716</td>\n",
       "      <td>0.211804</td>\n",
       "      <td>0.802618</td>\n",
       "      <td>0.411986</td>\n",
       "      <td>0.302533</td>\n",
       "    </tr>\n",
       "    <tr>\n",
       "      <th>HUE-MEAN</th>\n",
       "      <td>0.163879</td>\n",
       "      <td>0.892333</td>\n",
       "      <td>0.244663</td>\n",
       "      <td>0.125066</td>\n",
       "      <td>0.180506</td>\n",
       "      <td>0.201890</td>\n",
       "      <td>0.164732</td>\n",
       "    </tr>\n",
       "  </tbody>\n",
       "</table>\n",
       "</div>"
      ],
      "text/plain": [
       "                      Cluster 1  Cluster 2  Cluster 3  Cluster 4  Cluster 5  \\\n",
       "REGION-CENTROID-COL    0.302506   0.513994   0.768928   0.535099   0.253603   \n",
       "REGION-CENTROID-ROW    0.530862   0.808937   0.425538   0.150167   0.459865   \n",
       "REGION-PIXEL-COUNT     0.000000   0.000000   0.000000   0.000000   0.000000   \n",
       "SHORT-LINE-DENSITY-5   0.052260   0.077441   0.013978   0.027778   0.026346   \n",
       "SHORT-LINE-DENSITY-2   0.046610   0.005051   0.022581   0.001667   0.013746   \n",
       "VEDGE-MEAN             0.100817   0.054474   0.039642   0.030228   0.037337   \n",
       "VEDGE-SD               0.009420   0.001407   0.002975   0.000543   0.002370   \n",
       "HEDGE-MEAN             0.083972   0.046335   0.023078   0.026766   0.027901   \n",
       "HEDGE-SD               0.011043   0.001401   0.002089   0.000587   0.002022   \n",
       "INTENSITY-MEAN         0.400608   0.108790   0.040778   0.823246   0.025942   \n",
       "RAWRED-MEAN            0.370347   0.091403   0.034755   0.779716   0.017775   \n",
       "RAWBLUE-MEAN           0.472461   0.092414   0.057870   0.894170   0.042280   \n",
       "RAWGREEN-MEAN          0.353036   0.142676   0.028416   0.788761   0.016464   \n",
       "EXRED-MEAN             0.497146   0.679161   0.779345   0.270665   0.769272   \n",
       "EXBLUE-MEAN            0.570882   0.079002   0.223328   0.666373   0.216204   \n",
       "EXGREEN-MEAN           0.213054   0.821287   0.486607   0.289386   0.508343   \n",
       "VALUE-MEAN             0.472461   0.134901   0.058844   0.894170   0.043251   \n",
       "SATURATION-MEAN        0.302263   0.414491   0.538716   0.211804   0.802618   \n",
       "HUE-MEAN               0.163879   0.892333   0.244663   0.125066   0.180506   \n",
       "\n",
       "                       Cluster 6  Cluster 7  \n",
       "REGION-CENTROID-COL     0.256103   0.751340  \n",
       "REGION-CENTROID-ROW     0.393468   0.534126  \n",
       "REGION-PIXEL-COUNT      0.000000   0.000000  \n",
       "SHORT-LINE-DENSITY-5    0.074510   0.039877  \n",
       "SHORT-LINE-DENSITY-2    0.019118   0.038344  \n",
       "VEDGE-MEAN              0.077343   0.114692  \n",
       "VEDGE-SD                0.004100   0.019257  \n",
       "HEDGE-MEAN              0.060574   0.109008  \n",
       "HEDGE-SD                0.004967   0.017945  \n",
       "INTENSITY-MEAN          0.148187   0.300518  \n",
       "RAWRED-MEAN             0.138085   0.279477  \n",
       "RAWBLUE-MEAN            0.185160   0.352257  \n",
       "RAWGREEN-MEAN           0.118539   0.265523  \n",
       "EXRED-MEAN              0.716906   0.592757  \n",
       "EXBLUE-MEAN             0.344014   0.450812  \n",
       "EXGREEN-MEAN            0.355458   0.309473  \n",
       "VALUE-MEAN              0.185413   0.352341  \n",
       "SATURATION-MEAN         0.411986   0.302533  \n",
       "HUE-MEAN                0.201890   0.164732  "
      ]
     },
     "execution_count": 15,
     "metadata": {},
     "output_type": "execute_result"
    }
   ],
   "source": [
    "# Converting cluster centers array to dataframe and traspose so that features are rows and clusters are columns\n",
    "# Providing with column_names (features) as 'index' and Cluster Names as 'columns'\n",
    "\n",
    "pd.DataFrame(kmeans.cluster_centers_.T, index=col_name, columns=['Cluster 1', 'Cluster 2','Cluster 3','Cluster 4','Cluster 5',' Cluster 6','Cluster 7'])"
   ]
  },
  {
   "cell_type": "code",
   "execution_count": 16,
   "metadata": {},
   "outputs": [
    {
     "name": "stdout",
     "output_type": "stream",
     "text": [
      "Completeness of Cluster: 0.6126346286442206\n",
      "Homogeneity of Clusters: 0.6109347107661535\n"
     ]
    }
   ],
   "source": [
    "completeness = completeness_score(labels['Class Code'], kmeans.labels_)\n",
    "homogeneity = homogeneity_score(labels['Class Code'], kmeans.labels_)\n",
    "\n",
    "print('Completeness of Cluster: '+  str(completeness))\n",
    "print('Homogeneity of Clusters: '+ str(homogeneity))"
   ]
  },
  {
   "cell_type": "markdown",
   "metadata": {},
   "source": [
    "#### c. Perform PCA on the normalized image data matrix. You may use the linear algebra package in Numpy or the Decomposition module in scikit-learn (the latter is much more efficient). Analyze the principal components to determine the number, r, of PCs needed to capture at least 95% of variance in the data. Then use these rcomponents as features to transform the data into a reduced dimension space."
   ]
  },
  {
   "cell_type": "code",
   "execution_count": 18,
   "metadata": {},
   "outputs": [],
   "source": [
    "pca = decomposition.PCA(n_components=10)"
   ]
  },
  {
   "cell_type": "code",
   "execution_count": 19,
   "metadata": {},
   "outputs": [],
   "source": [
    "# Transform the data\n",
    "imageTrans = pca.fit(img_norm).transform(img_norm)"
   ]
  },
  {
   "cell_type": "code",
   "execution_count": 20,
   "metadata": {},
   "outputs": [
    {
     "name": "stdout",
     "output_type": "stream",
     "text": [
      "[0.61 0.13 0.1  0.05 0.04 0.02 0.02 0.02 0.01 0.01]\n"
     ]
    }
   ],
   "source": [
    "print(pca.explained_variance_ratio_)"
   ]
  },
  {
   "cell_type": "markdown",
   "metadata": {},
   "source": [
    "So we can sum it up manually and can see that first 7 components are capturing at least 95% variance in the data.\n",
    "\n",
    "Now let's visualize the same and then computed the total variance captured."
   ]
  },
  {
   "cell_type": "code",
   "execution_count": 21,
   "metadata": {},
   "outputs": [
    {
     "data": {
      "image/png": "[encoded data removed]",
      "text/plain": [
       "<Figure size 432x288 with 1 Axes>"
      ]
     },
     "metadata": {},
     "output_type": "display_data"
    }
   ],
   "source": [
    "fig = plt.figure()\n",
    "ax = fig.add_subplot(111)\n",
    "ax.plot(range(1, 11), pca.explained_variance_ratio_*100, marker='^')\n",
    "plt.xlabel('Principal Component')\n",
    "plt.ylabel('Percentage of Variance (%)')\n",
    "plt.show()"
   ]
  },
  {
   "cell_type": "code",
   "execution_count": 22,
   "metadata": {},
   "outputs": [
    {
     "name": "stdout",
     "output_type": "stream",
     "text": [
      "Variance captured by PC 1: 60.71423396853307\n",
      "Variance captured by PC 2: 73.91121320168907\n",
      "Variance captured by PC 3: 84.03498614256169\n",
      "Variance captured by PC 4: 88.57852534332562\n",
      "Variance captured by PC 5: 92.12588648109545\n",
      "Variance captured by PC 6: 94.11392197960599\n",
      "Variance captured by PC 7: 96.00589227704934\n",
      "Variance captured by PC 8: 97.62130108194494\n",
      "Variance captured by PC 9: 98.68690193362009\n",
      "Variance captured by PC 10: 99.3982394514951\n"
     ]
    }
   ],
   "source": [
    "pc = 0\n",
    "total_var = 0\n",
    "for i in pca.explained_variance_ratio_:\n",
    "    pc += 1\n",
    "    total_var += i*100\n",
    "    print(\"Variance captured by PC \" + str(pc) + \": \" + str(total_var))"
   ]
  },
  {
   "cell_type": "markdown",
   "metadata": {},
   "source": [
    "From the loop we created above we can see that the first seven components: PC 1, PC 2, PC 3 , PC 4, PC 5, PC 6 and PC 7 captures 96.005892277% of the variance in the data.\n",
    "\n",
    "Using these 7 components as features to transform the data into a reduced dimension space."
   ]
  },
  {
   "cell_type": "code",
   "execution_count": 24,
   "metadata": {},
   "outputs": [
    {
     "name": "stdout",
     "output_type": "stream",
     "text": [
      "[[-0.69  0.53  0.25 ... -0.08  0.05 -0.05]\n",
      " [-0.67  0.51  0.34 ... -0.04  0.06 -0.04]\n",
      " [-0.71  0.77 -0.16 ... -0.17  0.04 -0.06]\n",
      " ...\n",
      " [-0.51 -0.13 -0.08 ... -0.03 -0.03 -0.11]\n",
      " [-0.48 -0.09 -0.16 ...  0.   -0.   -0.09]\n",
      " [-0.44 -0.11 -0.05 ...  0.02 -0.21  0.15]]\n"
     ]
    }
   ],
   "source": [
    "pca = decomposition.PCA(n_components=7)\n",
    "imgTrans = pca.fit(img_norm).transform(img_norm)\n",
    "np.set_printoptions(precision=2,suppress=True)\n",
    "print(imgTrans)"
   ]
  },
  {
   "cell_type": "markdown",
   "metadata": {},
   "source": [
    "#### d. Perform Kmeans again, but this time on the lower dimensional transformed data. Then, compute the Completeness and Homogeneity values of the new clusters."
   ]
  },
  {
   "cell_type": "code",
   "execution_count": 25,
   "metadata": {},
   "outputs": [
    {
     "data": {
      "text/plain": [
       "KMeans(algorithm='auto', copy_x=True, init='k-means++', max_iter=300,\n",
       "    n_clusters=7, n_init=10, n_jobs=1, precompute_distances='auto',\n",
       "    random_state=None, tol=0.0001, verbose=0)"
      ]
     },
     "execution_count": 25,
     "metadata": {},
     "output_type": "execute_result"
    }
   ],
   "source": [
    "kmeans = KMeans(n_clusters=7) #Number of clusters = 7)\n",
    "\n",
    "# Fitting the data\n",
    "kmeans.fit(imgTrans)"
   ]
  },
  {
   "cell_type": "code",
   "execution_count": 26,
   "metadata": {},
   "outputs": [
    {
     "data": {
      "text/plain": [
       "array([3, 3, 3, ..., 5, 5, 4], dtype=int32)"
      ]
     },
     "execution_count": 26,
     "metadata": {},
     "output_type": "execute_result"
    }
   ],
   "source": [
    "kmeans.labels_"
   ]
  },
  {
   "cell_type": "code",
   "execution_count": 27,
   "metadata": {},
   "outputs": [
    {
     "data": {
      "text/plain": [
       "array([[ 0.18,  0.04, -0.26,  0.18,  0.03,  0.02,  0.  ],\n",
       "       [ 1.41,  0.09,  0.04, -0.17, -0.03, -0.01, -0.02],\n",
       "       [-0.6 , -0.36,  0.11, -0.13, -0.13, -0.02, -0.04],\n",
       "       [-0.62,  0.64,  0.2 , -0.09, -0.07,  0.01,  0.04],\n",
       "       [-0.21, -0.25,  0.15,  0.06,  0.13, -0.01,  0.03],\n",
       "       [-0.51, -0.06, -0.34, -0.07,  0.08,  0.01, -0.03],\n",
       "       [ 0.44, -0.1 ,  0.16,  0.23, -0.05, -0.01,  0.02]])"
      ]
     },
     "execution_count": 27,
     "metadata": {},
     "output_type": "execute_result"
    }
   ],
   "source": [
    "kmeans.cluster_centers_"
   ]
  },
  {
   "cell_type": "code",
   "execution_count": 28,
   "metadata": {},
   "outputs": [
    {
     "data": {
      "text/html": [
       "<div>\n",
       "<style scoped>\n",
       "    .dataframe tbody tr th:only-of-type {\n",
       "        vertical-align: middle;\n",
       "    }\n",
       "\n",
       "    .dataframe tbody tr th {\n",
       "        vertical-align: top;\n",
       "    }\n",
       "\n",
       "    .dataframe thead th {\n",
       "        text-align: right;\n",
       "    }\n",
       "</style>\n",
       "<table border=\"1\" class=\"dataframe\">\n",
       "  <thead>\n",
       "    <tr style=\"text-align: right;\">\n",
       "      <th></th>\n",
       "      <th>Cluster 1</th>\n",
       "      <th>Cluster 2</th>\n",
       "      <th>Cluster 3</th>\n",
       "      <th>Cluster 4</th>\n",
       "      <th>Cluster 5</th>\n",
       "      <th>Cluster 6</th>\n",
       "      <th>Cluster 7</th>\n",
       "    </tr>\n",
       "  </thead>\n",
       "  <tbody>\n",
       "    <tr>\n",
       "      <th>PC 1</th>\n",
       "      <td>0.177392</td>\n",
       "      <td>1.414527</td>\n",
       "      <td>-0.603705</td>\n",
       "      <td>-0.619268</td>\n",
       "      <td>-0.206229</td>\n",
       "      <td>-0.510409</td>\n",
       "      <td>0.436890</td>\n",
       "    </tr>\n",
       "    <tr>\n",
       "      <th>PC 2</th>\n",
       "      <td>0.043820</td>\n",
       "      <td>0.087223</td>\n",
       "      <td>-0.355503</td>\n",
       "      <td>0.640250</td>\n",
       "      <td>-0.246205</td>\n",
       "      <td>-0.064687</td>\n",
       "      <td>-0.104936</td>\n",
       "    </tr>\n",
       "    <tr>\n",
       "      <th>PC 3</th>\n",
       "      <td>-0.264946</td>\n",
       "      <td>0.036765</td>\n",
       "      <td>0.109197</td>\n",
       "      <td>0.195829</td>\n",
       "      <td>0.152785</td>\n",
       "      <td>-0.336363</td>\n",
       "      <td>0.164951</td>\n",
       "    </tr>\n",
       "    <tr>\n",
       "      <th>PC 4</th>\n",
       "      <td>0.184546</td>\n",
       "      <td>-0.173195</td>\n",
       "      <td>-0.129799</td>\n",
       "      <td>-0.086856</td>\n",
       "      <td>0.056522</td>\n",
       "      <td>-0.065008</td>\n",
       "      <td>0.234379</td>\n",
       "    </tr>\n",
       "    <tr>\n",
       "      <th>PC 5</th>\n",
       "      <td>0.026771</td>\n",
       "      <td>-0.029922</td>\n",
       "      <td>-0.130911</td>\n",
       "      <td>-0.067760</td>\n",
       "      <td>0.130585</td>\n",
       "      <td>0.078962</td>\n",
       "      <td>-0.046159</td>\n",
       "    </tr>\n",
       "    <tr>\n",
       "      <th>PC 6</th>\n",
       "      <td>0.024409</td>\n",
       "      <td>-0.008973</td>\n",
       "      <td>-0.021603</td>\n",
       "      <td>0.008866</td>\n",
       "      <td>-0.005540</td>\n",
       "      <td>0.006227</td>\n",
       "      <td>-0.007512</td>\n",
       "    </tr>\n",
       "    <tr>\n",
       "      <th>PC 7</th>\n",
       "      <td>0.003417</td>\n",
       "      <td>-0.021573</td>\n",
       "      <td>-0.043882</td>\n",
       "      <td>0.038372</td>\n",
       "      <td>0.032849</td>\n",
       "      <td>-0.026326</td>\n",
       "      <td>0.015253</td>\n",
       "    </tr>\n",
       "  </tbody>\n",
       "</table>\n",
       "</div>"
      ],
      "text/plain": [
       "      Cluster 1  Cluster 2  Cluster 3  Cluster 4  Cluster 5   Cluster 6  \\\n",
       "PC 1   0.177392   1.414527  -0.603705  -0.619268  -0.206229   -0.510409   \n",
       "PC 2   0.043820   0.087223  -0.355503   0.640250  -0.246205   -0.064687   \n",
       "PC 3  -0.264946   0.036765   0.109197   0.195829   0.152785   -0.336363   \n",
       "PC 4   0.184546  -0.173195  -0.129799  -0.086856   0.056522   -0.065008   \n",
       "PC 5   0.026771  -0.029922  -0.130911  -0.067760   0.130585    0.078962   \n",
       "PC 6   0.024409  -0.008973  -0.021603   0.008866  -0.005540    0.006227   \n",
       "PC 7   0.003417  -0.021573  -0.043882   0.038372   0.032849   -0.026326   \n",
       "\n",
       "      Cluster 7  \n",
       "PC 1   0.436890  \n",
       "PC 2  -0.104936  \n",
       "PC 3   0.164951  \n",
       "PC 4   0.234379  \n",
       "PC 5  -0.046159  \n",
       "PC 6  -0.007512  \n",
       "PC 7   0.015253  "
      ]
     },
     "execution_count": 28,
     "metadata": {},
     "output_type": "execute_result"
    }
   ],
   "source": [
    "pd.DataFrame(kmeans.cluster_centers_.T, index=['PC 1','PC 2','PC 3','PC 4', 'PC 5', 'PC 6', 'PC 7'], columns=['Cluster 1', 'Cluster 2','Cluster 3','Cluster 4','Cluster 5',' Cluster 6','Cluster 7'])"
   ]
  },
  {
   "cell_type": "code",
   "execution_count": 29,
   "metadata": {},
   "outputs": [
    {
     "name": "stdout",
     "output_type": "stream",
     "text": [
      "Completeness of Cluster: 0.6112983626480735\n",
      "Homogeneity of Clusters: 0.6096453882709607\n"
     ]
    }
   ],
   "source": [
    "completeness = completeness_score(labels['Class Code'], kmeans.labels_)\n",
    "homogeneity = homogeneity_score(labels['Class Code'], kmeans.labels_)\n",
    "\n",
    "print('Completeness of Cluster: '+  str(completeness))\n",
    "print('Homogeneity of Clusters: '+ str(homogeneity))"
   ]
  },
  {
   "cell_type": "markdown",
   "metadata": {},
   "source": [
    "#### e. Discuss your observations based on the comparison of the two clustering results."
   ]
  },
  {
   "cell_type": "markdown",
   "metadata": {},
   "source": [
    "<b>When we do kMeans clustering on a normalized dataset the completeness and homogeneity we get is: Completeness of Cluster: 0.6126346286442206 Homogeneity of Clusters: 0.6109347107661535\n",
    "\n",
    "<b>When we do kMeans clustering on a datatset with reduced uncorrelated features generated by PCA, which captures 95% of the variance in the data, the completeness and homogeneity we get is: Completeness of Cluster: 0.6112983626480735 Homogeneity of Clusters: 0.6096453882709607\n",
    "\n",
    "<b>So the results are almost similar and there is no significant difference in completeness and homogeneity of clusters. Since the second approach, in which we reduce the number of features using PCA and still account for the most of the variance in the data, gives the same result as the earlier approach, I would suggest using PCA and then clustering as that would reduce the computation effort required by KMeans algorithm as the number of features are reduced from 19 to 7, and if the dataset is too large that would result into faster computations/results."
   ]
  },
  {
   "cell_type": "code",
   "execution_count": null,
   "metadata": {},
   "outputs": [],
   "source": []
  }
 ],
 "metadata": {
  "kernelspec": {
   "display_name": "Python 3",
   "language": "python",
   "name": "python3"
  },
  "language_info": {
   "codemirror_mode": {
    "name": "ipython",
    "version": 3
   },
   "file_extension": ".py",
   "mimetype": "text/x-python",
   "name": "python",
   "nbconvert_exporter": "python",
   "pygments_lexer": "ipython3",
   "version": "3.7.2"
  }
 },
 "nbformat": 4,
 "nbformat_minor": 2
}
