{
 "cells": [
  {
   "cell_type": "code",
   "execution_count": 1,
   "metadata": {
    "collapsed": false
   },
   "outputs": [
    {
     "name": "stderr",
     "output_type": "stream",
     "text": [
      "/home/ecosystem/anaconda/lib/python2.7/site-packages/matplotlib/font_manager.py:273: UserWarning: Matplotlib is building the font cache using fc-list. This may take a moment.\n",
      "  warnings.warn('Matplotlib is building the font cache using fc-list. This may take a moment.')\n"
     ]
    }
   ],
   "source": [
    "import numpy as np\n",
    "import pandas as pd\n",
    "import matplotlib.pyplot as plt\n",
    "%matplotlib inline\n",
    "import os"
   ]
  },
  {
   "cell_type": "code",
   "execution_count": 2,
   "metadata": {
    "collapsed": false
   },
   "outputs": [
    {
     "data": {
      "text/plain": [
       "'/home/ecosystem'"
      ]
     },
     "execution_count": 2,
     "metadata": {},
     "output_type": "execute_result"
    }
   ],
   "source": [
    "## Get working directory\n",
    "os.getcwd()"
   ]
  },
  {
   "cell_type": "code",
   "execution_count": 3,
   "metadata": {
    "collapsed": true
   },
   "outputs": [],
   "source": [
    "os.chdir('/home/ecosystem/DePaul/CSC478/Week2')"
   ]
  },
  {
   "cell_type": "code",
   "execution_count": 4,
   "metadata": {
    "collapsed": false
   },
   "outputs": [
    {
     "data": {
      "text/plain": [
       "(40, 6)"
      ]
     },
     "execution_count": 4,
     "metadata": {},
     "output_type": "execute_result"
    }
   ],
   "source": [
    "vstable = pd.read_csv(\"Video_Store.csv\", index_col=0)\n",
    "\n",
    "vstable.shape"
   ]
  },
  {
   "cell_type": "code",
   "execution_count": 5,
   "metadata": {
    "collapsed": false
   },
   "outputs": [
    {
     "data": {
      "text/html": [
       "<div>\n",
       "<table border=\"1\" class=\"dataframe\">\n",
       "  <thead>\n",
       "    <tr style=\"text-align: right;\">\n",
       "      <th></th>\n",
       "      <th>Gender</th>\n",
       "      <th>Income</th>\n",
       "      <th>Age</th>\n",
       "      <th>Rentals</th>\n",
       "      <th>AvgPerVisit</th>\n",
       "      <th>Genre</th>\n",
       "    </tr>\n",
       "    <tr>\n",
       "      <th>ID</th>\n",
       "      <th></th>\n",
       "      <th></th>\n",
       "      <th></th>\n",
       "      <th></th>\n",
       "      <th></th>\n",
       "      <th></th>\n",
       "    </tr>\n",
       "  </thead>\n",
       "  <tbody>\n",
       "    <tr>\n",
       "      <th>1</th>\n",
       "      <td>M</td>\n",
       "      <td>45000</td>\n",
       "      <td>25</td>\n",
       "      <td>27</td>\n",
       "      <td>2.5</td>\n",
       "      <td>Action</td>\n",
       "    </tr>\n",
       "    <tr>\n",
       "      <th>2</th>\n",
       "      <td>F</td>\n",
       "      <td>54000</td>\n",
       "      <td>33</td>\n",
       "      <td>12</td>\n",
       "      <td>3.4</td>\n",
       "      <td>Drama</td>\n",
       "    </tr>\n",
       "    <tr>\n",
       "      <th>3</th>\n",
       "      <td>F</td>\n",
       "      <td>32000</td>\n",
       "      <td>20</td>\n",
       "      <td>42</td>\n",
       "      <td>1.6</td>\n",
       "      <td>Comedy</td>\n",
       "    </tr>\n",
       "    <tr>\n",
       "      <th>4</th>\n",
       "      <td>F</td>\n",
       "      <td>59000</td>\n",
       "      <td>70</td>\n",
       "      <td>16</td>\n",
       "      <td>4.2</td>\n",
       "      <td>Drama</td>\n",
       "    </tr>\n",
       "    <tr>\n",
       "      <th>5</th>\n",
       "      <td>M</td>\n",
       "      <td>37000</td>\n",
       "      <td>35</td>\n",
       "      <td>25</td>\n",
       "      <td>3.2</td>\n",
       "      <td>Action</td>\n",
       "    </tr>\n",
       "    <tr>\n",
       "      <th>6</th>\n",
       "      <td>M</td>\n",
       "      <td>18000</td>\n",
       "      <td>20</td>\n",
       "      <td>33</td>\n",
       "      <td>1.7</td>\n",
       "      <td>Action</td>\n",
       "    </tr>\n",
       "    <tr>\n",
       "      <th>7</th>\n",
       "      <td>F</td>\n",
       "      <td>29000</td>\n",
       "      <td>45</td>\n",
       "      <td>19</td>\n",
       "      <td>3.8</td>\n",
       "      <td>Drama</td>\n",
       "    </tr>\n",
       "    <tr>\n",
       "      <th>8</th>\n",
       "      <td>M</td>\n",
       "      <td>74000</td>\n",
       "      <td>25</td>\n",
       "      <td>31</td>\n",
       "      <td>2.4</td>\n",
       "      <td>Action</td>\n",
       "    </tr>\n",
       "    <tr>\n",
       "      <th>9</th>\n",
       "      <td>M</td>\n",
       "      <td>38000</td>\n",
       "      <td>21</td>\n",
       "      <td>18</td>\n",
       "      <td>2.1</td>\n",
       "      <td>Comedy</td>\n",
       "    </tr>\n",
       "    <tr>\n",
       "      <th>10</th>\n",
       "      <td>F</td>\n",
       "      <td>65000</td>\n",
       "      <td>40</td>\n",
       "      <td>21</td>\n",
       "      <td>3.3</td>\n",
       "      <td>Drama</td>\n",
       "    </tr>\n",
       "  </tbody>\n",
       "</table>\n",
       "</div>"
      ],
      "text/plain": [
       "   Gender  Income  Age  Rentals  AvgPerVisit   Genre\n",
       "ID                                                  \n",
       "1       M   45000   25       27          2.5  Action\n",
       "2       F   54000   33       12          3.4   Drama\n",
       "3       F   32000   20       42          1.6  Comedy\n",
       "4       F   59000   70       16          4.2   Drama\n",
       "5       M   37000   35       25          3.2  Action\n",
       "6       M   18000   20       33          1.7  Action\n",
       "7       F   29000   45       19          3.8   Drama\n",
       "8       M   74000   25       31          2.4  Action\n",
       "9       M   38000   21       18          2.1  Comedy\n",
       "10      F   65000   40       21          3.3   Drama"
      ]
     },
     "execution_count": 5,
     "metadata": {},
     "output_type": "execute_result"
    }
   ],
   "source": [
    "vstable.head(10)"
   ]
  },
  {
   "cell_type": "code",
   "execution_count": 6,
   "metadata": {
    "collapsed": false
   },
   "outputs": [
    {
     "data": {
      "text/plain": [
       "Index([u'Gender', u'Income', u'Age', u'Rentals', u'AvgPerVisit', u'Genre'], dtype='object')"
      ]
     },
     "execution_count": 6,
     "metadata": {},
     "output_type": "execute_result"
    }
   ],
   "source": [
    "vstable.columns"
   ]
  },
  {
   "cell_type": "code",
   "execution_count": 7,
   "metadata": {
    "collapsed": false
   },
   "outputs": [
    {
     "data": {
      "text/plain": [
       "Gender          object\n",
       "Income           int64\n",
       "Age              int64\n",
       "Rentals          int64\n",
       "AvgPerVisit    float64\n",
       "Genre           object\n",
       "dtype: object"
      ]
     },
     "execution_count": 7,
     "metadata": {},
     "output_type": "execute_result"
    }
   ],
   "source": [
    "vstable.dtypes"
   ]
  },
  {
   "cell_type": "code",
   "execution_count": 8,
   "metadata": {
    "collapsed": false
   },
   "outputs": [
    {
     "data": {
      "text/plain": [
       "Gender          object\n",
       "Income         float64\n",
       "Age              int64\n",
       "Rentals          int64\n",
       "AvgPerVisit    float64\n",
       "Genre           object\n",
       "dtype: object"
      ]
     },
     "execution_count": 8,
     "metadata": {},
     "output_type": "execute_result"
    }
   ],
   "source": [
    "vstable[\"Income\"] = vstable[\"Income\"].astype(float)\n",
    "vstable.dtypes"
   ]
  },
  {
   "cell_type": "code",
   "execution_count": 9,
   "metadata": {
    "collapsed": false
   },
   "outputs": [
    {
     "data": {
      "text/html": [
       "<div>\n",
       "<table border=\"1\" class=\"dataframe\">\n",
       "  <thead>\n",
       "    <tr style=\"text-align: right;\">\n",
       "      <th></th>\n",
       "      <th>Income</th>\n",
       "      <th>Age</th>\n",
       "      <th>Rentals</th>\n",
       "      <th>AvgPerVisit</th>\n",
       "    </tr>\n",
       "  </thead>\n",
       "  <tbody>\n",
       "    <tr>\n",
       "      <th>count</th>\n",
       "      <td>40.000000</td>\n",
       "      <td>40.000000</td>\n",
       "      <td>40.000000</td>\n",
       "      <td>40.000000</td>\n",
       "    </tr>\n",
       "    <tr>\n",
       "      <th>mean</th>\n",
       "      <td>41500.000000</td>\n",
       "      <td>31.500000</td>\n",
       "      <td>26.175000</td>\n",
       "      <td>2.792500</td>\n",
       "    </tr>\n",
       "    <tr>\n",
       "      <th>std</th>\n",
       "      <td>22925.744123</td>\n",
       "      <td>12.752074</td>\n",
       "      <td>9.594035</td>\n",
       "      <td>0.833401</td>\n",
       "    </tr>\n",
       "    <tr>\n",
       "      <th>min</th>\n",
       "      <td>1000.000000</td>\n",
       "      <td>15.000000</td>\n",
       "      <td>11.000000</td>\n",
       "      <td>1.200000</td>\n",
       "    </tr>\n",
       "    <tr>\n",
       "      <th>25%</th>\n",
       "      <td>24750.000000</td>\n",
       "      <td>21.000000</td>\n",
       "      <td>19.000000</td>\n",
       "      <td>2.200000</td>\n",
       "    </tr>\n",
       "    <tr>\n",
       "      <th>50%</th>\n",
       "      <td>41000.000000</td>\n",
       "      <td>30.000000</td>\n",
       "      <td>25.000000</td>\n",
       "      <td>2.800000</td>\n",
       "    </tr>\n",
       "    <tr>\n",
       "      <th>75%</th>\n",
       "      <td>57500.000000</td>\n",
       "      <td>36.500000</td>\n",
       "      <td>32.250000</td>\n",
       "      <td>3.325000</td>\n",
       "    </tr>\n",
       "    <tr>\n",
       "      <th>max</th>\n",
       "      <td>89000.000000</td>\n",
       "      <td>70.000000</td>\n",
       "      <td>48.000000</td>\n",
       "      <td>4.600000</td>\n",
       "    </tr>\n",
       "  </tbody>\n",
       "</table>\n",
       "</div>"
      ],
      "text/plain": [
       "             Income        Age    Rentals  AvgPerVisit\n",
       "count     40.000000  40.000000  40.000000    40.000000\n",
       "mean   41500.000000  31.500000  26.175000     2.792500\n",
       "std    22925.744123  12.752074   9.594035     0.833401\n",
       "min     1000.000000  15.000000  11.000000     1.200000\n",
       "25%    24750.000000  21.000000  19.000000     2.200000\n",
       "50%    41000.000000  30.000000  25.000000     2.800000\n",
       "75%    57500.000000  36.500000  32.250000     3.325000\n",
       "max    89000.000000  70.000000  48.000000     4.600000"
      ]
     },
     "execution_count": 9,
     "metadata": {},
     "output_type": "execute_result"
    }
   ],
   "source": [
    "vstable.describe()"
   ]
  },
  {
   "cell_type": "code",
   "execution_count": 10,
   "metadata": {
    "collapsed": false
   },
   "outputs": [
    {
     "name": "stdout",
     "output_type": "stream",
     "text": [
      "1000.0 89000.0\n"
     ]
    }
   ],
   "source": [
    "min_sal = vstable[\"Income\"].min()\n",
    "max_sal = vstable[\"Income\"].max()\n",
    "print min_sal, max_sal"
   ]
  },
  {
   "cell_type": "code",
   "execution_count": 11,
   "metadata": {
    "collapsed": false
   },
   "outputs": [
    {
     "data": {
      "text/html": [
       "<div>\n",
       "<table border=\"1\" class=\"dataframe\">\n",
       "  <thead>\n",
       "    <tr style=\"text-align: right;\">\n",
       "      <th></th>\n",
       "      <th>Gender</th>\n",
       "      <th>Income</th>\n",
       "      <th>Age</th>\n",
       "      <th>Rentals</th>\n",
       "      <th>AvgPerVisit</th>\n",
       "      <th>Genre</th>\n",
       "    </tr>\n",
       "  </thead>\n",
       "  <tbody>\n",
       "    <tr>\n",
       "      <th>count</th>\n",
       "      <td>40</td>\n",
       "      <td>40.000000</td>\n",
       "      <td>40.000000</td>\n",
       "      <td>40.000000</td>\n",
       "      <td>40.000000</td>\n",
       "      <td>40</td>\n",
       "    </tr>\n",
       "    <tr>\n",
       "      <th>unique</th>\n",
       "      <td>2</td>\n",
       "      <td>NaN</td>\n",
       "      <td>NaN</td>\n",
       "      <td>NaN</td>\n",
       "      <td>NaN</td>\n",
       "      <td>3</td>\n",
       "    </tr>\n",
       "    <tr>\n",
       "      <th>top</th>\n",
       "      <td>M</td>\n",
       "      <td>NaN</td>\n",
       "      <td>NaN</td>\n",
       "      <td>NaN</td>\n",
       "      <td>NaN</td>\n",
       "      <td>Action</td>\n",
       "    </tr>\n",
       "    <tr>\n",
       "      <th>freq</th>\n",
       "      <td>21</td>\n",
       "      <td>NaN</td>\n",
       "      <td>NaN</td>\n",
       "      <td>NaN</td>\n",
       "      <td>NaN</td>\n",
       "      <td>15</td>\n",
       "    </tr>\n",
       "    <tr>\n",
       "      <th>mean</th>\n",
       "      <td>NaN</td>\n",
       "      <td>41500.000000</td>\n",
       "      <td>31.500000</td>\n",
       "      <td>26.175000</td>\n",
       "      <td>2.792500</td>\n",
       "      <td>NaN</td>\n",
       "    </tr>\n",
       "    <tr>\n",
       "      <th>std</th>\n",
       "      <td>NaN</td>\n",
       "      <td>22925.744123</td>\n",
       "      <td>12.752074</td>\n",
       "      <td>9.594035</td>\n",
       "      <td>0.833401</td>\n",
       "      <td>NaN</td>\n",
       "    </tr>\n",
       "    <tr>\n",
       "      <th>min</th>\n",
       "      <td>NaN</td>\n",
       "      <td>1000.000000</td>\n",
       "      <td>15.000000</td>\n",
       "      <td>11.000000</td>\n",
       "      <td>1.200000</td>\n",
       "      <td>NaN</td>\n",
       "    </tr>\n",
       "    <tr>\n",
       "      <th>25%</th>\n",
       "      <td>NaN</td>\n",
       "      <td>24750.000000</td>\n",
       "      <td>21.000000</td>\n",
       "      <td>19.000000</td>\n",
       "      <td>2.200000</td>\n",
       "      <td>NaN</td>\n",
       "    </tr>\n",
       "    <tr>\n",
       "      <th>50%</th>\n",
       "      <td>NaN</td>\n",
       "      <td>41000.000000</td>\n",
       "      <td>30.000000</td>\n",
       "      <td>25.000000</td>\n",
       "      <td>2.800000</td>\n",
       "      <td>NaN</td>\n",
       "    </tr>\n",
       "    <tr>\n",
       "      <th>75%</th>\n",
       "      <td>NaN</td>\n",
       "      <td>57500.000000</td>\n",
       "      <td>36.500000</td>\n",
       "      <td>32.250000</td>\n",
       "      <td>3.325000</td>\n",
       "      <td>NaN</td>\n",
       "    </tr>\n",
       "    <tr>\n",
       "      <th>max</th>\n",
       "      <td>NaN</td>\n",
       "      <td>89000.000000</td>\n",
       "      <td>70.000000</td>\n",
       "      <td>48.000000</td>\n",
       "      <td>4.600000</td>\n",
       "      <td>NaN</td>\n",
       "    </tr>\n",
       "  </tbody>\n",
       "</table>\n",
       "</div>"
      ],
      "text/plain": [
       "       Gender        Income        Age    Rentals  AvgPerVisit   Genre\n",
       "count      40     40.000000  40.000000  40.000000    40.000000      40\n",
       "unique      2           NaN        NaN        NaN          NaN       3\n",
       "top         M           NaN        NaN        NaN          NaN  Action\n",
       "freq       21           NaN        NaN        NaN          NaN      15\n",
       "mean      NaN  41500.000000  31.500000  26.175000     2.792500     NaN\n",
       "std       NaN  22925.744123  12.752074   9.594035     0.833401     NaN\n",
       "min       NaN   1000.000000  15.000000  11.000000     1.200000     NaN\n",
       "25%       NaN  24750.000000  21.000000  19.000000     2.200000     NaN\n",
       "50%       NaN  41000.000000  30.000000  25.000000     2.800000     NaN\n",
       "75%       NaN  57500.000000  36.500000  32.250000     3.325000     NaN\n",
       "max       NaN  89000.000000  70.000000  48.000000     4.600000     NaN"
      ]
     },
     "execution_count": 11,
     "metadata": {},
     "output_type": "execute_result"
    }
   ],
   "source": [
    "vstable.describe(include=\"all\")"
   ]
  },
  {
   "cell_type": "code",
   "execution_count": 12,
   "metadata": {
    "collapsed": false
   },
   "outputs": [
    {
     "name": "stdout",
     "output_type": "stream",
     "text": [
      "ID\n",
      "1     0.500000\n",
      "2     0.602273\n",
      "3     0.352273\n",
      "4     0.659091\n",
      "5     0.409091\n",
      "6     0.193182\n",
      "7     0.318182\n",
      "8     0.829545\n",
      "9     0.420455\n",
      "10    0.727273\n",
      "Name: Income, dtype: float64\n"
     ]
    }
   ],
   "source": [
    "norm_sal = (vstable[\"Income\"] - min_sal) / (max_sal-min_sal)\n",
    "print norm_sal.head(10)"
   ]
  },
  {
   "cell_type": "code",
   "execution_count": 13,
   "metadata": {
    "collapsed": false
   },
   "outputs": [
    {
     "data": {
      "text/plain": [
       "ID\n",
       "1   -0.509721\n",
       "2    0.117628\n",
       "3   -0.901814\n",
       "4    3.019117\n",
       "5    0.274465\n",
       "Name: Age, dtype: float64"
      ]
     },
     "execution_count": 13,
     "metadata": {},
     "output_type": "execute_result"
    }
   ],
   "source": [
    "age_z = (vstable[\"Age\"] - vstable[\"Age\"].mean()) / vstable[\"Age\"].std()\n",
    "age_z.head(5)"
   ]
  },
  {
   "cell_type": "code",
   "execution_count": 14,
   "metadata": {
    "collapsed": false
   },
   "outputs": [
    {
     "data": {
      "text/plain": [
       "ID\n",
       "1     (29000, 49000]\n",
       "2     (49000, 89000]\n",
       "3     (29000, 49000]\n",
       "4     (49000, 89000]\n",
       "5     (29000, 49000]\n",
       "6      [1000, 29000]\n",
       "7      [1000, 29000]\n",
       "8     (49000, 89000]\n",
       "9     (29000, 49000]\n",
       "10    (49000, 89000]\n",
       "Name: Income, dtype: category\n",
       "Categories (3, object): [[1000, 29000] < (29000, 49000] < (49000, 89000]]"
      ]
     },
     "execution_count": 14,
     "metadata": {},
     "output_type": "execute_result"
    }
   ],
   "source": [
    "inc_bins = pd.qcut(vstable.Income, 3)\n",
    "inc_bins.head(10)"
   ]
  },
  {
   "cell_type": "code",
   "execution_count": 15,
   "metadata": {
    "collapsed": false
   },
   "outputs": [
    {
     "data": {
      "text/plain": [
       "(ID\n",
       " 1      mid\n",
       " 2     high\n",
       " 3      mid\n",
       " 4     high\n",
       " 5      mid\n",
       " 6      low\n",
       " 7      low\n",
       " 8     high\n",
       " 9      mid\n",
       " 10    high\n",
       " 11     mid\n",
       " 12     low\n",
       " 13    high\n",
       " 14     mid\n",
       " 15    high\n",
       " 16     low\n",
       " 17     mid\n",
       " 18     low\n",
       " 19     low\n",
       " 20     low\n",
       " 21     mid\n",
       " 22     low\n",
       " 23     low\n",
       " 24    high\n",
       " 25     low\n",
       " 26    high\n",
       " 27    high\n",
       " 28    high\n",
       " 29     low\n",
       " 30     mid\n",
       " 31    high\n",
       " 32     mid\n",
       " 33     low\n",
       " 34     low\n",
       " 35    high\n",
       " 36     low\n",
       " 37    high\n",
       " 38     mid\n",
       " 39    high\n",
       " 40     low\n",
       " Name: Income, dtype: category\n",
       " Categories (3, object): [low < mid < high],\n",
       " array([  1000.,  29000.,  48480.,  89000.]))"
      ]
     },
     "execution_count": 15,
     "metadata": {},
     "output_type": "execute_result"
    }
   ],
   "source": [
    "inc_bins = pd.qcut(vstable.Income, [0, .33, .66, 1], labels=[\"low\", \"mid\", \"high\"], retbins=True)\n",
    "inc_bins"
   ]
  },
  {
   "cell_type": "code",
   "execution_count": 16,
   "metadata": {
    "collapsed": false
   },
   "outputs": [
    {
     "data": {
      "text/html": [
       "<div>\n",
       "<table border=\"1\" class=\"dataframe\">\n",
       "  <thead>\n",
       "    <tr style=\"text-align: right;\">\n",
       "      <th></th>\n",
       "      <th>Age</th>\n",
       "      <th>Income</th>\n",
       "      <th>Rentals</th>\n",
       "      <th>AvgPerVisit</th>\n",
       "    </tr>\n",
       "    <tr>\n",
       "      <th>ID</th>\n",
       "      <th></th>\n",
       "      <th></th>\n",
       "      <th></th>\n",
       "      <th></th>\n",
       "    </tr>\n",
       "  </thead>\n",
       "  <tbody>\n",
       "    <tr>\n",
       "      <th>1</th>\n",
       "      <td>-0.509721</td>\n",
       "      <td>0.152667</td>\n",
       "      <td>0.085991</td>\n",
       "      <td>-0.350971</td>\n",
       "    </tr>\n",
       "    <tr>\n",
       "      <th>2</th>\n",
       "      <td>0.117628</td>\n",
       "      <td>0.545239</td>\n",
       "      <td>-1.477480</td>\n",
       "      <td>0.728941</td>\n",
       "    </tr>\n",
       "    <tr>\n",
       "      <th>3</th>\n",
       "      <td>-0.901814</td>\n",
       "      <td>-0.414381</td>\n",
       "      <td>1.649462</td>\n",
       "      <td>-1.430883</td>\n",
       "    </tr>\n",
       "    <tr>\n",
       "      <th>4</th>\n",
       "      <td>3.019117</td>\n",
       "      <td>0.763334</td>\n",
       "      <td>-1.060555</td>\n",
       "      <td>1.688862</td>\n",
       "    </tr>\n",
       "    <tr>\n",
       "      <th>5</th>\n",
       "      <td>0.274465</td>\n",
       "      <td>-0.196286</td>\n",
       "      <td>-0.122472</td>\n",
       "      <td>0.488960</td>\n",
       "    </tr>\n",
       "    <tr>\n",
       "      <th>6</th>\n",
       "      <td>-0.901814</td>\n",
       "      <td>-1.025049</td>\n",
       "      <td>0.711379</td>\n",
       "      <td>-1.310893</td>\n",
       "    </tr>\n",
       "    <tr>\n",
       "      <th>7</th>\n",
       "      <td>1.058651</td>\n",
       "      <td>-0.545239</td>\n",
       "      <td>-0.747860</td>\n",
       "      <td>1.208901</td>\n",
       "    </tr>\n",
       "    <tr>\n",
       "      <th>8</th>\n",
       "      <td>-0.509721</td>\n",
       "      <td>1.417620</td>\n",
       "      <td>0.502917</td>\n",
       "      <td>-0.470962</td>\n",
       "    </tr>\n",
       "    <tr>\n",
       "      <th>9</th>\n",
       "      <td>-0.823395</td>\n",
       "      <td>-0.152667</td>\n",
       "      <td>-0.852092</td>\n",
       "      <td>-0.830932</td>\n",
       "    </tr>\n",
       "    <tr>\n",
       "      <th>10</th>\n",
       "      <td>0.666558</td>\n",
       "      <td>1.025049</td>\n",
       "      <td>-0.539398</td>\n",
       "      <td>0.608950</td>\n",
       "    </tr>\n",
       "  </tbody>\n",
       "</table>\n",
       "</div>"
      ],
      "text/plain": [
       "         Age    Income   Rentals  AvgPerVisit\n",
       "ID                                           \n",
       "1  -0.509721  0.152667  0.085991    -0.350971\n",
       "2   0.117628  0.545239 -1.477480     0.728941\n",
       "3  -0.901814 -0.414381  1.649462    -1.430883\n",
       "4   3.019117  0.763334 -1.060555     1.688862\n",
       "5   0.274465 -0.196286 -0.122472     0.488960\n",
       "6  -0.901814 -1.025049  0.711379    -1.310893\n",
       "7   1.058651 -0.545239 -0.747860     1.208901\n",
       "8  -0.509721  1.417620  0.502917    -0.470962\n",
       "9  -0.823395 -0.152667 -0.852092    -0.830932\n",
       "10  0.666558  1.025049 -0.539398     0.608950"
      ]
     },
     "execution_count": 16,
     "metadata": {},
     "output_type": "execute_result"
    }
   ],
   "source": [
    "vs_numeric = vstable[[\"Age\",\"Income\",\"Rentals\",\"AvgPerVisit\"]]\n",
    "vs_num_std = (vs_numeric - vs_numeric.mean()) / vs_numeric.std()\n",
    "vs_num_std.head(10)"
   ]
  },
  {
   "cell_type": "code",
   "execution_count": 17,
   "metadata": {
    "collapsed": false
   },
   "outputs": [
    {
     "data": {
      "text/html": [
       "<div>\n",
       "<table border=\"1\" class=\"dataframe\">\n",
       "  <thead>\n",
       "    <tr style=\"text-align: right;\">\n",
       "      <th></th>\n",
       "      <th>Age</th>\n",
       "      <th>Income</th>\n",
       "      <th>Rentals</th>\n",
       "      <th>AvgPerVisit</th>\n",
       "    </tr>\n",
       "    <tr>\n",
       "      <th>ID</th>\n",
       "      <th></th>\n",
       "      <th></th>\n",
       "      <th></th>\n",
       "      <th></th>\n",
       "    </tr>\n",
       "  </thead>\n",
       "  <tbody>\n",
       "    <tr>\n",
       "      <th>1</th>\n",
       "      <td>-0.509721</td>\n",
       "      <td>0.152667</td>\n",
       "      <td>0.085991</td>\n",
       "      <td>-0.350971</td>\n",
       "    </tr>\n",
       "    <tr>\n",
       "      <th>2</th>\n",
       "      <td>0.117628</td>\n",
       "      <td>0.545239</td>\n",
       "      <td>-1.477480</td>\n",
       "      <td>0.728941</td>\n",
       "    </tr>\n",
       "    <tr>\n",
       "      <th>3</th>\n",
       "      <td>-0.901814</td>\n",
       "      <td>-0.414381</td>\n",
       "      <td>1.649462</td>\n",
       "      <td>-1.430883</td>\n",
       "    </tr>\n",
       "    <tr>\n",
       "      <th>4</th>\n",
       "      <td>3.019117</td>\n",
       "      <td>0.763334</td>\n",
       "      <td>-1.060555</td>\n",
       "      <td>1.688862</td>\n",
       "    </tr>\n",
       "    <tr>\n",
       "      <th>5</th>\n",
       "      <td>0.274465</td>\n",
       "      <td>-0.196286</td>\n",
       "      <td>-0.122472</td>\n",
       "      <td>0.488960</td>\n",
       "    </tr>\n",
       "  </tbody>\n",
       "</table>\n",
       "</div>"
      ],
      "text/plain": [
       "         Age    Income   Rentals  AvgPerVisit\n",
       "ID                                           \n",
       "1  -0.509721  0.152667  0.085991    -0.350971\n",
       "2   0.117628  0.545239 -1.477480     0.728941\n",
       "3  -0.901814 -0.414381  1.649462    -1.430883\n",
       "4   3.019117  0.763334 -1.060555     1.688862\n",
       "5   0.274465 -0.196286 -0.122472     0.488960"
      ]
     },
     "execution_count": 17,
     "metadata": {},
     "output_type": "execute_result"
    }
   ],
   "source": [
    "zscore = lambda x: (x - x.mean()) / x.std()\n",
    "vs_num_std = vs_numeric.apply(zscore)\n",
    "vs_num_std.head()"
   ]
  },
  {
   "cell_type": "code",
   "execution_count": 18,
   "metadata": {
    "collapsed": false
   },
   "outputs": [
    {
     "data": {
      "text/html": [
       "<div>\n",
       "<table border=\"1\" class=\"dataframe\">\n",
       "  <thead>\n",
       "    <tr style=\"text-align: right;\">\n",
       "      <th></th>\n",
       "      <th>Gender</th>\n",
       "      <th>Income</th>\n",
       "      <th>Age</th>\n",
       "      <th>Rentals</th>\n",
       "      <th>AvgPerVisit</th>\n",
       "      <th>Genre</th>\n",
       "    </tr>\n",
       "    <tr>\n",
       "      <th>ID</th>\n",
       "      <th></th>\n",
       "      <th></th>\n",
       "      <th></th>\n",
       "      <th></th>\n",
       "      <th></th>\n",
       "      <th></th>\n",
       "    </tr>\n",
       "  </thead>\n",
       "  <tbody>\n",
       "    <tr>\n",
       "      <th>1</th>\n",
       "      <td>M</td>\n",
       "      <td>0.152667</td>\n",
       "      <td>-0.509721</td>\n",
       "      <td>0.085991</td>\n",
       "      <td>-0.350971</td>\n",
       "      <td>Action</td>\n",
       "    </tr>\n",
       "    <tr>\n",
       "      <th>2</th>\n",
       "      <td>F</td>\n",
       "      <td>0.545239</td>\n",
       "      <td>0.117628</td>\n",
       "      <td>-1.477480</td>\n",
       "      <td>0.728941</td>\n",
       "      <td>Drama</td>\n",
       "    </tr>\n",
       "    <tr>\n",
       "      <th>3</th>\n",
       "      <td>F</td>\n",
       "      <td>-0.414381</td>\n",
       "      <td>-0.901814</td>\n",
       "      <td>1.649462</td>\n",
       "      <td>-1.430883</td>\n",
       "      <td>Comedy</td>\n",
       "    </tr>\n",
       "    <tr>\n",
       "      <th>4</th>\n",
       "      <td>F</td>\n",
       "      <td>0.763334</td>\n",
       "      <td>3.019117</td>\n",
       "      <td>-1.060555</td>\n",
       "      <td>1.688862</td>\n",
       "      <td>Drama</td>\n",
       "    </tr>\n",
       "    <tr>\n",
       "      <th>5</th>\n",
       "      <td>M</td>\n",
       "      <td>-0.196286</td>\n",
       "      <td>0.274465</td>\n",
       "      <td>-0.122472</td>\n",
       "      <td>0.488960</td>\n",
       "      <td>Action</td>\n",
       "    </tr>\n",
       "  </tbody>\n",
       "</table>\n",
       "</div>"
      ],
      "text/plain": [
       "   Gender    Income       Age   Rentals  AvgPerVisit   Genre\n",
       "ID                                                          \n",
       "1       M  0.152667 -0.509721  0.085991    -0.350971  Action\n",
       "2       F  0.545239  0.117628 -1.477480     0.728941   Drama\n",
       "3       F -0.414381 -0.901814  1.649462    -1.430883  Comedy\n",
       "4       F  0.763334  3.019117 -1.060555     1.688862   Drama\n",
       "5       M -0.196286  0.274465 -0.122472     0.488960  Action"
      ]
     },
     "execution_count": 18,
     "metadata": {},
     "output_type": "execute_result"
    }
   ],
   "source": [
    "zscore = lambda x: ((x - x.mean()) / x.std()) if (x.dtypes==np.float64 or x.dtypes==np.int64) else x\n",
    "vs_std = vstable.copy()\n",
    "vs_std.apply(zscore).head()"
   ]
  },
  {
   "cell_type": "code",
   "execution_count": 19,
   "metadata": {
    "collapsed": false
   },
   "outputs": [
    {
     "data": {
      "text/html": [
       "<div>\n",
       "<table border=\"1\" class=\"dataframe\">\n",
       "  <thead>\n",
       "    <tr style=\"text-align: right;\">\n",
       "      <th></th>\n",
       "      <th>Income</th>\n",
       "      <th>Age</th>\n",
       "      <th>Rentals</th>\n",
       "      <th>AvgPerVisit</th>\n",
       "    </tr>\n",
       "    <tr>\n",
       "      <th>Gender</th>\n",
       "      <th></th>\n",
       "      <th></th>\n",
       "      <th></th>\n",
       "      <th></th>\n",
       "    </tr>\n",
       "  </thead>\n",
       "  <tbody>\n",
       "    <tr>\n",
       "      <th>F</th>\n",
       "      <td>40631.578947</td>\n",
       "      <td>33.631579</td>\n",
       "      <td>27.684211</td>\n",
       "      <td>2.968421</td>\n",
       "    </tr>\n",
       "    <tr>\n",
       "      <th>M</th>\n",
       "      <td>42285.714286</td>\n",
       "      <td>29.571429</td>\n",
       "      <td>24.809524</td>\n",
       "      <td>2.633333</td>\n",
       "    </tr>\n",
       "  </tbody>\n",
       "</table>\n",
       "</div>"
      ],
      "text/plain": [
       "              Income        Age    Rentals  AvgPerVisit\n",
       "Gender                                                 \n",
       "F       40631.578947  33.631579  27.684211     2.968421\n",
       "M       42285.714286  29.571429  24.809524     2.633333"
      ]
     },
     "execution_count": 19,
     "metadata": {},
     "output_type": "execute_result"
    }
   ],
   "source": [
    "vstable.groupby(\"Gender\").mean()"
   ]
  },
  {
   "cell_type": "code",
   "execution_count": 20,
   "metadata": {
    "collapsed": false
   },
   "outputs": [
    {
     "data": {
      "text/html": [
       "<div>\n",
       "<table border=\"1\" class=\"dataframe\">\n",
       "  <thead>\n",
       "    <tr style=\"text-align: right;\">\n",
       "      <th></th>\n",
       "      <th>Income</th>\n",
       "      <th>Age</th>\n",
       "      <th>Rentals</th>\n",
       "      <th>AvgPerVisit</th>\n",
       "    </tr>\n",
       "    <tr>\n",
       "      <th>Genre</th>\n",
       "      <th></th>\n",
       "      <th></th>\n",
       "      <th></th>\n",
       "      <th></th>\n",
       "    </tr>\n",
       "  </thead>\n",
       "  <tbody>\n",
       "    <tr>\n",
       "      <th>Action</th>\n",
       "      <td>32666.666667</td>\n",
       "      <td>24.066667</td>\n",
       "      <td>29.933333</td>\n",
       "      <td>2.466667</td>\n",
       "    </tr>\n",
       "    <tr>\n",
       "      <th>Comedy</th>\n",
       "      <td>45000.000000</td>\n",
       "      <td>31.916667</td>\n",
       "      <td>25.666667</td>\n",
       "      <td>2.641667</td>\n",
       "    </tr>\n",
       "    <tr>\n",
       "      <th>Drama</th>\n",
       "      <td>48461.538462</td>\n",
       "      <td>39.692308</td>\n",
       "      <td>22.307692</td>\n",
       "      <td>3.307692</td>\n",
       "    </tr>\n",
       "  </tbody>\n",
       "</table>\n",
       "</div>"
      ],
      "text/plain": [
       "              Income        Age    Rentals  AvgPerVisit\n",
       "Genre                                                  \n",
       "Action  32666.666667  24.066667  29.933333     2.466667\n",
       "Comedy  45000.000000  31.916667  25.666667     2.641667\n",
       "Drama   48461.538462  39.692308  22.307692     3.307692"
      ]
     },
     "execution_count": 20,
     "metadata": {},
     "output_type": "execute_result"
    }
   ],
   "source": [
    "vstable.groupby(\"Genre\").mean()"
   ]
  },
  {
   "cell_type": "code",
   "execution_count": 21,
   "metadata": {
    "collapsed": false
   },
   "outputs": [
    {
     "data": {
      "text/html": [
       "<div>\n",
       "<table border=\"1\" class=\"dataframe\">\n",
       "  <thead>\n",
       "    <tr style=\"text-align: right;\">\n",
       "      <th></th>\n",
       "      <th></th>\n",
       "      <th>Age</th>\n",
       "      <th>AvgPerVisit</th>\n",
       "      <th>Income</th>\n",
       "      <th>Rentals</th>\n",
       "    </tr>\n",
       "    <tr>\n",
       "      <th>Genre</th>\n",
       "      <th></th>\n",
       "      <th></th>\n",
       "      <th></th>\n",
       "      <th></th>\n",
       "      <th></th>\n",
       "    </tr>\n",
       "  </thead>\n",
       "  <tbody>\n",
       "    <tr>\n",
       "      <th rowspan=\"8\" valign=\"top\">Action</th>\n",
       "      <th>count</th>\n",
       "      <td>15.000000</td>\n",
       "      <td>15.000000</td>\n",
       "      <td>15.000000</td>\n",
       "      <td>15.000000</td>\n",
       "    </tr>\n",
       "    <tr>\n",
       "      <th>mean</th>\n",
       "      <td>24.066667</td>\n",
       "      <td>2.466667</td>\n",
       "      <td>32666.666667</td>\n",
       "      <td>29.933333</td>\n",
       "    </tr>\n",
       "    <tr>\n",
       "      <th>std</th>\n",
       "      <td>6.374802</td>\n",
       "      <td>0.776132</td>\n",
       "      <td>21562.754484</td>\n",
       "      <td>7.591976</td>\n",
       "    </tr>\n",
       "    <tr>\n",
       "      <th>min</th>\n",
       "      <td>16.000000</td>\n",
       "      <td>1.400000</td>\n",
       "      <td>6000.000000</td>\n",
       "      <td>17.000000</td>\n",
       "    </tr>\n",
       "    <tr>\n",
       "      <th>25%</th>\n",
       "      <td>19.000000</td>\n",
       "      <td>1.950000</td>\n",
       "      <td>17000.000000</td>\n",
       "      <td>25.500000</td>\n",
       "    </tr>\n",
       "    <tr>\n",
       "      <th>50%</th>\n",
       "      <td>25.000000</td>\n",
       "      <td>2.400000</td>\n",
       "      <td>26000.000000</td>\n",
       "      <td>29.000000</td>\n",
       "    </tr>\n",
       "    <tr>\n",
       "      <th>75%</th>\n",
       "      <td>27.000000</td>\n",
       "      <td>2.800000</td>\n",
       "      <td>43000.000000</td>\n",
       "      <td>35.000000</td>\n",
       "    </tr>\n",
       "    <tr>\n",
       "      <th>max</th>\n",
       "      <td>35.000000</td>\n",
       "      <td>4.600000</td>\n",
       "      <td>74000.000000</td>\n",
       "      <td>43.000000</td>\n",
       "    </tr>\n",
       "    <tr>\n",
       "      <th rowspan=\"8\" valign=\"top\">Comedy</th>\n",
       "      <th>count</th>\n",
       "      <td>12.000000</td>\n",
       "      <td>12.000000</td>\n",
       "      <td>12.000000</td>\n",
       "      <td>12.000000</td>\n",
       "    </tr>\n",
       "    <tr>\n",
       "      <th>mean</th>\n",
       "      <td>31.916667</td>\n",
       "      <td>2.641667</td>\n",
       "      <td>45000.000000</td>\n",
       "      <td>25.666667</td>\n",
       "    </tr>\n",
       "    <tr>\n",
       "      <th>std</th>\n",
       "      <td>14.650215</td>\n",
       "      <td>0.967150</td>\n",
       "      <td>29073.574381</td>\n",
       "      <td>10.662878</td>\n",
       "    </tr>\n",
       "    <tr>\n",
       "      <th>min</th>\n",
       "      <td>15.000000</td>\n",
       "      <td>1.200000</td>\n",
       "      <td>1000.000000</td>\n",
       "      <td>12.000000</td>\n",
       "    </tr>\n",
       "    <tr>\n",
       "      <th>25%</th>\n",
       "      <td>20.750000</td>\n",
       "      <td>1.975000</td>\n",
       "      <td>27750.000000</td>\n",
       "      <td>17.250000</td>\n",
       "    </tr>\n",
       "    <tr>\n",
       "      <th>50%</th>\n",
       "      <td>27.500000</td>\n",
       "      <td>2.600000</td>\n",
       "      <td>43500.000000</td>\n",
       "      <td>23.500000</td>\n",
       "    </tr>\n",
       "    <tr>\n",
       "      <th>75%</th>\n",
       "      <td>46.000000</td>\n",
       "      <td>3.300000</td>\n",
       "      <td>68000.000000</td>\n",
       "      <td>34.500000</td>\n",
       "    </tr>\n",
       "    <tr>\n",
       "      <th>max</th>\n",
       "      <td>56.000000</td>\n",
       "      <td>4.100000</td>\n",
       "      <td>89000.000000</td>\n",
       "      <td>42.000000</td>\n",
       "    </tr>\n",
       "    <tr>\n",
       "      <th rowspan=\"8\" valign=\"top\">Drama</th>\n",
       "      <th>count</th>\n",
       "      <td>13.000000</td>\n",
       "      <td>13.000000</td>\n",
       "      <td>13.000000</td>\n",
       "      <td>13.000000</td>\n",
       "    </tr>\n",
       "    <tr>\n",
       "      <th>mean</th>\n",
       "      <td>39.692308</td>\n",
       "      <td>3.307692</td>\n",
       "      <td>48461.538462</td>\n",
       "      <td>22.307692</td>\n",
       "    </tr>\n",
       "    <tr>\n",
       "      <th>std</th>\n",
       "      <td>11.933040</td>\n",
       "      <td>0.504086</td>\n",
       "      <td>15119.608596</td>\n",
       "      <td>9.672854</td>\n",
       "    </tr>\n",
       "    <tr>\n",
       "      <th>min</th>\n",
       "      <td>22.000000</td>\n",
       "      <td>2.300000</td>\n",
       "      <td>25000.000000</td>\n",
       "      <td>11.000000</td>\n",
       "    </tr>\n",
       "    <tr>\n",
       "      <th>25%</th>\n",
       "      <td>33.000000</td>\n",
       "      <td>3.100000</td>\n",
       "      <td>41000.000000</td>\n",
       "      <td>16.000000</td>\n",
       "    </tr>\n",
       "    <tr>\n",
       "      <th>50%</th>\n",
       "      <td>36.000000</td>\n",
       "      <td>3.300000</td>\n",
       "      <td>47000.000000</td>\n",
       "      <td>21.000000</td>\n",
       "    </tr>\n",
       "    <tr>\n",
       "      <th>75%</th>\n",
       "      <td>45.000000</td>\n",
       "      <td>3.600000</td>\n",
       "      <td>59000.000000</td>\n",
       "      <td>24.000000</td>\n",
       "    </tr>\n",
       "    <tr>\n",
       "      <th>max</th>\n",
       "      <td>70.000000</td>\n",
       "      <td>4.200000</td>\n",
       "      <td>79000.000000</td>\n",
       "      <td>48.000000</td>\n",
       "    </tr>\n",
       "  </tbody>\n",
       "</table>\n",
       "</div>"
      ],
      "text/plain": [
       "                    Age  AvgPerVisit        Income    Rentals\n",
       "Genre                                                        \n",
       "Action count  15.000000    15.000000     15.000000  15.000000\n",
       "       mean   24.066667     2.466667  32666.666667  29.933333\n",
       "       std     6.374802     0.776132  21562.754484   7.591976\n",
       "       min    16.000000     1.400000   6000.000000  17.000000\n",
       "       25%    19.000000     1.950000  17000.000000  25.500000\n",
       "       50%    25.000000     2.400000  26000.000000  29.000000\n",
       "       75%    27.000000     2.800000  43000.000000  35.000000\n",
       "       max    35.000000     4.600000  74000.000000  43.000000\n",
       "Comedy count  12.000000    12.000000     12.000000  12.000000\n",
       "       mean   31.916667     2.641667  45000.000000  25.666667\n",
       "       std    14.650215     0.967150  29073.574381  10.662878\n",
       "       min    15.000000     1.200000   1000.000000  12.000000\n",
       "       25%    20.750000     1.975000  27750.000000  17.250000\n",
       "       50%    27.500000     2.600000  43500.000000  23.500000\n",
       "       75%    46.000000     3.300000  68000.000000  34.500000\n",
       "       max    56.000000     4.100000  89000.000000  42.000000\n",
       "Drama  count  13.000000    13.000000     13.000000  13.000000\n",
       "       mean   39.692308     3.307692  48461.538462  22.307692\n",
       "       std    11.933040     0.504086  15119.608596   9.672854\n",
       "       min    22.000000     2.300000  25000.000000  11.000000\n",
       "       25%    33.000000     3.100000  41000.000000  16.000000\n",
       "       50%    36.000000     3.300000  47000.000000  21.000000\n",
       "       75%    45.000000     3.600000  59000.000000  24.000000\n",
       "       max    70.000000     4.200000  79000.000000  48.000000"
      ]
     },
     "execution_count": 21,
     "metadata": {},
     "output_type": "execute_result"
    }
   ],
   "source": [
    "vstable.groupby(\"Genre\").describe()"
   ]
  },
  {
   "cell_type": "code",
   "execution_count": 22,
   "metadata": {
    "collapsed": false
   },
   "outputs": [
    {
     "data": {
      "text/plain": [
       "<matplotlib.axes._subplots.AxesSubplot at 0x7f39e91a1050>"
      ]
     },
     "execution_count": 22,
     "metadata": {},
     "output_type": "execute_result"
    },
    {
     "data": {
      "image/png": "[encoded data removed]",
      "text/plain": [
       "<matplotlib.figure.Figure at 0x7f39e9190150>"
      ]
     },
     "metadata": {},
     "output_type": "display_data"
    }
   ],
   "source": [
    "vstable[\"Income\"].plot(kind=\"hist\", bins=6)"
   ]
  },
  {
   "cell_type": "code",
   "execution_count": 23,
   "metadata": {
    "collapsed": false
   },
   "outputs": [
    {
     "data": {
      "text/plain": [
       "<matplotlib.axes._subplots.AxesSubplot at 0x7f39e6d38e90>"
      ]
     },
     "execution_count": 23,
     "metadata": {},
     "output_type": "execute_result"
    },
    {
     "data": {
      "image/png": "[encoded data removed]",
      "text/plain": [
       "<matplotlib.figure.Figure at 0x7f39e6d68650>"
      ]
     },
     "metadata": {},
     "output_type": "display_data"
    }
   ],
   "source": [
    "vstable[\"Genre\"].value_counts().plot(kind='bar')"
   ]
  },
  {
   "cell_type": "code",
   "execution_count": 24,
   "metadata": {
    "collapsed": false
   },
   "outputs": [
    {
     "data": {
      "text/plain": [
       "<matplotlib.axes._subplots.AxesSubplot at 0x7f39e6722150>"
      ]
     },
     "execution_count": 24,
     "metadata": {},
     "output_type": "execute_result"
    },
    {
     "data": {
      "image/png": "[encoded data removed]",
      "text/plain": [
       "<matplotlib.figure.Figure at 0x7f39e6d5e5d0>"
      ]
     },
     "metadata": {},
     "output_type": "display_data"
    }
   ],
   "source": [
    "temp1 = vstable[\"Genre\"].value_counts()/vstable[\"Genre\"].count()\n",
    "temp2 = vstable[\"Gender\"].value_counts()/vstable[\"Gender\"].count()\n",
    "temp2\n",
    "\n",
    "fig = plt.figure(figsize=(10,4))\n",
    "ax1 = fig.add_subplot(121)\n",
    "ax1.set_xlabel('Genre')\n",
    "ax1.set_ylabel('Percentage')\n",
    "ax1.set_title(\"Genre Distribution\")\n",
    "temp1.plot(kind='bar', grid = True)\n",
    "\n",
    "ax1 = fig.add_subplot(122)\n",
    "ax1.set_xlabel('Gender')\n",
    "ax1.set_ylabel('Percentage')\n",
    "ax1.set_title(\"Gender Distribution\")\n",
    "temp2.plot(kind='bar', grid = True)"
   ]
  },
  {
   "cell_type": "code",
   "execution_count": 25,
   "metadata": {
    "collapsed": false
   },
   "outputs": [
    {
     "data": {
      "text/plain": [
       "<matplotlib.axes._subplots.AxesSubplot at 0x7f39e6868d50>"
      ]
     },
     "execution_count": 25,
     "metadata": {},
     "output_type": "execute_result"
    },
    {
     "data": {
      "image/png": "[encoded data removed]",
      "text/plain": [
       "<matplotlib.figure.Figure at 0x7f39e6886f90>"
      ]
     },
     "metadata": {},
     "output_type": "display_data"
    }
   ],
   "source": [
    "vstable.plot(x=\"Income\", y=\"Age\", kind=\"scatter\")"
   ]
  },
  {
   "cell_type": "code",
   "execution_count": 26,
   "metadata": {
    "collapsed": false
   },
   "outputs": [
    {
     "data": {
      "text/plain": [
       "Genre   Gender\n",
       "Action  F          5\n",
       "        M         10\n",
       "Comedy  F          6\n",
       "        M          6\n",
       "Drama   F          8\n",
       "        M          5\n",
       "Name: Gender, dtype: int64"
      ]
     },
     "execution_count": 26,
     "metadata": {},
     "output_type": "execute_result"
    }
   ],
   "source": [
    "vstable.groupby([\"Genre\",\"Gender\"])[\"Gender\"].count()"
   ]
  },
  {
   "cell_type": "code",
   "execution_count": 27,
   "metadata": {
    "collapsed": false
   },
   "outputs": [
    {
     "data": {
      "text/html": [
       "<div>\n",
       "<table border=\"1\" class=\"dataframe\">\n",
       "  <thead>\n",
       "    <tr style=\"text-align: right;\">\n",
       "      <th>Gender</th>\n",
       "      <th>F</th>\n",
       "      <th>M</th>\n",
       "    </tr>\n",
       "    <tr>\n",
       "      <th>Genre</th>\n",
       "      <th></th>\n",
       "      <th></th>\n",
       "    </tr>\n",
       "  </thead>\n",
       "  <tbody>\n",
       "    <tr>\n",
       "      <th>Action</th>\n",
       "      <td>5</td>\n",
       "      <td>10</td>\n",
       "    </tr>\n",
       "    <tr>\n",
       "      <th>Comedy</th>\n",
       "      <td>6</td>\n",
       "      <td>6</td>\n",
       "    </tr>\n",
       "    <tr>\n",
       "      <th>Drama</th>\n",
       "      <td>8</td>\n",
       "      <td>5</td>\n",
       "    </tr>\n",
       "  </tbody>\n",
       "</table>\n",
       "</div>"
      ],
      "text/plain": [
       "Gender  F   M\n",
       "Genre        \n",
       "Action  5  10\n",
       "Comedy  6   6\n",
       "Drama   8   5"
      ]
     },
     "execution_count": 27,
     "metadata": {},
     "output_type": "execute_result"
    }
   ],
   "source": [
    "gg = pd.crosstab(vstable[\"Genre\"], vstable[\"Gender\"])\n",
    "gg"
   ]
  },
  {
   "cell_type": "code",
   "execution_count": 28,
   "metadata": {
    "collapsed": false
   },
   "outputs": [
    {
     "data": {
      "image/png": "[encoded data removed]",
      "text/plain": [
       "<matplotlib.figure.Figure at 0x7f39e66158d0>"
      ]
     },
     "metadata": {},
     "output_type": "display_data"
    }
   ],
   "source": [
    "plt.show(gg.plot(kind=\"bar\"))"
   ]
  },
  {
   "cell_type": "code",
   "execution_count": 29,
   "metadata": {
    "collapsed": false
   },
   "outputs": [
    {
     "data": {
      "text/html": [
       "<div>\n",
       "<table border=\"1\" class=\"dataframe\">\n",
       "  <thead>\n",
       "    <tr style=\"text-align: right;\">\n",
       "      <th>Gender</th>\n",
       "      <th>F</th>\n",
       "      <th>M</th>\n",
       "      <th>percent_female</th>\n",
       "    </tr>\n",
       "    <tr>\n",
       "      <th>Genre</th>\n",
       "      <th></th>\n",
       "      <th></th>\n",
       "      <th></th>\n",
       "    </tr>\n",
       "  </thead>\n",
       "  <tbody>\n",
       "    <tr>\n",
       "      <th>Action</th>\n",
       "      <td>5</td>\n",
       "      <td>10</td>\n",
       "      <td>0.333333</td>\n",
       "    </tr>\n",
       "    <tr>\n",
       "      <th>Comedy</th>\n",
       "      <td>6</td>\n",
       "      <td>6</td>\n",
       "      <td>0.500000</td>\n",
       "    </tr>\n",
       "    <tr>\n",
       "      <th>Drama</th>\n",
       "      <td>8</td>\n",
       "      <td>5</td>\n",
       "      <td>0.615385</td>\n",
       "    </tr>\n",
       "  </tbody>\n",
       "</table>\n",
       "</div>"
      ],
      "text/plain": [
       "Gender  F   M  percent_female\n",
       "Genre                        \n",
       "Action  5  10        0.333333\n",
       "Comedy  6   6        0.500000\n",
       "Drama   8   5        0.615385"
      ]
     },
     "execution_count": 29,
     "metadata": {},
     "output_type": "execute_result"
    }
   ],
   "source": [
    "gg[\"percent_female\"] = gg[\"F\"]/(gg[\"F\"]+gg[\"M\"])\n",
    "gg"
   ]
  },
  {
   "cell_type": "code",
   "execution_count": 30,
   "metadata": {
    "collapsed": false
   },
   "outputs": [
    {
     "data": {
      "image/png": "[encoded data removed]",
      "text/plain": [
       "<matplotlib.figure.Figure at 0x7f39e6460250>"
      ]
     },
     "metadata": {},
     "output_type": "display_data"
    }
   ],
   "source": [
    "plt.show(gg[\"percent_female\"].plot(kind=\"bar\"))"
   ]
  },
  {
   "cell_type": "code",
   "execution_count": 31,
   "metadata": {
    "collapsed": false
   },
   "outputs": [
    {
     "data": {
      "text/html": [
       "<div>\n",
       "<table border=\"1\" class=\"dataframe\">\n",
       "  <thead>\n",
       "    <tr style=\"text-align: right;\">\n",
       "      <th></th>\n",
       "      <th>Gender</th>\n",
       "      <th>Income</th>\n",
       "      <th>Age</th>\n",
       "      <th>Rentals</th>\n",
       "      <th>AvgPerVisit</th>\n",
       "      <th>Genre</th>\n",
       "    </tr>\n",
       "    <tr>\n",
       "      <th>ID</th>\n",
       "      <th></th>\n",
       "      <th></th>\n",
       "      <th></th>\n",
       "      <th></th>\n",
       "      <th></th>\n",
       "      <th></th>\n",
       "    </tr>\n",
       "  </thead>\n",
       "  <tbody>\n",
       "    <tr>\n",
       "      <th>3</th>\n",
       "      <td>F</td>\n",
       "      <td>32000</td>\n",
       "      <td>20</td>\n",
       "      <td>42</td>\n",
       "      <td>1.6</td>\n",
       "      <td>Comedy</td>\n",
       "    </tr>\n",
       "    <tr>\n",
       "      <th>6</th>\n",
       "      <td>M</td>\n",
       "      <td>18000</td>\n",
       "      <td>20</td>\n",
       "      <td>33</td>\n",
       "      <td>1.7</td>\n",
       "      <td>Action</td>\n",
       "    </tr>\n",
       "    <tr>\n",
       "      <th>8</th>\n",
       "      <td>M</td>\n",
       "      <td>74000</td>\n",
       "      <td>25</td>\n",
       "      <td>31</td>\n",
       "      <td>2.4</td>\n",
       "      <td>Action</td>\n",
       "    </tr>\n",
       "    <tr>\n",
       "      <th>11</th>\n",
       "      <td>F</td>\n",
       "      <td>41000</td>\n",
       "      <td>22</td>\n",
       "      <td>48</td>\n",
       "      <td>2.3</td>\n",
       "      <td>Drama</td>\n",
       "    </tr>\n",
       "    <tr>\n",
       "      <th>15</th>\n",
       "      <td>M</td>\n",
       "      <td>68000</td>\n",
       "      <td>30</td>\n",
       "      <td>36</td>\n",
       "      <td>2.7</td>\n",
       "      <td>Comedy</td>\n",
       "    </tr>\n",
       "    <tr>\n",
       "      <th>18</th>\n",
       "      <td>F</td>\n",
       "      <td>6000</td>\n",
       "      <td>16</td>\n",
       "      <td>39</td>\n",
       "      <td>1.8</td>\n",
       "      <td>Action</td>\n",
       "    </tr>\n",
       "    <tr>\n",
       "      <th>19</th>\n",
       "      <td>F</td>\n",
       "      <td>24000</td>\n",
       "      <td>25</td>\n",
       "      <td>41</td>\n",
       "      <td>3.1</td>\n",
       "      <td>Comedy</td>\n",
       "    </tr>\n",
       "    <tr>\n",
       "      <th>23</th>\n",
       "      <td>F</td>\n",
       "      <td>2000</td>\n",
       "      <td>15</td>\n",
       "      <td>30</td>\n",
       "      <td>2.5</td>\n",
       "      <td>Comedy</td>\n",
       "    </tr>\n",
       "    <tr>\n",
       "      <th>26</th>\n",
       "      <td>F</td>\n",
       "      <td>56000</td>\n",
       "      <td>35</td>\n",
       "      <td>40</td>\n",
       "      <td>2.6</td>\n",
       "      <td>Action</td>\n",
       "    </tr>\n",
       "    <tr>\n",
       "      <th>27</th>\n",
       "      <td>F</td>\n",
       "      <td>62000</td>\n",
       "      <td>47</td>\n",
       "      <td>32</td>\n",
       "      <td>3.6</td>\n",
       "      <td>Drama</td>\n",
       "    </tr>\n",
       "    <tr>\n",
       "      <th>29</th>\n",
       "      <td>F</td>\n",
       "      <td>15000</td>\n",
       "      <td>18</td>\n",
       "      <td>37</td>\n",
       "      <td>2.1</td>\n",
       "      <td>Action</td>\n",
       "    </tr>\n",
       "    <tr>\n",
       "      <th>35</th>\n",
       "      <td>M</td>\n",
       "      <td>74000</td>\n",
       "      <td>29</td>\n",
       "      <td>43</td>\n",
       "      <td>4.6</td>\n",
       "      <td>Action</td>\n",
       "    </tr>\n",
       "    <tr>\n",
       "      <th>36</th>\n",
       "      <td>F</td>\n",
       "      <td>29000</td>\n",
       "      <td>21</td>\n",
       "      <td>34</td>\n",
       "      <td>2.3</td>\n",
       "      <td>Comedy</td>\n",
       "    </tr>\n",
       "    <tr>\n",
       "      <th>40</th>\n",
       "      <td>M</td>\n",
       "      <td>17000</td>\n",
       "      <td>19</td>\n",
       "      <td>32</td>\n",
       "      <td>1.8</td>\n",
       "      <td>Action</td>\n",
       "    </tr>\n",
       "  </tbody>\n",
       "</table>\n",
       "</div>"
      ],
      "text/plain": [
       "   Gender  Income  Age  Rentals  AvgPerVisit   Genre\n",
       "ID                                                  \n",
       "3       F   32000   20       42          1.6  Comedy\n",
       "6       M   18000   20       33          1.7  Action\n",
       "8       M   74000   25       31          2.4  Action\n",
       "11      F   41000   22       48          2.3   Drama\n",
       "15      M   68000   30       36          2.7  Comedy\n",
       "18      F    6000   16       39          1.8  Action\n",
       "19      F   24000   25       41          3.1  Comedy\n",
       "23      F    2000   15       30          2.5  Comedy\n",
       "26      F   56000   35       40          2.6  Action\n",
       "27      F   62000   47       32          3.6   Drama\n",
       "29      F   15000   18       37          2.1  Action\n",
       "35      M   74000   29       43          4.6  Action\n",
       "36      F   29000   21       34          2.3  Comedy\n",
       "40      M   17000   19       32          1.8  Action"
      ]
     },
     "execution_count": 31,
     "metadata": {},
     "output_type": "execute_result"
    }
   ],
   "source": [
    "good_cust = vstable[vstable.Rentals>=30]\n",
    "good_cust"
   ]
  },
  {
   "cell_type": "code",
   "execution_count": 32,
   "metadata": {
    "collapsed": false
   },
   "outputs": [
    {
     "name": "stdout",
     "output_type": "stream",
     "text": [
      "Good Customers:\n",
      "             Income        Age    Rentals  AvgPerVisit\n",
      "count     14.000000  14.000000  14.000000    14.000000\n",
      "mean   37000.000000  24.428571  37.000000     2.507143\n",
      "std    25404.421178   8.599770   5.349335     0.818502\n",
      "min     2000.000000  15.000000  30.000000     1.600000\n",
      "25%    17250.000000  19.250000  32.250000     1.875000\n",
      "50%    30500.000000  21.500000  36.500000     2.350000\n",
      "75%    60500.000000  28.000000  40.750000     2.675000\n",
      "max    74000.000000  47.000000  48.000000     4.600000\n",
      "\n",
      " All Customers:\n",
      "             Income        Age    Rentals  AvgPerVisit\n",
      "count     40.000000  40.000000  40.000000    40.000000\n",
      "mean   41500.000000  31.500000  26.175000     2.792500\n",
      "std    22925.744123  12.752074   9.594035     0.833401\n",
      "min     1000.000000  15.000000  11.000000     1.200000\n",
      "25%    24750.000000  21.000000  19.000000     2.200000\n",
      "50%    41000.000000  30.000000  25.000000     2.800000\n",
      "75%    57500.000000  36.500000  32.250000     3.325000\n",
      "max    89000.000000  70.000000  48.000000     4.600000\n"
     ]
    }
   ],
   "source": [
    "print \"Good Customers:\\n\", good_cust.describe()\n",
    "print \"\\n All Customers:\\n\", vstable.describe()"
   ]
  },
  {
   "cell_type": "code",
   "execution_count": 33,
   "metadata": {
    "collapsed": false
   },
   "outputs": [
    {
     "data": {
      "text/html": [
       "<div>\n",
       "<table border=\"1\" class=\"dataframe\">\n",
       "  <thead>\n",
       "    <tr style=\"text-align: right;\">\n",
       "      <th></th>\n",
       "      <th>Gender_F</th>\n",
       "      <th>Gender_M</th>\n",
       "    </tr>\n",
       "    <tr>\n",
       "      <th>ID</th>\n",
       "      <th></th>\n",
       "      <th></th>\n",
       "    </tr>\n",
       "  </thead>\n",
       "  <tbody>\n",
       "    <tr>\n",
       "      <th>1</th>\n",
       "      <td>0</td>\n",
       "      <td>1</td>\n",
       "    </tr>\n",
       "    <tr>\n",
       "      <th>2</th>\n",
       "      <td>1</td>\n",
       "      <td>0</td>\n",
       "    </tr>\n",
       "    <tr>\n",
       "      <th>3</th>\n",
       "      <td>1</td>\n",
       "      <td>0</td>\n",
       "    </tr>\n",
       "    <tr>\n",
       "      <th>4</th>\n",
       "      <td>1</td>\n",
       "      <td>0</td>\n",
       "    </tr>\n",
       "    <tr>\n",
       "      <th>5</th>\n",
       "      <td>0</td>\n",
       "      <td>1</td>\n",
       "    </tr>\n",
       "  </tbody>\n",
       "</table>\n",
       "</div>"
      ],
      "text/plain": [
       "    Gender_F  Gender_M\n",
       "ID                    \n",
       "1          0         1\n",
       "2          1         0\n",
       "3          1         0\n",
       "4          1         0\n",
       "5          0         1"
      ]
     },
     "execution_count": 33,
     "metadata": {},
     "output_type": "execute_result"
    }
   ],
   "source": [
    "gender_bin = pd.get_dummies(vstable[\"Gender\"], prefix=\"Gender\")\n",
    "gender_bin.head()"
   ]
  },
  {
   "cell_type": "code",
   "execution_count": 34,
   "metadata": {
    "collapsed": false
   },
   "outputs": [
    {
     "data": {
      "text/html": [
       "<div>\n",
       "<table border=\"1\" class=\"dataframe\">\n",
       "  <thead>\n",
       "    <tr style=\"text-align: right;\">\n",
       "      <th></th>\n",
       "      <th>Income</th>\n",
       "      <th>Age</th>\n",
       "      <th>Rentals</th>\n",
       "      <th>AvgPerVisit</th>\n",
       "      <th>Gender_F</th>\n",
       "      <th>Gender_M</th>\n",
       "      <th>Genre_Action</th>\n",
       "      <th>Genre_Comedy</th>\n",
       "      <th>Genre_Drama</th>\n",
       "    </tr>\n",
       "    <tr>\n",
       "      <th>ID</th>\n",
       "      <th></th>\n",
       "      <th></th>\n",
       "      <th></th>\n",
       "      <th></th>\n",
       "      <th></th>\n",
       "      <th></th>\n",
       "      <th></th>\n",
       "      <th></th>\n",
       "      <th></th>\n",
       "    </tr>\n",
       "  </thead>\n",
       "  <tbody>\n",
       "    <tr>\n",
       "      <th>1</th>\n",
       "      <td>45000</td>\n",
       "      <td>25</td>\n",
       "      <td>27</td>\n",
       "      <td>2.5</td>\n",
       "      <td>0</td>\n",
       "      <td>1</td>\n",
       "      <td>1</td>\n",
       "      <td>0</td>\n",
       "      <td>0</td>\n",
       "    </tr>\n",
       "    <tr>\n",
       "      <th>2</th>\n",
       "      <td>54000</td>\n",
       "      <td>33</td>\n",
       "      <td>12</td>\n",
       "      <td>3.4</td>\n",
       "      <td>1</td>\n",
       "      <td>0</td>\n",
       "      <td>0</td>\n",
       "      <td>0</td>\n",
       "      <td>1</td>\n",
       "    </tr>\n",
       "    <tr>\n",
       "      <th>3</th>\n",
       "      <td>32000</td>\n",
       "      <td>20</td>\n",
       "      <td>42</td>\n",
       "      <td>1.6</td>\n",
       "      <td>1</td>\n",
       "      <td>0</td>\n",
       "      <td>0</td>\n",
       "      <td>1</td>\n",
       "      <td>0</td>\n",
       "    </tr>\n",
       "    <tr>\n",
       "      <th>4</th>\n",
       "      <td>59000</td>\n",
       "      <td>70</td>\n",
       "      <td>16</td>\n",
       "      <td>4.2</td>\n",
       "      <td>1</td>\n",
       "      <td>0</td>\n",
       "      <td>0</td>\n",
       "      <td>0</td>\n",
       "      <td>1</td>\n",
       "    </tr>\n",
       "    <tr>\n",
       "      <th>5</th>\n",
       "      <td>37000</td>\n",
       "      <td>35</td>\n",
       "      <td>25</td>\n",
       "      <td>3.2</td>\n",
       "      <td>0</td>\n",
       "      <td>1</td>\n",
       "      <td>1</td>\n",
       "      <td>0</td>\n",
       "      <td>0</td>\n",
       "    </tr>\n",
       "    <tr>\n",
       "      <th>6</th>\n",
       "      <td>18000</td>\n",
       "      <td>20</td>\n",
       "      <td>33</td>\n",
       "      <td>1.7</td>\n",
       "      <td>0</td>\n",
       "      <td>1</td>\n",
       "      <td>1</td>\n",
       "      <td>0</td>\n",
       "      <td>0</td>\n",
       "    </tr>\n",
       "    <tr>\n",
       "      <th>7</th>\n",
       "      <td>29000</td>\n",
       "      <td>45</td>\n",
       "      <td>19</td>\n",
       "      <td>3.8</td>\n",
       "      <td>1</td>\n",
       "      <td>0</td>\n",
       "      <td>0</td>\n",
       "      <td>0</td>\n",
       "      <td>1</td>\n",
       "    </tr>\n",
       "    <tr>\n",
       "      <th>8</th>\n",
       "      <td>74000</td>\n",
       "      <td>25</td>\n",
       "      <td>31</td>\n",
       "      <td>2.4</td>\n",
       "      <td>0</td>\n",
       "      <td>1</td>\n",
       "      <td>1</td>\n",
       "      <td>0</td>\n",
       "      <td>0</td>\n",
       "    </tr>\n",
       "    <tr>\n",
       "      <th>9</th>\n",
       "      <td>38000</td>\n",
       "      <td>21</td>\n",
       "      <td>18</td>\n",
       "      <td>2.1</td>\n",
       "      <td>0</td>\n",
       "      <td>1</td>\n",
       "      <td>0</td>\n",
       "      <td>1</td>\n",
       "      <td>0</td>\n",
       "    </tr>\n",
       "    <tr>\n",
       "      <th>10</th>\n",
       "      <td>65000</td>\n",
       "      <td>40</td>\n",
       "      <td>21</td>\n",
       "      <td>3.3</td>\n",
       "      <td>1</td>\n",
       "      <td>0</td>\n",
       "      <td>0</td>\n",
       "      <td>0</td>\n",
       "      <td>1</td>\n",
       "    </tr>\n",
       "  </tbody>\n",
       "</table>\n",
       "</div>"
      ],
      "text/plain": [
       "    Income  Age  Rentals  AvgPerVisit  Gender_F  Gender_M  Genre_Action  \\\n",
       "ID                                                                        \n",
       "1    45000   25       27          2.5         0         1             1   \n",
       "2    54000   33       12          3.4         1         0             0   \n",
       "3    32000   20       42          1.6         1         0             0   \n",
       "4    59000   70       16          4.2         1         0             0   \n",
       "5    37000   35       25          3.2         0         1             1   \n",
       "6    18000   20       33          1.7         0         1             1   \n",
       "7    29000   45       19          3.8         1         0             0   \n",
       "8    74000   25       31          2.4         0         1             1   \n",
       "9    38000   21       18          2.1         0         1             0   \n",
       "10   65000   40       21          3.3         1         0             0   \n",
       "\n",
       "    Genre_Comedy  Genre_Drama  \n",
       "ID                             \n",
       "1              0            0  \n",
       "2              0            1  \n",
       "3              1            0  \n",
       "4              0            1  \n",
       "5              0            0  \n",
       "6              0            0  \n",
       "7              0            1  \n",
       "8              0            0  \n",
       "9              1            0  \n",
       "10             0            1  "
      ]
     },
     "execution_count": 34,
     "metadata": {},
     "output_type": "execute_result"
    }
   ],
   "source": [
    "vs_ssf = pd.get_dummies(vstable)\n",
    "vs_ssf.head(10)"
   ]
  },
  {
   "cell_type": "code",
   "execution_count": 35,
   "metadata": {
    "collapsed": false
   },
   "outputs": [
    {
     "data": {
      "text/html": [
       "<div>\n",
       "<table border=\"1\" class=\"dataframe\">\n",
       "  <thead>\n",
       "    <tr style=\"text-align: right;\">\n",
       "      <th></th>\n",
       "      <th>Income</th>\n",
       "      <th>Age</th>\n",
       "      <th>Rentals</th>\n",
       "      <th>AvgPerVisit</th>\n",
       "      <th>Gender_F</th>\n",
       "      <th>Gender_M</th>\n",
       "      <th>Genre_Action</th>\n",
       "      <th>Genre_Comedy</th>\n",
       "      <th>Genre_Drama</th>\n",
       "    </tr>\n",
       "  </thead>\n",
       "  <tbody>\n",
       "    <tr>\n",
       "      <th>count</th>\n",
       "      <td>40.000000</td>\n",
       "      <td>40.000000</td>\n",
       "      <td>40.000000</td>\n",
       "      <td>40.000000</td>\n",
       "      <td>40.000000</td>\n",
       "      <td>40.000000</td>\n",
       "      <td>40.00000</td>\n",
       "      <td>40.000000</td>\n",
       "      <td>40.000000</td>\n",
       "    </tr>\n",
       "    <tr>\n",
       "      <th>mean</th>\n",
       "      <td>41500.000000</td>\n",
       "      <td>31.500000</td>\n",
       "      <td>26.175000</td>\n",
       "      <td>2.792500</td>\n",
       "      <td>0.475000</td>\n",
       "      <td>0.525000</td>\n",
       "      <td>0.37500</td>\n",
       "      <td>0.300000</td>\n",
       "      <td>0.325000</td>\n",
       "    </tr>\n",
       "    <tr>\n",
       "      <th>std</th>\n",
       "      <td>22925.744123</td>\n",
       "      <td>12.752074</td>\n",
       "      <td>9.594035</td>\n",
       "      <td>0.833401</td>\n",
       "      <td>0.505736</td>\n",
       "      <td>0.505736</td>\n",
       "      <td>0.49029</td>\n",
       "      <td>0.464095</td>\n",
       "      <td>0.474342</td>\n",
       "    </tr>\n",
       "    <tr>\n",
       "      <th>min</th>\n",
       "      <td>1000.000000</td>\n",
       "      <td>15.000000</td>\n",
       "      <td>11.000000</td>\n",
       "      <td>1.200000</td>\n",
       "      <td>0.000000</td>\n",
       "      <td>0.000000</td>\n",
       "      <td>0.00000</td>\n",
       "      <td>0.000000</td>\n",
       "      <td>0.000000</td>\n",
       "    </tr>\n",
       "    <tr>\n",
       "      <th>25%</th>\n",
       "      <td>24750.000000</td>\n",
       "      <td>21.000000</td>\n",
       "      <td>19.000000</td>\n",
       "      <td>2.200000</td>\n",
       "      <td>0.000000</td>\n",
       "      <td>0.000000</td>\n",
       "      <td>0.00000</td>\n",
       "      <td>0.000000</td>\n",
       "      <td>0.000000</td>\n",
       "    </tr>\n",
       "    <tr>\n",
       "      <th>50%</th>\n",
       "      <td>41000.000000</td>\n",
       "      <td>30.000000</td>\n",
       "      <td>25.000000</td>\n",
       "      <td>2.800000</td>\n",
       "      <td>0.000000</td>\n",
       "      <td>1.000000</td>\n",
       "      <td>0.00000</td>\n",
       "      <td>0.000000</td>\n",
       "      <td>0.000000</td>\n",
       "    </tr>\n",
       "    <tr>\n",
       "      <th>75%</th>\n",
       "      <td>57500.000000</td>\n",
       "      <td>36.500000</td>\n",
       "      <td>32.250000</td>\n",
       "      <td>3.325000</td>\n",
       "      <td>1.000000</td>\n",
       "      <td>1.000000</td>\n",
       "      <td>1.00000</td>\n",
       "      <td>1.000000</td>\n",
       "      <td>1.000000</td>\n",
       "    </tr>\n",
       "    <tr>\n",
       "      <th>max</th>\n",
       "      <td>89000.000000</td>\n",
       "      <td>70.000000</td>\n",
       "      <td>48.000000</td>\n",
       "      <td>4.600000</td>\n",
       "      <td>1.000000</td>\n",
       "      <td>1.000000</td>\n",
       "      <td>1.00000</td>\n",
       "      <td>1.000000</td>\n",
       "      <td>1.000000</td>\n",
       "    </tr>\n",
       "  </tbody>\n",
       "</table>\n",
       "</div>"
      ],
      "text/plain": [
       "             Income        Age    Rentals  AvgPerVisit   Gender_F   Gender_M  \\\n",
       "count     40.000000  40.000000  40.000000    40.000000  40.000000  40.000000   \n",
       "mean   41500.000000  31.500000  26.175000     2.792500   0.475000   0.525000   \n",
       "std    22925.744123  12.752074   9.594035     0.833401   0.505736   0.505736   \n",
       "min     1000.000000  15.000000  11.000000     1.200000   0.000000   0.000000   \n",
       "25%    24750.000000  21.000000  19.000000     2.200000   0.000000   0.000000   \n",
       "50%    41000.000000  30.000000  25.000000     2.800000   0.000000   1.000000   \n",
       "75%    57500.000000  36.500000  32.250000     3.325000   1.000000   1.000000   \n",
       "max    89000.000000  70.000000  48.000000     4.600000   1.000000   1.000000   \n",
       "\n",
       "       Genre_Action  Genre_Comedy  Genre_Drama  \n",
       "count      40.00000     40.000000    40.000000  \n",
       "mean        0.37500      0.300000     0.325000  \n",
       "std         0.49029      0.464095     0.474342  \n",
       "min         0.00000      0.000000     0.000000  \n",
       "25%         0.00000      0.000000     0.000000  \n",
       "50%         0.00000      0.000000     0.000000  \n",
       "75%         1.00000      1.000000     1.000000  \n",
       "max         1.00000      1.000000     1.000000  "
      ]
     },
     "execution_count": 35,
     "metadata": {},
     "output_type": "execute_result"
    }
   ],
   "source": [
    "vs_ssf.describe(include=\"all\")"
   ]
  },
  {
   "cell_type": "code",
   "execution_count": 36,
   "metadata": {
    "collapsed": false
   },
   "outputs": [
    {
     "data": {
      "text/html": [
       "<div>\n",
       "<table border=\"1\" class=\"dataframe\">\n",
       "  <thead>\n",
       "    <tr style=\"text-align: right;\">\n",
       "      <th></th>\n",
       "      <th>Income</th>\n",
       "      <th>Age</th>\n",
       "      <th>Rentals</th>\n",
       "      <th>AvgPerVisit</th>\n",
       "      <th>Gender_F</th>\n",
       "      <th>Gender_M</th>\n",
       "      <th>Genre_Action</th>\n",
       "      <th>Genre_Comedy</th>\n",
       "      <th>Genre_Drama</th>\n",
       "    </tr>\n",
       "    <tr>\n",
       "      <th>ID</th>\n",
       "      <th></th>\n",
       "      <th></th>\n",
       "      <th></th>\n",
       "      <th></th>\n",
       "      <th></th>\n",
       "      <th></th>\n",
       "      <th></th>\n",
       "      <th></th>\n",
       "      <th></th>\n",
       "    </tr>\n",
       "  </thead>\n",
       "  <tbody>\n",
       "    <tr>\n",
       "      <th>1</th>\n",
       "      <td>0.500000</td>\n",
       "      <td>0.181818</td>\n",
       "      <td>0.432432</td>\n",
       "      <td>0.382353</td>\n",
       "      <td>0</td>\n",
       "      <td>1</td>\n",
       "      <td>1</td>\n",
       "      <td>0</td>\n",
       "      <td>0</td>\n",
       "    </tr>\n",
       "    <tr>\n",
       "      <th>2</th>\n",
       "      <td>0.602273</td>\n",
       "      <td>0.327273</td>\n",
       "      <td>0.027027</td>\n",
       "      <td>0.647059</td>\n",
       "      <td>1</td>\n",
       "      <td>0</td>\n",
       "      <td>0</td>\n",
       "      <td>0</td>\n",
       "      <td>1</td>\n",
       "    </tr>\n",
       "    <tr>\n",
       "      <th>3</th>\n",
       "      <td>0.352273</td>\n",
       "      <td>0.090909</td>\n",
       "      <td>0.837838</td>\n",
       "      <td>0.117647</td>\n",
       "      <td>1</td>\n",
       "      <td>0</td>\n",
       "      <td>0</td>\n",
       "      <td>1</td>\n",
       "      <td>0</td>\n",
       "    </tr>\n",
       "    <tr>\n",
       "      <th>4</th>\n",
       "      <td>0.659091</td>\n",
       "      <td>1.000000</td>\n",
       "      <td>0.135135</td>\n",
       "      <td>0.882353</td>\n",
       "      <td>1</td>\n",
       "      <td>0</td>\n",
       "      <td>0</td>\n",
       "      <td>0</td>\n",
       "      <td>1</td>\n",
       "    </tr>\n",
       "    <tr>\n",
       "      <th>5</th>\n",
       "      <td>0.409091</td>\n",
       "      <td>0.363636</td>\n",
       "      <td>0.378378</td>\n",
       "      <td>0.588235</td>\n",
       "      <td>0</td>\n",
       "      <td>1</td>\n",
       "      <td>1</td>\n",
       "      <td>0</td>\n",
       "      <td>0</td>\n",
       "    </tr>\n",
       "    <tr>\n",
       "      <th>6</th>\n",
       "      <td>0.193182</td>\n",
       "      <td>0.090909</td>\n",
       "      <td>0.594595</td>\n",
       "      <td>0.147059</td>\n",
       "      <td>0</td>\n",
       "      <td>1</td>\n",
       "      <td>1</td>\n",
       "      <td>0</td>\n",
       "      <td>0</td>\n",
       "    </tr>\n",
       "    <tr>\n",
       "      <th>7</th>\n",
       "      <td>0.318182</td>\n",
       "      <td>0.545455</td>\n",
       "      <td>0.216216</td>\n",
       "      <td>0.764706</td>\n",
       "      <td>1</td>\n",
       "      <td>0</td>\n",
       "      <td>0</td>\n",
       "      <td>0</td>\n",
       "      <td>1</td>\n",
       "    </tr>\n",
       "    <tr>\n",
       "      <th>8</th>\n",
       "      <td>0.829545</td>\n",
       "      <td>0.181818</td>\n",
       "      <td>0.540541</td>\n",
       "      <td>0.352941</td>\n",
       "      <td>0</td>\n",
       "      <td>1</td>\n",
       "      <td>1</td>\n",
       "      <td>0</td>\n",
       "      <td>0</td>\n",
       "    </tr>\n",
       "    <tr>\n",
       "      <th>9</th>\n",
       "      <td>0.420455</td>\n",
       "      <td>0.109091</td>\n",
       "      <td>0.189189</td>\n",
       "      <td>0.264706</td>\n",
       "      <td>0</td>\n",
       "      <td>1</td>\n",
       "      <td>0</td>\n",
       "      <td>1</td>\n",
       "      <td>0</td>\n",
       "    </tr>\n",
       "    <tr>\n",
       "      <th>10</th>\n",
       "      <td>0.727273</td>\n",
       "      <td>0.454545</td>\n",
       "      <td>0.270270</td>\n",
       "      <td>0.617647</td>\n",
       "      <td>1</td>\n",
       "      <td>0</td>\n",
       "      <td>0</td>\n",
       "      <td>0</td>\n",
       "      <td>1</td>\n",
       "    </tr>\n",
       "  </tbody>\n",
       "</table>\n",
       "</div>"
      ],
      "text/plain": [
       "      Income       Age   Rentals  AvgPerVisit  Gender_F  Gender_M  \\\n",
       "ID                                                                  \n",
       "1   0.500000  0.181818  0.432432     0.382353         0         1   \n",
       "2   0.602273  0.327273  0.027027     0.647059         1         0   \n",
       "3   0.352273  0.090909  0.837838     0.117647         1         0   \n",
       "4   0.659091  1.000000  0.135135     0.882353         1         0   \n",
       "5   0.409091  0.363636  0.378378     0.588235         0         1   \n",
       "6   0.193182  0.090909  0.594595     0.147059         0         1   \n",
       "7   0.318182  0.545455  0.216216     0.764706         1         0   \n",
       "8   0.829545  0.181818  0.540541     0.352941         0         1   \n",
       "9   0.420455  0.109091  0.189189     0.264706         0         1   \n",
       "10  0.727273  0.454545  0.270270     0.617647         1         0   \n",
       "\n",
       "    Genre_Action  Genre_Comedy  Genre_Drama  \n",
       "ID                                           \n",
       "1              1             0            0  \n",
       "2              0             0            1  \n",
       "3              0             1            0  \n",
       "4              0             0            1  \n",
       "5              1             0            0  \n",
       "6              1             0            0  \n",
       "7              0             0            1  \n",
       "8              1             0            0  \n",
       "9              0             1            0  \n",
       "10             0             0            1  "
      ]
     },
     "execution_count": 36,
     "metadata": {},
     "output_type": "execute_result"
    }
   ],
   "source": [
    "vs_norm = (vs_ssf - vs_ssf.min()) / (vs_ssf.max()-vs_ssf.min())\n",
    "vs_norm.head(10)"
   ]
  },
  {
   "cell_type": "code",
   "execution_count": 37,
   "metadata": {
    "collapsed": false
   },
   "outputs": [
    {
     "data": {
      "text/html": [
       "<div>\n",
       "<table border=\"1\" class=\"dataframe\">\n",
       "  <thead>\n",
       "    <tr style=\"text-align: right;\">\n",
       "      <th></th>\n",
       "      <th>Income</th>\n",
       "      <th>Age</th>\n",
       "      <th>Rentals</th>\n",
       "      <th>AvgPerVisit</th>\n",
       "      <th>Gender_F</th>\n",
       "      <th>Gender_M</th>\n",
       "      <th>Genre_Action</th>\n",
       "      <th>Genre_Comedy</th>\n",
       "      <th>Genre_Drama</th>\n",
       "    </tr>\n",
       "  </thead>\n",
       "  <tbody>\n",
       "    <tr>\n",
       "      <th>Income</th>\n",
       "      <td>1.000000</td>\n",
       "      <td>0.613769</td>\n",
       "      <td>-0.262472</td>\n",
       "      <td>0.468565</td>\n",
       "      <td>-0.036490</td>\n",
       "      <td>0.036490</td>\n",
       "      <td>-0.302256</td>\n",
       "      <td>0.101217</td>\n",
       "      <td>0.213388</td>\n",
       "    </tr>\n",
       "    <tr>\n",
       "      <th>Age</th>\n",
       "      <td>0.613769</td>\n",
       "      <td>1.000000</td>\n",
       "      <td>-0.547113</td>\n",
       "      <td>0.629107</td>\n",
       "      <td>0.161022</td>\n",
       "      <td>-0.161022</td>\n",
       "      <td>-0.457274</td>\n",
       "      <td>0.021663</td>\n",
       "      <td>0.451453</td>\n",
       "    </tr>\n",
       "    <tr>\n",
       "      <th>Rentals</th>\n",
       "      <td>-0.262472</td>\n",
       "      <td>-0.547113</td>\n",
       "      <td>1.000000</td>\n",
       "      <td>-0.206353</td>\n",
       "      <td>0.151535</td>\n",
       "      <td>-0.151535</td>\n",
       "      <td>0.307303</td>\n",
       "      <td>-0.035128</td>\n",
       "      <td>-0.283266</td>\n",
       "    </tr>\n",
       "    <tr>\n",
       "      <th>AvgPerVisit</th>\n",
       "      <td>0.468565</td>\n",
       "      <td>0.629107</td>\n",
       "      <td>-0.206353</td>\n",
       "      <td>1.000000</td>\n",
       "      <td>0.203343</td>\n",
       "      <td>-0.203343</td>\n",
       "      <td>-0.306701</td>\n",
       "      <td>-0.119992</td>\n",
       "      <td>0.434413</td>\n",
       "    </tr>\n",
       "    <tr>\n",
       "      <th>Gender_F</th>\n",
       "      <td>-0.036490</td>\n",
       "      <td>0.161022</td>\n",
       "      <td>0.151535</td>\n",
       "      <td>0.203343</td>\n",
       "      <td>1.000000</td>\n",
       "      <td>-1.000000</td>\n",
       "      <td>-0.219744</td>\n",
       "      <td>0.032774</td>\n",
       "      <td>0.195067</td>\n",
       "    </tr>\n",
       "    <tr>\n",
       "      <th>Gender_M</th>\n",
       "      <td>0.036490</td>\n",
       "      <td>-0.161022</td>\n",
       "      <td>-0.151535</td>\n",
       "      <td>-0.203343</td>\n",
       "      <td>-1.000000</td>\n",
       "      <td>1.000000</td>\n",
       "      <td>0.219744</td>\n",
       "      <td>-0.032774</td>\n",
       "      <td>-0.195067</td>\n",
       "    </tr>\n",
       "    <tr>\n",
       "      <th>Genre_Action</th>\n",
       "      <td>-0.302256</td>\n",
       "      <td>-0.457274</td>\n",
       "      <td>0.307303</td>\n",
       "      <td>-0.306701</td>\n",
       "      <td>-0.219744</td>\n",
       "      <td>0.219744</td>\n",
       "      <td>1.000000</td>\n",
       "      <td>-0.507093</td>\n",
       "      <td>-0.537484</td>\n",
       "    </tr>\n",
       "    <tr>\n",
       "      <th>Genre_Comedy</th>\n",
       "      <td>0.101217</td>\n",
       "      <td>0.021663</td>\n",
       "      <td>-0.035128</td>\n",
       "      <td>-0.119992</td>\n",
       "      <td>0.032774</td>\n",
       "      <td>-0.032774</td>\n",
       "      <td>-0.507093</td>\n",
       "      <td>1.000000</td>\n",
       "      <td>-0.454257</td>\n",
       "    </tr>\n",
       "    <tr>\n",
       "      <th>Genre_Drama</th>\n",
       "      <td>0.213388</td>\n",
       "      <td>0.451453</td>\n",
       "      <td>-0.283266</td>\n",
       "      <td>0.434413</td>\n",
       "      <td>0.195067</td>\n",
       "      <td>-0.195067</td>\n",
       "      <td>-0.537484</td>\n",
       "      <td>-0.454257</td>\n",
       "      <td>1.000000</td>\n",
       "    </tr>\n",
       "  </tbody>\n",
       "</table>\n",
       "</div>"
      ],
      "text/plain": [
       "                Income       Age   Rentals  AvgPerVisit  Gender_F  Gender_M  \\\n",
       "Income        1.000000  0.613769 -0.262472     0.468565 -0.036490  0.036490   \n",
       "Age           0.613769  1.000000 -0.547113     0.629107  0.161022 -0.161022   \n",
       "Rentals      -0.262472 -0.547113  1.000000    -0.206353  0.151535 -0.151535   \n",
       "AvgPerVisit   0.468565  0.629107 -0.206353     1.000000  0.203343 -0.203343   \n",
       "Gender_F     -0.036490  0.161022  0.151535     0.203343  1.000000 -1.000000   \n",
       "Gender_M      0.036490 -0.161022 -0.151535    -0.203343 -1.000000  1.000000   \n",
       "Genre_Action -0.302256 -0.457274  0.307303    -0.306701 -0.219744  0.219744   \n",
       "Genre_Comedy  0.101217  0.021663 -0.035128    -0.119992  0.032774 -0.032774   \n",
       "Genre_Drama   0.213388  0.451453 -0.283266     0.434413  0.195067 -0.195067   \n",
       "\n",
       "              Genre_Action  Genre_Comedy  Genre_Drama  \n",
       "Income           -0.302256      0.101217     0.213388  \n",
       "Age              -0.457274      0.021663     0.451453  \n",
       "Rentals           0.307303     -0.035128    -0.283266  \n",
       "AvgPerVisit      -0.306701     -0.119992     0.434413  \n",
       "Gender_F         -0.219744      0.032774     0.195067  \n",
       "Gender_M          0.219744     -0.032774    -0.195067  \n",
       "Genre_Action      1.000000     -0.507093    -0.537484  \n",
       "Genre_Comedy     -0.507093      1.000000    -0.454257  \n",
       "Genre_Drama      -0.537484     -0.454257     1.000000  "
      ]
     },
     "execution_count": 37,
     "metadata": {},
     "output_type": "execute_result"
    }
   ],
   "source": [
    "vs_ssf.corr()"
   ]
  },
  {
   "cell_type": "code",
   "execution_count": 38,
   "metadata": {
    "collapsed": true
   },
   "outputs": [],
   "source": [
    "vs_norm.to_csv(\"Video_Store_Numeric.csv\", float_format=\"%1.2f\")"
   ]
  }
 ],
 "metadata": {
  "kernelspec": {
   "display_name": "Python 2",
   "language": "python",
   "name": "python2"
  },
  "language_info": {
   "codemirror_mode": {
    "name": "ipython",
    "version": 2
   },
   "file_extension": ".py",
   "mimetype": "text/x-python",
   "name": "python",
   "nbconvert_exporter": "python",
   "pygments_lexer": "ipython2",
   "version": "2.7.13"
  }
 },
 "nbformat": 4,
 "nbformat_minor": 0
}
