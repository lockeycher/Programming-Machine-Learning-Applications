{
 "cells": [
  {
   "cell_type": "code",
   "execution_count": 1,
   "metadata": {
    "collapsed": true
   },
   "outputs": [],
   "source": [
    "## Import modules\n",
    "import numpy as np\n",
    "import os "
   ]
  },
  {
   "cell_type": "code",
   "execution_count": 2,
   "metadata": {
    "collapsed": false
   },
   "outputs": [
    {
     "data": {
      "text/plain": [
       "'/home/ecosystem'"
      ]
     },
     "execution_count": 2,
     "metadata": {},
     "output_type": "execute_result"
    }
   ],
   "source": [
    "## Get working directory\n",
    "os.getcwd()"
   ]
  },
  {
   "cell_type": "code",
   "execution_count": 3,
   "metadata": {
    "collapsed": false
   },
   "outputs": [],
   "source": [
    "## Change working directory\n",
    "os.chdir('/home/ecosystem/DePaul/CSC478/Week2')"
   ]
  },
  {
   "cell_type": "code",
   "execution_count": 4,
   "metadata": {
    "collapsed": false
   },
   "outputs": [
    {
     "name": "stdout",
     "output_type": "stream",
     "text": [
      "[1900, 30000.0, 4000.0, 48300.0]\n",
      "[1901, 47200.0, 6100.0, 48200.0]\n",
      "[1902, 70200.0, 9800.0, 41500.0]\n",
      "[1903, 77400.0, 35200.0, 38200.0]\n",
      "[1904, 36300.0, 59400.0, 40600.0]\n",
      "[1905, 20600.0, 41700.0, 39800.0]\n",
      "[1906, 18100.0, 19000.0, 38600.0]\n",
      "[1907, 21400.0, 13000.0, 42300.0]\n",
      "[1908, 22000.0, 8300.0, 44500.0]\n",
      "[1909, 25400.0, 9100.0, 42100.0]\n",
      "[1910, 27100.0, 7400.0, 46000.0]\n",
      "[1911, 40300.0, 8000.0, 46800.0]\n",
      "[1912, 57000.0, 12300.0, 43800.0]\n",
      "[1913, 76600.0, 19500.0, 40900.0]\n",
      "[1914, 52300.0, 45700.0, 39400.0]\n",
      "[1915, 19500.0, 51100.0, 39000.0]\n",
      "[1916, 11200.0, 29700.0, 36700.0]\n",
      "[1917, 7600.0, 15800.0, 41800.0]\n",
      "[1918, 14600.0, 9700.0, 43300.0]\n",
      "[1919, 16200.0, 10100.0, 41300.0]\n",
      "[1920, 24700.0, 8600.0, 47300.0]\n",
      "21\n"
     ]
    }
   ],
   "source": [
    "## Read file. \n",
    "## What other options do we have?\n",
    "datafile = open(\"populations.txt\", \"r\")\n",
    "## First line of the file contains labels for column names\n",
    "labels_line = datafile.readline().strip()\n",
    "poptable = []\n",
    "total = 0\n",
    "for line in datafile.readlines():\n",
    "    line = line.strip()\n",
    "    row = line.split(\"\\t\")\n",
    "    record = [int(row[0]),float(row[1]),float(row[2]), float(row[3])]\n",
    "    print record\n",
    "    poptable.append(record)\n",
    "    total += 1\n",
    "print total"
   ]
  },
  {
   "cell_type": "code",
   "execution_count": 5,
   "metadata": {
    "collapsed": false
   },
   "outputs": [
    {
     "data": {
      "text/plain": [
       "[[1900, 30000.0, 4000.0, 48300.0],\n",
       " [1901, 47200.0, 6100.0, 48200.0],\n",
       " [1902, 70200.0, 9800.0, 41500.0],\n",
       " [1903, 77400.0, 35200.0, 38200.0],\n",
       " [1904, 36300.0, 59400.0, 40600.0],\n",
       " [1905, 20600.0, 41700.0, 39800.0],\n",
       " [1906, 18100.0, 19000.0, 38600.0],\n",
       " [1907, 21400.0, 13000.0, 42300.0],\n",
       " [1908, 22000.0, 8300.0, 44500.0],\n",
       " [1909, 25400.0, 9100.0, 42100.0],\n",
       " [1910, 27100.0, 7400.0, 46000.0],\n",
       " [1911, 40300.0, 8000.0, 46800.0],\n",
       " [1912, 57000.0, 12300.0, 43800.0],\n",
       " [1913, 76600.0, 19500.0, 40900.0],\n",
       " [1914, 52300.0, 45700.0, 39400.0],\n",
       " [1915, 19500.0, 51100.0, 39000.0],\n",
       " [1916, 11200.0, 29700.0, 36700.0],\n",
       " [1917, 7600.0, 15800.0, 41800.0],\n",
       " [1918, 14600.0, 9700.0, 43300.0],\n",
       " [1919, 16200.0, 10100.0, 41300.0],\n",
       " [1920, 24700.0, 8600.0, 47300.0]]"
      ]
     },
     "execution_count": 5,
     "metadata": {},
     "output_type": "execute_result"
    }
   ],
   "source": [
    "## Print poptable\n",
    "poptable"
   ]
  },
  {
   "cell_type": "code",
   "execution_count": 6,
   "metadata": {
    "collapsed": false
   },
   "outputs": [
    {
     "data": {
      "text/plain": [
       "[[1900, 30000.0, 4000.0, 48300.0],\n",
       " [1901, 47200.0, 6100.0, 48200.0],\n",
       " [1902, 70200.0, 9800.0, 41500.0],\n",
       " [1903, 77400.0, 35200.0, 38200.0],\n",
       " [1904, 36300.0, 59400.0, 40600.0]]"
      ]
     },
     "execution_count": 6,
     "metadata": {},
     "output_type": "execute_result"
    }
   ],
   "source": [
    "# Printing the top5 elements (rows) of poptable from index 0 upto (but not including) index 5\n",
    "poptable[0:5]"
   ]
  },
  {
   "cell_type": "code",
   "execution_count": 7,
   "metadata": {
    "collapsed": false
   },
   "outputs": [],
   "source": [
    "## Create dictionaries\n",
    "hares = {}\n",
    "lynxes = {}\n",
    "carrots = {}\n",
    "for row in poptable:\n",
    "    hares[row[0]] = row[1]\n",
    "    lynxes[row[0]] = row[2]\n",
    "    carrots[row[0]] = row[3]"
   ]
  },
  {
   "cell_type": "code",
   "execution_count": 8,
   "metadata": {
    "collapsed": false
   },
   "outputs": [
    {
     "data": {
      "text/plain": [
       "{1900: 30000.0,\n",
       " 1901: 47200.0,\n",
       " 1902: 70200.0,\n",
       " 1903: 77400.0,\n",
       " 1904: 36300.0,\n",
       " 1905: 20600.0,\n",
       " 1906: 18100.0,\n",
       " 1907: 21400.0,\n",
       " 1908: 22000.0,\n",
       " 1909: 25400.0,\n",
       " 1910: 27100.0,\n",
       " 1911: 40300.0,\n",
       " 1912: 57000.0,\n",
       " 1913: 76600.0,\n",
       " 1914: 52300.0,\n",
       " 1915: 19500.0,\n",
       " 1916: 11200.0,\n",
       " 1917: 7600.0,\n",
       " 1918: 14600.0,\n",
       " 1919: 16200.0,\n",
       " 1920: 24700.0}"
      ]
     },
     "execution_count": 8,
     "metadata": {},
     "output_type": "execute_result"
    }
   ],
   "source": [
    "## Take a look at hares\n",
    "hares"
   ]
  },
  {
   "cell_type": "code",
   "execution_count": 9,
   "metadata": {
    "collapsed": false
   },
   "outputs": [
    {
     "data": {
      "text/plain": [
       "[1920,\n",
       " 1900,\n",
       " 1901,\n",
       " 1902,\n",
       " 1903,\n",
       " 1904,\n",
       " 1905,\n",
       " 1906,\n",
       " 1907,\n",
       " 1908,\n",
       " 1909,\n",
       " 1910,\n",
       " 1911,\n",
       " 1912,\n",
       " 1913,\n",
       " 1914,\n",
       " 1915,\n",
       " 1916,\n",
       " 1917,\n",
       " 1918,\n",
       " 1919]"
      ]
     },
     "execution_count": 9,
     "metadata": {},
     "output_type": "execute_result"
    }
   ],
   "source": [
    "## Isolate keys\n",
    "hares.keys()"
   ]
  },
  {
   "cell_type": "code",
   "execution_count": 10,
   "metadata": {
    "collapsed": false
   },
   "outputs": [
    {
     "data": {
      "text/plain": [
       "[24700.0,\n",
       " 30000.0,\n",
       " 47200.0,\n",
       " 70200.0,\n",
       " 77400.0,\n",
       " 36300.0,\n",
       " 20600.0,\n",
       " 18100.0,\n",
       " 21400.0,\n",
       " 22000.0,\n",
       " 25400.0,\n",
       " 27100.0,\n",
       " 40300.0,\n",
       " 57000.0,\n",
       " 76600.0,\n",
       " 52300.0,\n",
       " 19500.0,\n",
       " 11200.0,\n",
       " 7600.0,\n",
       " 14600.0,\n",
       " 16200.0]"
      ]
     },
     "execution_count": 10,
     "metadata": {},
     "output_type": "execute_result"
    }
   ],
   "source": [
    "## Isolate values\n",
    "hares.values()"
   ]
  },
  {
   "cell_type": "code",
   "execution_count": 11,
   "metadata": {
    "collapsed": false
   },
   "outputs": [
    {
     "data": {
      "text/plain": [
       "[(1920, 24700.0),\n",
       " (1900, 30000.0),\n",
       " (1901, 47200.0),\n",
       " (1902, 70200.0),\n",
       " (1903, 77400.0),\n",
       " (1904, 36300.0),\n",
       " (1905, 20600.0),\n",
       " (1906, 18100.0),\n",
       " (1907, 21400.0),\n",
       " (1908, 22000.0),\n",
       " (1909, 25400.0),\n",
       " (1910, 27100.0),\n",
       " (1911, 40300.0),\n",
       " (1912, 57000.0),\n",
       " (1913, 76600.0),\n",
       " (1914, 52300.0),\n",
       " (1915, 19500.0),\n",
       " (1916, 11200.0),\n",
       " (1917, 7600.0),\n",
       " (1918, 14600.0),\n",
       " (1919, 16200.0)]"
      ]
     },
     "execution_count": 11,
     "metadata": {},
     "output_type": "execute_result"
    }
   ],
   "source": [
    "hares.items()"
   ]
  },
  {
   "cell_type": "code",
   "execution_count": 12,
   "metadata": {
    "collapsed": false
   },
   "outputs": [
    {
     "data": {
      "text/plain": [
       "77400.0"
      ]
     },
     "execution_count": 12,
     "metadata": {},
     "output_type": "execute_result"
    }
   ],
   "source": [
    "## Print a specific value given a key\n",
    "hares[1903]"
   ]
  },
  {
   "cell_type": "code",
   "execution_count": 13,
   "metadata": {
    "collapsed": false
   },
   "outputs": [
    {
     "data": {
      "text/plain": [
       "[1902, 1903, 1912, 1913, 1914]"
      ]
     },
     "execution_count": 13,
     "metadata": {},
     "output_type": "execute_result"
    }
   ],
   "source": [
    "# finding the years during which the population of hares was greater than 50K\n",
    "# Here we'll use standard Python list comprehensions\n",
    "hares_above_50k = [yr for yr in hares.keys() if hares[yr]>50000.0]\n",
    "hares_above_50k"
   ]
  },
  {
   "cell_type": "code",
   "execution_count": 14,
   "metadata": {
    "collapsed": false
   },
   "outputs": [
    {
     "name": "stdout",
     "output_type": "stream",
     "text": [
      "1903 77400.0\n"
     ]
    }
   ],
   "source": [
    "## Finding the year(s) with maximal value of Hares\n",
    "## Is this an efficient?\n",
    "maxhares = [yr for yr in hares.keys() if hares[yr] == max(hares.values())]\n",
    "for i in range(0,len(maxhares)):\n",
    "    print maxhares[i], hares[maxhares[i]]"
   ]
  },
  {
   "cell_type": "code",
   "execution_count": 15,
   "metadata": {
    "collapsed": false
   },
   "outputs": [
    {
     "data": {
      "text/plain": [
       "array([[  1900.,  30000.,   4000.,  48300.],\n",
       "       [  1901.,  47200.,   6100.,  48200.],\n",
       "       [  1902.,  70200.,   9800.,  41500.],\n",
       "       [  1903.,  77400.,  35200.,  38200.],\n",
       "       [  1904.,  36300.,  59400.,  40600.],\n",
       "       [  1905.,  20600.,  41700.,  39800.],\n",
       "       [  1906.,  18100.,  19000.,  38600.],\n",
       "       [  1907.,  21400.,  13000.,  42300.],\n",
       "       [  1908.,  22000.,   8300.,  44500.],\n",
       "       [  1909.,  25400.,   9100.,  42100.],\n",
       "       [  1910.,  27100.,   7400.,  46000.],\n",
       "       [  1911.,  40300.,   8000.,  46800.],\n",
       "       [  1912.,  57000.,  12300.,  43800.],\n",
       "       [  1913.,  76600.,  19500.,  40900.],\n",
       "       [  1914.,  52300.,  45700.,  39400.],\n",
       "       [  1915.,  19500.,  51100.,  39000.],\n",
       "       [  1916.,  11200.,  29700.,  36700.],\n",
       "       [  1917.,   7600.,  15800.,  41800.],\n",
       "       [  1918.,  14600.,   9700.,  43300.],\n",
       "       [  1919.,  16200.,  10100.,  41300.],\n",
       "       [  1920.,  24700.,   8600.,  47300.]])"
      ]
     },
     "execution_count": 15,
     "metadata": {},
     "output_type": "execute_result"
    }
   ],
   "source": [
    "## Convert to numpy array \n",
    "pop = np.array(poptable)\n",
    "pop"
   ]
  },
  {
   "cell_type": "code",
   "execution_count": 16,
   "metadata": {
    "collapsed": false
   },
   "outputs": [
    {
     "data": {
      "text/plain": [
       "array([[  1900.,  30000.,   4000.,  48300.],\n",
       "       [  1901.,  47200.,   6100.,  48200.],\n",
       "       [  1902.,  70200.,   9800.,  41500.],\n",
       "       [  1903.,  77400.,  35200.,  38200.],\n",
       "       [  1904.,  36300.,  59400.,  40600.],\n",
       "       [  1905.,  20600.,  41700.,  39800.],\n",
       "       [  1906.,  18100.,  19000.,  38600.],\n",
       "       [  1907.,  21400.,  13000.,  42300.],\n",
       "       [  1908.,  22000.,   8300.,  44500.],\n",
       "       [  1909.,  25400.,   9100.,  42100.],\n",
       "       [  1910.,  27100.,   7400.,  46000.],\n",
       "       [  1911.,  40300.,   8000.,  46800.],\n",
       "       [  1912.,  57000.,  12300.,  43800.],\n",
       "       [  1913.,  76600.,  19500.,  40900.],\n",
       "       [  1914.,  52300.,  45700.,  39400.],\n",
       "       [  1915.,  19500.,  51100.,  39000.],\n",
       "       [  1916.,  11200.,  29700.,  36700.],\n",
       "       [  1917.,   7600.,  15800.,  41800.],\n",
       "       [  1918.,  14600.,   9700.,  43300.],\n",
       "       [  1919.,  16200.,  10100.,  41300.],\n",
       "       [  1920.,  24700.,   8600.,  47300.]])"
      ]
     },
     "execution_count": 16,
     "metadata": {},
     "output_type": "execute_result"
    }
   ],
   "source": [
    "## Use loadtext to get data\n",
    "poptable = np.loadtxt('populations.txt', skiprows=1)\n",
    "poptable"
   ]
  },
  {
   "cell_type": "code",
   "execution_count": 17,
   "metadata": {
    "collapsed": false
   },
   "outputs": [
    {
     "data": {
      "text/plain": [
       "(21, 4)"
      ]
     },
     "execution_count": 17,
     "metadata": {},
     "output_type": "execute_result"
    }
   ],
   "source": [
    "## Examine shape\n",
    "poptable.shape"
   ]
  },
  {
   "cell_type": "code",
   "execution_count": 18,
   "metadata": {
    "collapsed": false
   },
   "outputs": [
    {
     "data": {
      "text/plain": [
       "array([[  1900.,   1901.,   1902.,   1903.,   1904.,   1905.,   1906.,\n",
       "          1907.,   1908.,   1909.,   1910.,   1911.,   1912.,   1913.,\n",
       "          1914.,   1915.,   1916.,   1917.,   1918.,   1919.,   1920.],\n",
       "       [ 30000.,  47200.,  70200.,  77400.,  36300.,  20600.,  18100.,\n",
       "         21400.,  22000.,  25400.,  27100.,  40300.,  57000.,  76600.,\n",
       "         52300.,  19500.,  11200.,   7600.,  14600.,  16200.,  24700.],\n",
       "       [  4000.,   6100.,   9800.,  35200.,  59400.,  41700.,  19000.,\n",
       "         13000.,   8300.,   9100.,   7400.,   8000.,  12300.,  19500.,\n",
       "         45700.,  51100.,  29700.,  15800.,   9700.,  10100.,   8600.],\n",
       "       [ 48300.,  48200.,  41500.,  38200.,  40600.,  39800.,  38600.,\n",
       "         42300.,  44500.,  42100.,  46000.,  46800.,  43800.,  40900.,\n",
       "         39400.,  39000.,  36700.,  41800.,  43300.,  41300.,  47300.]])"
      ]
     },
     "execution_count": 18,
     "metadata": {},
     "output_type": "execute_result"
    }
   ],
   "source": [
    "## Transpose \n",
    "poptable.T"
   ]
  },
  {
   "cell_type": "code",
   "execution_count": 19,
   "metadata": {
    "collapsed": false
   },
   "outputs": [],
   "source": [
    "## Create new objects\n",
    "year, hares, lynxes, carrots = poptable.T"
   ]
  },
  {
   "cell_type": "code",
   "execution_count": 20,
   "metadata": {
    "collapsed": false
   },
   "outputs": [
    {
     "data": {
      "text/plain": [
       "array([ 1900.,  1901.,  1902.,  1903.,  1904.,  1905.,  1906.,  1907.,\n",
       "        1908.,  1909.,  1910.,  1911.,  1912.,  1913.,  1914.,  1915.,\n",
       "        1916.,  1917.,  1918.,  1919.,  1920.])"
      ]
     },
     "execution_count": 20,
     "metadata": {},
     "output_type": "execute_result"
    }
   ],
   "source": [
    "## Print object\n",
    "year"
   ]
  },
  {
   "cell_type": "code",
   "execution_count": 21,
   "metadata": {
    "collapsed": false
   },
   "outputs": [
    {
     "name": "stdout",
     "output_type": "stream",
     "text": [
      "Mean Hare Population:  34080.952381\n"
     ]
    }
   ],
   "source": [
    "## Print means\n",
    "print \"Mean Hare Population: \", hares.mean()"
   ]
  },
  {
   "cell_type": "code",
   "execution_count": 22,
   "metadata": {
    "collapsed": false
   },
   "outputs": [
    {
     "data": {
      "text/plain": [
       "array([False, False,  True,  True,  True, False, False, False, False,\n",
       "       False, False, False,  True,  True,  True,  True, False, False,\n",
       "       False, False, False], dtype=bool)"
      ]
     },
     "execution_count": 22,
     "metadata": {},
     "output_type": "execute_result"
    }
   ],
   "source": [
    "## finding all years when the population of one of the species is above 50k\n",
    "above_50k = np.any(poptable>50000, axis=1) \n",
    "above_50k"
   ]
  },
  {
   "cell_type": "code",
   "execution_count": 23,
   "metadata": {
    "collapsed": false
   },
   "outputs": [
    {
     "data": {
      "text/plain": [
       "array([ 1902.,  1903.,  1904.,  1912.,  1913.,  1914.,  1915.])"
      ]
     },
     "execution_count": 23,
     "metadata": {},
     "output_type": "execute_result"
    }
   ],
   "source": [
    "## Examine year\n",
    "year[above_50k]"
   ]
  },
  {
   "cell_type": "code",
   "execution_count": 24,
   "metadata": {
    "collapsed": false
   },
   "outputs": [
    {
     "name": "stdout",
     "output_type": "stream",
     "text": [
      "        Hares           Lynxes          Carrots\n",
      "Mean: [ 34080.95238095  20166.66666667  42400.        ]\n",
      "Std:  [ 20897.90645809  16254.59153691   3322.50622558]\n"
     ]
    }
   ],
   "source": [
    "pop_no_year = poptable[:,1:] # Removing the first column\n",
    "print \"        Hares           Lynxes          Carrots\"\n",
    "print \"Mean:\", pop_no_year.mean(axis=0)\n",
    "print \"Std: \", pop_no_year.std(axis=0)"
   ]
  },
  {
   "cell_type": "code",
   "execution_count": 25,
   "metadata": {
    "collapsed": false
   },
   "outputs": [
    {
     "name": "stdout",
     "output_type": "stream",
     "text": [
      "Indecies for the maximums: [3 4 0]\n",
      "             Hares  Lynxes Carrots\n",
      "Max. year: [ 1903.  1904.  1900.]\n"
     ]
    }
   ],
   "source": [
    "# Finding indecies of years when one of the populations was at max\n",
    "j_max_years = np.argmax(pop_no_year, axis=0) ## max over rows for each column\n",
    "print \"Indecies for the maximums:\", j_max_years\n",
    "print \"             Hares  Lynxes Carrots\"\n",
    "print \"Max. year:\", year[j_max_years]"
   ]
  },
  {
   "cell_type": "code",
   "execution_count": 26,
   "metadata": {
    "collapsed": false
   },
   "outputs": [
    {
     "name": "stdout",
     "output_type": "stream",
     "text": [
      "[2 2 0 0 1 1 2 2 2 2 2 2 0 0 0 1 2 2 2 2 2]\n",
      "Max specie from 1900 to 1920:\n",
      "['Carrot' 'Carrot' 'Hare' 'Hare' 'Lynx' 'Lynx' 'Carrot' 'Carrot' 'Carrot'\n",
      " 'Carrot' 'Carrot' 'Carrot' 'Hare' 'Hare' 'Hare' 'Lynx' 'Carrot' 'Carrot'\n",
      " 'Carrot' 'Carrot' 'Carrot']\n"
     ]
    }
   ],
   "source": [
    "# Ranging over cols for each row, find the specie with the highest pop for each year\n",
    "max_species = np.argmax(pop_no_year, axis=1) ## max over columns for each row\n",
    "species = np.array(['Hare', 'Lynx', 'Carrot'])\n",
    "print max_species\n",
    "print \"Max specie from 1900 to 1920:\"\n",
    "print species[max_species]"
   ]
  },
  {
   "cell_type": "code",
   "execution_count": 27,
   "metadata": {
    "collapsed": false
   },
   "outputs": [
    {
     "name": "stdout",
     "output_type": "stream",
     "text": [
      "[[ 1.          0.07189206 -0.01660378]\n",
      " [ 0.07189206  1.         -0.68057717]\n",
      " [-0.01660378 -0.68057717  1.        ]]\n"
     ]
    }
   ],
   "source": [
    "## Correlation coefficient\n",
    "corr_matrix = np.corrcoef(pop_no_year.T)\n",
    "print corr_matrix"
   ]
  },
  {
   "cell_type": "code",
   "execution_count": 28,
   "metadata": {
    "collapsed": false
   },
   "outputs": [],
   "source": [
    "## Create a view of the data using different dtypes\n",
    "pop_with_keys = poptable.view(dtype=[('year', 'float'), ('hares', 'float'), ('lynxes', 'float'), ('carrots', 'float')])\n"
   ]
  },
  {
   "cell_type": "code",
   "execution_count": 29,
   "metadata": {
    "collapsed": false
   },
   "outputs": [
    {
     "data": {
      "text/plain": [
       "array([[(1900.0, 30000.0, 4000.0, 48300.0)],\n",
       "       [(1901.0, 47200.0, 6100.0, 48200.0)],\n",
       "       [(1902.0, 70200.0, 9800.0, 41500.0)],\n",
       "       [(1903.0, 77400.0, 35200.0, 38200.0)],\n",
       "       [(1904.0, 36300.0, 59400.0, 40600.0)],\n",
       "       [(1905.0, 20600.0, 41700.0, 39800.0)],\n",
       "       [(1906.0, 18100.0, 19000.0, 38600.0)],\n",
       "       [(1907.0, 21400.0, 13000.0, 42300.0)],\n",
       "       [(1908.0, 22000.0, 8300.0, 44500.0)],\n",
       "       [(1909.0, 25400.0, 9100.0, 42100.0)],\n",
       "       [(1910.0, 27100.0, 7400.0, 46000.0)],\n",
       "       [(1911.0, 40300.0, 8000.0, 46800.0)],\n",
       "       [(1912.0, 57000.0, 12300.0, 43800.0)],\n",
       "       [(1913.0, 76600.0, 19500.0, 40900.0)],\n",
       "       [(1914.0, 52300.0, 45700.0, 39400.0)],\n",
       "       [(1915.0, 19500.0, 51100.0, 39000.0)],\n",
       "       [(1916.0, 11200.0, 29700.0, 36700.0)],\n",
       "       [(1917.0, 7600.0, 15800.0, 41800.0)],\n",
       "       [(1918.0, 14600.0, 9700.0, 43300.0)],\n",
       "       [(1919.0, 16200.0, 10100.0, 41300.0)],\n",
       "       [(1920.0, 24700.0, 8600.0, 47300.0)]], \n",
       "      dtype=[('year', '<f8'), ('hares', '<f8'), ('lynxes', '<f8'), ('carrots', '<f8')])"
      ]
     },
     "execution_count": 29,
     "metadata": {},
     "output_type": "execute_result"
    }
   ],
   "source": [
    "## Print the new view\n",
    "pop_with_keys"
   ]
  },
  {
   "cell_type": "code",
   "execution_count": 30,
   "metadata": {
    "collapsed": false
   },
   "outputs": [
    {
     "data": {
      "text/plain": [
       "array([[(1917.0, 7600.0, 15800.0, 41800.0)],\n",
       "       [(1916.0, 11200.0, 29700.0, 36700.0)],\n",
       "       [(1918.0, 14600.0, 9700.0, 43300.0)],\n",
       "       [(1919.0, 16200.0, 10100.0, 41300.0)],\n",
       "       [(1906.0, 18100.0, 19000.0, 38600.0)],\n",
       "       [(1915.0, 19500.0, 51100.0, 39000.0)],\n",
       "       [(1905.0, 20600.0, 41700.0, 39800.0)],\n",
       "       [(1907.0, 21400.0, 13000.0, 42300.0)],\n",
       "       [(1908.0, 22000.0, 8300.0, 44500.0)],\n",
       "       [(1920.0, 24700.0, 8600.0, 47300.0)],\n",
       "       [(1909.0, 25400.0, 9100.0, 42100.0)],\n",
       "       [(1910.0, 27100.0, 7400.0, 46000.0)],\n",
       "       [(1900.0, 30000.0, 4000.0, 48300.0)],\n",
       "       [(1904.0, 36300.0, 59400.0, 40600.0)],\n",
       "       [(1911.0, 40300.0, 8000.0, 46800.0)],\n",
       "       [(1901.0, 47200.0, 6100.0, 48200.0)],\n",
       "       [(1914.0, 52300.0, 45700.0, 39400.0)],\n",
       "       [(1912.0, 57000.0, 12300.0, 43800.0)],\n",
       "       [(1902.0, 70200.0, 9800.0, 41500.0)],\n",
       "       [(1913.0, 76600.0, 19500.0, 40900.0)],\n",
       "       [(1903.0, 77400.0, 35200.0, 38200.0)]], \n",
       "      dtype=[('year', '<f8'), ('hares', '<f8'), ('lynxes', '<f8'), ('carrots', '<f8')])"
      ]
     },
     "execution_count": 30,
     "metadata": {},
     "output_type": "execute_result"
    }
   ],
   "source": [
    "sorted_by_hares = np.sort(pop_with_keys, order='hares', axis=0)\n",
    "sorted_by_hares"
   ]
  },
  {
   "cell_type": "code",
   "execution_count": 31,
   "metadata": {
    "collapsed": false
   },
   "outputs": [
    {
     "name": "stderr",
     "output_type": "stream",
     "text": [
      "/home/ecosystem/anaconda/lib/python2.7/site-packages/matplotlib/font_manager.py:273: UserWarning: Matplotlib is building the font cache using fc-list. This may take a moment.\n",
      "  warnings.warn('Matplotlib is building the font cache using fc-list. This may take a moment.')\n"
     ]
    }
   ],
   "source": [
    "## Set up matplotlib to work interactively.\n",
    "import matplotlib.pyplot as plt\n",
    "%matplotlib inline"
   ]
  },
  {
   "cell_type": "code",
   "execution_count": 32,
   "metadata": {
    "collapsed": false
   },
   "outputs": [
    {
     "data": {
      "text/plain": [
       "[<matplotlib.lines.Line2D at 0x7f5f91f13e90>]"
      ]
     },
     "execution_count": 32,
     "metadata": {},
     "output_type": "execute_result"
    },
    {
     "data": {
      "image/png": "[encoded data removed]",
      "text/plain": [
       "<matplotlib.figure.Figure at 0x7f5f91ffbad0>"
      ]
     },
     "metadata": {},
     "output_type": "display_data"
    }
   ],
   "source": [
    "plt.plot(year, hares)"
   ]
  },
  {
   "cell_type": "code",
   "execution_count": 33,
   "metadata": {
    "collapsed": false
   },
   "outputs": [
    {
     "data": {
      "image/png": "[encoded data removed]",
      "text/plain": [
       "<matplotlib.figure.Figure at 0x7f5f91f9de50>"
      ]
     },
     "metadata": {},
     "output_type": "display_data"
    }
   ],
   "source": [
    "plt.plot(year, hares, label='Hares')\n",
    "plt.plot(year, lynxes, label='Lynxes')\n",
    "plt.plot(year, carrots, label='Carrots')\n",
    "plt.legend( ('Hares','Lynxes','Carrots') )\n",
    "plt.ylabel('Population')\n",
    "plt.xlabel('Year')\n",
    "plt.show()"
   ]
  },
  {
   "cell_type": "code",
   "execution_count": 34,
   "metadata": {
    "collapsed": false
   },
   "outputs": [
    {
     "data": {
      "image/png": "[encoded data removed]",
      "text/plain": [
       "<matplotlib.figure.Figure at 0x7f5f91fad390>"
      ]
     },
     "metadata": {},
     "output_type": "display_data"
    }
   ],
   "source": [
    "plt.hist(carrots, bins=8, alpha=0.5)\n",
    "plt.xlabel('Carrots')\n",
    "plt.ylabel('Count')\n",
    "plt.title('Histogram of Carrot Populaions')\n",
    "plt.axis([35000, 50000, 0, 6])\n",
    "plt.grid(True)"
   ]
  },
  {
   "cell_type": "code",
   "execution_count": 35,
   "metadata": {
    "collapsed": false
   },
   "outputs": [
    {
     "data": {
      "image/png": "[encoded data removed]",
      "text/plain": [
       "<matplotlib.figure.Figure at 0x7f5f9185ed50>"
      ]
     },
     "metadata": {},
     "output_type": "display_data"
    }
   ],
   "source": [
    "plt.scatter(hares, carrots, color=\"red\", marker=\"*\")\n",
    "plt.xlabel('Hares')\n",
    "plt.ylabel('Carrots')\n",
    "plt.title('Hares v. Carrots')\n",
    "plt.grid(True)"
   ]
  },
  {
   "cell_type": "code",
   "execution_count": 36,
   "metadata": {
    "collapsed": false
   },
   "outputs": [
    {
     "data": {
      "text/plain": [
       "<matplotlib.text.Text at 0x7f5f918e9e10>"
      ]
     },
     "execution_count": 36,
     "metadata": {},
     "output_type": "execute_result"
    },
    {
     "data": {
      "image/png": "[encoded data removed]",
      "text/plain": [
       "<matplotlib.figure.Figure at 0x7f5f9181d390>"
      ]
     },
     "metadata": {},
     "output_type": "display_data"
    }
   ],
   "source": [
    "fig = plt.figure(figsize=(12, 4))\n",
    "# Create an figure instance w,h tuple.\n",
    "\n",
    "ax1 = fig.add_subplot(1,2,1) # one row, two column, first plot\n",
    "# Plot the data.\n",
    "ax1.scatter(hares, carrots, color=\"red\", marker=\"*\")\n",
    "ax1.set_title(\"Hares vs. Carrots\")\n",
    "# Add some axis labels.\n",
    "ax1.set_xlabel(\"Hare Population\")\n",
    "ax1.set_ylabel(\"Carrot Population\")\n",
    "\n",
    "\n",
    "ax2 = fig.add_subplot(1,2,2) # one row, two column, 2nd plot\n",
    "# Plot the data.\n",
    "ax2.scatter(hares, lynxes, color=\"blue\", marker=\"^\")\n",
    "\n",
    "ax2.set_title(\"Hares vs. Lynxes\")\n",
    "# Add some axis labels.\n",
    "ax2.set_xlabel(\"Hare Population\")\n",
    "ax2.set_ylabel(\"Lynx Population\")\n",
    "\n",
    "# Produce an image.\n",
    "# fig.savefig(\"scatterplot.png\")"
   ]
  }
 ],
 "metadata": {
  "kernelspec": {
   "display_name": "Python 2",
   "language": "python",
   "name": "python2"
  },
  "language_info": {
   "codemirror_mode": {
    "name": "ipython",
    "version": 2
   },
   "file_extension": ".py",
   "mimetype": "text/x-python",
   "name": "python",
   "nbconvert_exporter": "python",
   "pygments_lexer": "ipython2",
   "version": "2.7.13"
  }
 },
 "nbformat": 4,
 "nbformat_minor": 0
}
