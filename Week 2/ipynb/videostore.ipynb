{
 "cells": [
  {
   "cell_type": "code",
   "execution_count": 1,
   "metadata": {
    "collapsed": true
   },
   "outputs": [],
   "source": [
    "## Import modules\n",
    "import numpy as np\n",
    "import os "
   ]
  },
  {
   "cell_type": "code",
   "execution_count": 2,
   "metadata": {
    "collapsed": false
   },
   "outputs": [
    {
     "data": {
      "text/plain": [
       "'/home/ecosystem'"
      ]
     },
     "execution_count": 2,
     "metadata": {},
     "output_type": "execute_result"
    }
   ],
   "source": [
    "## Get working directory\n",
    "os.getcwd()"
   ]
  },
  {
   "cell_type": "code",
   "execution_count": 3,
   "metadata": {
    "collapsed": true
   },
   "outputs": [],
   "source": [
    "os.chdir('/home/ecosystem/DePaul/CSC478/Week2')"
   ]
  },
  {
   "cell_type": "code",
   "execution_count": 4,
   "metadata": {
    "collapsed": false
   },
   "outputs": [
    {
     "name": "stdout",
     "output_type": "stream",
     "text": [
      "[['ID' 'Gender' 'Income' 'Age' 'Rentals' 'AvgPerVisit' 'Genre']\n",
      " ['1' 'M' '45000 ' '25' '27' '2.5' 'Action']\n",
      " ['2' 'F' '54000 ' '33' '12' '3.4' 'Drama']\n",
      " ['3' 'F' '32000 ' '20' '42' '1.6' 'Comedy']\n",
      " ['4' 'F' '59000 ' '70' '16' '4.2' 'Drama']\n",
      " ['5' 'M' '37000 ' '35' '25' '3.2' 'Action']\n",
      " ['6' 'M' '18000 ' '20' '33' '1.7' 'Action']\n",
      " ['7' 'F' '29000 ' '45' '19' '3.8' 'Drama']\n",
      " ['8' 'M' '74000 ' '25' '31' '2.4' 'Action']\n",
      " ['9' 'M' '38000 ' '21' '18' '2.1' 'Comedy']\n",
      " ['10' 'F' '65000 ' '40' '21' '3.3' 'Drama']\n",
      " ['11' 'F' '41000 ' '22' '48' '2.3' 'Drama']\n",
      " ['12' 'F' '26000 ' '22' '29' '2.9' 'Action']\n",
      " ['13' 'M' '83000 ' '46' '14' '3.6' 'Comedy']\n",
      " ['14' 'M' '45000 ' '36' '24' '2.7' 'Drama']\n",
      " ['15' 'M' '68000 ' '30' '36' '2.7' 'Comedy']\n",
      " ['16' 'M' '17000 ' '19' '26' '2.2' 'Action']\n",
      " ['17' 'M' '36000 ' '35' '28' '3.5' 'Drama']\n",
      " ['18' 'F' '6000 ' '16' '39' '1.8' 'Action']\n",
      " ['19' 'F' '24000 ' '25' '41' '3.1' 'Comedy']\n",
      " ['20' 'M' '12000 ' '16' '23' '2.2' 'Action']\n",
      " ['21' 'F' '47000 ' '52' '11' '3.1' 'Drama']\n",
      " ['22' 'M' '25000 ' '33' '16' '2.9' 'Drama']\n",
      " ['23' 'F' '2000 ' '15' '30' '2.5' 'Comedy']\n",
      " ['24' 'F' '79000 ' '35' '22' '3.8' 'Drama']\n",
      " ['25' 'M' '1000 ' '16' '25' '1.4' 'Comedy']\n",
      " ['26' 'F' '56000 ' '35' '40' '2.6' 'Action']\n",
      " ['27' 'F' '62000 ' '47' '32' '3.6' 'Drama']\n",
      " ['28' 'M' '57000 ' '52' '22' '4.1' 'Comedy']\n",
      " ['29' 'F' '15000 ' '18' '37' '2.1' 'Action']\n",
      " ['30' 'M' '41000 ' '25' '17' '1.4' 'Action']\n",
      " ['31' 'F' '49000 ' '56' '15' '3.2' 'Comedy']\n",
      " ['32' 'M' '47000 ' '30' '21' '3.1' 'Drama']\n",
      " ['33' 'M' '23000 ' '25' '28' '2.7' 'Action']\n",
      " ['34' 'F' '29000 ' '32' '19' '2.9' 'Action']\n",
      " ['35' 'M' '74000 ' '29' '43' '4.6' 'Action']\n",
      " ['36' 'F' '29000 ' '21' '34' '2.3' 'Comedy']\n",
      " ['37' 'M' '89000 ' '46' '12' '1.2' 'Comedy']\n",
      " ['38' 'M' '41000 ' '38' '20' '3.3' 'Drama']\n",
      " ['39' 'F' '68000 ' '35' '19' '3.9' 'Comedy']\n",
      " ['40' 'M' '17000 ' '19' '32' '1.8' 'Action']]\n"
     ]
    }
   ],
   "source": [
    "## Get data. Infer dtypes\n",
    "vstable = np.genfromtxt(\"Video_Store.csv\", delimiter=\",\", dtype=None)\n",
    "print vstable"
   ]
  },
  {
   "cell_type": "code",
   "execution_count": 5,
   "metadata": {
    "collapsed": false
   },
   "outputs": [
    {
     "name": "stdout",
     "output_type": "stream",
     "text": [
      "['ID' 'Gender' 'Income' 'Age' 'Rentals' 'AvgPerVisit' 'Genre']\n"
     ]
    }
   ],
   "source": [
    "labels = vstable[0]\n",
    "print labels"
   ]
  },
  {
   "cell_type": "code",
   "execution_count": 6,
   "metadata": {
    "collapsed": false
   },
   "outputs": [
    {
     "data": {
      "text/plain": [
       "array([['1', 'M', '45000 ', '25', '27', '2.5', 'Action'],\n",
       "       ['2', 'F', '54000 ', '33', '12', '3.4', 'Drama'],\n",
       "       ['3', 'F', '32000 ', '20', '42', '1.6', 'Comedy'],\n",
       "       ['4', 'F', '59000 ', '70', '16', '4.2', 'Drama'],\n",
       "       ['5', 'M', '37000 ', '35', '25', '3.2', 'Action']], \n",
       "      dtype='|S11')"
      ]
     },
     "execution_count": 6,
     "metadata": {},
     "output_type": "execute_result"
    }
   ],
   "source": [
    "vstable = vstable[1:]\n",
    "vstable[0:5]"
   ]
  },
  {
   "cell_type": "code",
   "execution_count": 7,
   "metadata": {
    "collapsed": false
   },
   "outputs": [
    {
     "name": "stdout",
     "output_type": "stream",
     "text": [
      "[25 33 20 70 35 20 45 25 21 40 22 22 46 36 30 19 35 16 25 16 52 33 15 35 16\n",
      " 35 47 52 18 25 56 30 25 32 29 21 46 38 35 19]\n"
     ]
    }
   ],
   "source": [
    "age = np.array(vstable[:,3], dtype=int)\n",
    "print age\n"
   ]
  },
  {
   "cell_type": "code",
   "execution_count": 8,
   "metadata": {
    "collapsed": false
   },
   "outputs": [
    {
     "name": "stdout",
     "output_type": "stream",
     "text": [
      "[ 45000.  54000.  32000.  59000.  37000.  18000.  29000.  74000.  38000.\n",
      "  65000.  41000.  26000.  83000.  45000.  68000.  17000.  36000.   6000.\n",
      "  24000.  12000.  47000.  25000.   2000.  79000.   1000.  56000.  62000.\n",
      "  57000.  15000.  41000.  49000.  47000.  23000.  29000.  74000.  29000.\n",
      "  89000.  41000.  68000.  17000.]\n"
     ]
    }
   ],
   "source": [
    "sal = np.array(vstable[:,2], dtype=float)\n",
    "print sal"
   ]
  },
  {
   "cell_type": "code",
   "execution_count": 9,
   "metadata": {
    "collapsed": false
   },
   "outputs": [
    {
     "name": "stdout",
     "output_type": "stream",
     "text": [
      "1000.0 89000.0\n"
     ]
    }
   ],
   "source": [
    "min_sal = sal.min()\n",
    "max_sal = sal.max()\n",
    "print min_sal, max_sal"
   ]
  },
  {
   "cell_type": "code",
   "execution_count": 10,
   "metadata": {
    "collapsed": false
   },
   "outputs": [],
   "source": [
    "visit_avg = np.array(vstable[:,5], dtype=float)\n",
    "rentals = np.array(vstable[:,4], dtype=float)"
   ]
  },
  {
   "cell_type": "code",
   "execution_count": 11,
   "metadata": {
    "collapsed": false
   },
   "outputs": [
    {
     "name": "stdout",
     "output_type": "stream",
     "text": [
      "[0.5, 0.60227272727272729, 0.35227272727272729, 0.65909090909090906, 0.40909090909090912, 0.19318181818181818, 0.31818181818181818, 0.82954545454545459, 0.42045454545454547, 0.72727272727272729, 0.45454545454545453, 0.28409090909090912, 0.93181818181818177, 0.5, 0.76136363636363635, 0.18181818181818182, 0.39772727272727271, 0.056818181818181816, 0.26136363636363635, 0.125, 0.52272727272727271, 0.27272727272727271, 0.011363636363636364, 0.88636363636363635, 0.0, 0.625, 0.69318181818181823, 0.63636363636363635, 0.15909090909090909, 0.45454545454545453, 0.54545454545454541, 0.52272727272727271, 0.25, 0.31818181818181818, 0.82954545454545459, 0.31818181818181818, 1.0, 0.45454545454545453, 0.76136363636363635, 0.18181818181818182]\n"
     ]
    }
   ],
   "source": [
    "norm_sal = [(x-min_sal)/(max_sal-min_sal) for x in sal]\n",
    "print norm_sal"
   ]
  },
  {
   "cell_type": "code",
   "execution_count": 12,
   "metadata": {
    "collapsed": false
   },
   "outputs": [
    {
     "name": "stdout",
     "output_type": "stream",
     "text": [
      "[ 0.5     0.6023  0.3523  0.6591  0.4091  0.1932\n",
      "  0.3182  0.8295  0.4205  0.7273  0.4545  0.2841\n",
      "  0.9318  0.5     0.7614  0.1818  0.3977  0.0568\n",
      "  0.2614  0.125   0.5227  0.2727  0.0114  0.8864\n",
      "  0.      0.625   0.6932  0.6364  0.1591  0.4545\n",
      "  0.5455  0.5227  0.25    0.3182  0.8295  0.3182\n",
      "  1.      0.4545  0.7614  0.1818]\n"
     ]
    }
   ],
   "source": [
    "## Supress is printing with scientific notation\n",
    "np.set_printoptions(precision=4, linewidth=50, suppress=True)\n",
    "\n",
    "sal_range = max_sal - min_sal\n",
    "norm_sal = (sal - min_sal) / sal_range\n",
    "print norm_sal"
   ]
  },
  {
   "cell_type": "code",
   "execution_count": 13,
   "metadata": {
    "collapsed": false
   },
   "outputs": [
    {
     "name": "stdout",
     "output_type": "stream",
     "text": [
      "31.5 12.5916639091\n"
     ]
    }
   ],
   "source": [
    "age_mean = age.mean()\n",
    "age_std = age.std()\n",
    "print age_mean, age_std"
   ]
  },
  {
   "cell_type": "code",
   "execution_count": 14,
   "metadata": {
    "collapsed": false
   },
   "outputs": [
    {
     "name": "stdout",
     "output_type": "stream",
     "text": [
      "[-0.5162  0.1191 -0.9133  3.0576  0.278  -0.9133\n",
      "  1.0721 -0.5162 -0.8339  0.675  -0.7545 -0.7545\n",
      "  1.1516  0.3574 -0.1191 -0.9927  0.278  -1.231\n",
      " -0.5162 -1.231   1.6281  0.1191 -1.3104  0.278\n",
      " -1.231   0.278   1.231   1.6281 -1.0721 -0.5162\n",
      "  1.9457 -0.1191 -0.5162  0.0397 -0.1985 -0.8339\n",
      "  1.1516  0.5162  0.278  -0.9927]\n"
     ]
    }
   ],
   "source": [
    "age_znorm = (age - age_mean) / age_std\n",
    "print age_znorm"
   ]
  },
  {
   "cell_type": "code",
   "execution_count": 15,
   "metadata": {
    "collapsed": false
   },
   "outputs": [
    {
     "name": "stdout",
     "output_type": "stream",
     "text": [
      "[['3' 'F' '32000 ' '20' '42' '1.6' 'Comedy']\n",
      " ['6' 'M' '18000 ' '20' '33' '1.7' 'Action']\n",
      " ['8' 'M' '74000 ' '25' '31' '2.4' 'Action']\n",
      " ['11' 'F' '41000 ' '22' '48' '2.3' 'Drama']\n",
      " ['15' 'M' '68000 ' '30' '36' '2.7' 'Comedy']\n",
      " ['18' 'F' '6000 ' '16' '39' '1.8' 'Action']\n",
      " ['19' 'F' '24000 ' '25' '41' '3.1' 'Comedy']\n",
      " ['23' 'F' '2000 ' '15' '30' '2.5' 'Comedy']\n",
      " ['26' 'F' '56000 ' '35' '40' '2.6' 'Action']\n",
      " ['27' 'F' '62000 ' '47' '32' '3.6' 'Drama']\n",
      " ['29' 'F' '15000 ' '18' '37' '2.1' 'Action']\n",
      " ['35' 'M' '74000 ' '29' '43' '4.6' 'Action']\n",
      " ['36' 'F' '29000 ' '21' '34' '2.3' 'Comedy']\n",
      " ['40' 'M' '17000 ' '19' '32' '1.8' 'Action']]\n"
     ]
    }
   ],
   "source": [
    "is_good = np.array(rentals >= 30)\n",
    "good_cust = np.array(vstable[is_good])\n",
    "print good_cust"
   ]
  },
  {
   "cell_type": "code",
   "execution_count": 16,
   "metadata": {
    "collapsed": false
   },
   "outputs": [
    {
     "data": {
      "text/plain": [
       "array(['M', 'F', 'F', 'F', 'M', 'M', 'F', 'M',\n",
       "       'M', 'F', 'F', 'F', 'M', 'M', 'M', 'M',\n",
       "       'M', 'F', 'F', 'M', 'F', 'M', 'F', 'F',\n",
       "       'M', 'F', 'F', 'M', 'F', 'M', 'F', 'M',\n",
       "       'M', 'F', 'M', 'F', 'M', 'M', 'F', 'M'], \n",
       "      dtype='|S11')"
      ]
     },
     "execution_count": 16,
     "metadata": {},
     "output_type": "execute_result"
    }
   ],
   "source": [
    "gender = np.array(vstable[:,1])\n",
    "gender"
   ]
  },
  {
   "cell_type": "code",
   "execution_count": 17,
   "metadata": {
    "collapsed": false
   },
   "outputs": [
    {
     "data": {
      "text/plain": [
       "array([ 0.,  0.,  0.,  0.,  0.,  0.,  0.,  0.,\n",
       "        0.,  0.,  0.,  0.,  0.,  0.,  0.,  0.,\n",
       "        0.,  0.,  0.,  0.,  0.,  0.,  0.,  0.,\n",
       "        0.,  0.,  0.,  0.,  0.,  0.,  0.,  0.,\n",
       "        0.,  0.,  0.,  0.,  0.,  0.,  0.,  0.])"
      ]
     },
     "execution_count": 17,
     "metadata": {},
     "output_type": "execute_result"
    }
   ],
   "source": [
    "gen_f = np.zeros(len(gender))\n",
    "gen_f"
   ]
  },
  {
   "cell_type": "code",
   "execution_count": 18,
   "metadata": {
    "collapsed": false
   },
   "outputs": [
    {
     "data": {
      "text/plain": [
       "array([ 0.,  1.,  1.,  1.,  0.,  0.,  1.,  0.,\n",
       "        0.,  1.,  1.,  1.,  0.,  0.,  0.,  0.,\n",
       "        0.,  1.,  1.,  0.,  1.,  0.,  1.,  1.,\n",
       "        0.,  1.,  1.,  0.,  1.,  0.,  1.,  0.,\n",
       "        0.,  1.,  0.,  1.,  0.,  0.,  1.,  0.])"
      ]
     },
     "execution_count": 18,
     "metadata": {},
     "output_type": "execute_result"
    }
   ],
   "source": [
    "gen_f[gender=='F'] = 1\n",
    "gen_f"
   ]
  },
  {
   "cell_type": "code",
   "execution_count": 19,
   "metadata": {
    "collapsed": false
   },
   "outputs": [
    {
     "data": {
      "text/plain": [
       "array([ 1.,  0.,  0.,  0.,  1.,  1.,  0.,  1.,\n",
       "        1.,  0.,  0.,  0.,  1.,  1.,  1.,  1.,\n",
       "        1.,  0.,  0.,  1.,  0.,  1.,  0.,  0.,\n",
       "        1.,  0.,  0.,  1.,  0.,  1.,  0.,  1.,\n",
       "        1.,  0.,  1.,  0.,  1.,  1.,  0.,  1.])"
      ]
     },
     "execution_count": 19,
     "metadata": {},
     "output_type": "execute_result"
    }
   ],
   "source": [
    "gen_m = np.zeros(len(gender))\n",
    "gen_m[gender=='M'] = 1\n",
    "gen_m"
   ]
  },
  {
   "cell_type": "code",
   "execution_count": 20,
   "metadata": {
    "collapsed": false
   },
   "outputs": [
    {
     "name": "stdout",
     "output_type": "stream",
     "text": [
      "[[     0.       1.   45000.      25.      27.       2.5]\n",
      " [     1.       0.   54000.      33.      12.       3.4]\n",
      " [     1.       0.   32000.      20.      42.       1.6]\n",
      " [     1.       0.   59000.      70.      16.       4.2]\n",
      " [     0.       1.   37000.      35.      25.       3.2]]\n"
     ]
    }
   ],
   "source": [
    "vs_new = np.array([gen_f,gen_m,sal,age,rentals,visit_avg])\n",
    "vs_new = vs_new.T\n",
    "\n",
    "np.set_printoptions(linewidth=80)\n",
    "\n",
    "#Here are the first 5 elements of the new array\n",
    "print vs_new[0:5]"
   ]
  },
  {
   "cell_type": "code",
   "execution_count": 21,
   "metadata": {
    "collapsed": false
   },
   "outputs": [
    {
     "name": "stdout",
     "output_type": "stream",
     "text": [
      "       Gen=F Gen=M Income  Age  Rntls  VisAvg\n",
      "Mean:  0.475 0.525 41500.0 31.5 26.175 2.7925\n"
     ]
    }
   ],
   "source": [
    "f_mean,m_mean,sal_mean,age_mean,rentals_mean,visavg_mean= vs_new.mean(axis=0)\n",
    "\n",
    "print \"       Gen=F Gen=M Income  Age  Rntls  VisAvg\"\n",
    "print \"Mean: \", f_mean,m_mean,sal_mean,age_mean,rentals_mean,visavg_mean"
   ]
  },
  {
   "cell_type": "code",
   "execution_count": 22,
   "metadata": {
    "collapsed": false
   },
   "outputs": [
    {
     "data": {
      "text/plain": [
       "array([[ 1.    , -1.    , -0.0365,  0.161 ,  0.1515,  0.2033],\n",
       "       [-1.    ,  1.    ,  0.0365, -0.161 , -0.1515, -0.2033],\n",
       "       [-0.0365,  0.0365,  1.    ,  0.6138, -0.2625,  0.4686],\n",
       "       [ 0.161 , -0.161 ,  0.6138,  1.    , -0.5471,  0.6291],\n",
       "       [ 0.1515, -0.1515, -0.2625, -0.5471,  1.    , -0.2064],\n",
       "       [ 0.2033, -0.2033,  0.4686,  0.6291, -0.2064,  1.    ]])"
      ]
     },
     "execution_count": 22,
     "metadata": {},
     "output_type": "execute_result"
    }
   ],
   "source": [
    "#Now that the data is in all numeric form, we can apply techiques such as correlation analysis on the variables\n",
    "np.corrcoef(vs_new.T)"
   ]
  },
  {
   "cell_type": "code",
   "execution_count": 23,
   "metadata": {
    "collapsed": true
   },
   "outputs": [],
   "source": [
    "out_file = open(\"new_video_store.csv\", \"w\")\n",
    "np.savetxt(out_file, vs_new, fmt='%d,%d,%1.2f,%1.2f,%1.2f,%1.2f', delimiter=',')"
   ]
  },
  {
   "cell_type": "code",
   "execution_count": 24,
   "metadata": {
    "collapsed": false
   },
   "outputs": [
    {
     "name": "stdout",
     "output_type": "stream",
     "text": [
      "[(1, 'M', 45000.0, 25, 27, 2.5, 'Action')\n",
      " (2, 'F', 54000.0, 33, 12, 3.4, 'Drama')\n",
      " (3, 'F', 32000.0, 20, 42, 1.6, 'Comedy')\n",
      " (4, 'F', 59000.0, 70, 16, 4.2, 'Drama')\n",
      " (5, 'M', 37000.0, 35, 25, 3.2, 'Action')\n",
      " (6, 'M', 18000.0, 20, 33, 1.7, 'Action')\n",
      " (7, 'F', 29000.0, 45, 19, 3.8, 'Drama')\n",
      " (8, 'M', 74000.0, 25, 31, 2.4, 'Action')\n",
      " (9, 'M', 38000.0, 21, 18, 2.1, 'Comedy')\n",
      " (10, 'F', 65000.0, 40, 21, 3.3, 'Drama')\n",
      " (11, 'F', 41000.0, 22, 48, 2.3, 'Drama')\n",
      " (12, 'F', 26000.0, 22, 29, 2.9, 'Action')\n",
      " (13, 'M', 83000.0, 46, 14, 3.6, 'Comedy')\n",
      " (14, 'M', 45000.0, 36, 24, 2.7, 'Drama')\n",
      " (15, 'M', 68000.0, 30, 36, 2.7, 'Comedy')\n",
      " (16, 'M', 17000.0, 19, 26, 2.2, 'Action')\n",
      " (17, 'M', 36000.0, 35, 28, 3.5, 'Drama')\n",
      " (18, 'F', 6000.0, 16, 39, 1.8, 'Action')\n",
      " (19, 'F', 24000.0, 25, 41, 3.1, 'Comedy')\n",
      " (20, 'M', 12000.0, 16, 23, 2.2, 'Action')\n",
      " (21, 'F', 47000.0, 52, 11, 3.1, 'Drama')\n",
      " (22, 'M', 25000.0, 33, 16, 2.9, 'Drama')\n",
      " (23, 'F', 2000.0, 15, 30, 2.5, 'Comedy')\n",
      " (24, 'F', 79000.0, 35, 22, 3.8, 'Drama')\n",
      " (25, 'M', 1000.0, 16, 25, 1.4, 'Comedy')\n",
      " (26, 'F', 56000.0, 35, 40, 2.6, 'Action')\n",
      " (27, 'F', 62000.0, 47, 32, 3.6, 'Drama')\n",
      " (28, 'M', 57000.0, 52, 22, 4.1, 'Comedy')\n",
      " (29, 'F', 15000.0, 18, 37, 2.1, 'Action')\n",
      " (30, 'M', 41000.0, 25, 17, 1.4, 'Action')\n",
      " (31, 'F', 49000.0, 56, 15, 3.2, 'Comedy')\n",
      " (32, 'M', 47000.0, 30, 21, 3.1, 'Drama')\n",
      " (33, 'M', 23000.0, 25, 28, 2.7, 'Action')\n",
      " (34, 'F', 29000.0, 32, 19, 2.9, 'Action')\n",
      " (35, 'M', 74000.0, 29, 43, 4.6, 'Action')\n",
      " (36, 'F', 29000.0, 21, 34, 2.3, 'Comedy')\n",
      " (37, 'M', 89000.0, 46, 12, 1.2, 'Comedy')\n",
      " (38, 'M', 41000.0, 38, 20, 3.3, 'Drama')\n",
      " (39, 'F', 68000.0, 35, 19, 3.9, 'Comedy')\n",
      " (40, 'M', 17000.0, 19, 32, 1.8, 'Action')]\n"
     ]
    }
   ],
   "source": [
    "vs = np.genfromtxt(\"Video_Store.csv\", delimiter=\",\", names=True, dtype=(int, \"|S1\", float, int, int, float, \"|S10\"))\n",
    "print vs"
   ]
  },
  {
   "cell_type": "code",
   "execution_count": 25,
   "metadata": {
    "collapsed": false
   },
   "outputs": [
    {
     "data": {
      "text/plain": [
       "dtype([('ID', '<i8'), ('Gender', 'S1'), ('Income', '<f8'), ('Age', '<i8'), ('Rentals', '<i8'), ('AvgPerVisit', '<f8'), ('Genre', 'S10')])"
      ]
     },
     "execution_count": 25,
     "metadata": {},
     "output_type": "execute_result"
    }
   ],
   "source": [
    "np.dtype(vs[0])"
   ]
  },
  {
   "cell_type": "code",
   "execution_count": 26,
   "metadata": {
    "collapsed": false
   },
   "outputs": [
    {
     "name": "stdout",
     "output_type": "stream",
     "text": [
      "['M' 'F' 'F' 'F' 'M' 'M' 'F' 'M' 'M' 'F' 'F' 'F' 'M' 'M' 'M' 'M' 'M' 'F' 'F' 'M'\n",
      " 'F' 'M' 'F' 'F' 'M' 'F' 'F' 'M' 'F' 'M' 'F' 'M' 'M' 'F' 'M' 'F' 'M' 'M' 'F' 'M']\n"
     ]
    }
   ],
   "source": [
    "print vs['Gender']"
   ]
  },
  {
   "cell_type": "code",
   "execution_count": 27,
   "metadata": {
    "collapsed": false
   },
   "outputs": [
    {
     "name": "stdout",
     "output_type": "stream",
     "text": [
      "[ 45000.  54000.  32000.  59000.  37000.  18000.  29000.  74000.  38000.  65000.\n",
      "  41000.  26000.  83000.  45000.  68000.  17000.  36000.   6000.  24000.  12000.\n",
      "  47000.  25000.   2000.  79000.   1000.  56000.  62000.  57000.  15000.  41000.\n",
      "  49000.  47000.  23000.  29000.  74000.  29000.  89000.  41000.  68000.  17000.]\n"
     ]
    }
   ],
   "source": [
    "print vs['Income']"
   ]
  },
  {
   "cell_type": "code",
   "execution_count": 28,
   "metadata": {
    "collapsed": false
   },
   "outputs": [
    {
     "name": "stdout",
     "output_type": "stream",
     "text": [
      "15\n"
     ]
    }
   ],
   "source": [
    "print sum(vs['Genre']=='Action')"
   ]
  },
  {
   "cell_type": "code",
   "execution_count": 29,
   "metadata": {
    "collapsed": false
   },
   "outputs": [
    {
     "data": {
      "text/plain": [
       "array([(3, 'F', 32000.0, 20, 42, 1.6, 'Comedy'),\n",
       "       (6, 'M', 18000.0, 20, 33, 1.7, 'Action'),\n",
       "       (8, 'M', 74000.0, 25, 31, 2.4, 'Action'),\n",
       "       (11, 'F', 41000.0, 22, 48, 2.3, 'Drama'),\n",
       "       (15, 'M', 68000.0, 30, 36, 2.7, 'Comedy'),\n",
       "       (18, 'F', 6000.0, 16, 39, 1.8, 'Action'),\n",
       "       (19, 'F', 24000.0, 25, 41, 3.1, 'Comedy'),\n",
       "       (23, 'F', 2000.0, 15, 30, 2.5, 'Comedy'),\n",
       "       (26, 'F', 56000.0, 35, 40, 2.6, 'Action'),\n",
       "       (27, 'F', 62000.0, 47, 32, 3.6, 'Drama'),\n",
       "       (29, 'F', 15000.0, 18, 37, 2.1, 'Action'),\n",
       "       (35, 'M', 74000.0, 29, 43, 4.6, 'Action'),\n",
       "       (36, 'F', 29000.0, 21, 34, 2.3, 'Comedy'),\n",
       "       (40, 'M', 17000.0, 19, 32, 1.8, 'Action')], \n",
       "      dtype=[('ID', '<i8'), ('Gender', 'S1'), ('Income', '<f8'), ('Age', '<i8'), ('Rentals', '<i8'), ('AvgPerVisit', '<f8'), ('Genre', 'S10')])"
      ]
     },
     "execution_count": 29,
     "metadata": {},
     "output_type": "execute_result"
    }
   ],
   "source": [
    "is_good = np.array(vs['Rentals'] >= 30)\n",
    "good_cust = np.array(vs[is_good])\n",
    "good_cust"
   ]
  },
  {
   "cell_type": "code",
   "execution_count": 30,
   "metadata": {
    "collapsed": false
   },
   "outputs": [
    {
     "name": "stdout",
     "output_type": "stream",
     "text": [
      "Min Rentals:  30\n",
      "Max Rentals:  48\n",
      "Rentals Mean:  37.0\n",
      "Rentals Median:  36.5\n",
      "Rentals Std. Dev.:  5.15474815791\n"
     ]
    }
   ],
   "source": [
    "print \"Min Rentals: \", good_cust['Rentals'].min()\n",
    "print \"Max Rentals: \", good_cust['Rentals'].max()\n",
    "print \"Rentals Mean: \", good_cust['Rentals'].mean()\n",
    "print \"Rentals Median: \", np.median(good_cust['Rentals'])\n",
    "print \"Rentals Std. Dev.: \", good_cust['Rentals'].std()"
   ]
  },
  {
   "cell_type": "code",
   "execution_count": 31,
   "metadata": {
    "collapsed": false
   },
   "outputs": [
    {
     "data": {
      "text/plain": [
       "array([('M', 45000.0, 25, 27, 2.5, 'Action'),\n",
       "       ('F', 54000.0, 33, 12, 3.4, 'Drama'),\n",
       "       ('F', 32000.0, 20, 42, 1.6, 'Comedy'),\n",
       "       ('F', 59000.0, 70, 16, 4.2, 'Drama'),\n",
       "       ('M', 37000.0, 35, 25, 3.2, 'Action')], \n",
       "      dtype=[('Gender', 'S1'), ('Income', '<f8'), ('Age', '<i8'), ('Rentals', '<i8'), ('AvgPerVisit', '<f8'), ('Genre', 'S10')])"
      ]
     },
     "execution_count": 31,
     "metadata": {},
     "output_type": "execute_result"
    }
   ],
   "source": [
    "vs_nid = np.genfromtxt(\"Video_Store.csv\", delimiter=\",\", usecols=(1,2,3,4,5,6), names=True, dtype=(\"|S1\", float, int, int, float, \"|S10\"))\n",
    "vs_nid[0:5]"
   ]
  },
  {
   "cell_type": "code",
   "execution_count": 32,
   "metadata": {
    "collapsed": true
   },
   "outputs": [],
   "source": [
    "names = vs_nid.dtype.names\n",
    "\n",
    "vs_dict = [dict(zip(names, record)) for record in vs_nid] "
   ]
  },
  {
   "cell_type": "code",
   "execution_count": 33,
   "metadata": {
    "collapsed": false
   },
   "outputs": [
    {
     "name": "stdout",
     "output_type": "stream",
     "text": [
      "{'Gender': 'M', 'Age': 25, 'AvgPerVisit': 2.5, 'Income': 45000.0, 'Genre': 'Action', 'Rentals': 27}\n"
     ]
    }
   ],
   "source": [
    "print vs_dict[0]"
   ]
  },
  {
   "cell_type": "code",
   "execution_count": 34,
   "metadata": {
    "collapsed": true
   },
   "outputs": [],
   "source": [
    "from sklearn.feature_extraction import DictVectorizer"
   ]
  },
  {
   "cell_type": "code",
   "execution_count": 35,
   "metadata": {
    "collapsed": true
   },
   "outputs": [],
   "source": [
    "vs_vec = DictVectorizer()"
   ]
  },
  {
   "cell_type": "code",
   "execution_count": 36,
   "metadata": {
    "collapsed": false
   },
   "outputs": [
    {
     "data": {
      "text/plain": [
       "array([[    25. ,      2.5,      0. ,      1. ,      1. ,      0. ,      0. ,  45000. ,     27. ],\n",
       "       [    33. ,      3.4,      1. ,      0. ,      0. ,      0. ,      1. ,  54000. ,     12. ],\n",
       "       [    20. ,      1.6,      1. ,      0. ,      0. ,      1. ,      0. ,  32000. ,     42. ],\n",
       "       [    70. ,      4.2,      1. ,      0. ,      0. ,      0. ,      1. ,  59000. ,     16. ],\n",
       "       [    35. ,      3.2,      0. ,      1. ,      1. ,      0. ,      0. ,  37000. ,     25. ],\n",
       "       [    20. ,      1.7,      0. ,      1. ,      1. ,      0. ,      0. ,  18000. ,     33. ],\n",
       "       [    45. ,      3.8,      1. ,      0. ,      0. ,      0. ,      1. ,  29000. ,     19. ],\n",
       "       [    25. ,      2.4,      0. ,      1. ,      1. ,      0. ,      0. ,  74000. ,     31. ],\n",
       "       [    21. ,      2.1,      0. ,      1. ,      0. ,      1. ,      0. ,  38000. ,     18. ],\n",
       "       [    40. ,      3.3,      1. ,      0. ,      0. ,      0. ,      1. ,  65000. ,     21. ],\n",
       "       [    22. ,      2.3,      1. ,      0. ,      0. ,      0. ,      1. ,  41000. ,     48. ],\n",
       "       [    22. ,      2.9,      1. ,      0. ,      1. ,      0. ,      0. ,  26000. ,     29. ],\n",
       "       [    46. ,      3.6,      0. ,      1. ,      0. ,      1. ,      0. ,  83000. ,     14. ],\n",
       "       [    36. ,      2.7,      0. ,      1. ,      0. ,      0. ,      1. ,  45000. ,     24. ],\n",
       "       [    30. ,      2.7,      0. ,      1. ,      0. ,      1. ,      0. ,  68000. ,     36. ],\n",
       "       [    19. ,      2.2,      0. ,      1. ,      1. ,      0. ,      0. ,  17000. ,     26. ],\n",
       "       [    35. ,      3.5,      0. ,      1. ,      0. ,      0. ,      1. ,  36000. ,     28. ],\n",
       "       [    16. ,      1.8,      1. ,      0. ,      1. ,      0. ,      0. ,   6000. ,     39. ],\n",
       "       [    25. ,      3.1,      1. ,      0. ,      0. ,      1. ,      0. ,  24000. ,     41. ],\n",
       "       [    16. ,      2.2,      0. ,      1. ,      1. ,      0. ,      0. ,  12000. ,     23. ],\n",
       "       [    52. ,      3.1,      1. ,      0. ,      0. ,      0. ,      1. ,  47000. ,     11. ],\n",
       "       [    33. ,      2.9,      0. ,      1. ,      0. ,      0. ,      1. ,  25000. ,     16. ],\n",
       "       [    15. ,      2.5,      1. ,      0. ,      0. ,      1. ,      0. ,   2000. ,     30. ],\n",
       "       [    35. ,      3.8,      1. ,      0. ,      0. ,      0. ,      1. ,  79000. ,     22. ],\n",
       "       [    16. ,      1.4,      0. ,      1. ,      0. ,      1. ,      0. ,   1000. ,     25. ],\n",
       "       [    35. ,      2.6,      1. ,      0. ,      1. ,      0. ,      0. ,  56000. ,     40. ],\n",
       "       [    47. ,      3.6,      1. ,      0. ,      0. ,      0. ,      1. ,  62000. ,     32. ],\n",
       "       [    52. ,      4.1,      0. ,      1. ,      0. ,      1. ,      0. ,  57000. ,     22. ],\n",
       "       [    18. ,      2.1,      1. ,      0. ,      1. ,      0. ,      0. ,  15000. ,     37. ],\n",
       "       [    25. ,      1.4,      0. ,      1. ,      1. ,      0. ,      0. ,  41000. ,     17. ],\n",
       "       [    56. ,      3.2,      1. ,      0. ,      0. ,      1. ,      0. ,  49000. ,     15. ],\n",
       "       [    30. ,      3.1,      0. ,      1. ,      0. ,      0. ,      1. ,  47000. ,     21. ],\n",
       "       [    25. ,      2.7,      0. ,      1. ,      1. ,      0. ,      0. ,  23000. ,     28. ],\n",
       "       [    32. ,      2.9,      1. ,      0. ,      1. ,      0. ,      0. ,  29000. ,     19. ],\n",
       "       [    29. ,      4.6,      0. ,      1. ,      1. ,      0. ,      0. ,  74000. ,     43. ],\n",
       "       [    21. ,      2.3,      1. ,      0. ,      0. ,      1. ,      0. ,  29000. ,     34. ],\n",
       "       [    46. ,      1.2,      0. ,      1. ,      0. ,      1. ,      0. ,  89000. ,     12. ],\n",
       "       [    38. ,      3.3,      0. ,      1. ,      0. ,      0. ,      1. ,  41000. ,     20. ],\n",
       "       [    35. ,      3.9,      1. ,      0. ,      0. ,      1. ,      0. ,  68000. ,     19. ],\n",
       "       [    19. ,      1.8,      0. ,      1. ,      1. ,      0. ,      0. ,  17000. ,     32. ]])"
      ]
     },
     "execution_count": 36,
     "metadata": {},
     "output_type": "execute_result"
    }
   ],
   "source": [
    "np.set_printoptions(linewidth=100)\n",
    "\n",
    "vs_vec.fit_transform(vs_dict).toarray()"
   ]
  },
  {
   "cell_type": "code",
   "execution_count": 37,
   "metadata": {
    "collapsed": false
   },
   "outputs": [
    {
     "data": {
      "text/plain": [
       "['Age',\n",
       " 'AvgPerVisit',\n",
       " 'Gender=F',\n",
       " 'Gender=M',\n",
       " 'Genre=Action',\n",
       " 'Genre=Comedy',\n",
       " 'Genre=Drama',\n",
       " 'Income',\n",
       " 'Rentals']"
      ]
     },
     "execution_count": 37,
     "metadata": {},
     "output_type": "execute_result"
    }
   ],
   "source": [
    "vs_vec.get_feature_names()"
   ]
  },
  {
   "cell_type": "code",
   "execution_count": 38,
   "metadata": {
    "collapsed": false
   },
   "outputs": [
    {
     "name": "stderr",
     "output_type": "stream",
     "text": [
      "/home/ecosystem/anaconda/lib/python2.7/site-packages/matplotlib/font_manager.py:273: UserWarning: Matplotlib is building the font cache using fc-list. This may take a moment.\n",
      "  warnings.warn('Matplotlib is building the font cache using fc-list. This may take a moment.')\n"
     ]
    }
   ],
   "source": [
    "import matplotlib.pyplot as plt\n",
    "%matplotlib inline"
   ]
  },
  {
   "cell_type": "code",
   "execution_count": 39,
   "metadata": {
    "collapsed": false
   },
   "outputs": [
    {
     "data": {
      "image/png": "[encoded data removed]",
      "text/plain": [
       "<matplotlib.figure.Figure at 0x7fe49d413f90>"
      ]
     },
     "metadata": {},
     "output_type": "display_data"
    }
   ],
   "source": [
    "plt.hist(vs['Income'], bins=9, alpha=0.5,linewidth=2)\n",
    "plt.xlabel('Income')\n",
    "plt.ylabel('Count')\n",
    "plt.title('Histogram of Income')\n",
    "plt.axis([0, 100000, 0, 10])\n",
    "plt.grid(True)\n",
    "plt.show()"
   ]
  },
  {
   "cell_type": "code",
   "execution_count": 40,
   "metadata": {
    "collapsed": true
   },
   "outputs": [],
   "source": [
    "# First we need the counts for males and females across different genres\n",
    "m_counts = [14, 6, 8]  # counts of Action, Comedy, Drama for male custs.\n",
    "f_counts = [8, 6, 12]  # counts of Action, Comedy, Drama for female custs.\n",
    "N = len(f_counts)"
   ]
  },
  {
   "cell_type": "code",
   "execution_count": 41,
   "metadata": {
    "collapsed": false
   },
   "outputs": [
    {
     "data": {
      "text/plain": [
       "<matplotlib.figure.Figure at 0x7fe49d3ded90>"
      ]
     },
     "metadata": {},
     "output_type": "display_data"
    },
    {
     "data": {
      "image/png": "[encoded data removed]",
      "text/plain": [
       "<matplotlib.figure.Figure at 0x7fe49d3d2b50>"
      ]
     },
     "metadata": {},
     "output_type": "display_data"
    }
   ],
   "source": [
    "fig = plt.figure()\n",
    "\n",
    "ind = np.arange(N)  # the x locations for the groups\n",
    "ind = ind + 0.15\n",
    "width = 0.35       # the width of the bars\n",
    "\n",
    "fig, ax = plt.subplots()\n",
    "rects1 = ax.bar(ind, f_counts, width, color='b')\n",
    "rects2 = ax.bar(ind+width, m_counts, width, color='r')\n",
    "\n",
    "ax.set_ylabel('Counts')\n",
    "ax.set_ybound(upper=16)\n",
    "ax.set_title('Counts by Genre and Gender')\n",
    "ax.set_xticks(ind+width)\n",
    "ax.set_xticklabels( ('Action', 'Comedy', 'Drama') )\n",
    "\n",
    "ax.legend( (rects1[0], rects2[0]), ('Female', 'Male') )\n",
    "\n",
    "plt.show()\n",
    "\n",
    "# plt.savefig(\"figure.pdf\")"
   ]
  },
  {
   "cell_type": "code",
   "execution_count": 42,
   "metadata": {
    "collapsed": false
   },
   "outputs": [
    {
     "data": {
      "image/png": "[encoded data removed]",
      "text/plain": [
       "<matplotlib.figure.Figure at 0x7fe49d3760d0>"
      ]
     },
     "metadata": {},
     "output_type": "display_data"
    }
   ],
   "source": [
    "fig = plt.figure(figsize=(5, 4))\n",
    "# Create an Axes object.\n",
    "ax = fig.add_subplot(1,1,1) # one row, one column, first plot\n",
    "# Plot the data.\n",
    "ax.scatter(vs['Age'], vs['Income'], color=\"blue\", marker=\"*\")\n",
    "# Add a title.\n",
    "ax.set_title(\"Age VS. Income\")\n",
    "# Add some axis labels.\n",
    "ax.set_xlabel(\"Age\")\n",
    "ax.set_ylabel(\"Income\")\n",
    "# Produce an image.\n",
    "# fig.savefig(\"scatterplot.png\")\n",
    "plt.show()"
   ]
  }
 ],
 "metadata": {
  "kernelspec": {
   "display_name": "Python 2",
   "language": "python",
   "name": "python2"
  },
  "language_info": {
   "codemirror_mode": {
    "name": "ipython",
    "version": 2
   },
   "file_extension": ".py",
   "mimetype": "text/x-python",
   "name": "python",
   "nbconvert_exporter": "python",
   "pygments_lexer": "ipython2",
   "version": "2.7.13"
  }
 },
 "nbformat": 4,
 "nbformat_minor": 0
}
