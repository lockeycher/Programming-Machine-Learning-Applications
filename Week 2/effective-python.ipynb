{
 "cells": [
  {
   "cell_type": "markdown",
   "metadata": {
    "slideshow": {
     "slide_type": "slide"
    }
   },
   "source": [
    "<h1 style=\"text-align: center;\" markdown=\"1\">Effective Python</h1>"
   ]
  },
  {
   "cell_type": "markdown",
   "metadata": {
    "slideshow": {
     "slide_type": "skip"
    }
   },
   "source": [
    "<p>This notebook serves as an introduction to programming in Python. According to an analysis conducted by Gregory Piatetsky of KDnuggets, <a href=\"https://www.kdnuggets.com/2017/09/python-vs-r-data-science-machine-learning.html\" _target=\"blank\">Python is the leading programming language for machine learning</a>. As such, it is an essential tool in the data science toolkit. In this course, the Python programming langauge will serve as the foundation for building sound, effective, enterprise-grade machine learning applications. This notebook is based upon insights derived from Brett Slatkin, Senior Staff Software Engineer at Google and Engineering Lead and Co-Founder of Google Consumer Surveys. For more information about Brett and his work, please see the citation at the bottom of this notebook.</p>"
   ]
  },
  {
   "cell_type": "markdown",
   "metadata": {
    "slideshow": {
     "slide_type": "slide"
    }
   },
   "source": [
    "<h2 style=\"text-align: left;\" markdown=\"1\">Functions</h2>\n",
    "<p>One of the most important tools in the Python programming language is the function. Functions allow programmers to break up code into smaller, simpler pieces. In the following section, we'll demonstrate a few key considerations specifically as it relates to Python functions.</p>"
   ]
  },
  {
   "cell_type": "markdown",
   "metadata": {
    "slideshow": {
     "slide_type": "slide"
    }
   },
   "source": [
    "<p><b><i>Item 14: Prefer exceptions to returning None</i><b></p>"
   ]
  },
  {
   "cell_type": "code",
   "execution_count": 1,
   "metadata": {
    "collapsed": false,
    "slideshow": {
     "slide_type": "subslide"
    }
   },
   "outputs": [],
   "source": [
    "def divide(a, b):\n",
    "    \"\"\"Divide by Zero\"\"\"\n",
    "    try:\n",
    "        return a / b\n",
    "    except ZeroDivisionError as e:\n",
    "        raise ValueError('Invalid Inputs') from e"
   ]
  },
  {
   "cell_type": "code",
   "execution_count": 2,
   "metadata": {
    "collapsed": false,
    "slideshow": {
     "slide_type": "-"
    }
   },
   "outputs": [
    {
     "data": {
      "text/plain": [
       "0.0"
      ]
     },
     "execution_count": 2,
     "metadata": {},
     "output_type": "execute_result"
    }
   ],
   "source": [
    "divide(0,5)"
   ]
  },
  {
   "cell_type": "code",
   "execution_count": 3,
   "metadata": {
    "collapsed": false,
    "slideshow": {
     "slide_type": "-"
    }
   },
   "outputs": [
    {
     "ename": "ValueError",
     "evalue": "Invalid Inputs",
     "output_type": "error",
     "traceback": [
      "\u001b[0;31m---------------------------------------------------------\u001b[0m",
      "\u001b[0;31mZeroDivisionError\u001b[0m       Traceback (most recent call last)",
      "\u001b[0;32m<ipython-input-1-d2724cffbf5c>\u001b[0m in \u001b[0;36mdivide\u001b[0;34m(a, b)\u001b[0m\n\u001b[1;32m      3\u001b[0m     \u001b[0;32mtry\u001b[0m\u001b[0;34m:\u001b[0m\u001b[0;34m\u001b[0m\u001b[0m\n\u001b[0;32m----> 4\u001b[0;31m         \u001b[0;32mreturn\u001b[0m \u001b[0ma\u001b[0m \u001b[0;34m/\u001b[0m \u001b[0mb\u001b[0m\u001b[0;34m\u001b[0m\u001b[0m\n\u001b[0m\u001b[1;32m      5\u001b[0m     \u001b[0;32mexcept\u001b[0m \u001b[0mZeroDivisionError\u001b[0m \u001b[0;32mas\u001b[0m \u001b[0me\u001b[0m\u001b[0;34m:\u001b[0m\u001b[0;34m\u001b[0m\u001b[0m\n",
      "\u001b[0;31mZeroDivisionError\u001b[0m: division by zero",
      "\nThe above exception was the direct cause of the following exception:\n",
      "\u001b[0;31mValueError\u001b[0m              Traceback (most recent call last)",
      "\u001b[0;32m<ipython-input-3-0a52e2eb64c8>\u001b[0m in \u001b[0;36m<module>\u001b[0;34m\u001b[0m\n\u001b[0;32m----> 1\u001b[0;31m \u001b[0mdivide\u001b[0m\u001b[0;34m(\u001b[0m\u001b[0;36m5\u001b[0m\u001b[0;34m,\u001b[0m\u001b[0;36m0\u001b[0m\u001b[0;34m)\u001b[0m\u001b[0;34m\u001b[0m\u001b[0m\n\u001b[0m",
      "\u001b[0;32m<ipython-input-1-d2724cffbf5c>\u001b[0m in \u001b[0;36mdivide\u001b[0;34m(a, b)\u001b[0m\n\u001b[1;32m      4\u001b[0m         \u001b[0;32mreturn\u001b[0m \u001b[0ma\u001b[0m \u001b[0;34m/\u001b[0m \u001b[0mb\u001b[0m\u001b[0;34m\u001b[0m\u001b[0m\n\u001b[1;32m      5\u001b[0m     \u001b[0;32mexcept\u001b[0m \u001b[0mZeroDivisionError\u001b[0m \u001b[0;32mas\u001b[0m \u001b[0me\u001b[0m\u001b[0;34m:\u001b[0m\u001b[0;34m\u001b[0m\u001b[0m\n\u001b[0;32m----> 6\u001b[0;31m         \u001b[0;32mraise\u001b[0m \u001b[0mValueError\u001b[0m\u001b[0;34m(\u001b[0m\u001b[0;34m'Invalid Inputs'\u001b[0m\u001b[0;34m)\u001b[0m \u001b[0;32mfrom\u001b[0m \u001b[0me\u001b[0m\u001b[0;34m\u001b[0m\u001b[0m\n\u001b[0m",
      "\u001b[0;31mValueError\u001b[0m: Invalid Inputs"
     ]
    }
   ],
   "source": [
    "divide(5,0)"
   ]
  },
  {
   "cell_type": "markdown",
   "metadata": {
    "slideshow": {
     "slide_type": "slide"
    }
   },
   "source": [
    "<p><b><i>Item 15: Know How Closures Interact with Variable Scope</i><b></p>"
   ]
  },
  {
   "cell_type": "code",
   "execution_count": 4,
   "metadata": {
    "collapsed": true,
    "slideshow": {
     "slide_type": "subslide"
    }
   },
   "outputs": [],
   "source": [
    "numbers = [8, 3, 1, 2, 5, 4, 7, 6]\n",
    "group = {2, 3, 5, 7}"
   ]
  },
  {
   "cell_type": "code",
   "execution_count": 5,
   "metadata": {
    "collapsed": true,
    "slideshow": {
     "slide_type": "-"
    }
   },
   "outputs": [],
   "source": [
    "def set_priority(numbers,group):\n",
    "    \"\"\"Prioritized List Sort\"\"\"\n",
    "    found = False\n",
    "    def helper(x):\n",
    "        \"\"\"Use 'nonlocal' for module scope\"\"\"\n",
    "        nonlocal found\n",
    "        if x in group:\n",
    "            found = True\n",
    "            return (0, x)\n",
    "        return (1, x)\n",
    "    numbers.sort(key=helper)\n",
    "    return found"
   ]
  },
  {
   "cell_type": "code",
   "execution_count": 6,
   "metadata": {
    "collapsed": false,
    "slideshow": {
     "slide_type": "-"
    }
   },
   "outputs": [
    {
     "data": {
      "text/plain": [
       "True"
      ]
     },
     "execution_count": 6,
     "metadata": {},
     "output_type": "execute_result"
    }
   ],
   "source": [
    "set_priority(numbers,group)"
   ]
  },
  {
   "cell_type": "code",
   "execution_count": 7,
   "metadata": {
    "collapsed": false,
    "slideshow": {
     "slide_type": "-"
    }
   },
   "outputs": [
    {
     "name": "stdout",
     "output_type": "stream",
     "text": [
      "[2, 3, 5, 7, 1, 4, 6, 8]\n"
     ]
    }
   ],
   "source": [
    "print (numbers)"
   ]
  },
  {
   "cell_type": "markdown",
   "metadata": {
    "slideshow": {
     "slide_type": "slide"
    }
   },
   "source": [
    "<p><b><i>Item 16: Consider Generators Instead of Returning Lists</i><b></p>"
   ]
  },
  {
   "cell_type": "code",
   "execution_count": 8,
   "metadata": {
    "collapsed": false,
    "slideshow": {
     "slide_type": "subslide"
    }
   },
   "outputs": [],
   "source": [
    "address = \"Four score and seven years ago...\""
   ]
  },
  {
   "cell_type": "code",
   "execution_count": 9,
   "metadata": {
    "collapsed": false,
    "slideshow": {
     "slide_type": "-"
    }
   },
   "outputs": [],
   "source": [
    "def index_words_iter(text):\n",
    "    \"\"\"Find Index for Words in String\"\"\"\n",
    "    if text:\n",
    "        yield 0 \n",
    "        for index, letter in enumerate(text):\n",
    "            if letter ==  ' ':\n",
    "                yield index + 1"
   ]
  },
  {
   "cell_type": "code",
   "execution_count": 10,
   "metadata": {
    "collapsed": false,
    "slideshow": {
     "slide_type": "-"
    }
   },
   "outputs": [],
   "source": [
    "result = list(index_words_iter(address))"
   ]
  },
  {
   "cell_type": "code",
   "execution_count": 11,
   "metadata": {
    "collapsed": false,
    "slideshow": {
     "slide_type": "-"
    }
   },
   "outputs": [
    {
     "name": "stdout",
     "output_type": "stream",
     "text": [
      "[0, 5, 11, 15, 21, 27]\n"
     ]
    }
   ],
   "source": [
    "print (result)"
   ]
  },
  {
   "cell_type": "code",
   "execution_count": 12,
   "metadata": {
    "collapsed": false,
    "slideshow": {
     "slide_type": "-"
    }
   },
   "outputs": [
    {
     "name": "stdout",
     "output_type": "stream",
     "text": [
      "15\n"
     ]
    }
   ],
   "source": [
    "print (result[3])"
   ]
  },
  {
   "cell_type": "code",
   "execution_count": 13,
   "metadata": {
    "collapsed": false,
    "slideshow": {
     "slide_type": "-"
    }
   },
   "outputs": [
    {
     "name": "stdout",
     "output_type": "stream",
     "text": [
      "seven years ago...\n"
     ]
    }
   ],
   "source": [
    "print (address[result[3]:])"
   ]
  },
  {
   "cell_type": "markdown",
   "metadata": {
    "slideshow": {
     "slide_type": "slide"
    }
   },
   "source": [
    "<p><b><i>Item 18: Reduce Visual Noise with Variable Positional Arguements</i><b></p>"
   ]
  },
  {
   "cell_type": "code",
   "execution_count": 14,
   "metadata": {
    "collapsed": true,
    "slideshow": {
     "slide_type": "subslide"
    }
   },
   "outputs": [],
   "source": [
    "favorites = [7, 33, 12, 54, 45]"
   ]
  },
  {
   "cell_type": "code",
   "execution_count": 15,
   "metadata": {
    "collapsed": true,
    "slideshow": {
     "slide_type": "-"
    }
   },
   "outputs": [],
   "source": [
    "def log(sequence, message, *values):\n",
    "    \"\"\"Log messages\"\"\"\n",
    "    if not values:\n",
    "        print ('%s: %s' % (sequence, message))\n",
    "    else:\n",
    "        values_str = ', '.join(str(x) for x in values)\n",
    "        print ('%s: %s: %s' % (sequence, message,values_str))"
   ]
  },
  {
   "cell_type": "code",
   "execution_count": 16,
   "metadata": {
    "collapsed": false,
    "slideshow": {
     "slide_type": "-"
    }
   },
   "outputs": [
    {
     "name": "stdout",
     "output_type": "stream",
     "text": [
      "1: Favorites: 7, 33, 12, 54, 45\n"
     ]
    }
   ],
   "source": [
    "log(1,'Favorites', *favorites)"
   ]
  },
  {
   "cell_type": "code",
   "execution_count": 17,
   "metadata": {
    "collapsed": false,
    "slideshow": {
     "slide_type": "-"
    }
   },
   "outputs": [
    {
     "name": "stdout",
     "output_type": "stream",
     "text": [
      "2: Favorites: 7, 33, 12\n"
     ]
    }
   ],
   "source": [
    "log(2,'Favorites', 7, 33, 12)"
   ]
  },
  {
   "cell_type": "markdown",
   "metadata": {
    "slideshow": {
     "slide_type": "slide"
    }
   },
   "source": [
    "<p><b><i>Item 19: Provide Optional Behavior with Keyword Arguements</i><b></p>"
   ]
  },
  {
   "cell_type": "code",
   "execution_count": 18,
   "metadata": {
    "collapsed": true,
    "slideshow": {
     "slide_type": "subslide"
    }
   },
   "outputs": [],
   "source": [
    "weight_diff = 0.5\n",
    "time_diff = 3"
   ]
  },
  {
   "cell_type": "code",
   "execution_count": 19,
   "metadata": {
    "collapsed": true,
    "slideshow": {
     "slide_type": "-"
    }
   },
   "outputs": [],
   "source": [
    "def flow_rate(weight_diff,time_diff,\n",
    "              period=3600,units_per_kg=2.2):\n",
    "    \"\"\"Compute rate of fluid flow\"\"\"\n",
    "    return ((weight_diff * units_per_kg) / time_diff) * period"
   ]
  },
  {
   "cell_type": "code",
   "execution_count": 20,
   "metadata": {
    "collapsed": false,
    "slideshow": {
     "slide_type": "-"
    }
   },
   "outputs": [],
   "source": [
    "flow = flow_rate(weight_diff,time_diff)"
   ]
  },
  {
   "cell_type": "code",
   "execution_count": 21,
   "metadata": {
    "collapsed": false,
    "slideshow": {
     "slide_type": "-"
    }
   },
   "outputs": [
    {
     "name": "stdout",
     "output_type": "stream",
     "text": [
      "1320.000 kg per second\n"
     ]
    }
   ],
   "source": [
    "print ('%.3f kg per second' % flow)"
   ]
  },
  {
   "cell_type": "code",
   "execution_count": 22,
   "metadata": {
    "collapsed": true,
    "slideshow": {
     "slide_type": "-"
    }
   },
   "outputs": [],
   "source": [
    "flow_2 = flow_rate(weight_diff,time_diff,period=3000,units_per_kg=2.2)"
   ]
  },
  {
   "cell_type": "code",
   "execution_count": 23,
   "metadata": {
    "collapsed": false,
    "slideshow": {
     "slide_type": "-"
    }
   },
   "outputs": [
    {
     "name": "stdout",
     "output_type": "stream",
     "text": [
      "1100.000 kg per second\n"
     ]
    }
   ],
   "source": [
    "print ('%.3f kg per second' % flow_2)"
   ]
  },
  {
   "cell_type": "markdown",
   "metadata": {
    "slideshow": {
     "slide_type": "slide"
    }
   },
   "source": [
    "<p><b><i>Item 20: Use None and Docstrings to Specify Dynamic Default Arguements</i><b></p>"
   ]
  },
  {
   "cell_type": "code",
   "execution_count": 24,
   "metadata": {
    "collapsed": true,
    "slideshow": {
     "slide_type": "subslide"
    }
   },
   "outputs": [],
   "source": [
    "from json import loads"
   ]
  },
  {
   "cell_type": "code",
   "execution_count": 25,
   "metadata": {
    "collapsed": true,
    "slideshow": {
     "slide_type": "-"
    }
   },
   "outputs": [],
   "source": [
    "def decode(data, default=None):\n",
    "    \"\"\"Load JSON data from string\"\"\"\n",
    "    if default is None:\n",
    "        default = {}\n",
    "    try:\n",
    "        return loads(data)\n",
    "    except ValueError:\n",
    "        return default"
   ]
  },
  {
   "cell_type": "code",
   "execution_count": 26,
   "metadata": {
    "collapsed": true,
    "slideshow": {
     "slide_type": "-"
    }
   },
   "outputs": [],
   "source": [
    "foo = decode('bad data')\n",
    "bar = decode('more bad data')"
   ]
  },
  {
   "cell_type": "code",
   "execution_count": 27,
   "metadata": {
    "collapsed": false,
    "slideshow": {
     "slide_type": "-"
    }
   },
   "outputs": [
    {
     "name": "stdout",
     "output_type": "stream",
     "text": [
      "{}\n",
      "{}\n"
     ]
    }
   ],
   "source": [
    "print (foo)\n",
    "print (bar)"
   ]
  },
  {
   "cell_type": "code",
   "execution_count": 28,
   "metadata": {
    "collapsed": true,
    "slideshow": {
     "slide_type": "-"
    }
   },
   "outputs": [],
   "source": [
    "foo['stuff'] = 5\n",
    "bar['meep'] = 1"
   ]
  },
  {
   "cell_type": "code",
   "execution_count": 29,
   "metadata": {
    "collapsed": false,
    "slideshow": {
     "slide_type": "-"
    }
   },
   "outputs": [
    {
     "name": "stdout",
     "output_type": "stream",
     "text": [
      "Foo: {'stuff': 5}\n",
      "Bar: {'meep': 1}\n"
     ]
    }
   ],
   "source": [
    "print ('Foo:', foo)\n",
    "print ('Bar:', bar)"
   ]
  },
  {
   "cell_type": "markdown",
   "metadata": {
    "slideshow": {
     "slide_type": "slide"
    }
   },
   "source": [
    "<p><b><i>Item 21: Enforce Clarity with Keyword-Only Arguements</i><b></p>"
   ]
  },
  {
   "cell_type": "code",
   "execution_count": 30,
   "metadata": {
    "collapsed": true,
    "slideshow": {
     "slide_type": "subslide"
    }
   },
   "outputs": [],
   "source": [
    "number, divisor = 1, 10**500"
   ]
  },
  {
   "cell_type": "code",
   "execution_count": 31,
   "metadata": {
    "collapsed": true,
    "slideshow": {
     "slide_type": "-"
    }
   },
   "outputs": [],
   "source": [
    "def safe_division(number, divisor, ignore_overflow,\n",
    "                  ignore_zero_division):\n",
    "    \"\"\"Safe division\"\"\"\n",
    "    try:\n",
    "        return number / divisor\n",
    "    except OverflowError:\n",
    "        if ignore_overflow:\n",
    "            return 0\n",
    "        else:\n",
    "            raise\n",
    "    except ZeroDivisionError:\n",
    "        if ignore_zero_division:\n",
    "            return float('inf')\n",
    "        else:\n",
    "            raise"
   ]
  },
  {
   "cell_type": "code",
   "execution_count": 32,
   "metadata": {
    "collapsed": true,
    "slideshow": {
     "slide_type": "-"
    }
   },
   "outputs": [],
   "source": [
    "result = safe_division(number, divisor, True, False)"
   ]
  },
  {
   "cell_type": "code",
   "execution_count": 33,
   "metadata": {
    "collapsed": false,
    "slideshow": {
     "slide_type": "-"
    }
   },
   "outputs": [
    {
     "name": "stdout",
     "output_type": "stream",
     "text": [
      "0.0\n"
     ]
    }
   ],
   "source": [
    "print (result)"
   ]
  },
  {
   "cell_type": "code",
   "execution_count": 34,
   "metadata": {
    "collapsed": true,
    "slideshow": {
     "slide_type": "-"
    }
   },
   "outputs": [],
   "source": [
    "result = safe_division(number, 0, False, ignore_zero_division = True)"
   ]
  },
  {
   "cell_type": "code",
   "execution_count": 35,
   "metadata": {
    "collapsed": false,
    "slideshow": {
     "slide_type": "-"
    }
   },
   "outputs": [
    {
     "name": "stdout",
     "output_type": "stream",
     "text": [
      "inf\n"
     ]
    }
   ],
   "source": [
    "print (result)"
   ]
  },
  {
   "cell_type": "markdown",
   "metadata": {
    "slideshow": {
     "slide_type": "slide"
    }
   },
   "source": [
    "<h2 style=\"text-align: left;\" markdown=\"1\">Classes & Inheritance</h2>\n",
    "<p>Python supports a full range of features such as inheritance, polymorphism, and encapsulation. Python's classes and inheritance make it easy to express programs' intended behaviors with objects. In the following section, we'll demonstrate a few key considerations specifically as it relates to Python classes.</p>"
   ]
  },
  {
   "cell_type": "markdown",
   "metadata": {
    "slideshow": {
     "slide_type": "slide"
    }
   },
   "source": [
    "<p><b><i>Item 22: Prefer Helper Classes Over Bookkeeping with Dictionaries and Tuples</i><b></p>"
   ]
  },
  {
   "cell_type": "markdown",
   "metadata": {
    "slideshow": {
     "slide_type": "subslide"
    }
   },
   "source": [
    "<p>Following gets the job done, but is not sufficient for scenarios with increased complexity:</p>"
   ]
  },
  {
   "cell_type": "code",
   "execution_count": 36,
   "metadata": {
    "collapsed": true,
    "slideshow": {
     "slide_type": "-"
    }
   },
   "outputs": [],
   "source": [
    "class SimpleGradebook(object):\n",
    "    \"\"\"Simple gradebook for unkown participants\"\"\"\n",
    "    def __init__(self):\n",
    "        \"\"\"Instantiate\"\"\"\n",
    "        self._grades = {}\n",
    "        \n",
    "    def add_student(self, name):\n",
    "        \"\"\"Add a student to dictionary\"\"\"\n",
    "        self._grades[name] = []\n",
    "        \n",
    "    def report_grade(self, name, score):\n",
    "        \"\"\"Append grade\"\"\"\n",
    "        self._grades[name].append(score)\n",
    "    \n",
    "    def average_grade(self, name):\n",
    "        \"\"\"Return average grade\"\"\"\n",
    "        grades = self._grades[name]\n",
    "        return sum(grades) / len(grades)"
   ]
  },
  {
   "cell_type": "code",
   "execution_count": 38,
   "metadata": {
    "collapsed": true,
    "slideshow": {
     "slide_type": "-"
    }
   },
   "outputs": [],
   "source": [
    "book = SimpleGradebook()"
   ]
  },
  {
   "cell_type": "code",
   "execution_count": 39,
   "metadata": {
    "collapsed": true,
    "slideshow": {
     "slide_type": "-"
    }
   },
   "outputs": [],
   "source": [
    "book.add_student(\"Isaac Newton\")"
   ]
  },
  {
   "cell_type": "code",
   "execution_count": 40,
   "metadata": {
    "collapsed": true,
    "slideshow": {
     "slide_type": "-"
    }
   },
   "outputs": [],
   "source": [
    "book.report_grade(\"Isaac Newton\",90)"
   ]
  },
  {
   "cell_type": "code",
   "execution_count": 41,
   "metadata": {
    "collapsed": false,
    "slideshow": {
     "slide_type": "-"
    }
   },
   "outputs": [
    {
     "name": "stdout",
     "output_type": "stream",
     "text": [
      "90.0\n"
     ]
    }
   ],
   "source": [
    "print (book.average_grade(\"Isaac Newton\"))"
   ]
  },
  {
   "cell_type": "markdown",
   "metadata": {
    "slideshow": {
     "slide_type": "subslide"
    }
   },
   "source": [
    "<p>An incrementally more effective solution via helper classes:</p>"
   ]
  },
  {
   "cell_type": "code",
   "execution_count": 42,
   "metadata": {
    "collapsed": true,
    "slideshow": {
     "slide_type": "-"
    }
   },
   "outputs": [],
   "source": [
    "from collections import namedtuple"
   ]
  },
  {
   "cell_type": "code",
   "execution_count": 43,
   "metadata": {
    "collapsed": true,
    "slideshow": {
     "slide_type": "-"
    }
   },
   "outputs": [],
   "source": [
    "Grade = namedtuple('Grade',('score','weight'))"
   ]
  },
  {
   "cell_type": "code",
   "execution_count": 50,
   "metadata": {
    "collapsed": true,
    "slideshow": {
     "slide_type": "-"
    }
   },
   "outputs": [],
   "source": [
    "class Subject(object):\n",
    "    \"\"\"Class representing subject grades\"\"\"\n",
    "    def __init__(self):\n",
    "        \"\"\"Instantiate\"\"\"\n",
    "        self._grades = []\n",
    "        \n",
    "    def report_grade(self, score, weight):\n",
    "        \"\"\"Report new grades\"\"\"\n",
    "        self._grades.append(Grade(score, weight))\n",
    "        \n",
    "    def average_grade(self):\n",
    "        \"\"\"Report average grade\"\"\"\n",
    "        total, total_weight = 0, 0\n",
    "        for grade in self._grades:\n",
    "            total += grade.score * grade.weight\n",
    "            total_weight += grade.weight\n",
    "        return total / total_weight"
   ]
  },
  {
   "cell_type": "code",
   "execution_count": 49,
   "metadata": {
    "collapsed": true,
    "slideshow": {
     "slide_type": "-"
    }
   },
   "outputs": [],
   "source": [
    "class Student(object):\n",
    "    \"\"\"Class representing students\"\"\"\n",
    "    def __init__(self):\n",
    "        \"\"\"Instantiate\"\"\"\n",
    "        self._subjects = {}\n",
    "        \n",
    "    def subject(self, name):\n",
    "        \"\"\"Subject\"\"\"\n",
    "        if name not in self._subjects:\n",
    "            self._subjects[name] = Subject()\n",
    "        return self._subjects[name]\n",
    "        \n",
    "    def average_grade(self):\n",
    "        \"\"\"Report average grade\"\"\"\n",
    "        total, count = 0, 0\n",
    "        for subject in self._subjects.values():\n",
    "            total += subject.average_grade()\n",
    "            count += 1\n",
    "        return total / count "
   ]
  },
  {
   "cell_type": "code",
   "execution_count": 51,
   "metadata": {
    "collapsed": false,
    "slideshow": {
     "slide_type": "-"
    }
   },
   "outputs": [],
   "source": [
    "class Gradebook(object):\n",
    "    \"\"\"Class representing gradebook\"\"\"\n",
    "    def __init__(self):\n",
    "        \"\"\"Instantiate\"\"\"\n",
    "        self._students = {}\n",
    "        \n",
    "    def student(self, name):\n",
    "        \"\"\"Student\"\"\"\n",
    "        if name not in self._students:\n",
    "            self._students[name] = Student()\n",
    "        return self._students[name]"
   ]
  },
  {
   "cell_type": "code",
   "execution_count": 68,
   "metadata": {
    "collapsed": true,
    "slideshow": {
     "slide_type": "-"
    }
   },
   "outputs": [],
   "source": [
    "book = Gradebook()"
   ]
  },
  {
   "cell_type": "code",
   "execution_count": 69,
   "metadata": {
    "collapsed": true,
    "slideshow": {
     "slide_type": "-"
    }
   },
   "outputs": [],
   "source": [
    "albert = book.student(\"Albert Einstein\")"
   ]
  },
  {
   "cell_type": "code",
   "execution_count": 70,
   "metadata": {
    "collapsed": true,
    "slideshow": {
     "slide_type": "-"
    }
   },
   "outputs": [],
   "source": [
    "math = albert.subject(\"Math\")"
   ]
  },
  {
   "cell_type": "code",
   "execution_count": 71,
   "metadata": {
    "collapsed": true,
    "slideshow": {
     "slide_type": "-"
    }
   },
   "outputs": [],
   "source": [
    "math.report_grade(80,0.5)"
   ]
  },
  {
   "cell_type": "code",
   "execution_count": 72,
   "metadata": {
    "collapsed": false,
    "slideshow": {
     "slide_type": "-"
    }
   },
   "outputs": [
    {
     "name": "stdout",
     "output_type": "stream",
     "text": [
      "80.0\n"
     ]
    }
   ],
   "source": [
    "print (albert.average_grade())"
   ]
  },
  {
   "cell_type": "code",
   "execution_count": 73,
   "metadata": {
    "collapsed": true,
    "slideshow": {
     "slide_type": "-"
    }
   },
   "outputs": [],
   "source": [
    "math.report_grade(90,0.5)"
   ]
  },
  {
   "cell_type": "code",
   "execution_count": 74,
   "metadata": {
    "collapsed": false,
    "slideshow": {
     "slide_type": "-"
    }
   },
   "outputs": [
    {
     "name": "stdout",
     "output_type": "stream",
     "text": [
      "85.0\n"
     ]
    }
   ],
   "source": [
    "print (albert.average_grade())"
   ]
  },
  {
   "cell_type": "code",
   "execution_count": 75,
   "metadata": {
    "collapsed": false,
    "slideshow": {
     "slide_type": "-"
    }
   },
   "outputs": [
    {
     "name": "stdout",
     "output_type": "stream",
     "text": [
      "[Grade(score=80, weight=0.5), Grade(score=90, weight=0.5)]\n"
     ]
    }
   ],
   "source": [
    "print (math._grades)"
   ]
  },
  {
   "cell_type": "code",
   "execution_count": 76,
   "metadata": {
    "collapsed": true,
    "slideshow": {
     "slide_type": "-"
    }
   },
   "outputs": [],
   "source": [
    "gym = albert.subject('Gym')"
   ]
  },
  {
   "cell_type": "code",
   "execution_count": 85,
   "metadata": {
    "collapsed": true,
    "slideshow": {
     "slide_type": "-"
    }
   },
   "outputs": [],
   "source": [
    "gym.report_grade(100, 0.40)"
   ]
  },
  {
   "cell_type": "code",
   "execution_count": 86,
   "metadata": {
    "collapsed": true,
    "slideshow": {
     "slide_type": "-"
    }
   },
   "outputs": [],
   "source": [
    "gym.report_grade(85, 0.60)"
   ]
  },
  {
   "cell_type": "code",
   "execution_count": 77,
   "metadata": {
    "collapsed": false,
    "slideshow": {
     "slide_type": "-"
    }
   },
   "outputs": [
    {
     "name": "stdout",
     "output_type": "stream",
     "text": [
      "88.0\n"
     ]
    }
   ],
   "source": [
    "print (albert.average_grade())"
   ]
  },
  {
   "cell_type": "code",
   "execution_count": 78,
   "metadata": {
    "collapsed": false,
    "slideshow": {
     "slide_type": "-"
    }
   },
   "outputs": [
    {
     "name": "stdout",
     "output_type": "stream",
     "text": [
      "[Grade(score=100, weight=0.4), Grade(score=85, weight=0.6)]\n"
     ]
    }
   ],
   "source": [
    "print (gym._grades)"
   ]
  },
  {
   "cell_type": "markdown",
   "metadata": {
    "slideshow": {
     "slide_type": "slide"
    }
   },
   "source": [
    "<p><b><i>Item 24: Use @classmethod Polymorphism to Construct Objects Generically</i><b></p>"
   ]
  },
  {
   "cell_type": "markdown",
   "metadata": {
    "slideshow": {
     "slide_type": "subslide"
    }
   },
   "source": [
    "<p>Gets the job done, but needs a more generic way to construct objects:</p>"
   ]
  },
  {
   "cell_type": "code",
   "execution_count": 103,
   "metadata": {
    "collapsed": true,
    "slideshow": {
     "slide_type": "-"
    }
   },
   "outputs": [],
   "source": [
    "import os\n",
    "from threading import Thread\n",
    "from tempfile import TemporaryDirectory\n",
    "import random"
   ]
  },
  {
   "cell_type": "code",
   "execution_count": 87,
   "metadata": {
    "collapsed": true,
    "slideshow": {
     "slide_type": "-"
    }
   },
   "outputs": [],
   "source": [
    "class InputData(object):\n",
    "    \"\"\"Common class to represent input data\n",
    "       that must be defined by subclass\"\"\"\n",
    "    def read(self):\n",
    "        raise NotImplementedError"
   ]
  },
  {
   "cell_type": "code",
   "execution_count": 88,
   "metadata": {
    "collapsed": true,
    "slideshow": {
     "slide_type": "-"
    }
   },
   "outputs": [],
   "source": [
    "class PathInputData(InputData):\n",
    "    \"\"\"Concrete subclass reads data  \n",
    "       from file on disk\"\"\"\n",
    "    def __init__(self, path):\n",
    "        \"\"\"Instantiate\"\"\"\n",
    "        super().__init__()\n",
    "        self.path = path\n",
    "\n",
    "    def read(self):\n",
    "        return open(self.path).read()"
   ]
  },
  {
   "cell_type": "code",
   "execution_count": 89,
   "metadata": {
    "collapsed": true,
    "slideshow": {
     "slide_type": "-"
    }
   },
   "outputs": [],
   "source": [
    "class Worker(object):\n",
    "    \"\"\"Abstract interface for MapReduce worker\"\"\"\n",
    "    def __init__(self, input_data):\n",
    "        \"\"\"Instantiate\"\"\"\n",
    "        self.input_data = input_data\n",
    "        self.result = None\n",
    "\n",
    "    def map(self):\n",
    "        raise NotImplementedError\n",
    "\n",
    "    def reduce(self, other):\n",
    "        raise NotImplementedError"
   ]
  },
  {
   "cell_type": "code",
   "execution_count": 90,
   "metadata": {
    "collapsed": true,
    "slideshow": {
     "slide_type": "-"
    }
   },
   "outputs": [],
   "source": [
    "class LineCountWorker(Worker):\n",
    "    \"\"\"Concrete subclass of worker   \n",
    "       as simple newline coutner\"\"\"\n",
    "    def map(self):\n",
    "        data = self.input_data.read()\n",
    "        self.result = data.count('\\n')\n",
    "\n",
    "    def reduce(self, other):\n",
    "        self.result += other.result"
   ]
  },
  {
   "cell_type": "code",
   "execution_count": 91,
   "metadata": {
    "collapsed": true,
    "slideshow": {
     "slide_type": "-"
    }
   },
   "outputs": [],
   "source": [
    "def generate_inputs(data_dir):\n",
    "    \"\"\"List contents of directory and \n",
    "       construct PathInputData instance\n",
    "       for each file it contains\"\"\"\n",
    "    for name in os.listdir(data_dir):\n",
    "        yield PathInputData(os.path.join(data_dir, name))"
   ]
  },
  {
   "cell_type": "code",
   "execution_count": 92,
   "metadata": {
    "collapsed": true,
    "slideshow": {
     "slide_type": "-"
    }
   },
   "outputs": [],
   "source": [
    "def create_workers(input_list):\n",
    "    \"\"\"LineCountWokers for InputData in \n",
    "       instances yielded from generate_inputs\"\"\"\n",
    "    workers = []\n",
    "    for input_data in input_list:\n",
    "        workers.append(LineCountWorker(input_data))\n",
    "    return workers"
   ]
  },
  {
   "cell_type": "code",
   "execution_count": 93,
   "metadata": {
    "collapsed": true,
    "slideshow": {
     "slide_type": "-"
    }
   },
   "outputs": [],
   "source": [
    "def execute(workers):\n",
    "    \"\"\"Fan out map to multi threads\"\"\"\n",
    "    threads = [Thread(target=w.map) for w in workers]\n",
    "    for thread in threads: thread.start()\n",
    "    for thread in threads: thread.join()\n",
    "    \"\"\"Combine results into final output\"\"\"\n",
    "    first, rest = workers[0], workers[1:]\n",
    "    for worker in rest:\n",
    "        first.reduce(worker)\n",
    "    return first.result"
   ]
  },
  {
   "cell_type": "code",
   "execution_count": 94,
   "metadata": {
    "collapsed": true,
    "slideshow": {
     "slide_type": "-"
    }
   },
   "outputs": [],
   "source": [
    "def mapreduce(data_dir):\n",
    "    \"\"\"Connect pieces\"\"\"\n",
    "    inputs = generate_inputs(data_dir)\n",
    "    workers = create_workers(inputs)\n",
    "    return execute(workers)"
   ]
  },
  {
   "cell_type": "code",
   "execution_count": 95,
   "metadata": {
    "collapsed": false,
    "slideshow": {
     "slide_type": "-"
    }
   },
   "outputs": [
    {
     "name": "stdout",
     "output_type": "stream",
     "text": [
      "There are 5007 lines\n"
     ]
    }
   ],
   "source": [
    "def write_test_files(tmpdir):\n",
    "    \"\"\"Check performance\"\"\"\n",
    "    for i in range(100):\n",
    "        with open(os.path.join(tmpdir, str(i)), 'w') as f:\n",
    "            f.write('\\n' * random.randint(0, 100))\n",
    "\n",
    "with TemporaryDirectory() as tmpdir:\n",
    "    write_test_files(tmpdir)\n",
    "    result = mapreduce(tmpdir)\n",
    "\n",
    "print('There are', result, 'lines')"
   ]
  },
  {
   "cell_type": "markdown",
   "metadata": {
    "slideshow": {
     "slide_type": "subslide"
    }
   },
   "source": [
    "<p>A more effective solution via @classmethod:</p>"
   ]
  },
  {
   "cell_type": "code",
   "execution_count": 104,
   "metadata": {
    "collapsed": true,
    "slideshow": {
     "slide_type": "-"
    }
   },
   "outputs": [],
   "source": [
    "class GenericInputData(object):\n",
    "    def read(self):\n",
    "        raise NotImplementedError\n",
    "\n",
    "    @classmethod\n",
    "    def generate_inputs(cls, config):\n",
    "        raise NotImplementedError"
   ]
  },
  {
   "cell_type": "code",
   "execution_count": 105,
   "metadata": {
    "collapsed": true,
    "slideshow": {
     "slide_type": "-"
    }
   },
   "outputs": [],
   "source": [
    "class PathInputData(GenericInputData):\n",
    "    def __init__(self, path):\n",
    "        super().__init__()\n",
    "        self.path = path\n",
    "\n",
    "    def read(self):\n",
    "        return open(self.path).read()\n",
    "\n",
    "    @classmethod\n",
    "    def generate_inputs(cls, config):\n",
    "        data_dir = config['data_dir']\n",
    "        for name in os.listdir(data_dir):\n",
    "            yield cls(os.path.join(data_dir, name))"
   ]
  },
  {
   "cell_type": "code",
   "execution_count": 107,
   "metadata": {
    "collapsed": true
   },
   "outputs": [],
   "source": [
    "class GenericWorker(object):\n",
    "    def __init__(self, input_data):\n",
    "        self.input_data = input_data\n",
    "        self.result = None\n",
    "\n",
    "    def map(self):\n",
    "        raise NotImplementedError\n",
    "\n",
    "    def reduce(self, other):\n",
    "        raise NotImplementedError\n",
    "\n",
    "    @classmethod\n",
    "    def create_workers(cls, input_class, config):\n",
    "        workers = []\n",
    "        for input_data in input_class.generate_inputs(config):\n",
    "            workers.append(cls(input_data))\n",
    "        return workers"
   ]
  },
  {
   "cell_type": "code",
   "execution_count": 108,
   "metadata": {
    "collapsed": false
   },
   "outputs": [],
   "source": [
    "class LineCountWorker(GenericWorker):\n",
    "    def map(self):\n",
    "        data = self.input_data.read()\n",
    "        self.result = data.count('\\n')\n",
    "\n",
    "    def reduce(self, other):\n",
    "        self.result += other.result"
   ]
  },
  {
   "cell_type": "code",
   "execution_count": 109,
   "metadata": {
    "collapsed": true
   },
   "outputs": [],
   "source": [
    "def mapreduce(worker_class, input_class, config):\n",
    "    workers = worker_class.create_workers(input_class, config)\n",
    "    return execute(workers)"
   ]
  },
  {
   "cell_type": "code",
   "execution_count": 116,
   "metadata": {
    "collapsed": false
   },
   "outputs": [
    {
     "name": "stdout",
     "output_type": "stream",
     "text": [
      "There are 4817 lines\n"
     ]
    }
   ],
   "source": [
    "with TemporaryDirectory() as tmpdir:\n",
    "    write_test_files(tmpdir)\n",
    "    config = {'data_dir': tmpdir}\n",
    "    result = mapreduce(LineCountWorker, PathInputData, config)\n",
    "print('There are', result, 'lines')"
   ]
  },
  {
   "cell_type": "markdown",
   "metadata": {
    "slideshow": {
     "slide_type": "slide"
    }
   },
   "source": [
    "<p><b><i>Item 25: Initialize Parent Classes with Super</i><b></p>"
   ]
  },
  {
   "cell_type": "code",
   "execution_count": 119,
   "metadata": {
    "collapsed": true,
    "slideshow": {
     "slide_type": "subslide"
    }
   },
   "outputs": [],
   "source": [
    "class MyBaseClass(object):\n",
    "    \"\"\"Set value\"\"\"\n",
    "    def __init__(self, value):\n",
    "        self.value = value"
   ]
  },
  {
   "cell_type": "code",
   "execution_count": 120,
   "metadata": {
    "collapsed": false
   },
   "outputs": [],
   "source": [
    "class Explicit(MyBaseClass):\n",
    "    \"\"\"Refernce current class with __class__\"\"\"\n",
    "    def __init__(self, value):\n",
    "        super(__class__, self).__init__(value * 2)"
   ]
  },
  {
   "cell_type": "code",
   "execution_count": 121,
   "metadata": {
    "collapsed": true
   },
   "outputs": [],
   "source": [
    "class Implicit(MyBaseClass):\n",
    "    \"\"\"Implicitly called\"\"\"\n",
    "    def __init__(self, value):\n",
    "        super().__init__(value * 2)"
   ]
  },
  {
   "cell_type": "code",
   "execution_count": 122,
   "metadata": {
    "collapsed": true
   },
   "outputs": [],
   "source": [
    "assert Explicit(10).value == Implicit(10).value"
   ]
  },
  {
   "cell_type": "markdown",
   "metadata": {
    "slideshow": {
     "slide_type": "slide"
    }
   },
   "source": [
    "<h2 style=\"text-align: left;\" markdown=\"1\">Metaclasses & Attributes</h2>\n",
    "<p>Metaclasses intercept Python class states, and provide special behaivor each time a class is defined. In the following section, we'll demonstrate a few key considerations specifically as it relates to metaclasses and attributes.</p>"
   ]
  },
  {
   "cell_type": "markdown",
   "metadata": {
    "slideshow": {
     "slide_type": "slide"
    }
   },
   "source": [
    "<p><b><i>Item 29: Use Plain Attributes Instead of Get and Set Methods</i><b></p>"
   ]
  },
  {
   "cell_type": "code",
   "execution_count": 125,
   "metadata": {
    "collapsed": true,
    "slideshow": {
     "slide_type": "subslide"
    }
   },
   "outputs": [],
   "source": [
    "class Resistor(object):\n",
    "    def __init__(self, ohms):\n",
    "        self.ohms = ohms\n",
    "        self.voltage = 0\n",
    "        self.current = 0"
   ]
  },
  {
   "cell_type": "code",
   "execution_count": 126,
   "metadata": {
    "collapsed": true
   },
   "outputs": [],
   "source": [
    "r1 = Resistor(50e3)"
   ]
  },
  {
   "cell_type": "code",
   "execution_count": 127,
   "metadata": {
    "collapsed": false
   },
   "outputs": [
    {
     "name": "stdout",
     "output_type": "stream",
     "text": [
      "10000.0 ohms, 0 volts, 0 amps\n"
     ]
    }
   ],
   "source": [
    "r1.ohms = 10e3\n",
    "print('%r ohms, %r volts, %r amps' %\n",
    "      (r1.ohms, r1.voltage, r1.current))"
   ]
  },
  {
   "cell_type": "code",
   "execution_count": 128,
   "metadata": {
    "collapsed": false
   },
   "outputs": [
    {
     "name": "stdout",
     "output_type": "stream",
     "text": [
      "15000.0 ohms, 0 volts, 0 amps\n"
     ]
    }
   ],
   "source": [
    "r1.ohms += 5e3\n",
    "print('%r ohms, %r volts, %r amps' %\n",
    "      (r1.ohms, r1.voltage, r1.current))"
   ]
  },
  {
   "cell_type": "code",
   "execution_count": 129,
   "metadata": {
    "collapsed": true
   },
   "outputs": [],
   "source": [
    "class VoltageResistance(Resistor):\n",
    "    def __init__(self, ohms):\n",
    "        super().__init__(ohms)\n",
    "        self._voltage = 0\n",
    "\n",
    "    @property\n",
    "    def voltage(self):\n",
    "        return self._voltage\n",
    "\n",
    "    @voltage.setter\n",
    "    def voltage(self, voltage):\n",
    "        self._voltage = voltage\n",
    "        self.current = self._voltage / self.ohms"
   ]
  },
  {
   "cell_type": "code",
   "execution_count": 130,
   "metadata": {
    "collapsed": false
   },
   "outputs": [
    {
     "name": "stdout",
     "output_type": "stream",
     "text": [
      "Before:     0 amps\n",
      "After:   0.01 amps\n"
     ]
    }
   ],
   "source": [
    "r2 = VoltageResistance(1e3)\n",
    "print('Before: %5r amps' % r2.current)\n",
    "r2.voltage = 10\n",
    "print('After:  %5r amps' % r2.current)"
   ]
  },
  {
   "cell_type": "markdown",
   "metadata": {
    "slideshow": {
     "slide_type": "slide"
    }
   },
   "source": [
    "<h2 style=\"text-align: left;\" markdown=\"1\">Concurrency & Parellelism</h2>\n",
    "<p>Concurrency is when a computer does many different things seeemingly at the same time. Parellelism is actually doing many different things at the same tinme. In the following section, we'll demonstrate a few key considerations specifically as it relates to concurrency and parellelism.</p>"
   ]
  },
  {
   "cell_type": "markdown",
   "metadata": {
    "slideshow": {
     "slide_type": "slide"
    }
   },
   "source": [
    "<p><b><i>Item 36: Use subprocess to Manage Child Processes</i><b></p>"
   ]
  },
  {
   "cell_type": "code",
   "execution_count": 197,
   "metadata": {
    "collapsed": true,
    "slideshow": {
     "slide_type": "subslide"
    }
   },
   "outputs": [],
   "source": [
    "import os\n",
    "import subprocess\n",
    "from time import sleep, time\n",
    "import select, socket\n",
    "from concurrent.futures import ThreadPoolExecutor\n",
    "from concurrent.futures import ProcessPoolExecutor"
   ]
  },
  {
   "cell_type": "code",
   "execution_count": 133,
   "metadata": {
    "collapsed": false
   },
   "outputs": [
    {
     "name": "stdout",
     "output_type": "stream",
     "text": [
      "Hello from the child!\n",
      "\n"
     ]
    }
   ],
   "source": [
    "\"\"\"Child runs independently of parent.\n",
    "   communicate() method reads child's \n",
    "   output and wits for termination\"\"\"\n",
    "proc = subprocess.Popen(\n",
    "    ['echo', 'Hello from the child!'],\n",
    "    stdout=subprocess.PIPE)\n",
    "out, err = proc.communicate()\n",
    "print(out.decode('utf-8'))"
   ]
  },
  {
   "cell_type": "code",
   "execution_count": 134,
   "metadata": {
    "collapsed": false
   },
   "outputs": [
    {
     "name": "stdout",
     "output_type": "stream",
     "text": [
      "Working...\n",
      "Working...\n",
      "Exit status 0\n"
     ]
    }
   ],
   "source": [
    "\"\"\"Status of child process can be \n",
    "   polled periodically using poll() method\"\"\"\n",
    "proc = subprocess.Popen(['sleep', '0.3'])\n",
    "while proc.poll() is None:\n",
    "    print('Working...')\n",
    "    # Some time consuming work here\n",
    "    sleep(0.2)\n",
    "\n",
    "print('Exit status', proc.poll())"
   ]
  },
  {
   "cell_type": "code",
   "execution_count": 135,
   "metadata": {
    "collapsed": true
   },
   "outputs": [],
   "source": [
    "def run_sleep(period):\n",
    "    \"\"\"You can decouple child process \n",
    "       from the parent so that parent is \n",
    "       free to run many childs in parallel\"\"\"\n",
    "    proc = subprocess.Popen(['sleep', str(period)])\n",
    "    return proc"
   ]
  },
  {
   "cell_type": "code",
   "execution_count": 136,
   "metadata": {
    "collapsed": false
   },
   "outputs": [
    {
     "name": "stdout",
     "output_type": "stream",
     "text": [
      "Finished in 0.149 seconds\n"
     ]
    }
   ],
   "source": [
    "start = time()\n",
    "procs = []\n",
    "for _ in range(10):\n",
    "    proc = run_sleep(0.1)\n",
    "    procs.append(proc)\n",
    "\n",
    "for proc in procs:\n",
    "    proc.communicate()\n",
    "end = time()\n",
    "print('Finished in %.3f seconds' % (end - start))"
   ]
  },
  {
   "cell_type": "code",
   "execution_count": 138,
   "metadata": {
    "collapsed": true
   },
   "outputs": [],
   "source": [
    "def run_openssl(data):\n",
    "    \"\"\"You can pipe data from Python\n",
    "       into a subprocess and retrieve\n",
    "       its output\"\"\"\n",
    "    env = os.environ.copy()\n",
    "    env['password'] = b'\\xe24U\\n\\xd0Ql3S\\x11'\n",
    "    proc = subprocess.Popen(\n",
    "        ['openssl', 'enc', '-des3', '-pass', 'env:password'],\n",
    "        env=env,\n",
    "        stdin=subprocess.PIPE,\n",
    "        stdout=subprocess.PIPE)\n",
    "    proc.stdin.write(data)\n",
    "    proc.stdin.flush()  # Ensure the child gets input\n",
    "    return proc"
   ]
  },
  {
   "cell_type": "code",
   "execution_count": 143,
   "metadata": {
    "collapsed": false
   },
   "outputs": [],
   "source": [
    "\"\"\"Pipe random bytes into encryption function\"\"\"\n",
    "procs = []\n",
    "for _ in range(3):\n",
    "    data = os.urandom(10)\n",
    "    proc = run_openssl(data)\n",
    "    procs.append(proc)"
   ]
  },
  {
   "cell_type": "code",
   "execution_count": 144,
   "metadata": {
    "collapsed": false
   },
   "outputs": [
    {
     "name": "stdout",
     "output_type": "stream",
     "text": [
      "b'8r4\"\\x9d\\xe9\\x19\\xcc^\\xef'\n",
      "b'BJ;\\xfe\\x16\\xc0\\x93$\\x12\\xd8'\n",
      "b'\\x0f\\x8e\\x8d\\x00\\xe0\\xa4\\xe8\\x7f\\x1d\\x8c'\n"
     ]
    }
   ],
   "source": [
    "for proc in procs:\n",
    "    out, err = proc.communicate()\n",
    "    print(out[-10:])"
   ]
  },
  {
   "cell_type": "markdown",
   "metadata": {
    "slideshow": {
     "slide_type": "slide"
    }
   },
   "source": [
    "<p><b><i>Item 37: Use Threads for Blocking I/O, Avoid for Parallelism</i><b></p>"
   ]
  },
  {
   "cell_type": "code",
   "execution_count": 145,
   "metadata": {
    "collapsed": true,
    "slideshow": {
     "slide_type": "subslide"
    }
   },
   "outputs": [],
   "source": [
    "def factorize(number):\n",
    "    \"\"\"Simple number factorization algorithm\"\"\"\n",
    "    for i in range(1, number + 1):\n",
    "        if number % i == 0:\n",
    "            yield i"
   ]
  },
  {
   "cell_type": "code",
   "execution_count": 146,
   "metadata": {
    "collapsed": false
   },
   "outputs": [
    {
     "name": "stdout",
     "output_type": "stream",
     "text": [
      "Took 0.935 seconds\n"
     ]
    }
   ],
   "source": [
    "numbers = [2139079, 1214759, 1516637, 1852285]\n",
    "start = time()\n",
    "for number in numbers:\n",
    "    list(factorize(number))\n",
    "end = time()\n",
    "print('Took %.3f seconds' % (end - start))"
   ]
  },
  {
   "cell_type": "code",
   "execution_count": 147,
   "metadata": {
    "collapsed": true,
    "slideshow": {
     "slide_type": "-"
    }
   },
   "outputs": [],
   "source": [
    "class FactorizeThread(Thread):\n",
    "    \"\"\"Compare to threaded implementation\"\"\"\n",
    "    def __init__(self, number):\n",
    "        super().__init__()\n",
    "        self.number = number\n",
    "\n",
    "    def run(self):\n",
    "        self.factors = list(factorize(self.number))"
   ]
  },
  {
   "cell_type": "code",
   "execution_count": 149,
   "metadata": {
    "collapsed": false
   },
   "outputs": [
    {
     "name": "stdout",
     "output_type": "stream",
     "text": [
      "Took 1.422 seconds\n"
     ]
    }
   ],
   "source": [
    "start = time()\n",
    "threads = []\n",
    "for number in numbers:\n",
    "    thread = FactorizeThread(number)\n",
    "    thread.start()\n",
    "    threads.append(thread)\n",
    "\n",
    "for thread in threads:\n",
    "    thread.join()\n",
    "end = time()\n",
    "print('Took %.3f seconds' % (end - start))"
   ]
  },
  {
   "cell_type": "markdown",
   "metadata": {
    "slideshow": {
     "slide_type": "slide"
    }
   },
   "source": [
    "<p><b><i>Item 41: Consider concurrent.futures for True Parallelism</i><b></p>"
   ]
  },
  {
   "cell_type": "code",
   "execution_count": 191,
   "metadata": {
    "collapsed": true,
    "slideshow": {
     "slide_type": "subslide"
    }
   },
   "outputs": [],
   "source": [
    "def gcd(pair):\n",
    "    \"\"\"Find greatest common divisor as \n",
    "       proxy for computationally intensive task\"\"\"\n",
    "    a, b = pair\n",
    "    low = min(a, b)\n",
    "    for i in range(low, 0, -1):\n",
    "        if a % i == 0 and b % i == 0:\n",
    "            return i"
   ]
  },
  {
   "cell_type": "code",
   "execution_count": 193,
   "metadata": {
    "collapsed": false
   },
   "outputs": [
    {
     "name": "stdout",
     "output_type": "stream",
     "text": [
      "Took 1.123 seconds\n"
     ]
    }
   ],
   "source": [
    "\"\"\"Find gcd via normal routine\"\"\"\n",
    "numbers = [(1963309, 2265973), (2030677, 3814172),\n",
    "           (1551645, 2229620), (2039045, 2020802)]\n",
    "start = time()\n",
    "results = list(map(gcd, numbers))\n",
    "end = time()\n",
    "print('Took %.3f seconds' % (end - start))"
   ]
  },
  {
   "cell_type": "code",
   "execution_count": 196,
   "metadata": {
    "collapsed": false
   },
   "outputs": [
    {
     "name": "stdout",
     "output_type": "stream",
     "text": [
      "Took 1.890 seconds\n"
     ]
    }
   ],
   "source": [
    "\"\"\"As in prior example, this is even slower\n",
    "   due to overhead of starting / communicating \n",
    "   with pool threads\"\"\"\n",
    "start = time()\n",
    "pool = ThreadPoolExecutor(max_workers=4)\n",
    "results = list(pool.map(gcd, numbers))\n",
    "end = time()\n",
    "print('Took %.3f seconds' % (end - start))"
   ]
  },
  {
   "cell_type": "code",
   "execution_count": 205,
   "metadata": {
    "collapsed": false
   },
   "outputs": [
    {
     "name": "stdout",
     "output_type": "stream",
     "text": [
      "Took 0.539 seconds\n"
     ]
    }
   ],
   "source": [
    "\"\"\"Much faster\"\"\"\n",
    "start = time()\n",
    "pool = ProcessPoolExecutor(max_workers=2)  \n",
    "results = list(pool.map(gcd, numbers))\n",
    "end = time()\n",
    "print('Took %.3f seconds' % (end - start))"
   ]
  },
  {
   "cell_type": "markdown",
   "metadata": {
    "slideshow": {
     "slide_type": "slide"
    }
   },
   "source": [
    "<h2 style=\"text-align: left;\" markdown=\"1\">Built-in Modules</h2>\n",
    "<p>Python takes a \"batteries included\" approach to the standard library. It provides, via default installation, important modules for common uses of the language. In the following section, we'll demonstrate a few key considerations specifically as it relates to leveraging built-in modules.</p>"
   ]
  },
  {
   "cell_type": "markdown",
   "metadata": {
    "slideshow": {
     "slide_type": "slide"
    }
   },
   "source": [
    "<p><b><i>Item 42: Define Function Decorators with functools.wraps</i><b></p>"
   ]
  },
  {
   "cell_type": "code",
   "execution_count": 216,
   "metadata": {
    "collapsed": true,
    "slideshow": {
     "slide_type": "subslide"
    }
   },
   "outputs": [],
   "source": [
    "from functools import wraps"
   ]
  },
  {
   "cell_type": "code",
   "execution_count": 207,
   "metadata": {
    "collapsed": true
   },
   "outputs": [],
   "source": [
    "def trace(func):\n",
    "    \"\"\"Print arguements and return\n",
    "       value of function call\"\"\"\n",
    "    def wrapper(*args, **kwargs):\n",
    "        result = func(*args, **kwargs)\n",
    "        print('%s(%r, %r) -> %r' %\n",
    "              (func.__name__, args, kwargs, result))\n",
    "        return result\n",
    "    return wrapper"
   ]
  },
  {
   "cell_type": "code",
   "execution_count": 208,
   "metadata": {
    "collapsed": true
   },
   "outputs": [],
   "source": [
    "@trace\n",
    "def fibonacci(n):\n",
    "    \"\"\"Return the n-th Fibonacci number\"\"\"\n",
    "    if n in (0, 1):\n",
    "        return n\n",
    "    return (fibonacci(n - 2) + fibonacci(n - 1))"
   ]
  },
  {
   "cell_type": "code",
   "execution_count": 209,
   "metadata": {
    "collapsed": true
   },
   "outputs": [],
   "source": [
    "fibonacci = trace(fibonacci)"
   ]
  },
  {
   "cell_type": "code",
   "execution_count": 211,
   "metadata": {
    "collapsed": false
   },
   "outputs": [
    {
     "name": "stdout",
     "output_type": "stream",
     "text": [
      "<function trace.<locals>.wrapper at 0x7f698c2e19d8>\n"
     ]
    }
   ],
   "source": [
    "\"\"\"Returns wrapper defined above\"\"\"\n",
    "print (fibonacci)"
   ]
  },
  {
   "cell_type": "code",
   "execution_count": 213,
   "metadata": {
    "collapsed": false
   },
   "outputs": [
    {
     "name": "stdout",
     "output_type": "stream",
     "text": [
      "Help on function wrapper in module __main__:\n",
      "\n",
      "wrapper(*args, **kwargs)\n",
      "\n"
     ]
    }
   ],
   "source": [
    "help(fibonacci)"
   ]
  },
  {
   "cell_type": "code",
   "execution_count": 220,
   "metadata": {
    "collapsed": true
   },
   "outputs": [],
   "source": [
    "def trace(func):\n",
    "    \"\"\"Use wraps from functools\"\"\"\n",
    "    @wraps(func)\n",
    "    def wrapper(*args, **kwargs):\n",
    "        result = func(*args, **kwargs)\n",
    "        print('%s(%r, %r) -> %r' %\n",
    "              (func.__name__, args, kwargs, result))\n",
    "        return result\n",
    "    return wrapper"
   ]
  },
  {
   "cell_type": "code",
   "execution_count": 224,
   "metadata": {
    "collapsed": true
   },
   "outputs": [],
   "source": [
    "@trace\n",
    "def fibonacci(n):\n",
    "    \"\"\"Return the n-th Fibonacci number\"\"\"\n",
    "    if n in (0, 1):\n",
    "        return n\n",
    "    return (fibonacci(n - 2) + fibonacci(n - 1))"
   ]
  },
  {
   "cell_type": "code",
   "execution_count": 225,
   "metadata": {
    "collapsed": false
   },
   "outputs": [],
   "source": [
    "fibonacci = trace(fibonacci)"
   ]
  },
  {
   "cell_type": "code",
   "execution_count": 226,
   "metadata": {
    "collapsed": false
   },
   "outputs": [
    {
     "name": "stdout",
     "output_type": "stream",
     "text": [
      "<function fibonacci at 0x7f698c2d6c80>\n"
     ]
    }
   ],
   "source": [
    "print (fibonacci)"
   ]
  },
  {
   "cell_type": "code",
   "execution_count": 227,
   "metadata": {
    "collapsed": false
   },
   "outputs": [
    {
     "name": "stdout",
     "output_type": "stream",
     "text": [
      "Help on function fibonacci in module __main__:\n",
      "\n",
      "fibonacci(n)\n",
      "    Return the n-th Fibonacci number\n",
      "\n"
     ]
    }
   ],
   "source": [
    "help(fibonacci)"
   ]
  },
  {
   "cell_type": "markdown",
   "metadata": {
    "slideshow": {
     "slide_type": "slide"
    }
   },
   "source": [
    "<p><b><i>Item 45: Use datetime Instead of time for Local Clocks</i><b></p>"
   ]
  },
  {
   "cell_type": "code",
   "execution_count": 240,
   "metadata": {
    "collapsed": true,
    "slideshow": {
     "slide_type": "subslide"
    }
   },
   "outputs": [],
   "source": [
    "from time import localtime, strftime, mktime, strptime\n",
    "from datetime import datetime, timezone"
   ]
  },
  {
   "cell_type": "code",
   "execution_count": 229,
   "metadata": {
    "collapsed": false
   },
   "outputs": [
    {
     "name": "stdout",
     "output_type": "stream",
     "text": [
      "2014-08-10 13:18:30\n"
     ]
    }
   ],
   "source": [
    "\"\"\"Convert UNIX timestamp to \n",
    "   local based on host\"\"\"\n",
    "now = 1407694710\n",
    "local_tuple = localtime(now)\n",
    "time_format = '%Y-%m-%d %H:%M:%S'\n",
    "time_str = strftime(time_format, local_tuple)\n",
    "print(time_str)"
   ]
  },
  {
   "cell_type": "code",
   "execution_count": 230,
   "metadata": {
    "collapsed": false
   },
   "outputs": [
    {
     "name": "stdout",
     "output_type": "stream",
     "text": [
      "1407694710.0\n"
     ]
    }
   ],
   "source": [
    "\"\"\"Other way around\"\"\"\n",
    "time_tuple = strptime(time_str, time_format)\n",
    "utc_now = mktime(time_tuple)\n",
    "print(utc_now)"
   ]
  },
  {
   "cell_type": "code",
   "execution_count": 239,
   "metadata": {
    "collapsed": false
   },
   "outputs": [
    {
     "name": "stdout",
     "output_type": "stream",
     "text": [
      "time.struct_time(tm_year=2014, tm_mon=5, tm_mday=1, tm_hour=15, tm_min=45, tm_sec=16, tm_wday=3, tm_yday=121, tm_isdst=-1)\n",
      "2014-05-01 15:45:16\n"
     ]
    }
   ],
   "source": [
    "\"\"\"Parse date and time structure\"\"\"\n",
    "parse_format = '%Y-%m-%d %H:%M:%S'\n",
    "depart_sfo = '2014-05-01 15:45:16'\n",
    "time_tuple = strptime(depart_sfo, parse_format)\n",
    "time_str = strftime(time_format, time_tuple)\n",
    "print (time_tuple)\n",
    "print (time_str)"
   ]
  },
  {
   "cell_type": "code",
   "execution_count": 237,
   "metadata": {
    "collapsed": false
   },
   "outputs": [
    {
     "ename": "ValueError",
     "evalue": "unconverted data remains:  EDT",
     "output_type": "error",
     "traceback": [
      "\u001b[0;31m---------------------------------------------------------------------------\u001b[0m",
      "\u001b[0;31mValueError\u001b[0m                                Traceback (most recent call last)",
      "\u001b[0;32m<ipython-input-237-f852e2333d39>\u001b[0m in \u001b[0;36m<module>\u001b[0;34m\u001b[0m\n\u001b[1;32m      1\u001b[0m \u001b[0marrival_nyc\u001b[0m \u001b[0;34m=\u001b[0m \u001b[0;34m'2014-05-01 23:33:24 EDT'\u001b[0m\u001b[0;34m\u001b[0m\u001b[0m\n\u001b[0;32m----> 2\u001b[0;31m \u001b[0mtime_tuple\u001b[0m \u001b[0;34m=\u001b[0m \u001b[0mstrptime\u001b[0m\u001b[0;34m(\u001b[0m\u001b[0marrival_nyc\u001b[0m\u001b[0;34m,\u001b[0m \u001b[0mtime_format\u001b[0m\u001b[0;34m)\u001b[0m\u001b[0;34m\u001b[0m\u001b[0m\n\u001b[0m",
      "\u001b[0;32m~/Computing/Anaconda2/envs/py35/lib/python3.5/_strptime.py\u001b[0m in \u001b[0;36m_strptime_time\u001b[0;34m(data_string, format)\u001b[0m\n\u001b[1;32m    502\u001b[0m     \"\"\"Return a time struct based on the input string and the\n\u001b[1;32m    503\u001b[0m     format string.\"\"\"\n\u001b[0;32m--> 504\u001b[0;31m     \u001b[0mtt\u001b[0m \u001b[0;34m=\u001b[0m \u001b[0m_strptime\u001b[0m\u001b[0;34m(\u001b[0m\u001b[0mdata_string\u001b[0m\u001b[0;34m,\u001b[0m \u001b[0mformat\u001b[0m\u001b[0;34m)\u001b[0m\u001b[0;34m[\u001b[0m\u001b[0;36m0\u001b[0m\u001b[0;34m]\u001b[0m\u001b[0;34m\u001b[0m\u001b[0m\n\u001b[0m\u001b[1;32m    505\u001b[0m     \u001b[0;32mreturn\u001b[0m \u001b[0mtime\u001b[0m\u001b[0;34m.\u001b[0m\u001b[0mstruct_time\u001b[0m\u001b[0;34m(\u001b[0m\u001b[0mtt\u001b[0m\u001b[0;34m[\u001b[0m\u001b[0;34m:\u001b[0m\u001b[0mtime\u001b[0m\u001b[0;34m.\u001b[0m\u001b[0m_STRUCT_TM_ITEMS\u001b[0m\u001b[0;34m]\u001b[0m\u001b[0;34m)\u001b[0m\u001b[0;34m\u001b[0m\u001b[0m\n\u001b[1;32m    506\u001b[0m \u001b[0;34m\u001b[0m\u001b[0m\n",
      "\u001b[0;32m~/Computing/Anaconda2/envs/py35/lib/python3.5/_strptime.py\u001b[0m in \u001b[0;36m_strptime\u001b[0;34m(data_string, format)\u001b[0m\n\u001b[1;32m    344\u001b[0m     \u001b[0;32mif\u001b[0m \u001b[0mlen\u001b[0m\u001b[0;34m(\u001b[0m\u001b[0mdata_string\u001b[0m\u001b[0;34m)\u001b[0m \u001b[0;34m!=\u001b[0m \u001b[0mfound\u001b[0m\u001b[0;34m.\u001b[0m\u001b[0mend\u001b[0m\u001b[0;34m(\u001b[0m\u001b[0;34m)\u001b[0m\u001b[0;34m:\u001b[0m\u001b[0;34m\u001b[0m\u001b[0m\n\u001b[1;32m    345\u001b[0m         raise ValueError(\"unconverted data remains: %s\" %\n\u001b[0;32m--> 346\u001b[0;31m                           data_string[found.end():])\n\u001b[0m\u001b[1;32m    347\u001b[0m \u001b[0;34m\u001b[0m\u001b[0m\n\u001b[1;32m    348\u001b[0m     \u001b[0myear\u001b[0m \u001b[0;34m=\u001b[0m \u001b[0;32mNone\u001b[0m\u001b[0;34m\u001b[0m\u001b[0m\n",
      "\u001b[0;31mValueError\u001b[0m: unconverted data remains:  EDT"
     ]
    }
   ],
   "source": [
    "\"\"\"Issue with timezones\"\"\"\n",
    "arrival_nyc = '2014-05-01 23:33:24 EDT'\n",
    "time_tuple = strptime(arrival_nyc, time_format)"
   ]
  },
  {
   "cell_type": "code",
   "execution_count": 243,
   "metadata": {
    "collapsed": false
   },
   "outputs": [
    {
     "name": "stdout",
     "output_type": "stream",
     "text": [
      "2014-08-10 13:18:30-05:00\n"
     ]
    }
   ],
   "source": [
    "\"\"\"Convert to local time\"\"\"\n",
    "now = datetime(2014, 8, 10, 18, 18, 30)\n",
    "now_utc = now.replace(tzinfo=timezone.utc)\n",
    "now_local = now_utc.astimezone()\n",
    "print(now_local)"
   ]
  },
  {
   "cell_type": "markdown",
   "metadata": {
    "slideshow": {
     "slide_type": "slide"
    }
   },
   "source": [
    "<p><b><i>Item 46: Use Built-in Algorithms and Data Structures</i><b></p>"
   ]
  },
  {
   "cell_type": "code",
   "execution_count": 250,
   "metadata": {
    "collapsed": true,
    "slideshow": {
     "slide_type": "subslide"
    }
   },
   "outputs": [],
   "source": [
    "from collections import deque\n",
    "from random import randint\n",
    "from collections import OrderedDict"
   ]
  },
  {
   "cell_type": "code",
   "execution_count": 246,
   "metadata": {
    "collapsed": false
   },
   "outputs": [
    {
     "name": "stdout",
     "output_type": "stream",
     "text": [
      "1\n"
     ]
    }
   ],
   "source": [
    "\"\"\"Double-ended queue for fifo queues\"\"\"\n",
    "fifo = deque()\n",
    "fifo.append(1)     \n",
    "fifo.append(2)\n",
    "fifo.append(3)\n",
    "x = fifo.popleft()\n",
    "print(x)"
   ]
  },
  {
   "cell_type": "code",
   "execution_count": 248,
   "metadata": {
    "collapsed": false
   },
   "outputs": [
    {
     "name": "stdout",
     "output_type": "stream",
     "text": [
      "{'bar': 2, 'foo': 1}\n",
      "{'foo': 1, 'bar': 2}\n",
      "Equal? True\n"
     ]
    }
   ],
   "source": [
    "\"\"\"Standard dictionary\"\"\"\n",
    "a = {}\n",
    "a['foo'] = 1\n",
    "a['bar'] = 2\n",
    "\n",
    "while True:\n",
    "    z = randint(99, 1013)\n",
    "    b = {}\n",
    "    for i in range(z):\n",
    "        b[i] = i\n",
    "    b['foo'] = 1\n",
    "    b['bar'] = 2\n",
    "    for i in range(z):\n",
    "        del b[i]\n",
    "    if str(b) != str(a):\n",
    "        break\n",
    "\n",
    "print(a)\n",
    "print(b)\n",
    "print('Equal?', a == b)\n"
   ]
  },
  {
   "cell_type": "code",
   "execution_count": 252,
   "metadata": {
    "collapsed": false
   },
   "outputs": [
    {
     "name": "stdout",
     "output_type": "stream",
     "text": [
      "1 red\n",
      "2 blue\n"
     ]
    }
   ],
   "source": [
    "\"\"\"Ordered dictionary keeps track of\n",
    "   order in which keys were inserted\"\"\"\n",
    "a = OrderedDict()\n",
    "a['foo'] = 1\n",
    "a['bar'] = 2\n",
    "\n",
    "b = OrderedDict()\n",
    "b['foo'] = 'red'\n",
    "b['bar'] = 'blue'\n",
    "\n",
    "for value1, value2 in zip(a.values(), b.values()):\n",
    "    print(value1, value2)"
   ]
  },
  {
   "cell_type": "markdown",
   "metadata": {
    "slideshow": {
     "slide_type": "slide"
    }
   },
   "source": [
    "<p><b><i>Item 47: Use decimal When Precision is Paramount</i><b></p>"
   ]
  },
  {
   "cell_type": "code",
   "execution_count": 257,
   "metadata": {
    "collapsed": true,
    "slideshow": {
     "slide_type": "subslide"
    }
   },
   "outputs": [],
   "source": [
    "from decimal import Decimal\n",
    "from decimal import ROUND_UP"
   ]
  },
  {
   "cell_type": "code",
   "execution_count": 253,
   "metadata": {
    "collapsed": false
   },
   "outputs": [
    {
     "name": "stdout",
     "output_type": "stream",
     "text": [
      "5.364999999999999\n"
     ]
    }
   ],
   "source": [
    "\"\"\"Simple cost as float\"\"\"\n",
    "rate = 1.45\n",
    "seconds = 3*60 + 42\n",
    "cost = rate * seconds / 60\n",
    "print(cost)"
   ]
  },
  {
   "cell_type": "code",
   "execution_count": 254,
   "metadata": {
    "collapsed": false
   },
   "outputs": [
    {
     "name": "stdout",
     "output_type": "stream",
     "text": [
      "5.36\n"
     ]
    }
   ],
   "source": [
    "\"\"\"Rounds down\"\"\"\n",
    "print(round(cost, 2))"
   ]
  },
  {
   "cell_type": "code",
   "execution_count": 255,
   "metadata": {
    "collapsed": false
   },
   "outputs": [
    {
     "name": "stdout",
     "output_type": "stream",
     "text": [
      "0.004166666666666667\n"
     ]
    }
   ],
   "source": [
    "\"\"\"Smaller value\"\"\"\n",
    "rate = 0.05\n",
    "seconds = 5\n",
    "cost = rate * seconds / 60\n",
    "print(cost)"
   ]
  },
  {
   "cell_type": "code",
   "execution_count": 256,
   "metadata": {
    "collapsed": false
   },
   "outputs": [
    {
     "name": "stdout",
     "output_type": "stream",
     "text": [
      "0.0\n"
     ]
    }
   ],
   "source": [
    "\"\"\"Same issue\"\"\"\n",
    "print(round(cost, 2))"
   ]
  },
  {
   "cell_type": "code",
   "execution_count": 258,
   "metadata": {
    "collapsed": false
   },
   "outputs": [
    {
     "name": "stdout",
     "output_type": "stream",
     "text": [
      "5.365\n"
     ]
    }
   ],
   "source": [
    "\"\"\"Greater control via Decimal\"\"\"\n",
    "rate = Decimal('1.45')\n",
    "seconds = Decimal('222')  \n",
    "cost = rate * seconds / Decimal('60')\n",
    "print(cost)"
   ]
  },
  {
   "cell_type": "code",
   "execution_count": 259,
   "metadata": {
    "collapsed": false
   },
   "outputs": [
    {
     "name": "stdout",
     "output_type": "stream",
     "text": [
      "5.37\n"
     ]
    }
   ],
   "source": [
    "\"\"\"Now we cover all costs\"\"\"\n",
    "rounded = cost.quantize(Decimal('0.01'), rounding=ROUND_UP)\n",
    "print(rounded)"
   ]
  },
  {
   "cell_type": "code",
   "execution_count": 260,
   "metadata": {
    "collapsed": false
   },
   "outputs": [
    {
     "name": "stdout",
     "output_type": "stream",
     "text": [
      "0.004166666666666666666666666667\n"
     ]
    }
   ],
   "source": [
    "\"\"\"Works well with smaller values\"\"\"\n",
    "rate = Decimal('0.05')\n",
    "seconds = Decimal('5')\n",
    "cost = rate * seconds / Decimal('60')\n",
    "print(cost)"
   ]
  },
  {
   "cell_type": "code",
   "execution_count": 261,
   "metadata": {
    "collapsed": false
   },
   "outputs": [
    {
     "name": "stdout",
     "output_type": "stream",
     "text": [
      "0.01\n"
     ]
    }
   ],
   "source": [
    "\"\"\"Gets job done\"\"\"\n",
    "rounded = cost.quantize(Decimal('0.01'), rounding=ROUND_UP)\n",
    "print(rounded)"
   ]
  },
  {
   "cell_type": "markdown",
   "metadata": {
    "slideshow": {
     "slide_type": "slide"
    }
   },
   "source": [
    "<h2 style=\"text-align: left;\" markdown=\"1\">Collaboration</h2>\n",
    "<p>The Python community has established best practices that maximize the maintainability of code over time. In the following section, we'll demonstrate a few key considerations specifically as it relates to writing code with collaboration in mind.</p>"
   ]
  },
  {
   "cell_type": "markdown",
   "metadata": {
    "slideshow": {
     "slide_type": "slide"
    }
   },
   "source": [
    "<p><b><i>Item 49: Write Docstrings for Every Function, Class, and Module</i><b></p>"
   ]
  },
  {
   "cell_type": "code",
   "execution_count": 264,
   "metadata": {
    "collapsed": true,
    "slideshow": {
     "slide_type": "subslide"
    }
   },
   "outputs": [],
   "source": [
    "import itertools"
   ]
  },
  {
   "cell_type": "code",
   "execution_count": 262,
   "metadata": {
    "collapsed": true
   },
   "outputs": [],
   "source": [
    "def palindrome(word):\n",
    "    \"\"\"Return True if the given word is a palindrome.\"\"\"\n",
    "    return word == word[::-1]\n",
    "\n",
    "assert palindrome('tacocat')\n",
    "assert not palindrome('banana')"
   ]
  },
  {
   "cell_type": "code",
   "execution_count": 263,
   "metadata": {
    "collapsed": false
   },
   "outputs": [
    {
     "name": "stdout",
     "output_type": "stream",
     "text": [
      "'Return True if the given word is a palindrome.'\n"
     ]
    }
   ],
   "source": [
    "print(repr(palindrome.__doc__))"
   ]
  },
  {
   "cell_type": "code",
   "execution_count": 265,
   "metadata": {
    "collapsed": true
   },
   "outputs": [],
   "source": [
    "class Player(object):\n",
    "    \"\"\"Represents a player of the game.\n",
    "    Subclasses may override the 'tick' method to provide\n",
    "    custom animations for the player's movement depending\n",
    "    on their power level, etc.\n",
    "    Public attributes:\n",
    "    - power: Unused power-ups (float between 0 and 1).\n",
    "    - coins: Coins found during the level (integer).\n",
    "    \"\"\""
   ]
  },
  {
   "cell_type": "code",
   "execution_count": 266,
   "metadata": {
    "collapsed": true
   },
   "outputs": [],
   "source": [
    "def find_anagrams(word, dictionary):\n",
    "    \"\"\"Find all anagrams for a word.\n",
    "    This function only runs as fast as the test for\n",
    "    membership in the 'dictionary' container. It will\n",
    "    be slow if the dictionary is a list and fast if\n",
    "    it's a set.\n",
    "    Args:\n",
    "        word: String of the target word.\n",
    "        dictionary: Container with all strings that\n",
    "            are known to be actual words.\n",
    "    Returns:\n",
    "        List of anagrams that were found. Empty if\n",
    "        none were found.\n",
    "    \"\"\"\n",
    "    permutations = itertools.permutations(word, len(word))\n",
    "    possible = (''.join(x) for x in permutations)\n",
    "    found = {word for word in possible if word in dictionary}\n",
    "    return list(found)\n",
    "\n",
    "assert find_anagrams('pancakes', ['scanpeak']) == ['scanpeak']"
   ]
  },
  {
   "cell_type": "markdown",
   "metadata": {
    "slideshow": {
     "slide_type": "slide"
    }
   },
   "source": [
    "<p><b><i>Item 53: Use Virtual Environments for Isolated and Reproducible Dependencies</i><b></p>"
   ]
  },
  {
   "cell_type": "markdown",
   "metadata": {
    "slideshow": {
     "slide_type": "subslide"
    }
   },
   "source": [
    "<p>Larger applications within and outside of the machine learning context generally rely upon numerous packages developed by the Python community. In the analytical context, a few examples of popular packages include Pandas, Numpy, SciPy, Scikit Learn, Keras, and Tensorflow. You can run into trouble with transitive dependencies, particulary when you're using one environment to manage all of your developement. Luckily Virtual Environments are available to help isolate develop and enhance reproducibility.</p>"
   ]
  },
  {
   "cell_type": "markdown",
   "metadata": {
    "slideshow": {
     "slide_type": "slide"
    }
   },
   "source": [
    "<p style=\"text-align: center;\">Slatkin, B. (2015). 59 specific ways to write better Python. Upper Saddle River, NJ: Pearson Education, Inc.</p> <p style=\"text-align: center;\">Additional examples: https://github.com/bslatkin/effectivepython</p>"
   ]
  }
 ],
 "metadata": {
  "celltoolbar": "Slideshow",
  "kernelspec": {
   "display_name": "Python 3",
   "language": "python",
   "name": "py35"
  },
  "language_info": {
   "codemirror_mode": {
    "name": "ipython",
    "version": 3
   },
   "file_extension": ".py",
   "mimetype": "text/x-python",
   "name": "python",
   "nbconvert_exporter": "python",
   "pygments_lexer": "ipython3",
   "version": "3.5.4"
  }
 },
 "nbformat": 4,
 "nbformat_minor": 2
}
